{
  "cells": [
    {
      "cell_type": "markdown",
      "metadata": {
        "id": "view-in-github",
        "colab_type": "text"
      },
      "source": [
        "<a href=\"https://colab.research.google.com/github/adigenova/uohdb/blob/main/code/NoSQL_ArangoDB_ejemplo.ipynb\" target=\"_parent\"><img src=\"https://colab.research.google.com/assets/colab-badge.svg\" alt=\"Open In Colab\"/></a>"
      ]
    },
    {
      "cell_type": "markdown",
      "metadata": {
        "id": "EjHT0pfkd50d"
      },
      "source": [
        "![arangodb](https://github.com/arangodb/interactive_tutorials/blob/master/notebooks/img/ArangoDB_logo.png?raw=1)"
      ]
    },
    {
      "cell_type": "markdown",
      "metadata": {
        "id": "XIHPS095d50h"
      },
      "source": [
        "# Tutorial de  Arango DB"
      ]
    },
    {
      "cell_type": "markdown",
      "metadata": {
        "id": "Brl97lYwd50i"
      },
      "source": [
        "ArangoDB es una base de datos multimodelo  con modelos de datos flexibles para documentos, grafos y clave/valor. Posee el lenguaje AQL que es similar al SQL para realizar consultas."
      ]
    },
    {
      "cell_type": "markdown",
      "metadata": {
        "id": "cTIT0ffjd50i"
      },
      "source": [
        "# Instalación"
      ]
    },
    {
      "cell_type": "markdown",
      "metadata": {
        "id": "Pmp2AMIhd50j"
      },
      "source": [
        "Antes de comenzar con ArangoDB, debemos preparar nuestro entorno y crear una base de datos temporal en el Servicio Oasis."
      ]
    },
    {
      "cell_type": "code",
      "execution_count": 1,
      "metadata": {
        "id": "r2KGTMwUlvFn"
      },
      "outputs": [],
      "source": [
        "%%capture\n",
        "!git clone -b oasis_connector --single-branch https://github.com/arangodb/interactive_tutorials.git\n",
        "!rsync -av interactive_tutorials/ ./ --exclude=.git\n",
        "!pip3 install pyarango\n",
        "!pip3 install \"python-arango>=5.0\""
      ]
    },
    {
      "cell_type": "code",
      "execution_count": 2,
      "metadata": {
        "id": "hdHIAso1lvFo"
      },
      "outputs": [],
      "source": [
        "import json\n",
        "import requests\n",
        "import sys\n",
        "import oasis\n",
        "import time\n",
        "\n",
        "from pyArango.connection import *\n",
        "from arango import ArangoClient"
      ]
    },
    {
      "cell_type": "markdown",
      "metadata": {
        "id": "fuQ6phTMd50m"
      },
      "source": [
        "Creamos una base de datos temporal"
      ]
    },
    {
      "cell_type": "code",
      "execution_count": null,
      "metadata": {
        "id": "wag0VrQDlvFp"
      },
      "outputs": [],
      "source": [
        "# Retrieve tmp credentials from ArangoDB Tutorial Service\n",
        "login = oasis.getTempCredentials(tutorialName=\"AQLCrudTutorial\", credentialProvider='https://tutorials.arangodb.cloud:8529/_db/_system/tutorialDB/tutorialDB')\n",
        "# Connect to the temp database\n",
        "conn = oasis.connect(login)\n",
        "pyAr_db = conn[login[\"dbName\"]]"
      ]
    },
    {
      "cell_type": "code",
      "execution_count": 4,
      "metadata": {
        "id": "70sAR2rYlvFq"
      },
      "outputs": [],
      "source": [
        "python_arango_db = oasis.connect_python_arango(login)\n",
        "aql = python_arango_db.aql"
      ]
    },
    {
      "cell_type": "code",
      "execution_count": null,
      "metadata": {
        "id": "pxnn2UBSlvFq"
      },
      "outputs": [],
      "source": [
        "print(\"https://{}:{}\".format(login[\"hostname\"], login[\"port\"]))\n",
        "print(\"Username: \" + login[\"username\"])\n",
        "print(\"Password: \" + login[\"password\"])\n",
        "print(\"Database: \" + login[\"dbName\"])"
      ]
    },
    {
      "cell_type": "markdown",
      "metadata": {
        "id": "7Q0YpfHvd50n"
      },
      "source": [
        "Podemos usar la URL anterior para revisar nuestra base de datos arango temporal.\n",
        "\n"
      ]
    },
    {
      "cell_type": "markdown",
      "metadata": {
        "id": "tsRp_icod50o"
      },
      "source": [
        "## Creando Colecciones"
      ]
    },
    {
      "cell_type": "markdown",
      "metadata": {
        "id": "fsO_ZUitd50o"
      },
      "source": [
        "Antes de que podamos insertar documentos con AQL, necesitamos un lugar para colocarlos: una colección"
      ]
    },
    {
      "cell_type": "code",
      "execution_count": 6,
      "metadata": {
        "id": "xJcYVn6TlvFr"
      },
      "outputs": [],
      "source": [
        "# creamos la coleccion usando pyArango\n",
        "pyAr_db.createCollection(name=\"Personajes\")\n",
        "if python_arango_db.has_collection(\"Personajes\"):\n",
        "  pass\n",
        "else:\n",
        "  python_arango_db.create_collection(\"Pesonajes\")"
      ]
    },
    {
      "cell_type": "markdown",
      "metadata": {
        "id": "As_8QOgld50o"
      },
      "source": [
        "##  Creando y leyendo documentos"
      ]
    },
    {
      "cell_type": "markdown",
      "metadata": {
        "id": "-jfzubbNd50p"
      },
      "source": [
        "La sintaxis para crear un nuevo documento es INSERT document INTO collectionName. El documento es un objeto JSON, que se compone de pares de clave de atributo y valor.\n",
        "\n",
        "Las claves son siempre secuencias de caracteres (cadenas), mientras que los valores de los atributos pueden tener diferentes tipos:\n",
        "\n",
        "* null\n",
        "* boolean (true, false)\n",
        "* number (integer and floating point)\n",
        "* string\n",
        "* array\n",
        "* object\n"
      ]
    },
    {
      "cell_type": "code",
      "execution_count": 7,
      "metadata": {
        "id": "pYcxlVoJlvFs",
        "colab": {
          "base_uri": "https://localhost:8080/"
        },
        "outputId": "ac753533-8d27-40ab-a366-79ef61e07c16"
      },
      "outputs": [
        {
          "output_type": "execute_result",
          "data": {
            "text/plain": [
              "<Cursor>"
            ]
          },
          "metadata": {},
          "execution_count": 7
        }
      ],
      "source": [
        "insert_query = \"\"\"\n",
        "INSERT {\n",
        "    \"nombre\": \"Alex\",\n",
        "    \"apellido\": \"Di Genova\",\n",
        "    \"vivo\": true,\n",
        "    \"edad\": 41,\n",
        "    \"caracteres\": [\"A\",\"H\",\"C\",\"N\",\"P\"]\n",
        "} INTO Personajes\n",
        "\"\"\"\n",
        "# python-arango\n",
        "aql.execute(insert_query)"
      ]
    },
    {
      "cell_type": "markdown",
      "metadata": {
        "id": "yUXQIb6sd50q"
      },
      "source": [
        "Chequamos si la inserción se realizo con exito en la colleción Personajes.\n",
        "Para cada documento de la colección, a c se le asigna un documento, que luego se devuelve según el cuerpo del bucle."
      ]
    },
    {
      "cell_type": "code",
      "execution_count": null,
      "metadata": {
        "id": "TXNyeNpolvFs"
      },
      "outputs": [],
      "source": [
        "todos_personajes = \"\"\"\n",
        "FOR c IN Personajes\n",
        "    RETURN c\n",
        "\"\"\"\n",
        "query_result = aql.execute(todos_personajes)\n",
        "for doc in  query_result:\n",
        " print(doc)"
      ]
    },
    {
      "cell_type": "code",
      "execution_count": 9,
      "metadata": {
        "id": "frgc7A43lvFt",
        "colab": {
          "base_uri": "https://localhost:8080/"
        },
        "outputId": "2bb590a1-4c0e-4433-f143-a0639b7a7392"
      },
      "outputs": [
        {
          "output_type": "execute_result",
          "data": {
            "text/plain": [
              "<Cursor>"
            ]
          },
          "metadata": {},
          "execution_count": 9
        }
      ],
      "source": [
        "insert_query = \"\"\"\n",
        "LET data = [\n",
        "    { \"nombre\": \"Roberto\", \"apellido\": \"Ramirez\", \"vivo\": false, \"caracteres\": [\"A\",\"H\",\"C\"] },\n",
        "    { \"nombre\": \"Jaime\", \"apellido\": \"Quinteros\", \"vivo\": true, \"edad\": 36, \"caracteres\": [\"A\",\"F\",\"B\"] },\n",
        "    { \"nombre\": \"Catalina\", \"apellido\": \"rojas\", \"vivo\": false, \"edad\": 40, \"caracteres\": [\"D\",\"H\",\"C\"] },\n",
        "    { \"nombre\": \"Cesar\", \"apellido\": \"Lanaro\", \"vivo\": true, \"edad\": 36, \"caracteres\": [\"H\",\"E\",\"F\"] },\n",
        "    { \"nombre\": \"David\", \"apellido\": \"Tardon\", \"vivo\": true, \"edad\": 16, \"caracteres\": [\"D\",\"H\",\"C\"] },\n",
        "    { \"nombre\": \"Jose\", \"apellido\": \"Mora\", \"vivo\": false, \"caracteres\": [\"A\",\"B\",\"C\",\"F\"] },\n",
        "    { \"nombre\": \"Pedro\", \"apellido\": \"Baesa\", \"vivo\": false, \"caracteres\": [\"E\",\"G\",\"F\"] },\n",
        "    { \"nombre\": \"Guillermo\", \"apellido\": \"Toro\", \"vivo\": false, \"caracteres\": [\"O\",\"L\",\"N\"] },\n",
        "    { \"nombre\": \"Juan\", \"apellido\": \"Niebla\", \"vivo\": true, \"edad\": 16, \"caracteres\": [\"A\",\"B\",\"C\",\"F\"] },\n",
        "    { \"nombre\": \"Sara\", \"apellido\": \"Rojas\", \"vivo\": true, \"edad\": 13, \"caracteres\": [\"D\",\"I\",\"J\"] },\n",
        "    { \"nombre\": \"Ariela\", \"apellido\": \"Araya\", \"vivo\": true, \"edad\": 11, \"caracteres\": [\"C\",\"K\",\"L\"] },\n",
        "    { \"nombre\": \"Roberto\", \"apellido\": \"Cabezas\", \"vivo\": false, \"caracteres\": [\"A\",\"B\",\"C\",\"K\"] },\n",
        "    { \"nombre\": \"Theon\", \"apellido\": \"Greyjoy\", \"vivo\": true, \"edad\": 16, \"caracteres\": [\"E\",\"R\",\"K\"] },\n",
        "    { \"nombre\": \"Bran\", \"apellido\": \"Stark\", \"vivo\": true, \"edad\": 10, \"caracteres\": [\"L\",\"J\"] },\n",
        "    { \"nombre\": \"Joffrey\", \"apellido\": \"Baratheon\", \"vivo\": false, \"edad\": 19, \"caracteres\": [\"I\",\"L\",\"O\"] },\n",
        "    { \"nombre\": \"Sandor\", \"apellido\": \"Clegane\", \"vivo\": true, \"caracteres\": [\"A\",\"P\",\"K\",\"F\"] },\n",
        "    { \"nombre\": \"Tyrion\", \"apellido\": \"Lannister\", \"vivo\": true, \"edad\": 32, \"caracteres\": [\"F\",\"K\",\"M\",\"N\"] },\n",
        "    { \"nombre\": \"Khal\", \"apellido\": \"Drogo\", \"vivo\": false, \"caracteres\": [\"A\",\"C\",\"O\",\"P\"] },\n",
        "    { \"nombre\": \"Tywin\", \"apellido\": \"Lannister\", \"vivo\": false, \"caracteres\": [\"O\",\"M\",\"H\",\"F\"] },\n",
        "    { \"nombre\": \"Davos\", \"apellido\": \"Seaworth\", \"vivo\": true, \"edad\": 49, \"caracteres\": [\"C\",\"K\",\"P\",\"F\"] },\n",
        "    { \"nombre\": \"Samwell\", \"apellido\": \"Tarly\", \"vivo\": true, \"edad\": 17, \"caracteres\": [\"C\",\"L\",\"I\"] },\n",
        "    { \"nombre\": \"Stannis\", \"apellido\": \"Baratheon\", \"vivo\": false, \"caracteres\": [\"H\",\"O\",\"P\",\"M\"] },\n",
        "    { \"nombre\": \"Melisandre\", \"vivo\": true, \"caracteres\": [\"G\",\"E\",\"H\"] },\n",
        "    { \"nombre\": \"Margaery\", \"apellido\": \"Tyrell\", \"vivo\": false, \"caracteres\": [\"M\",\"D\",\"B\"] },\n",
        "    { \"nombre\": \"Jeor\", \"apellido\": \"Mormont\", \"vivo\": false, \"caracteres\": [\"C\",\"H\",\"M\",\"P\"] },\n",
        "    { \"nombre\": \"Bronn\", \"vivo\": true, \"caracteres\": [\"K\",\"E\",\"C\"] },\n",
        "    { \"nombre\": \"Varys\", \"vivo\": true, \"caracteres\": [\"M\",\"F\",\"N\",\"E\"] },\n",
        "    { \"nombre\": \"Shae\", \"vivo\": false, \"caracteres\": [\"M\",\"D\",\"G\"] },\n",
        "    { \"nombre\": \"Talisa\", \"apellido\": \"Maegyr\", \"vivo\": false, \"caracteres\": [\"D\",\"C\",\"B\"] },\n",
        "    { \"nombre\": \"Gendry\", \"vivo\": false, \"caracteres\": [\"K\",\"C\",\"A\"] },\n",
        "    { \"nombre\": \"Ygritte\", \"vivo\": false, \"caracteres\": [\"A\",\"P\",\"K\"] },\n",
        "    { \"nombre\": \"Tormund\", \"apellido\": \"Giantsbane\", \"vivo\": true, \"caracteres\": [\"C\",\"P\",\"A\",\"I\"] },\n",
        "    { \"nombre\": \"Gilly\", \"vivo\": true, \"caracteres\": [\"L\",\"J\"] },\n",
        "    { \"nombre\": \"Brienne\", \"apellido\": \"Tarth\", \"vivo\": true, \"edad\": 32, \"caracteres\": [\"P\",\"C\",\"A\",\"K\"] },\n",
        "    { \"nombre\": \"Ramsay\", \"apellido\": \"Bolton\", \"vivo\": true, \"caracteres\": [\"E\",\"O\",\"G\",\"A\"] },\n",
        "    { \"nombre\": \"Ellaria\", \"apellido\": \"Sand\", \"vivo\": true, \"caracteres\": [\"P\",\"O\",\"A\",\"E\"] },\n",
        "    { \"nombre\": \"Daario\", \"apellido\": \"Naharis\", \"vivo\": true, \"caracteres\": [\"K\",\"P\",\"A\"] },\n",
        "    { \"nombre\": \"Missandei\", \"vivo\": true, \"caracteres\": [\"D\",\"L\",\"C\",\"M\"] },\n",
        "    { \"nombre\": \"Tommen\", \"apellido\": \"Baratheon\", \"vivo\": true, \"caracteres\": [\"I\",\"L\",\"B\"] },\n",
        "    { \"nombre\": \"Jaqen\", \"apellido\": \"H'ghar\", \"vivo\": true, \"caracteres\": [\"H\",\"F\",\"K\"] },\n",
        "    { \"nombre\": \"Roose\", \"apellido\": \"Bolton\", \"vivo\": true, \"caracteres\": [\"H\",\"E\",\"F\",\"A\"] },\n",
        "    { \"nombre\": \"The High Sparrow\", \"vivo\": true, \"caracteres\": [\"H\",\"M\",\"F\",\"O\"] }\n",
        "]\n",
        "\n",
        "FOR d IN data\n",
        "    INSERT d INTO Personajes\n",
        "\"\"\"\n",
        "# python-arango\n",
        "aql.execute(insert_query)"
      ]
    },
    {
      "cell_type": "code",
      "execution_count": null,
      "metadata": {
        "id": "CsGnXB2TlvFt"
      },
      "outputs": [],
      "source": [
        "todos_personajes_nombre = \"\"\"\n",
        "FOR c IN Personajes\n",
        "    RETURN { n:c.nombre,e:c.edad, v:c.vivo }\n",
        "\"\"\"\n",
        "# python-arango\n",
        "query_result = aql.execute(todos_personajes_nombre)\n",
        "for doc in  query_result:\n",
        "  print(doc)"
      ]
    },
    {
      "cell_type": "markdown",
      "metadata": {
        "id": "pVBvoGkId50s"
      },
      "source": [
        "# Actualizando Documentos"
      ]
    },
    {
      "cell_type": "code",
      "execution_count": null,
      "metadata": {
        "id": "aTR2XRFGlvFt"
      },
      "outputs": [],
      "source": [
        "revivir_todos_personajes= \"\"\"\n",
        "FOR c IN Personajes\n",
        "    FILTER c.vivo == False\n",
        "    RETURN c._key\n",
        "\"\"\"\n",
        "\n",
        "neds_document_key = list()\n",
        "\n",
        "# python-arango\n",
        "query_result = aql.execute(revivir_todos_personajes)\n",
        "\n",
        "for doc in  query_result:\n",
        "    print(\"_key: \" + str(doc))\n",
        "    neds_document_key.append(doc)"
      ]
    },
    {
      "cell_type": "code",
      "source": [
        "neds_document_key[0]"
      ],
      "metadata": {
        "colab": {
          "base_uri": "https://localhost:8080/",
          "height": 35
        },
        "id": "cwiKRs9CvDe8",
        "outputId": "9bcfaa3d-b96e-4b59-b947-0801cf046bb3"
      },
      "execution_count": 12,
      "outputs": [
        {
          "output_type": "execute_result",
          "data": {
            "text/plain": [
              "'266211393669'"
            ],
            "application/vnd.google.colaboratory.intrinsic+json": {
              "type": "string"
            }
          },
          "metadata": {},
          "execution_count": 12
        }
      ]
    },
    {
      "cell_type": "markdown",
      "metadata": {
        "id": "4LLZDtZ6d50s"
      },
      "source": [
        "\n",
        "\n",
        "actualizando un documento por key:"
      ]
    },
    {
      "cell_type": "code",
      "execution_count": null,
      "metadata": {
        "id": "VtT13_G9lvFt"
      },
      "outputs": [],
      "source": [
        "muertos = \"\"\"\n",
        "UPDATE @key\n",
        "WITH { vivo: True}\n",
        "IN Personajes\n",
        "\"\"\"\n",
        "bindVars = {'key': neds_document_key[0]}\n",
        "\n",
        "aql.execute(muertos, batch_size=1, bind_vars=bindVars)\n",
        "\n",
        "todos_personajes = \"\"\"\n",
        "FOR c IN Personajes\n",
        "  RETURN { k:c._key, n:c.nombre,e:c.edad, v:c.vivo }\n",
        "\"\"\"\n",
        "query_result = aql.execute(todos_personajes)\n",
        "for doc in  query_result:\n",
        "    print(doc)"
      ]
    },
    {
      "cell_type": "markdown",
      "metadata": {
        "id": "2bCwlG6_d50u"
      },
      "source": [
        "# Usando `FOR` para actualizar todos los personajes:"
      ]
    },
    {
      "cell_type": "code",
      "execution_count": null,
      "metadata": {
        "id": "_9PbKVJ2lvFu"
      },
      "outputs": [],
      "source": [
        "actualizar_equipo_vivo = \"\"\"\n",
        "FOR c IN Personajes\n",
        "    UPDATE c WITH { vivo: True, equipo : \"Colo Colo\" } IN Personajes\n",
        "\"\"\"\n",
        "# python-arango\n",
        "aql.execute(actualizar_equipo_vivo)\n",
        "\n",
        "todos_personajes_equipo_vivo = \"\"\"\n",
        "FOR c IN Personajes\n",
        "    RETURN {\"Nombre\" : c.nombre, \"Equipo\" : c.equipo, \"Vivo\": c.vivo}\n",
        "\"\"\"\n",
        "# python-arango\n",
        "query_result = aql.execute(todos_personajes_equipo_vivo)\n",
        "\n",
        "for doc in  query_result:\n",
        "    print(doc)"
      ]
    },
    {
      "cell_type": "markdown",
      "metadata": {
        "id": "o9rhcAeid50v"
      },
      "source": [
        "# Borrando Documentos por clave"
      ]
    },
    {
      "cell_type": "markdown",
      "metadata": {
        "id": "qy2izew-d50v"
      },
      "source": [
        "Para eliminar documentos de una coleccion podemos utilizar REMOVE"
      ]
    },
    {
      "cell_type": "code",
      "source": [
        "buscando_alex= \"\"\"\n",
        "FOR c IN Personajes\n",
        "    FILTER c.nombre == \"Alex\"\n",
        "    RETURN c._key\n",
        "\"\"\"\n",
        "# python-arango\n",
        "query_result = aql.execute(buscando_alex)\n",
        "\n",
        "id_alex = None\n",
        "for doc in  query_result:\n",
        "    print(doc)\n",
        "    id_alex=doc"
      ],
      "metadata": {
        "colab": {
          "base_uri": "https://localhost:8080/"
        },
        "id": "WlUqwYmVzfL7",
        "outputId": "ab8af00e-dfab-4eee-f441-ff33c5a388b6"
      },
      "execution_count": 15,
      "outputs": [
        {
          "output_type": "stream",
          "name": "stdout",
          "text": [
            "266211393648\n"
          ]
        }
      ]
    },
    {
      "cell_type": "code",
      "execution_count": 16,
      "metadata": {
        "id": "vdTxIw3mlvFu",
        "colab": {
          "base_uri": "https://localhost:8080/"
        },
        "outputId": "fbb07459-fd56-40b7-fea5-bed9c8fa1adb"
      },
      "outputs": [
        {
          "output_type": "stream",
          "name": "stdout",
          "text": [
            "Alex no fue encontrado.\n"
          ]
        }
      ],
      "source": [
        "remove_alex = \"\"\"\n",
        "REMOVE @key IN Personajes\n",
        "\"\"\"\n",
        "bindVars = {'key': id_alex}\n",
        "\n",
        "try:\n",
        "    # python-arango\n",
        "    aql.execute(remove_alex, bind_vars=bindVars)\n",
        "except:\n",
        "    print(\"Alex fue borrado.\")\n",
        "\n",
        "encontrar_alex = \"\"\"\n",
        "FOR c IN Personajes\n",
        "    FILTER c.nombre == \"Alex\"\n",
        "    RETURN c\n",
        "\"\"\"\n",
        "# python-arango\n",
        "query_result = aql.execute(encontrar_alex, count=True)\n",
        "\n",
        "if len(query_result) == 0 :\n",
        "    print(\"Alex no fue encontrado.\")"
      ]
    },
    {
      "cell_type": "markdown",
      "metadata": {
        "id": "d3i2JnKdd50v"
      },
      "source": [
        "Con un FOR podemos eliminar todos los documentos de la coleccion:"
      ]
    },
    {
      "cell_type": "code",
      "execution_count": 17,
      "metadata": {
        "id": "WfGuylYQlvFu",
        "outputId": "21088f60-b9c1-467e-daac-9cb4f7247ff5",
        "colab": {
          "base_uri": "https://localhost:8080/"
        }
      },
      "outputs": [
        {
          "output_type": "stream",
          "name": "stdout",
          "text": [
            "Todos los personajes fueron borrados.\n"
          ]
        }
      ],
      "source": [
        "borrar_todos = \"\"\"\n",
        "FOR c IN Personajes\n",
        "    REMOVE c IN Personajes\n",
        "\"\"\"\n",
        "# python-arango\n",
        "aql.execute(borrar_todos)\n",
        "\n",
        "todos_personajes = \"\"\"\n",
        "FOR c IN Personajes\n",
        "    RETURN c\n",
        "\"\"\"\n",
        "# python-arango\n",
        "query_result = aql.execute(todos_personajes, count=True)\n",
        "\n",
        "if len(query_result) == 0 :\n",
        "    print(\"Todos los personajes fueron borrados.\")"
      ]
    },
    {
      "cell_type": "code",
      "source": [
        "filtro_edad = \"\"\"\n",
        "FOR c IN Personajes\n",
        "    FILTER c.edad < 20 AND c.edad != null\n",
        "    RETURN { nombre: c.nombre, edad: c.edad }\n",
        "\"\"\"\n",
        "# python-arango\n",
        "query_result = aql.execute(filtro_edad)\n",
        "\n",
        "for doc in  query_result:\n",
        "    print(doc)"
      ],
      "metadata": {
        "id": "E7C2Fk4SFw-J"
      },
      "execution_count": 18,
      "outputs": []
    },
    {
      "cell_type": "code",
      "source": [
        "sort_nombre = \"\"\"\n",
        "FOR c IN Personajes\n",
        "    SORT c.nombre\n",
        "    RETURN c\n",
        "\"\"\"\n",
        "query_result = aql.execute(sort_nombre)\n",
        "\n",
        "for doc in  query_result:\n",
        "    print(doc)"
      ],
      "metadata": {
        "id": "oh_-q5m7GO_M"
      },
      "execution_count": 19,
      "outputs": []
    },
    {
      "cell_type": "code",
      "source": [
        "sort_nombre = \"\"\"\n",
        "FOR c IN Personajes\n",
        "    SORT c.nombre DESC\n",
        "    RETURN c\n",
        "\"\"\"\n",
        "query_result = aql.execute(sort_nombre)\n",
        "\n",
        "for doc in  query_result:\n",
        "    print(doc)"
      ],
      "metadata": {
        "id": "Zy2cLxhIGbsx"
      },
      "execution_count": 20,
      "outputs": []
    },
    {
      "cell_type": "code",
      "source": [
        "sort_nombre = \"\"\"\n",
        "FOR c IN Personajes\n",
        "    SORT c.nombre\n",
        "    LIMIT 10\n",
        "    RETURN c.nombre\n",
        "\"\"\"\n",
        "\n",
        "query_result = aql.execute(sort_nombre)\n",
        "\n",
        "for doc in  query_result:\n",
        "    print(doc)"
      ],
      "metadata": {
        "id": "g87HHeWRGpEh"
      },
      "execution_count": 21,
      "outputs": []
    },
    {
      "cell_type": "code",
      "source": [
        "pyAr_db.createCollection(name=\"caracteres\")"
      ],
      "metadata": {
        "colab": {
          "base_uri": "https://localhost:8080/"
        },
        "id": "b5mvwkJmHXOG",
        "outputId": "93cc9145-a02c-415c-fc16-81d97ca858f3"
      },
      "execution_count": 22,
      "outputs": [
        {
          "output_type": "execute_result",
          "data": {
            "text/plain": [
              "ArangoDB collection name: caracteres, id: 398191583, type: document, status: loaded"
            ]
          },
          "metadata": {},
          "execution_count": 22
        }
      ]
    },
    {
      "cell_type": "code",
      "source": [
        "insert_query = \"\"\"\n",
        "LET data = [\n",
        "    { \"_key\": \"A\", \"en\": \"strong\", \"es\": \"fuerte\" },\n",
        "    { \"_key\": \"B\", \"en\": \"polite\", \"es\": \"polite\" },\n",
        "    { \"_key\": \"C\", \"en\": \"loyal\", \"es\": \"leal\" },\n",
        "    { \"_key\": \"D\", \"en\": \"beautiful\", \"es\": \"bonito\" },\n",
        "    { \"_key\": \"E\", \"en\": \"sneaky\", \"es\": \"insidioso\" },\n",
        "    { \"_key\": \"F\", \"en\": \"experienced\", \"es\": \"experimentado\" },\n",
        "    { \"_key\": \"G\", \"en\": \"corrupt\", \"es\": \"corrupto\" },\n",
        "    { \"_key\": \"H\", \"en\": \"powerful\", \"es\": \"potente\" },\n",
        "    { \"_key\": \"I\", \"en\": \"naive\", \"es\": \"ingenuo\" },\n",
        "    { \"_key\": \"J\", \"en\": \"unmarried\", \"es\": \"soltero\" },\n",
        "    { \"_key\": \"K\", \"en\": \"skillful\", \"es\": \"habil\" },\n",
        "    { \"_key\": \"L\", \"en\": \"young\", \"es\": \"joven\" },\n",
        "    { \"_key\": \"M\", \"en\": \"smart\", \"es\": \"inteligente\" },\n",
        "    { \"_key\": \"N\", \"en\": \"rational\", \"es\": \"racional\" },\n",
        "    { \"_key\": \"O\", \"en\": \"ruthless\", \"es\": \"implacable\" },\n",
        "    { \"_key\": \"P\", \"en\": \"brave\", \"es\": \"valiente\" },\n",
        "    { \"_key\": \"Q\", \"en\": \"mighty\", \"es\": \"poderoso\" },\n",
        "    { \"_key\": \"R\", \"en\": \"weak\", \"es\": \"debil\" }\n",
        "]\n",
        "\n",
        "\n",
        "FOR d IN data\n",
        "    INSERT d INTO caracteres\n",
        "\"\"\"\n",
        "# python-arango\n",
        "aql.execute(insert_query)\n"
      ],
      "metadata": {
        "colab": {
          "base_uri": "https://localhost:8080/"
        },
        "id": "OLooK3wNHsgn",
        "outputId": "2363fa3f-3aac-477b-c6e4-e91e6a67f4b7"
      },
      "execution_count": 23,
      "outputs": [
        {
          "output_type": "execute_result",
          "data": {
            "text/plain": [
              "<Cursor>"
            ]
          },
          "metadata": {},
          "execution_count": 23
        }
      ]
    },
    {
      "cell_type": "code",
      "source": [
        "listar_todos = \"\"\"\n",
        "FOR c IN caracteres\n",
        "    RETURN c\n",
        "\"\"\"\n",
        "# python-arango\n",
        "query_result = aql.execute(listar_todos)\n",
        "\n",
        "# pyArango\n",
        "# query_result = db.AQLQuery(all_characters_names, rawResults=True)\n",
        "for doc in  query_result:\n",
        "    print(doc)"
      ],
      "metadata": {
        "colab": {
          "base_uri": "https://localhost:8080/"
        },
        "id": "xEvdcdRBI6L_",
        "outputId": "a6422cf8-b019-442c-e0fb-c95acf1f44ab"
      },
      "execution_count": 24,
      "outputs": [
        {
          "output_type": "stream",
          "name": "stdout",
          "text": [
            "{'_key': 'A', '_id': 'caracteres/A', '_rev': '_gJ0Qszq---', 'en': 'strong', 'es': 'fuerte'}\n",
            "{'_key': 'B', '_id': 'caracteres/B', '_rev': '_gJ0Qszq--_', 'en': 'polite', 'es': 'polite'}\n",
            "{'_key': 'C', '_id': 'caracteres/C', '_rev': '_gJ0Qszq--A', 'en': 'loyal', 'es': 'leal'}\n",
            "{'_key': 'D', '_id': 'caracteres/D', '_rev': '_gJ0Qszq--B', 'en': 'beautiful', 'es': 'bonito'}\n",
            "{'_key': 'E', '_id': 'caracteres/E', '_rev': '_gJ0Qszq--C', 'en': 'sneaky', 'es': 'insidioso'}\n",
            "{'_key': 'F', '_id': 'caracteres/F', '_rev': '_gJ0Qszq--D', 'en': 'experienced', 'es': 'experimentado'}\n",
            "{'_key': 'G', '_id': 'caracteres/G', '_rev': '_gJ0Qszq--E', 'en': 'corrupt', 'es': 'corrupto'}\n",
            "{'_key': 'H', '_id': 'caracteres/H', '_rev': '_gJ0Qszq--F', 'en': 'powerful', 'es': 'potente'}\n",
            "{'_key': 'I', '_id': 'caracteres/I', '_rev': '_gJ0Qszq--G', 'en': 'naive', 'es': 'ingenuo'}\n",
            "{'_key': 'J', '_id': 'caracteres/J', '_rev': '_gJ0Qszq--H', 'en': 'unmarried', 'es': 'soltero'}\n",
            "{'_key': 'K', '_id': 'caracteres/K', '_rev': '_gJ0Qszq--I', 'en': 'skillful', 'es': 'habil'}\n",
            "{'_key': 'L', '_id': 'caracteres/L', '_rev': '_gJ0Qszq--J', 'en': 'young', 'es': 'joven'}\n",
            "{'_key': 'M', '_id': 'caracteres/M', '_rev': '_gJ0Qszq--K', 'en': 'smart', 'es': 'inteligente'}\n",
            "{'_key': 'N', '_id': 'caracteres/N', '_rev': '_gJ0Qszq--L', 'en': 'rational', 'es': 'racional'}\n",
            "{'_key': 'O', '_id': 'caracteres/O', '_rev': '_gJ0Qszq--M', 'en': 'ruthless', 'es': 'implacable'}\n",
            "{'_key': 'P', '_id': 'caracteres/P', '_rev': '_gJ0Qszq--N', 'en': 'brave', 'es': 'valiente'}\n",
            "{'_key': 'Q', '_id': 'caracteres/Q', '_rev': '_gJ0Qszq--O', 'en': 'mighty', 'es': 'poderoso'}\n",
            "{'_key': 'R', '_id': 'caracteres/R', '_rev': '_gJ0Qszq--P', 'en': 'weak', 'es': 'debil'}\n"
          ]
        }
      ]
    },
    {
      "cell_type": "code",
      "source": [
        "listar_personajes_caracteres = \"\"\"\n",
        "FOR c IN Personajes\n",
        "    RETURN {nombre:c.nombre, caracteres:c.caracteres}\n",
        "\"\"\"\n",
        "query_result = aql.execute(listar_personajes_caracteres)\n",
        "for doc in  query_result:\n",
        "    print(doc)"
      ],
      "metadata": {
        "id": "dPxFXS5vJWBL"
      },
      "execution_count": 25,
      "outputs": []
    },
    {
      "cell_type": "markdown",
      "source": [
        "# Ejemplos Joins"
      ],
      "metadata": {
        "id": "YLY5fz58J85c"
      }
    },
    {
      "cell_type": "code",
      "source": [
        "#La función DOCUMENT() se puede utilizar para buscar uno o varios documentos a través de identificadores de documentos.\n",
        "listar_personajes_caracteres = \"\"\"\n",
        "FOR c IN Personajes\n",
        "    LIMIT 5\n",
        "    RETURN {nombre:c.nombre, caracteres:DOCUMENT(\"caracteres\", c.caracteres)}\n",
        "\"\"\"\n",
        "# python-arango\n",
        "query_result = aql.execute(listar_personajes_caracteres)\n",
        "\n",
        "for doc in  query_result:\n",
        "    print(doc)"
      ],
      "metadata": {
        "id": "aDm7aGkuKEpy"
      },
      "execution_count": null,
      "outputs": []
    },
    {
      "cell_type": "code",
      "source": [
        "listar_personajes_caracteres = \"\"\"\n",
        "FOR c IN Personajes\n",
        "    LIMIT 5\n",
        "    RETURN {nombre:c.nombre, caracteres:DOCUMENT(\"caracteres\", c.caracteres)[*].es}\n",
        "\"\"\"\n",
        "# python-arango\n",
        "query_result = aql.execute(listar_personajes_caracteres)\n",
        "\n",
        "for doc in  query_result:\n",
        "    print(doc)"
      ],
      "metadata": {
        "id": "9PkQowF0K7g8"
      },
      "execution_count": null,
      "outputs": []
    },
    {
      "cell_type": "code",
      "source": [
        "listar_personajes_caracteres = \"\"\"\n",
        "FOR c IN Personajes\n",
        "    LIMIT 5\n",
        "    RETURN {nombre:c.nombre, caracteres:DOCUMENT(\"caracteres\", c.caracteres)[*].en}\n",
        "\"\"\"\n",
        "# python-arango\n",
        "query_result = aql.execute(listar_personajes_caracteres)\n",
        "\n",
        "for doc in  query_result:\n",
        "    print(doc)"
      ],
      "metadata": {
        "id": "wJclUuX-LEbi"
      },
      "execution_count": null,
      "outputs": []
    },
    {
      "cell_type": "code",
      "source": [
        "todos_personajes_caracter = \"\"\"\n",
        "FOR c IN Personajes\n",
        "    LIMIT 5\n",
        "    RETURN MERGE(c, { caracter: DOCUMENT(\"caracteres\", c.caracteres)[*].es } )\n",
        "\"\"\"\n",
        "query_result = aql.execute(todos_personajes_caracter)\n",
        "for doc in  query_result:\n",
        "    print(doc)"
      ],
      "metadata": {
        "id": "Uh0v8kiQLtWc"
      },
      "execution_count": null,
      "outputs": []
    },
    {
      "cell_type": "code",
      "source": [
        "all_characters_traits = \"\"\"\n",
        "FOR c IN Personajes\n",
        "  LIMIT 10\n",
        "  SORT c.apellido\n",
        "  RETURN MERGE(c, {\n",
        "    caracter: (\n",
        "      FOR key IN c.caracteres\n",
        "        FOR t IN caracteres\n",
        "          FILTER t._key == key\n",
        "          RETURN t.es\n",
        "    )\n",
        "  })\n",
        "\"\"\"\n",
        "# python-arango\n",
        "query_result = aql.execute(all_characters_traits)\n",
        "\n",
        "for doc in  query_result:\n",
        "    print(doc)"
      ],
      "metadata": {
        "id": "GswcZgCzMLR5"
      },
      "execution_count": null,
      "outputs": []
    },
    {
      "cell_type": "markdown",
      "metadata": {
        "id": "L2moBhHpd50w"
      },
      "source": [
        "* https://www.arangodb.com/docs/stable/aql/tutorial.html"
      ]
    }
  ],
  "metadata": {
    "language_info": {
      "name": "python"
    },
    "colab": {
      "name": "NoSQL_ArangoDB_ejemplo.ipynb",
      "provenance": [],
      "include_colab_link": true
    },
    "kernelspec": {
      "name": "python3",
      "display_name": "Python 3"
    },
    "gpuClass": "standard"
  },
  "nbformat": 4,
  "nbformat_minor": 0
}