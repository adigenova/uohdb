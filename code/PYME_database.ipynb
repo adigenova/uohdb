{
  "nbformat": 4,
  "nbformat_minor": 0,
  "metadata": {
    "colab": {
      "name": "PYME_database.ipynb",
      "provenance": [],
      "collapsed_sections": [
        "JNKuL29vBpHf",
        "yLYMPw96L0wL",
        "WQGLVqiMOPTd"
      ],
      "include_colab_link": true
    },
    "kernelspec": {
      "name": "python3",
      "display_name": "Python 3"
    },
    "language_info": {
      "name": "python"
    }
  },
  "cells": [
    {
      "cell_type": "markdown",
      "metadata": {
        "id": "view-in-github",
        "colab_type": "text"
      },
      "source": [
        "<a href=\"https://colab.research.google.com/github/adigenova/uohdb/blob/main/code/PYME_database.ipynb\" target=\"_parent\"><img src=\"https://colab.research.google.com/assets/colab-badge.svg\" alt=\"Open In Colab\"/></a>"
      ]
    },
    {
      "cell_type": "markdown",
      "source": [
        "# PYME relacional a SQL"
      ],
      "metadata": {
        "id": "lik5phAmARbV"
      }
    },
    {
      "cell_type": "code",
      "source": [
        "# cargamos sqlite3\n",
        "# https://www.sqlite.org/docs.html\n",
        "%load_ext sql\n",
        "#nos conectamos o creamos una base de datos\n",
        "%sql sqlite:///pyme2.db"
      ],
      "metadata": {
        "id": "F38dkcKtAPSn"
      },
      "execution_count": 1,
      "outputs": []
    },
    {
      "cell_type": "markdown",
      "source": [
        "## Tabla Cliente\n",
        "Ejemplos de restricciones en tablas."
      ],
      "metadata": {
        "id": "JNKuL29vBpHf"
      }
    },
    {
      "cell_type": "code",
      "source": [
        "%%sql \n",
        "CREATE TABLE Cliente (\n",
        "id_cliente INTEGER PRIMARY KEY,\n",
        "saldo INTEGER NOT NULL,\n",
        "descuento INTEGER NOT NULL,\n",
        "credito INTEGER,\n",
        "direccion TEXT NOT NULL\n",
        ");"
      ],
      "metadata": {
        "colab": {
          "base_uri": "https://localhost:8080/"
        },
        "id": "T5DJnutNB5FV",
        "outputId": "3b0c49fe-f661-49c7-a3ba-b6417115efed"
      },
      "execution_count": 2,
      "outputs": [
        {
          "output_type": "stream",
          "name": "stdout",
          "text": [
            " * sqlite:///pyme2.db\n",
            "Done.\n"
          ]
        },
        {
          "output_type": "execute_result",
          "data": {
            "text/plain": [
              "[]"
            ]
          },
          "metadata": {},
          "execution_count": 2
        }
      ]
    },
    {
      "cell_type": "code",
      "source": [
        "#mostramos las tablas de pyme \n",
        "# AND name NOT LIKE 'sqlite_%';\n",
        "%%sql\n",
        "SELECT name FROM sqlite_master WHERE type='table'; "
      ],
      "metadata": {
        "colab": {
          "base_uri": "https://localhost:8080/",
          "height": 97
        },
        "id": "wSqL4sMnCtEy",
        "outputId": "9e9cd49d-c8c3-40f2-f67b-ba39118c5c9c"
      },
      "execution_count": 4,
      "outputs": [
        {
          "output_type": "stream",
          "name": "stdout",
          "text": [
            " * sqlite:///pyme2.db\n",
            "Done.\n"
          ]
        },
        {
          "output_type": "execute_result",
          "data": {
            "text/plain": [
              "[('Cliente',)]"
            ],
            "text/html": [
              "<table>\n",
              "    <tr>\n",
              "        <th>name</th>\n",
              "    </tr>\n",
              "    <tr>\n",
              "        <td>Cliente</td>\n",
              "    </tr>\n",
              "</table>"
            ]
          },
          "metadata": {},
          "execution_count": 4
        }
      ]
    },
    {
      "cell_type": "code",
      "source": [
        "%%sql \n",
        "PRAGMA table_info([Cliente]);"
      ],
      "metadata": {
        "colab": {
          "base_uri": "https://localhost:8080/",
          "height": 183
        },
        "id": "QnAh6P41DAc3",
        "outputId": "1d9ac885-29ab-4884-9987-ad6a505db208"
      },
      "execution_count": 5,
      "outputs": [
        {
          "output_type": "stream",
          "name": "stdout",
          "text": [
            " * sqlite:///pyme2.db\n",
            "Done.\n"
          ]
        },
        {
          "output_type": "execute_result",
          "data": {
            "text/plain": [
              "[(0, 'id_cliente', 'INTEGER', 0, None, 1),\n",
              " (1, 'saldo', 'INTEGER', 1, None, 0),\n",
              " (2, 'descuento', 'INTEGER', 1, None, 0),\n",
              " (3, 'credito', 'INTEGER', 0, None, 0),\n",
              " (4, 'direccion', 'TEXT', 1, None, 0)]"
            ],
            "text/html": [
              "<table>\n",
              "    <tr>\n",
              "        <th>cid</th>\n",
              "        <th>name</th>\n",
              "        <th>type</th>\n",
              "        <th>notnull</th>\n",
              "        <th>dflt_value</th>\n",
              "        <th>pk</th>\n",
              "    </tr>\n",
              "    <tr>\n",
              "        <td>0</td>\n",
              "        <td>id_cliente</td>\n",
              "        <td>INTEGER</td>\n",
              "        <td>0</td>\n",
              "        <td>None</td>\n",
              "        <td>1</td>\n",
              "    </tr>\n",
              "    <tr>\n",
              "        <td>1</td>\n",
              "        <td>saldo</td>\n",
              "        <td>INTEGER</td>\n",
              "        <td>1</td>\n",
              "        <td>None</td>\n",
              "        <td>0</td>\n",
              "    </tr>\n",
              "    <tr>\n",
              "        <td>2</td>\n",
              "        <td>descuento</td>\n",
              "        <td>INTEGER</td>\n",
              "        <td>1</td>\n",
              "        <td>None</td>\n",
              "        <td>0</td>\n",
              "    </tr>\n",
              "    <tr>\n",
              "        <td>3</td>\n",
              "        <td>credito</td>\n",
              "        <td>INTEGER</td>\n",
              "        <td>0</td>\n",
              "        <td>None</td>\n",
              "        <td>0</td>\n",
              "    </tr>\n",
              "    <tr>\n",
              "        <td>4</td>\n",
              "        <td>direccion</td>\n",
              "        <td>TEXT</td>\n",
              "        <td>1</td>\n",
              "        <td>None</td>\n",
              "        <td>0</td>\n",
              "    </tr>\n",
              "</table>"
            ]
          },
          "metadata": {},
          "execution_count": 5
        }
      ]
    },
    {
      "cell_type": "code",
      "source": [
        "#insertamos valores en la db\n",
        "%%sql \n",
        "INSERT INTO Cliente VALUES(1,100,5,0,\"Eusebio Lillo 1540\");"
      ],
      "metadata": {
        "colab": {
          "base_uri": "https://localhost:8080/"
        },
        "id": "x8Zt3_GbD08z",
        "outputId": "0324967c-7cd9-44d1-bab7-d9b35d0e33e7"
      },
      "execution_count": 6,
      "outputs": [
        {
          "output_type": "stream",
          "name": "stdout",
          "text": [
            " * sqlite:///pyme2.db\n",
            "1 rows affected.\n"
          ]
        },
        {
          "output_type": "execute_result",
          "data": {
            "text/plain": [
              "[]"
            ]
          },
          "metadata": {},
          "execution_count": 6
        }
      ]
    },
    {
      "cell_type": "code",
      "source": [
        "#listamos los valores de la base de datos\n",
        "%%sql\n",
        "select * from Fabrica;"
      ],
      "metadata": {
        "colab": {
          "base_uri": "https://localhost:8080/"
        },
        "id": "0x0YOPdpEvpx",
        "outputId": "db45bbaa-150b-4aa9-9679-7bff7f1f2c20"
      },
      "execution_count": 8,
      "outputs": [
        {
          "output_type": "stream",
          "name": "stdout",
          "text": [
            " * sqlite:///pyme2.db\n",
            "(sqlite3.OperationalError) no such table: Fabrica\n",
            "[SQL: select * from Fabrica;]\n",
            "(Background on this error at: https://sqlalche.me/e/14/e3q8)\n"
          ]
        }
      ]
    },
    {
      "cell_type": "code",
      "source": [
        "#insertamos un nuevo valor\n",
        "%%sql \n",
        "INSERT INTO Cliente VALUES (3,\"\",5,0,\"Eusebio Lillo 1540\");"
      ],
      "metadata": {
        "colab": {
          "base_uri": "https://localhost:8080/"
        },
        "id": "JrTP-Ld-FBc1",
        "outputId": "f371ed69-fa33-4ec7-8ed3-39351de3ea12"
      },
      "execution_count": 12,
      "outputs": [
        {
          "output_type": "stream",
          "name": "stdout",
          "text": [
            " * sqlite:///pyme2.db\n",
            "(sqlite3.IntegrityError) UNIQUE constraint failed: Cliente.id_cliente\n",
            "[SQL: INSERT INTO Cliente VALUES (3,\"\",5,0,\"Eusebio Lillo 1540\");]\n",
            "(Background on this error at: https://sqlalche.me/e/14/gkpj)\n"
          ]
        }
      ]
    },
    {
      "cell_type": "code",
      "source": [
        "%%sql\n",
        "select * from Cliente;"
      ],
      "metadata": {
        "id": "mAHpska2xgVs",
        "outputId": "f8941381-b164-435a-d97a-bb88ff7b2e85",
        "colab": {
          "base_uri": "https://localhost:8080/",
          "height": 140
        }
      },
      "execution_count": 16,
      "outputs": [
        {
          "output_type": "stream",
          "name": "stdout",
          "text": [
            " * sqlite:///pyme2.db\n",
            "Done.\n"
          ]
        },
        {
          "output_type": "execute_result",
          "data": {
            "text/plain": [
              "[(1, 100, 5, 0, 'Eusebio Lillo 1540'),\n",
              " (3, '', 5, 0, 'Eusebio Lillo 1540'),\n",
              " (5, 10000, 1, None, 'Eusebio Lillo 1540')]"
            ],
            "text/html": [
              "<table>\n",
              "    <tr>\n",
              "        <th>id_cliente</th>\n",
              "        <th>saldo</th>\n",
              "        <th>descuento</th>\n",
              "        <th>credito</th>\n",
              "        <th>direccion</th>\n",
              "    </tr>\n",
              "    <tr>\n",
              "        <td>1</td>\n",
              "        <td>100</td>\n",
              "        <td>5</td>\n",
              "        <td>0</td>\n",
              "        <td>Eusebio Lillo 1540</td>\n",
              "    </tr>\n",
              "    <tr>\n",
              "        <td>3</td>\n",
              "        <td></td>\n",
              "        <td>5</td>\n",
              "        <td>0</td>\n",
              "        <td>Eusebio Lillo 1540</td>\n",
              "    </tr>\n",
              "    <tr>\n",
              "        <td>5</td>\n",
              "        <td>10000</td>\n",
              "        <td>1</td>\n",
              "        <td>None</td>\n",
              "        <td>Eusebio Lillo 1540</td>\n",
              "    </tr>\n",
              "</table>"
            ]
          },
          "metadata": {},
          "execution_count": 16
        }
      ]
    },
    {
      "cell_type": "code",
      "source": [
        "%%sql\n",
        "INSERT INTO Cliente VALUES (5,10000,1,NULL,\"Eusebio Lillo 1540\");"
      ],
      "metadata": {
        "id": "SvV30ED5GbG_",
        "colab": {
          "base_uri": "https://localhost:8080/"
        },
        "outputId": "5cfab91b-155a-4ae7-d5ac-d75577b914eb"
      },
      "execution_count": 15,
      "outputs": [
        {
          "output_type": "stream",
          "name": "stdout",
          "text": [
            " * sqlite:///pyme2.db\n",
            "1 rows affected.\n"
          ]
        },
        {
          "output_type": "execute_result",
          "data": {
            "text/plain": [
              "[]"
            ]
          },
          "metadata": {},
          "execution_count": 15
        }
      ]
    },
    {
      "cell_type": "code",
      "source": [
        "#unique example\n",
        "%%sql\n",
        "drop table if exists Cliente;\n",
        "CREATE TABLE Cliente (\n",
        "id_cliente INTEGER PRIMARY KEY,\n",
        "saldo INTEGER NOT NULL,\n",
        "descuento INTEGER NOT NULL,\n",
        "credito INTEGER,\n",
        "direccion TEXT NOT NULL UNIQUE\n",
        ");\n",
        "PRAGMA table_info([Cliente]);\n",
        "INSERT INTO Cliente VALUES (3,10000,3,NULL,\"Eusebio Lillo 1540\");"
      ],
      "metadata": {
        "id": "pGvcbMPVGhds",
        "colab": {
          "base_uri": "https://localhost:8080/"
        },
        "outputId": "3bbb76f8-10a1-4e65-f31c-034b909799b5"
      },
      "execution_count": 17,
      "outputs": [
        {
          "output_type": "stream",
          "name": "stdout",
          "text": [
            " * sqlite:///pyme2.db\n",
            "Done.\n",
            "Done.\n",
            "Done.\n",
            "1 rows affected.\n"
          ]
        },
        {
          "output_type": "execute_result",
          "data": {
            "text/plain": [
              "[]"
            ]
          },
          "metadata": {},
          "execution_count": 17
        }
      ]
    },
    {
      "cell_type": "code",
      "source": [
        "%%sql\n",
        "select * from Cliente;"
      ],
      "metadata": {
        "id": "2q905A_5yMXf",
        "outputId": "586ac761-36af-42d5-8cb3-35215cc0e74c",
        "colab": {
          "base_uri": "https://localhost:8080/",
          "height": 97
        }
      },
      "execution_count": 18,
      "outputs": [
        {
          "output_type": "stream",
          "name": "stdout",
          "text": [
            " * sqlite:///pyme2.db\n",
            "Done.\n"
          ]
        },
        {
          "output_type": "execute_result",
          "data": {
            "text/plain": [
              "[(3, 10000, 3, None, 'Eusebio Lillo 1540')]"
            ],
            "text/html": [
              "<table>\n",
              "    <tr>\n",
              "        <th>id_cliente</th>\n",
              "        <th>saldo</th>\n",
              "        <th>descuento</th>\n",
              "        <th>credito</th>\n",
              "        <th>direccion</th>\n",
              "    </tr>\n",
              "    <tr>\n",
              "        <td>3</td>\n",
              "        <td>10000</td>\n",
              "        <td>3</td>\n",
              "        <td>None</td>\n",
              "        <td>Eusebio Lillo 1540</td>\n",
              "    </tr>\n",
              "</table>"
            ]
          },
          "metadata": {},
          "execution_count": 18
        }
      ]
    },
    {
      "cell_type": "code",
      "source": [
        "%%sql\n",
        "INSERT INTO Cliente VALUES (1,10000,3,10,\"Eusebio Lillo 1540\");"
      ],
      "metadata": {
        "id": "sBCamrsDLEa2",
        "colab": {
          "base_uri": "https://localhost:8080/"
        },
        "outputId": "7791dfe7-6832-44cf-ec60-2be3ab974137"
      },
      "execution_count": 19,
      "outputs": [
        {
          "output_type": "stream",
          "name": "stdout",
          "text": [
            " * sqlite:///pyme2.db\n",
            "(sqlite3.IntegrityError) UNIQUE constraint failed: Cliente.direccion\n",
            "[SQL: INSERT INTO Cliente VALUES (1,10000,3,10,\"Eusebio Lillo 1540\");]\n",
            "(Background on this error at: https://sqlalche.me/e/14/gkpj)\n"
          ]
        }
      ]
    },
    {
      "cell_type": "code",
      "source": [
        "%%sql\n",
        "INSERT INTO Cliente VALUES (1,10000,3,10,\"Eusebio Lillo 1541\");"
      ],
      "metadata": {
        "id": "lQwWsXW4LT9I",
        "colab": {
          "base_uri": "https://localhost:8080/"
        },
        "outputId": "47f9f39d-873f-49fe-874b-40efc4145ad1"
      },
      "execution_count": 20,
      "outputs": [
        {
          "output_type": "stream",
          "name": "stdout",
          "text": [
            " * sqlite:///pyme2.db\n",
            "1 rows affected.\n"
          ]
        },
        {
          "output_type": "execute_result",
          "data": {
            "text/plain": [
              "[]"
            ]
          },
          "metadata": {},
          "execution_count": 20
        }
      ]
    },
    {
      "cell_type": "code",
      "source": [
        "%%sql\n",
        "select * from Cliente;"
      ],
      "metadata": {
        "colab": {
          "base_uri": "https://localhost:8080/",
          "height": 119
        },
        "id": "K0_TKOKZvDxq",
        "outputId": "681fd465-66f5-4d7b-bb8f-8508921936b8"
      },
      "execution_count": 21,
      "outputs": [
        {
          "output_type": "stream",
          "name": "stdout",
          "text": [
            " * sqlite:///pyme2.db\n",
            "Done.\n"
          ]
        },
        {
          "output_type": "execute_result",
          "data": {
            "text/plain": [
              "[(1, 10000, 3, 10, 'Eusebio Lillo 1541'),\n",
              " (3, 10000, 3, None, 'Eusebio Lillo 1540')]"
            ],
            "text/html": [
              "<table>\n",
              "    <tr>\n",
              "        <th>id_cliente</th>\n",
              "        <th>saldo</th>\n",
              "        <th>descuento</th>\n",
              "        <th>credito</th>\n",
              "        <th>direccion</th>\n",
              "    </tr>\n",
              "    <tr>\n",
              "        <td>1</td>\n",
              "        <td>10000</td>\n",
              "        <td>3</td>\n",
              "        <td>10</td>\n",
              "        <td>Eusebio Lillo 1541</td>\n",
              "    </tr>\n",
              "    <tr>\n",
              "        <td>3</td>\n",
              "        <td>10000</td>\n",
              "        <td>3</td>\n",
              "        <td>None</td>\n",
              "        <td>Eusebio Lillo 1540</td>\n",
              "    </tr>\n",
              "</table>"
            ]
          },
          "metadata": {},
          "execution_count": 21
        }
      ]
    },
    {
      "cell_type": "markdown",
      "source": [],
      "metadata": {
        "id": "1XrTQLhVLXq7"
      }
    },
    {
      "cell_type": "code",
      "source": [
        "#check example\n",
        "# Comentarios en SQL --\n",
        "%%sql\n",
        "drop table if exists Cliente;\n",
        "CREATE TABLE Cliente (\n",
        "id_cliente INTEGER PRIMARY KEY,\n",
        "saldo INTEGER NOT NULL,\n",
        "descuento INTEGER NOT NULL CHECK(descuento >=0 AND descuento <= 100),\n",
        "credito INTEGER,\n",
        "direccion TEXT NOT NULL\n",
        ");\n",
        "PRAGMA table_info([Cliente]);\n",
        "INSERT INTO Cliente VALUES (3,10000,3,NULL,\"Eusebio Lillo 1540\");"
      ],
      "metadata": {
        "id": "vK8SrmbjGwjp",
        "colab": {
          "base_uri": "https://localhost:8080/"
        },
        "outputId": "8897624d-4cc0-4975-ca5c-f4e91e1c8fe6"
      },
      "execution_count": 26,
      "outputs": [
        {
          "output_type": "stream",
          "name": "stdout",
          "text": [
            " * sqlite:///pyme2.db\n",
            "Done.\n",
            "Done.\n",
            "Done.\n",
            "1 rows affected.\n"
          ]
        },
        {
          "output_type": "execute_result",
          "data": {
            "text/plain": [
              "[]"
            ]
          },
          "metadata": {},
          "execution_count": 26
        }
      ]
    },
    {
      "cell_type": "code",
      "source": [
        "%%sql\n",
        "select saldo, descuento, credito from Cliente;"
      ],
      "metadata": {
        "id": "G2XrrwbXzs9G",
        "outputId": "fdd5c19f-e26c-43c6-9849-0e37b573268f",
        "colab": {
          "base_uri": "https://localhost:8080/",
          "height": 97
        }
      },
      "execution_count": 27,
      "outputs": [
        {
          "output_type": "stream",
          "name": "stdout",
          "text": [
            " * sqlite:///pyme2.db\n",
            "Done.\n"
          ]
        },
        {
          "output_type": "execute_result",
          "data": {
            "text/plain": [
              "[(10000, 3, None)]"
            ],
            "text/html": [
              "<table>\n",
              "    <tr>\n",
              "        <th>saldo</th>\n",
              "        <th>descuento</th>\n",
              "        <th>credito</th>\n",
              "    </tr>\n",
              "    <tr>\n",
              "        <td>10000</td>\n",
              "        <td>3</td>\n",
              "        <td>None</td>\n",
              "    </tr>\n",
              "</table>"
            ]
          },
          "metadata": {},
          "execution_count": 27
        }
      ]
    },
    {
      "cell_type": "code",
      "source": [
        "%%sql\n",
        "INSERT INTO Cliente VALUES (5,10000,120,NULL,\"Eusebio Lillo 1540\");\n",
        "select * from Cliente;"
      ],
      "metadata": {
        "colab": {
          "base_uri": "https://localhost:8080/"
        },
        "id": "vPGoNmfPwBcR",
        "outputId": "51cacae7-b6ce-4f35-bdb2-d66a1607e0e6"
      },
      "execution_count": 28,
      "outputs": [
        {
          "output_type": "stream",
          "name": "stdout",
          "text": [
            " * sqlite:///pyme2.db\n",
            "(sqlite3.IntegrityError) CHECK constraint failed: Cliente\n",
            "[SQL: INSERT INTO Cliente VALUES (5,10000,120,NULL,\"Eusebio Lillo 1540\");]\n",
            "(Background on this error at: https://sqlalche.me/e/14/gkpj)\n"
          ]
        }
      ]
    },
    {
      "cell_type": "code",
      "source": [
        "#check example II\n",
        "%%sql\n",
        "drop table if exists Cliente;\n",
        "CREATE TABLE Cliente (\n",
        "id_cliente INTEGER PRIMARY KEY,\n",
        "saldo INTEGER NOT NULL,\n",
        "descuento INTEGER NOT NULL CHECK(descuento >=0 AND descuento <= 100),\n",
        "credito INTEGER,\n",
        "direccion TEXT NOT NULL CHECK(length(direccion) > 5)\n",
        ");\n",
        "-- PRAGMA table_info([Cliente]);\n",
        "INSERT INTO Cliente VALUES (3,10000,3,NULL,\"Eusebio lillo 1570\");"
      ],
      "metadata": {
        "id": "4JL-v9zOJoYt",
        "colab": {
          "base_uri": "https://localhost:8080/"
        },
        "outputId": "35be4d6b-ea1c-4850-e89e-90c17364b2c7"
      },
      "execution_count": 29,
      "outputs": [
        {
          "output_type": "stream",
          "name": "stdout",
          "text": [
            " * sqlite:///pyme2.db\n",
            "Done.\n",
            "Done.\n",
            "Done.\n"
          ]
        },
        {
          "output_type": "execute_result",
          "data": {
            "text/plain": [
              "[]"
            ]
          },
          "metadata": {},
          "execution_count": 29
        }
      ]
    },
    {
      "cell_type": "code",
      "source": [
        "%%sql\n",
        "select * from Cliente;\n"
      ],
      "metadata": {
        "id": "Vvq9oaXb0-JR",
        "outputId": "099472e7-336c-4ebf-f372-712b265b467f",
        "colab": {
          "base_uri": "https://localhost:8080/",
          "height": 97
        }
      },
      "execution_count": 31,
      "outputs": [
        {
          "output_type": "stream",
          "name": "stdout",
          "text": [
            " * sqlite:///pyme2.db\n",
            "Done.\n"
          ]
        },
        {
          "output_type": "execute_result",
          "data": {
            "text/plain": [
              "[(3, 10000, 3, None, 'Eusebio lillo 1570')]"
            ],
            "text/html": [
              "<table>\n",
              "    <tr>\n",
              "        <th>id_cliente</th>\n",
              "        <th>saldo</th>\n",
              "        <th>descuento</th>\n",
              "        <th>credito</th>\n",
              "        <th>direccion</th>\n",
              "    </tr>\n",
              "    <tr>\n",
              "        <td>3</td>\n",
              "        <td>10000</td>\n",
              "        <td>3</td>\n",
              "        <td>None</td>\n",
              "        <td>Eusebio lillo 1570</td>\n",
              "    </tr>\n",
              "</table>"
            ]
          },
          "metadata": {},
          "execution_count": 31
        }
      ]
    },
    {
      "cell_type": "code",
      "source": [
        "%%sql\n",
        "INSERT INTO Cliente VALUES (4,10000,3,NULL,\"santa elena 2020. rancagua\"); --\n",
        "-- select * from Cliente; --\n",
        "INSERT INTO Cliente VALUES (7,100,3,NULL,\"Sant\");"
      ],
      "metadata": {
        "colab": {
          "base_uri": "https://localhost:8080/"
        },
        "id": "goA5ormZww_M",
        "outputId": "b185286d-b746-4138-e4d7-d42cfcc8c156"
      },
      "execution_count": 32,
      "outputs": [
        {
          "output_type": "stream",
          "name": "stdout",
          "text": [
            " * sqlite:///pyme2.db\n",
            "1 rows affected.\n",
            "(sqlite3.IntegrityError) CHECK constraint failed: Cliente\n",
            "[SQL: INSERT INTO Cliente VALUES (7,100,3,NULL,\"Sant\");]\n",
            "(Background on this error at: https://sqlalche.me/e/14/gkpj)\n"
          ]
        }
      ]
    },
    {
      "cell_type": "code",
      "source": [
        "%%sql\n",
        "select * from Cliente;"
      ],
      "metadata": {
        "colab": {
          "base_uri": "https://localhost:8080/",
          "height": 119
        },
        "id": "A2kfgBCJx5vb",
        "outputId": "fe02da23-5cb6-49e5-a2de-fb7e4d118e95"
      },
      "execution_count": 33,
      "outputs": [
        {
          "output_type": "stream",
          "name": "stdout",
          "text": [
            " * sqlite:///pyme2.db\n",
            "Done.\n"
          ]
        },
        {
          "output_type": "execute_result",
          "data": {
            "text/plain": [
              "[(3, 10000, 3, None, 'Eusebio lillo 1570'),\n",
              " (4, 10000, 3, None, 'santa elena 2020. rancagua')]"
            ],
            "text/html": [
              "<table>\n",
              "    <tr>\n",
              "        <th>id_cliente</th>\n",
              "        <th>saldo</th>\n",
              "        <th>descuento</th>\n",
              "        <th>credito</th>\n",
              "        <th>direccion</th>\n",
              "    </tr>\n",
              "    <tr>\n",
              "        <td>3</td>\n",
              "        <td>10000</td>\n",
              "        <td>3</td>\n",
              "        <td>None</td>\n",
              "        <td>Eusebio lillo 1570</td>\n",
              "    </tr>\n",
              "    <tr>\n",
              "        <td>4</td>\n",
              "        <td>10000</td>\n",
              "        <td>3</td>\n",
              "        <td>None</td>\n",
              "        <td>santa elena 2020. rancagua</td>\n",
              "    </tr>\n",
              "</table>"
            ]
          },
          "metadata": {},
          "execution_count": 33
        }
      ]
    },
    {
      "cell_type": "markdown",
      "source": [
        "## Claves foráneas\n",
        "Ejemplo de restricciones de claves foráneas"
      ],
      "metadata": {
        "id": "yLYMPw96L0wL"
      }
    },
    {
      "cell_type": "code",
      "source": [
        "%%sql\n",
        "drop table if exists Pedido;\n",
        "drop table if exists Cliente;\n",
        "CREATE TABLE Cliente (\n",
        "id_cliente INTEGER PRIMARY KEY,\n",
        "saldo INTEGER NOT NULL,\n",
        "descuento INTEGER NOT NULL,\n",
        "credito INTEGER,\n",
        "direccion TEXT NOT NULL\n",
        ");\n",
        "CREATE TABLE Pedido (\n",
        "  id_pedido INTEGER PRIMARY KEY,\n",
        "  direccion TEXT NOT NULL,\n",
        "  fecha TEXT NOT NULL,\n",
        "  id_cliente INTEGER,\n",
        "  FOREIGN KEY(id_cliente) REFERENCES Cliente(id_cliente) ON DELETE CASCADE\n",
        ");\n"
      ],
      "metadata": {
        "colab": {
          "base_uri": "https://localhost:8080/",
          "height": 251
        },
        "id": "iSTPqSo0MCPa",
        "outputId": "74e90bd4-9124-4ab4-e7b9-24c2256c4381"
      },
      "execution_count": 34,
      "outputs": [
        {
          "output_type": "stream",
          "name": "stdout",
          "text": [
            " * sqlite:///pyme2.db\n",
            "Done.\n",
            "Done.\n",
            "Done.\n",
            "Done.\n",
            "Done.\n",
            "Done.\n"
          ]
        },
        {
          "output_type": "execute_result",
          "data": {
            "text/plain": [
              "[(0, 'id_pedido', 'INTEGER', 0, None, 1),\n",
              " (1, 'direccion', 'TEXT', 1, None, 0),\n",
              " (2, 'fecha', 'TEXT', 1, None, 0),\n",
              " (3, 'id_cliente', 'INTEGER', 0, None, 0)]"
            ],
            "text/html": [
              "<table>\n",
              "    <tr>\n",
              "        <th>cid</th>\n",
              "        <th>name</th>\n",
              "        <th>type</th>\n",
              "        <th>notnull</th>\n",
              "        <th>dflt_value</th>\n",
              "        <th>pk</th>\n",
              "    </tr>\n",
              "    <tr>\n",
              "        <td>0</td>\n",
              "        <td>id_pedido</td>\n",
              "        <td>INTEGER</td>\n",
              "        <td>0</td>\n",
              "        <td>None</td>\n",
              "        <td>1</td>\n",
              "    </tr>\n",
              "    <tr>\n",
              "        <td>1</td>\n",
              "        <td>direccion</td>\n",
              "        <td>TEXT</td>\n",
              "        <td>1</td>\n",
              "        <td>None</td>\n",
              "        <td>0</td>\n",
              "    </tr>\n",
              "    <tr>\n",
              "        <td>2</td>\n",
              "        <td>fecha</td>\n",
              "        <td>TEXT</td>\n",
              "        <td>1</td>\n",
              "        <td>None</td>\n",
              "        <td>0</td>\n",
              "    </tr>\n",
              "    <tr>\n",
              "        <td>3</td>\n",
              "        <td>id_cliente</td>\n",
              "        <td>INTEGER</td>\n",
              "        <td>0</td>\n",
              "        <td>None</td>\n",
              "        <td>0</td>\n",
              "    </tr>\n",
              "</table>"
            ]
          },
          "metadata": {},
          "execution_count": 34
        }
      ]
    },
    {
      "cell_type": "code",
      "source": [
        "%%sql\n",
        "PRAGMA table_info([Pedido]);"
      ],
      "metadata": {
        "id": "yBQIR-4C1oVB",
        "outputId": "1227b9c5-ab76-45db-a998-9e67ac504a96",
        "colab": {
          "base_uri": "https://localhost:8080/",
          "height": 162
        }
      },
      "execution_count": 35,
      "outputs": [
        {
          "output_type": "stream",
          "name": "stdout",
          "text": [
            " * sqlite:///pyme2.db\n",
            "Done.\n"
          ]
        },
        {
          "output_type": "execute_result",
          "data": {
            "text/plain": [
              "[(0, 'id_pedido', 'INTEGER', 0, None, 1),\n",
              " (1, 'direccion', 'TEXT', 1, None, 0),\n",
              " (2, 'fecha', 'TEXT', 1, None, 0),\n",
              " (3, 'id_cliente', 'INTEGER', 0, None, 0)]"
            ],
            "text/html": [
              "<table>\n",
              "    <tr>\n",
              "        <th>cid</th>\n",
              "        <th>name</th>\n",
              "        <th>type</th>\n",
              "        <th>notnull</th>\n",
              "        <th>dflt_value</th>\n",
              "        <th>pk</th>\n",
              "    </tr>\n",
              "    <tr>\n",
              "        <td>0</td>\n",
              "        <td>id_pedido</td>\n",
              "        <td>INTEGER</td>\n",
              "        <td>0</td>\n",
              "        <td>None</td>\n",
              "        <td>1</td>\n",
              "    </tr>\n",
              "    <tr>\n",
              "        <td>1</td>\n",
              "        <td>direccion</td>\n",
              "        <td>TEXT</td>\n",
              "        <td>1</td>\n",
              "        <td>None</td>\n",
              "        <td>0</td>\n",
              "    </tr>\n",
              "    <tr>\n",
              "        <td>2</td>\n",
              "        <td>fecha</td>\n",
              "        <td>TEXT</td>\n",
              "        <td>1</td>\n",
              "        <td>None</td>\n",
              "        <td>0</td>\n",
              "    </tr>\n",
              "    <tr>\n",
              "        <td>3</td>\n",
              "        <td>id_cliente</td>\n",
              "        <td>INTEGER</td>\n",
              "        <td>0</td>\n",
              "        <td>None</td>\n",
              "        <td>0</td>\n",
              "    </tr>\n",
              "</table>"
            ]
          },
          "metadata": {},
          "execution_count": 35
        }
      ]
    },
    {
      "cell_type": "code",
      "source": [
        "%%sql\n",
        "INSERT INTO Cliente VALUES (3,10000,3,NULL,\"Eusebio Lillo 1540\");\n",
        "INSERT INTO Cliente VALUES (1,10000,3,NULL,\"Eusebio Lillo 2020\");\n",
        "INSERT INTO Pedido VALUES (1,\"Blanco Encalada 1540\",\"28/04/2022\",5);"
      ],
      "metadata": {
        "colab": {
          "base_uri": "https://localhost:8080/"
        },
        "id": "QGDi93UPN2nB",
        "outputId": "4eb74256-21b1-45cc-9536-d8572b7ba934"
      },
      "execution_count": 36,
      "outputs": [
        {
          "output_type": "stream",
          "name": "stdout",
          "text": [
            " * sqlite:///pyme2.db\n",
            "1 rows affected.\n",
            "1 rows affected.\n",
            "1 rows affected.\n"
          ]
        },
        {
          "output_type": "execute_result",
          "data": {
            "text/plain": [
              "[]"
            ]
          },
          "metadata": {},
          "execution_count": 36
        }
      ]
    },
    {
      "cell_type": "code",
      "source": [
        "%%sql\n",
        "select * from Pedido;"
      ],
      "metadata": {
        "id": "fufxyEz12Dnw",
        "outputId": "11eac771-4add-47f9-dbb0-de0b782c16db",
        "colab": {
          "base_uri": "https://localhost:8080/",
          "height": 97
        }
      },
      "execution_count": 43,
      "outputs": [
        {
          "output_type": "stream",
          "name": "stdout",
          "text": [
            " * sqlite:///pyme2.db\n",
            "Done.\n"
          ]
        },
        {
          "output_type": "execute_result",
          "data": {
            "text/plain": [
              "[(1, 'Blanco Encalada 1540', '28/04/2022', 5)]"
            ],
            "text/html": [
              "<table>\n",
              "    <tr>\n",
              "        <th>id_pedido</th>\n",
              "        <th>direccion</th>\n",
              "        <th>fecha</th>\n",
              "        <th>id_cliente</th>\n",
              "    </tr>\n",
              "    <tr>\n",
              "        <td>1</td>\n",
              "        <td>Blanco Encalada 1540</td>\n",
              "        <td>28/04/2022</td>\n",
              "        <td>5</td>\n",
              "    </tr>\n",
              "</table>"
            ]
          },
          "metadata": {},
          "execution_count": 43
        }
      ]
    },
    {
      "cell_type": "code",
      "source": [
        "%%sql\n",
        "INSERT INTO Pedido VALUES (2,\"Blanco Encalada 1540\",\"28/04/2022\",1);"
      ],
      "metadata": {
        "id": "5pJVvsl5PEkE"
      },
      "execution_count": null,
      "outputs": []
    },
    {
      "cell_type": "code",
      "source": [
        "%%sql\n",
        "delete from Cliente where id_cliente == 3;"
      ],
      "metadata": {
        "id": "SemLGaSMQ8_C"
      },
      "execution_count": null,
      "outputs": []
    },
    {
      "cell_type": "code",
      "source": [
        "%%sql\n",
        "select * from Cliente;\n",
        "select * from Pedido;\n"
      ],
      "metadata": {
        "id": "u2d_GEiFS9K9"
      },
      "execution_count": null,
      "outputs": []
    },
    {
      "cell_type": "code",
      "source": [
        "#set default example\n",
        "%%sql\n",
        "drop table if exists Pedido;\n",
        "drop table if exists Cliente;\n",
        "CREATE TABLE Cliente (\n",
        "id_cliente INTEGER PRIMARY KEY,\n",
        "saldo INTEGER NOT NULL,\n",
        "descuento INTEGER NOT NULL,\n",
        "credito INTEGER,\n",
        "direccion TEXT NOT NULL\n",
        ");\n",
        "CREATE TABLE Pedido (\n",
        "  id_pedido INTEGER PRIMARY KEY,\n",
        "  direccion TEXT NOT NULL,\n",
        "  fecha TEXT NOT NULL,\n",
        "  id_cliente INTEGER DEFAULT -1,\n",
        "  FOREIGN KEY(id_cliente) REFERENCES Cliente(id_cliente) ON DELETE SET DEFAULT\n",
        ");"
      ],
      "metadata": {
        "id": "K9EGNJiXUR2i"
      },
      "execution_count": null,
      "outputs": []
    },
    {
      "cell_type": "code",
      "source": [
        "%%sql\n",
        "INSERT INTO Cliente VALUES (3,10000,3,NULL,\"Eusebio Lillo 1540\");\n",
        "INSERT INTO Cliente VALUES (1,10000,3,NULL,\"Eusebio Lillo 2020\");\n",
        "INSERT INTO Pedido VALUES (1,\"Blanco Encalada 1540\",\"28/04/2022\",3);\n",
        "INSERT INTO Pedido VALUES (2,\"Blanco Encalada 1540\",\"28/04/2022\",1);"
      ],
      "metadata": {
        "id": "8lINUIMYVTLD"
      },
      "execution_count": null,
      "outputs": []
    },
    {
      "cell_type": "code",
      "source": [
        "%%sql\n",
        "delete from Cliente where id_cliente == 3;"
      ],
      "metadata": {
        "id": "f3fx6THpVflT"
      },
      "execution_count": null,
      "outputs": []
    },
    {
      "cell_type": "code",
      "source": [
        "%%sql\n",
        "select * from Pedido;"
      ],
      "metadata": {
        "id": "Jsdx4gfv1E-4"
      },
      "execution_count": null,
      "outputs": []
    },
    {
      "cell_type": "code",
      "source": [
        "%%sql\n",
        "INSERT INTO Cliente VALUES (-1,0,0,NULL,\"Cliente desconocido\");"
      ],
      "metadata": {
        "id": "u1WvY_B0W2aq"
      },
      "execution_count": null,
      "outputs": []
    },
    {
      "cell_type": "code",
      "source": [
        "%%sql\n",
        "delete from Cliente where id_cliente == 1;"
      ],
      "metadata": {
        "id": "SLx7p1I9XGS2"
      },
      "execution_count": null,
      "outputs": []
    },
    {
      "cell_type": "code",
      "source": [
        "%%sql\n",
        "select * from Cliente;"
      ],
      "metadata": {
        "id": "-sCHZXwZXIsM"
      },
      "execution_count": null,
      "outputs": []
    },
    {
      "cell_type": "code",
      "source": [
        "%%sql \n",
        "select * from Pedido;"
      ],
      "metadata": {
        "id": "krsYOSHtXOiK"
      },
      "execution_count": null,
      "outputs": []
    },
    {
      "cell_type": "code",
      "source": [
        "#activate foreing key support on SQL lite\n",
        "%%sql\n",
        "PRAGMA foreign_keys;\n",
        "PRAGMA foreign_keys = ON;\n",
        "PRAGMA foreign_keys;"
      ],
      "metadata": {
        "id": "q_q5F5bAOOFY"
      },
      "execution_count": null,
      "outputs": []
    },
    {
      "cell_type": "code",
      "source": [
        "%%sql\n",
        "delete from Cliente where id_cliente == 3;\n",
        "select * from Pedido;"
      ],
      "metadata": {
        "id": "lknbHoplOX-b"
      },
      "execution_count": null,
      "outputs": []
    },
    {
      "cell_type": "markdown",
      "source": [
        "## PYME SQL completo\n",
        "Instrucciones SQL para construir el modelo PYME completo"
      ],
      "metadata": {
        "id": "WQGLVqiMOPTd"
      }
    },
    {
      "cell_type": "markdown",
      "source": [
        "### Definición de tablas"
      ],
      "metadata": {
        "id": "SDPXDAPhOf8D"
      }
    },
    {
      "cell_type": "code",
      "source": [
        "#SQL para todas las tablas\n",
        "%%sql\n",
        "/* borrramos las relaciones\n",
        "en el caso que existan previamente */\n",
        "drop table if exists Detalla;\n",
        "drop table if exists Manufacturados;\n",
        "drop table if exists Articulo;\n",
        "drop table if exists Fabrica;\n",
        "drop table if exists Pedido;\n",
        "drop table if exists Cliente;\n",
        "\n",
        "-- creamos las relaciones --\n",
        "\n",
        "-- Relación cliente --\n",
        "CREATE TABLE Cliente (\n",
        "id_cliente INTEGER PRIMARY KEY,\n",
        "saldo INTEGER NOT NULL,\n",
        "descuento INTEGER NOT NULL,\n",
        "credito INTEGER,\n",
        "direccion TEXT NOT NULL\n",
        ");\n",
        "\n",
        "-- Relación fabrica --\n",
        "CREATE TABLE fabrica (\n",
        "id_fabrica INTEGER PRIMARY KEY,\n",
        "stock INTEGER NOT NULL,\n",
        "telefono INTEGER NOT NULL\n",
        ");\n",
        "\n",
        "-- Relación Pedido --\n",
        "CREATE TABLE Pedido (\n",
        "  id_pedido INTEGER PRIMARY KEY,\n",
        "  direccion TEXT NOT NULL,\n",
        "  fecha TEXT NOT NULL,\n",
        "  id_cliente INTEGER,\n",
        "  FOREIGN KEY(id_cliente) REFERENCES Cliente(id_cliente) ON DELETE CASCADE\n",
        ");\n",
        "\n",
        "-- Relación Articulo --\n",
        "CREATE TABLE Articulo (\n",
        "  id_articulo INTEGER PRIMARY KEY,\n",
        "  descripcion TEXT NOT NULL\n",
        ");\n",
        "\n",
        "-- Relación Manufacturados --\n",
        "CREATE TABLE Manufacturados (\n",
        "  id_articulo INTEGER,\n",
        "  id_fabrica  INTEGER,\n",
        "  FOREIGN KEY(id_articulo) REFERENCES Articulo(id_articulo) ON DELETE CASCADE,\n",
        "  FOREIGN KEY(id_fabrica) REFERENCES Fabrica(id_fabrica) ON DELETE CASCADE,\n",
        "  PRIMARY KEY (id_articulo,id_fabrica)\n",
        ");\n",
        "\n",
        " -- Relación Detalla --\n",
        "CREATE TABLE Detalla (\n",
        "  id_articulo INTEGER NOT NULL,\n",
        "  id_pedido INTEGER NOT NULL,\n",
        "  cantidad INTEGER NOT NULL,\n",
        "  FOREIGN KEY(id_articulo) REFERENCES Articulo(id_articulo) ON DELETE CASCADE,\n",
        "  FOREIGN KEY(id_pedido) REFERENCES Pedido(id_pedido) ON DELETE CASCADE,\n",
        "  PRIMARY KEY (id_articulo, id_pedido)\n",
        ");"
      ],
      "metadata": {
        "id": "jbGzp5HsOoDy"
      },
      "execution_count": null,
      "outputs": []
    },
    {
      "cell_type": "markdown",
      "source": [
        "### Insertando valores"
      ],
      "metadata": {
        "id": "MB0NjCCHajQK"
      }
    },
    {
      "cell_type": "code",
      "source": [
        "%%sql\n",
        "-- valores en cliente --\n",
        "INSERT INTO Cliente VALUES(1,100,5,1000,\"Eusebio Lillo 1540, Rancagua\");\n",
        "INSERT INTO Cliente VALUES(2,150,1,0,\"Blanco Encalada 1540, Santiago\");\n",
        "INSERT INTO Cliente VALUES(3,200,5,500,\"Santa ema 1544, Peor es Nada\");\n",
        "INSERT INTO Cliente VALUES(4,250,10,0,\"Blanco 666, Santiago\");\n",
        "INSERT INTO Cliente VALUES(5,100,5,0,\"Colón 343, Santiago\");\n",
        "INSERT INTO Cliente VALUES(6,300,15,0,\"Republica 1454, La Serena\");\n",
        "INSERT INTO Cliente VALUES(7,400,5,2000,\"Santo Domingo 1313, Rancagua\");\n",
        "\n",
        "-- valores en fabrica --\n",
        "INSERT INTO Fabrica(id_fabrica,stock,telefono) VALUES\n",
        "(1,400,77662323),\n",
        "(2,10,45456263),\n",
        "(3,20,30495590),\n",
        "(4,300,90997676);\n",
        "\n",
        "-- so on --"
      ],
      "metadata": {
        "id": "WulXeBohaqa_"
      },
      "execution_count": null,
      "outputs": []
    },
    {
      "cell_type": "code",
      "source": [
        "%%sql\n",
        "select * from Fabrica;"
      ],
      "metadata": {
        "id": "6NbZ_ikfcFP5"
      },
      "execution_count": null,
      "outputs": []
    }
  ]
}