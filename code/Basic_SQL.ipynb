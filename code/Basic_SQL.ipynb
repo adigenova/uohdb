{
  "nbformat": 4,
  "nbformat_minor": 0,
  "metadata": {
    "colab": {
      "name": "Basic_SQL.ipynb",
      "provenance": [],
      "collapsed_sections": [],
      "authorship_tag": "ABX9TyMlSTt764QwyTahU2SykbTF",
      "include_colab_link": true
    },
    "kernelspec": {
      "name": "python3",
      "display_name": "Python 3"
    },
    "language_info": {
      "name": "python"
    }
  },
  "cells": [
    {
      "cell_type": "markdown",
      "metadata": {
        "id": "view-in-github",
        "colab_type": "text"
      },
      "source": [
        "<a href=\"https://colab.research.google.com/github/adigenova/uohdb/blob/main/code/Basic_SQL.ipynb\" target=\"_parent\"><img src=\"https://colab.research.google.com/assets/colab-badge.svg\" alt=\"Open In Colab\"/></a>"
      ]
    },
    {
      "cell_type": "markdown",
      "source": [
        "# Simple SQL example\n",
        "\n",
        "## sqlite3\n",
        "Installing the required library for sqlite3"
      ],
      "metadata": {
        "id": "HNyDZ152jPgl"
      }
    },
    {
      "cell_type": "code",
      "execution_count": null,
      "metadata": {
        "colab": {
          "base_uri": "https://localhost:8080/"
        },
        "id": "y8xx9Kpwi5Jp",
        "outputId": "99942f3f-6d15-4203-cd3e-eea7028aa4b0"
      },
      "outputs": [
        {
          "output_type": "stream",
          "name": "stdout",
          "text": [
            "Collecting db-sqlite3\n",
            "  Downloading db-sqlite3-0.0.1.tar.gz (1.4 kB)\n",
            "Collecting db\n",
            "  Downloading db-0.1.1.tar.gz (3.4 kB)\n",
            "Collecting antiorm\n",
            "  Downloading antiorm-1.2.1.tar.gz (171 kB)\n",
            "\u001b[K     |████████████████████████████████| 171 kB 5.3 MB/s \n",
            "\u001b[?25hBuilding wheels for collected packages: db-sqlite3, db, antiorm\n",
            "  Building wheel for db-sqlite3 (setup.py) ... \u001b[?25l\u001b[?25hdone\n",
            "  Created wheel for db-sqlite3: filename=db_sqlite3-0.0.1-py3-none-any.whl size=1794 sha256=d79c3d500569e03b4dcb6e1092ffe9d1f4d9223555fa85bac17fb345cac300a9\n",
            "  Stored in directory: /root/.cache/pip/wheels/02/38/d5/2f54461050571bf5330fee2a37ab1c9b5e7540b0572f1acdab\n",
            "  Building wheel for db (setup.py) ... \u001b[?25l\u001b[?25hdone\n",
            "  Created wheel for db: filename=db-0.1.1-py3-none-any.whl size=3895 sha256=ad00bbadd9ce251e579eed378f92b4d93970c97e7dcb7bb45be732a07fb73837\n",
            "  Stored in directory: /root/.cache/pip/wheels/8e/97/82/741d2b360507411ec233d0280d7371faa94b03bde834e4a9be\n",
            "  Building wheel for antiorm (setup.py) ... \u001b[?25l\u001b[?25hdone\n",
            "  Created wheel for antiorm: filename=antiorm-1.2.1-py3-none-any.whl size=31679 sha256=309e0d02dd2b62f64b5dda34bd8847bb6b3b6f8c7640901736bccae0e89e4ae5\n",
            "  Stored in directory: /root/.cache/pip/wheels/c5/43/70/e9729370cfff40c49d3e3d05377d54b3ecd71f64e62341ea80\n",
            "Successfully built db-sqlite3 db antiorm\n",
            "Installing collected packages: antiorm, db, db-sqlite3\n",
            "Successfully installed antiorm-1.2.1 db-0.1.1 db-sqlite3-0.0.1\n"
          ]
        }
      ],
      "source": [
        "!pip install db-sqlite3"
      ]
    },
    {
      "cell_type": "markdown",
      "source": [
        "# my first database"
      ],
      "metadata": {
        "id": "gNbb0oePlRh1"
      }
    },
    {
      "cell_type": "code",
      "source": [
        "# CREATING THE DB and TABLE\n",
        "import sqlite3\n",
        "#opening a conection with the database\n",
        "db = sqlite3.connect('uoh-test.db')\n",
        "\n",
        "print(\"Opened database successfully\");\n",
        "#we prepare the SQL query\n",
        "db.execute('''\n",
        "CREATE TABLE IF NOT EXISTS alumno(name text, \n",
        "                      age number, \n",
        "                      phone integer, \n",
        "                      rut integer,\n",
        "                      email text);''')\n",
        "#we perform the SQL query\n",
        "db.commit()\n",
        "#we print that the databse have been created successfully\n",
        "print(\"Database and Table created successfully\");\n",
        "#we close the database connection\n",
        "db.close()\n"
      ],
      "metadata": {
        "colab": {
          "base_uri": "https://localhost:8080/"
        },
        "id": "yg12qxQlkEog",
        "outputId": "7b839a02-ce37-444a-84cd-e08b7de6ff80"
      },
      "execution_count": null,
      "outputs": [
        {
          "output_type": "stream",
          "name": "stdout",
          "text": [
            "Opened database successfully\n",
            "Database and Table created successfully\n"
          ]
        }
      ]
    },
    {
      "cell_type": "markdown",
      "source": [
        "# Adding data to the database"
      ],
      "metadata": {
        "id": "ER9NU_5UnrfQ"
      }
    },
    {
      "cell_type": "code",
      "source": [
        "# we open a connection to our database\n",
        "db = sqlite3.connect('uoh-test.db')\n",
        "#we insert some data into the database\n",
        "# WE PREPARE INSERTING VALUES\n",
        "db.execute(\"INSERT INTO alumno VALUES('Roberto', 22, 977744557, 20456780,'roberto@gmail.com');\")\n",
        "db.execute(\"INSERT INTO alumno VALUES('Pascale', 21, 677744557, 20476780,'pascale@gmail.com');\")\n",
        "db.execute(\"INSERT INTO alumno VALUES('Dominga', 25, 677744557, 20486780,'dominga@gmail.com');\")\n",
        "db.execute(\"INSERT INTO alumno VALUES('Ricardo', 19, 877744557, 20456980,'ricardo@gmail.com');\")\n",
        "# we commit the data to the db\n",
        "db.commit()"
      ],
      "metadata": {
        "id": "FbUJAMdSnqjK"
      },
      "execution_count": null,
      "outputs": []
    },
    {
      "cell_type": "markdown",
      "source": [
        "# Run simple SQL queries\n",
        "\n",
        "## fecth the email of all students\n"
      ],
      "metadata": {
        "id": "3HGl3aQmp3Mc"
      }
    },
    {
      "cell_type": "code",
      "source": [
        "#fetch the email of each student\n",
        "cursor = db.execute('''SELECT email FROM alumno''')\n",
        "#we print the results of the query\n",
        "for row in cursor:\n",
        "  print(row)\n",
        "\n",
        "#we close the connection to the database\n",
        "db.close()"
      ],
      "metadata": {
        "colab": {
          "base_uri": "https://localhost:8080/"
        },
        "id": "Bl5lsu4lqGNo",
        "outputId": "d36be084-5441-4e46-cdba-5846a2c8c04f"
      },
      "execution_count": null,
      "outputs": [
        {
          "output_type": "stream",
          "name": "stdout",
          "text": [
            "('roberto@gmail.com',)\n",
            "('pascale@gmail.com',)\n",
            "('dominga@gmail.com',)\n",
            "('ricardo@gmail.com',)\n"
          ]
        }
      ]
    },
    {
      "cell_type": "markdown",
      "source": [
        "## fecth the email and age of all students"
      ],
      "metadata": {
        "id": "yU-vEq9VrP9O"
      }
    },
    {
      "cell_type": "code",
      "source": [
        "db=sqlite3.connect('uoh-test.db')\n",
        "#fetch the email of each student\n",
        "cursor = db.execute('''SELECT email,age FROM alumno''')\n",
        "#we print the results of the query\n",
        "for row in cursor:\n",
        "  print(row)"
      ],
      "metadata": {
        "colab": {
          "base_uri": "https://localhost:8080/"
        },
        "id": "NQttGS5OrVLB",
        "outputId": "82eacce9-b891-40d4-8554-af12e33b96a3"
      },
      "execution_count": null,
      "outputs": [
        {
          "output_type": "stream",
          "name": "stdout",
          "text": [
            "('roberto@gmail.com', 22)\n",
            "('pascale@gmail.com', 21)\n",
            "('dominga@gmail.com', 25)\n",
            "('ricardo@gmail.com', 19)\n"
          ]
        }
      ]
    },
    {
      "cell_type": "markdown",
      "source": [
        "## fecth all imformation available for students"
      ],
      "metadata": {
        "id": "2GrTdil8rvv4"
      }
    },
    {
      "cell_type": "code",
      "source": [
        "db=sqlite3.connect('uoh-test.db')\n",
        "#fetch the email of each student\n",
        "cursor = db.execute('''SELECT * FROM alumno''')\n",
        "#we print the results of the query\n",
        "for row in cursor:\n",
        "  print(row)"
      ],
      "metadata": {
        "colab": {
          "base_uri": "https://localhost:8080/"
        },
        "id": "U9kMs1eMr37F",
        "outputId": "164d45a5-c09b-46cc-fc49-a594810c1026"
      },
      "execution_count": null,
      "outputs": [
        {
          "output_type": "stream",
          "name": "stdout",
          "text": [
            "('Roberto', 22, 977744557, 20456780, 'roberto@gmail.com')\n",
            "('Pascale', 21, 677744557, 20476780, 'pascale@gmail.com')\n",
            "('Dominga', 25, 677744557, 20486780, 'dominga@gmail.com')\n",
            "('Ricardo', 19, 877744557, 20456980, 'ricardo@gmail.com')\n"
          ]
        }
      ]
    },
    {
      "cell_type": "markdown",
      "source": [
        "## fetch the name of all students older than 22"
      ],
      "metadata": {
        "id": "JJEfbAhvsDki"
      }
    },
    {
      "cell_type": "code",
      "source": [
        "cursor = db.execute('''SELECT name FROM alumno WHERE age > 20''')\n",
        "#we print the results of the query\n",
        "for row in cursor:\n",
        "  print(row)"
      ],
      "metadata": {
        "colab": {
          "base_uri": "https://localhost:8080/"
        },
        "id": "L9EYtmSisRpD",
        "outputId": "c71ace06-f29f-470a-8f5a-4f5cb1310211"
      },
      "execution_count": null,
      "outputs": [
        {
          "output_type": "stream",
          "name": "stdout",
          "text": [
            "('Roberto',)\n",
            "('Pascale',)\n",
            "('Dominga',)\n"
          ]
        }
      ]
    },
    {
      "cell_type": "markdown",
      "source": [
        "## order all students by age"
      ],
      "metadata": {
        "id": "HFwKe74Htx0j"
      }
    },
    {
      "cell_type": "code",
      "source": [
        "cursor = db.execute('''SELECT * FROM alumno ORDER BY age''')\n",
        "#we print the results of the query\n",
        "for row in cursor:\n",
        "  print(row)"
      ],
      "metadata": {
        "colab": {
          "base_uri": "https://localhost:8080/"
        },
        "id": "gG1OMLgyscNG",
        "outputId": "64e1b9b8-efd6-4e66-8b81-630d02dfc3c2"
      },
      "execution_count": null,
      "outputs": [
        {
          "output_type": "stream",
          "name": "stdout",
          "text": [
            "('Ricardo', 19, 877744557, 20456980, 'ricardo@gmail.com')\n",
            "('Pascale', 21, 677744557, 20476780, 'pascale@gmail.com')\n",
            "('Roberto', 22, 977744557, 20456780, 'roberto@gmail.com')\n",
            "('Dominga', 25, 677744557, 20486780, 'dominga@gmail.com')\n"
          ]
        }
      ]
    }
  ]
}