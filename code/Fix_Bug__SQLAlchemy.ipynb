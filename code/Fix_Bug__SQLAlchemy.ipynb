{
  "nbformat": 4,
  "nbformat_minor": 0,
  "metadata": {
    "colab": {
      "provenance": [],
      "authorship_tag": "ABX9TyPtunS/dXhUfpec00c3sYjX",
      "include_colab_link": true
    },
    "kernelspec": {
      "name": "python3",
      "display_name": "Python 3"
    },
    "language_info": {
      "name": "python"
    }
  },
  "cells": [
    {
      "cell_type": "markdown",
      "metadata": {
        "id": "view-in-github",
        "colab_type": "text"
      },
      "source": [
        "<a href=\"https://colab.research.google.com/github/adigenova/uohdb/blob/main/code/Fix_Bug__SQLAlchemy.ipynb\" target=\"_parent\"><img src=\"https://colab.research.google.com/assets/colab-badge.svg\" alt=\"Open In Colab\"/></a>"
      ]
    },
    {
      "cell_type": "code",
      "execution_count": 1,
      "metadata": {
        "colab": {
          "base_uri": "https://localhost:8080/"
        },
        "id": "Ze6LuAt4uYYZ",
        "outputId": "5237c06d-e62a-4b6d-eb64-fe5de89834ba"
      },
      "outputs": [
        {
          "output_type": "stream",
          "name": "stdout",
          "text": [
            "Looking in indexes: https://pypi.org/simple, https://us-python.pkg.dev/colab-wheels/public/simple/\n",
            "Collecting SQLAlchemy==1.4.46\n",
            "  Downloading SQLAlchemy-1.4.46-cp39-cp39-manylinux_2_5_x86_64.manylinux1_x86_64.manylinux_2_17_x86_64.manylinux2014_x86_64.whl (1.6 MB)\n",
            "\u001b[2K     \u001b[90m━━━━━━━━━━━━━━━━━━━━━━━━━━━━━━━━━━━━━━━━\u001b[0m \u001b[32m1.6/1.6 MB\u001b[0m \u001b[31m13.6 MB/s\u001b[0m eta \u001b[36m0:00:00\u001b[0m\n",
            "\u001b[?25hRequirement already satisfied: greenlet!=0.4.17 in /usr/local/lib/python3.9/dist-packages (from SQLAlchemy==1.4.46) (2.0.2)\n",
            "Installing collected packages: SQLAlchemy\n",
            "  Attempting uninstall: SQLAlchemy\n",
            "    Found existing installation: SQLAlchemy 2.0.9\n",
            "    Uninstalling SQLAlchemy-2.0.9:\n",
            "      Successfully uninstalled SQLAlchemy-2.0.9\n",
            "Successfully installed SQLAlchemy-1.4.46\n"
          ]
        }
      ],
      "source": [
        "!pip install SQLAlchemy==1.4.46"
      ]
    },
    {
      "cell_type": "code",
      "source": [
        "%load_ext sql\n",
        "%sql sqlite:///ONG.db"
      ],
      "metadata": {
        "id": "6TPjlZ5QuhzV"
      },
      "execution_count": 2,
      "outputs": []
    },
    {
      "cell_type": "code",
      "source": [
        "%%sql\n",
        "PRAGMA foreign_keys;\n",
        "PRAGMA foreign_keys = ON;\n",
        "PRAGMA foreign_keys;"
      ],
      "metadata": {
        "colab": {
          "base_uri": "https://localhost:8080/",
          "height": 133
        },
        "id": "pMLUZiy5u4yy",
        "outputId": "eb5dfd66-4e48-49b1-f240-1ae225275826"
      },
      "execution_count": 3,
      "outputs": [
        {
          "output_type": "stream",
          "name": "stdout",
          "text": [
            " * sqlite:///ONG.db\n",
            "Done.\n",
            "Done.\n",
            "Done.\n"
          ]
        },
        {
          "output_type": "execute_result",
          "data": {
            "text/plain": [
              "[(1,)]"
            ],
            "text/html": [
              "<table>\n",
              "    <tr>\n",
              "        <th>foreign_keys</th>\n",
              "    </tr>\n",
              "    <tr>\n",
              "        <td>1</td>\n",
              "    </tr>\n",
              "</table>"
            ]
          },
          "metadata": {},
          "execution_count": 3
        }
      ]
    },
    {
      "cell_type": "code",
      "source": [
        "\n",
        "%%sql\n",
        "drop table if exists PROYECTO;\n",
        "drop table if exists ONG;\n",
        "/*drop table if exists MIEMBRO;\n",
        "drop table if exists TRABAJADOR;\n",
        "drop table if exists VOLUNTARIO;\n",
        "drop table if exists CONTRATADO;\n",
        "drop table if exists FORMADA;*/\n",
        "\n",
        "-- creamos las relaciones --\n",
        "\n",
        "-- Relación ONG --\n",
        "CREATE TABLE ONG (\n",
        "ido INTEGER PRIMARY KEY,\n",
        "denominacion INTEGER NOT NULL,\n",
        "direccion TEXT NOT NULL,\n",
        "provincia TEXT NOT NULL,\n",
        "region TEXT NOT NULL,\n",
        "tipo TEXT NOT NULL,\n",
        "u_publica INTEGER\n",
        ");\n",
        "\n",
        "-- Relación PROYECTO --\n",
        "CREATE TABLE PROYECTO (\n",
        "idp INTEGER PRIMARY KEY,\n",
        "region TEXT NOT NULL,\n",
        "provincia TEXT NOT NULL,\n",
        "objetivo TEXT NOT NULL,\n",
        "numero_beneficiados INTEGER NOT NULL,\n",
        "ido INTEGER NOT NULL,\n",
        "A_padre INTEGER,\n",
        "FOREIGN KEY(A_padre) REFERENCES PROYECTO(idp) ON DELETE CASCADE,\n",
        "FOREIGN KEY(ido) REFERENCES ONG(ido) ON DELETE CASCADE\n",
        "); "
      ],
      "metadata": {
        "colab": {
          "base_uri": "https://localhost:8080/"
        },
        "id": "G35Np_Rbu-RR",
        "outputId": "75a2267f-8e91-4f23-b983-e10b124a4e5b"
      },
      "execution_count": 4,
      "outputs": [
        {
          "output_type": "stream",
          "name": "stdout",
          "text": [
            " * sqlite:///ONG.db\n",
            "Done.\n",
            "Done.\n",
            "Done.\n",
            "Done.\n"
          ]
        },
        {
          "output_type": "execute_result",
          "data": {
            "text/plain": [
              "[]"
            ]
          },
          "metadata": {},
          "execution_count": 4
        }
      ]
    },
    {
      "cell_type": "code",
      "source": [
        "#mostramos las tablas de pyme\n",
        "%%sql\n",
        "SELECT name FROM sqlite_master WHERE type='table' AND name NOT LIKE 'sqlite_%';"
      ],
      "metadata": {
        "colab": {
          "base_uri": "https://localhost:8080/",
          "height": 119
        },
        "id": "Hm80hZznvGQH",
        "outputId": "a4bd7daa-9ec9-425b-d788-ae38737dc594"
      },
      "execution_count": 5,
      "outputs": [
        {
          "output_type": "stream",
          "name": "stdout",
          "text": [
            " * sqlite:///ONG.db\n",
            "Done.\n"
          ]
        },
        {
          "output_type": "execute_result",
          "data": {
            "text/plain": [
              "[('ONG',), ('PROYECTO',)]"
            ],
            "text/html": [
              "<table>\n",
              "    <tr>\n",
              "        <th>name</th>\n",
              "    </tr>\n",
              "    <tr>\n",
              "        <td>ONG</td>\n",
              "    </tr>\n",
              "    <tr>\n",
              "        <td>PROYECTO</td>\n",
              "    </tr>\n",
              "</table>"
            ]
          },
          "metadata": {},
          "execution_count": 5
        }
      ]
    },
    {
      "cell_type": "code",
      "source": [
        "%%sql \n",
        "PRAGMA table_info([PROYECTO]);"
      ],
      "metadata": {
        "colab": {
          "base_uri": "https://localhost:8080/",
          "height": 226
        },
        "id": "WPoDNQSGvKLL",
        "outputId": "de03fc61-fcae-4f8f-f899-070b1edf7b59"
      },
      "execution_count": 6,
      "outputs": [
        {
          "output_type": "stream",
          "name": "stdout",
          "text": [
            " * sqlite:///ONG.db\n",
            "Done.\n"
          ]
        },
        {
          "output_type": "execute_result",
          "data": {
            "text/plain": [
              "[(0, 'idp', 'INTEGER', 0, None, 1),\n",
              " (1, 'region', 'TEXT', 1, None, 0),\n",
              " (2, 'provincia', 'TEXT', 1, None, 0),\n",
              " (3, 'objetivo', 'TEXT', 1, None, 0),\n",
              " (4, 'numero_beneficiados', 'INTEGER', 1, None, 0),\n",
              " (5, 'ido', 'INTEGER', 1, None, 0),\n",
              " (6, 'A_padre', 'INTEGER', 0, None, 0)]"
            ],
            "text/html": [
              "<table>\n",
              "    <tr>\n",
              "        <th>cid</th>\n",
              "        <th>name</th>\n",
              "        <th>type</th>\n",
              "        <th>notnull</th>\n",
              "        <th>dflt_value</th>\n",
              "        <th>pk</th>\n",
              "    </tr>\n",
              "    <tr>\n",
              "        <td>0</td>\n",
              "        <td>idp</td>\n",
              "        <td>INTEGER</td>\n",
              "        <td>0</td>\n",
              "        <td>None</td>\n",
              "        <td>1</td>\n",
              "    </tr>\n",
              "    <tr>\n",
              "        <td>1</td>\n",
              "        <td>region</td>\n",
              "        <td>TEXT</td>\n",
              "        <td>1</td>\n",
              "        <td>None</td>\n",
              "        <td>0</td>\n",
              "    </tr>\n",
              "    <tr>\n",
              "        <td>2</td>\n",
              "        <td>provincia</td>\n",
              "        <td>TEXT</td>\n",
              "        <td>1</td>\n",
              "        <td>None</td>\n",
              "        <td>0</td>\n",
              "    </tr>\n",
              "    <tr>\n",
              "        <td>3</td>\n",
              "        <td>objetivo</td>\n",
              "        <td>TEXT</td>\n",
              "        <td>1</td>\n",
              "        <td>None</td>\n",
              "        <td>0</td>\n",
              "    </tr>\n",
              "    <tr>\n",
              "        <td>4</td>\n",
              "        <td>numero_beneficiados</td>\n",
              "        <td>INTEGER</td>\n",
              "        <td>1</td>\n",
              "        <td>None</td>\n",
              "        <td>0</td>\n",
              "    </tr>\n",
              "    <tr>\n",
              "        <td>5</td>\n",
              "        <td>ido</td>\n",
              "        <td>INTEGER</td>\n",
              "        <td>1</td>\n",
              "        <td>None</td>\n",
              "        <td>0</td>\n",
              "    </tr>\n",
              "    <tr>\n",
              "        <td>6</td>\n",
              "        <td>A_padre</td>\n",
              "        <td>INTEGER</td>\n",
              "        <td>0</td>\n",
              "        <td>None</td>\n",
              "        <td>0</td>\n",
              "    </tr>\n",
              "</table>"
            ]
          },
          "metadata": {},
          "execution_count": 6
        }
      ]
    },
    {
      "cell_type": "code",
      "source": [
        "%%sql\n",
        "-- valores en ONG --\n",
        "INSERT INTO ONG(ido,denominacion,direccion,provincia,region,tipo,u_publica) VALUES\n",
        "(1,\"TODES\",\"Blanco Encalada 2120\",\"Santiago\",\"RM\",\"social\",0),\n",
        "(2,\"TREES\",\"Almirante 2323\",\"Rancagua\",\"VI\",\"ecologista\",0),\n",
        "(3,\"COMPU\",\"Blanco 2120\",\"Santiago\",\"RM\",\"tecnologica\",1);\n",
        "\n",
        "INSERT INTO PROYECTO(idp,region,provincia,objetivo,numero_beneficiados,ido,A_padre) VALUES\n",
        "(1,\"RM\",\"Santiago\",\"Igualdad de Genero\",500,1,NULL),\n",
        "(2,\"RM\",\"Santiago\",\"Igualdad de Genero en STEM\",100,1,1);"
      ],
      "metadata": {
        "colab": {
          "base_uri": "https://localhost:8080/"
        },
        "id": "CDQgMuy6vLzB",
        "outputId": "9a886f18-c647-4d41-c898-a1e5fd9d581c"
      },
      "execution_count": 7,
      "outputs": [
        {
          "output_type": "stream",
          "name": "stdout",
          "text": [
            " * sqlite:///ONG.db\n",
            "Done.\n",
            "2 rows affected.\n"
          ]
        },
        {
          "output_type": "execute_result",
          "data": {
            "text/plain": [
              "[]"
            ]
          },
          "metadata": {},
          "execution_count": 7
        }
      ]
    },
    {
      "cell_type": "code",
      "source": [
        "%%sql \n",
        "select * from PROYECTO;"
      ],
      "metadata": {
        "colab": {
          "base_uri": "https://localhost:8080/",
          "height": 119
        },
        "id": "jetsEJvUvV1p",
        "outputId": "b523cf90-8327-4250-d636-41d2d41b5d54"
      },
      "execution_count": 8,
      "outputs": [
        {
          "output_type": "stream",
          "name": "stdout",
          "text": [
            " * sqlite:///ONG.db\n",
            "Done.\n"
          ]
        },
        {
          "output_type": "execute_result",
          "data": {
            "text/plain": [
              "[(1, 'RM', 'Santiago', 'Igualdad de Genero', 500, 1, None),\n",
              " (2, 'RM', 'Santiago', 'Igualdad de Genero en STEM', 100, 1, 1)]"
            ],
            "text/html": [
              "<table>\n",
              "    <tr>\n",
              "        <th>idp</th>\n",
              "        <th>region</th>\n",
              "        <th>provincia</th>\n",
              "        <th>objetivo</th>\n",
              "        <th>numero_beneficiados</th>\n",
              "        <th>ido</th>\n",
              "        <th>A_padre</th>\n",
              "    </tr>\n",
              "    <tr>\n",
              "        <td>1</td>\n",
              "        <td>RM</td>\n",
              "        <td>Santiago</td>\n",
              "        <td>Igualdad de Genero</td>\n",
              "        <td>500</td>\n",
              "        <td>1</td>\n",
              "        <td>None</td>\n",
              "    </tr>\n",
              "    <tr>\n",
              "        <td>2</td>\n",
              "        <td>RM</td>\n",
              "        <td>Santiago</td>\n",
              "        <td>Igualdad de Genero en STEM</td>\n",
              "        <td>100</td>\n",
              "        <td>1</td>\n",
              "        <td>1</td>\n",
              "    </tr>\n",
              "</table>"
            ]
          },
          "metadata": {},
          "execution_count": 8
        }
      ]
    },
    {
      "cell_type": "code",
      "source": [
        "%%sql \n",
        "select * from ONG;"
      ],
      "metadata": {
        "colab": {
          "base_uri": "https://localhost:8080/",
          "height": 140
        },
        "id": "fuD1wRRCvg4r",
        "outputId": "721dcf7d-1553-46d4-d8e3-abb58d872e5c"
      },
      "execution_count": 9,
      "outputs": [
        {
          "output_type": "stream",
          "name": "stdout",
          "text": [
            " * sqlite:///ONG.db\n",
            "Done.\n"
          ]
        },
        {
          "output_type": "execute_result",
          "data": {
            "text/plain": [
              "[(1, 'TODES', 'Blanco Encalada 2120', 'Santiago', 'RM', 'social', 0),\n",
              " (2, 'TREES', 'Almirante 2323', 'Rancagua', 'VI', 'ecologista', 0),\n",
              " (3, 'COMPU', 'Blanco 2120', 'Santiago', 'RM', 'tecnologica', 1)]"
            ],
            "text/html": [
              "<table>\n",
              "    <tr>\n",
              "        <th>ido</th>\n",
              "        <th>denominacion</th>\n",
              "        <th>direccion</th>\n",
              "        <th>provincia</th>\n",
              "        <th>region</th>\n",
              "        <th>tipo</th>\n",
              "        <th>u_publica</th>\n",
              "    </tr>\n",
              "    <tr>\n",
              "        <td>1</td>\n",
              "        <td>TODES</td>\n",
              "        <td>Blanco Encalada 2120</td>\n",
              "        <td>Santiago</td>\n",
              "        <td>RM</td>\n",
              "        <td>social</td>\n",
              "        <td>0</td>\n",
              "    </tr>\n",
              "    <tr>\n",
              "        <td>2</td>\n",
              "        <td>TREES</td>\n",
              "        <td>Almirante 2323</td>\n",
              "        <td>Rancagua</td>\n",
              "        <td>VI</td>\n",
              "        <td>ecologista</td>\n",
              "        <td>0</td>\n",
              "    </tr>\n",
              "    <tr>\n",
              "        <td>3</td>\n",
              "        <td>COMPU</td>\n",
              "        <td>Blanco 2120</td>\n",
              "        <td>Santiago</td>\n",
              "        <td>RM</td>\n",
              "        <td>tecnologica</td>\n",
              "        <td>1</td>\n",
              "    </tr>\n",
              "</table>"
            ]
          },
          "metadata": {},
          "execution_count": 9
        }
      ]
    },
    {
      "cell_type": "code",
      "source": [
        "%%sql\n",
        "delete from ONG where ido == 1; "
      ],
      "metadata": {
        "colab": {
          "base_uri": "https://localhost:8080/"
        },
        "id": "-B_blPJ2vsaS",
        "outputId": "00baf034-4e3c-4d35-c0f8-b46545712b73"
      },
      "execution_count": 10,
      "outputs": [
        {
          "output_type": "stream",
          "name": "stdout",
          "text": [
            " * sqlite:///ONG.db\n",
            "1 rows affected.\n"
          ]
        },
        {
          "output_type": "execute_result",
          "data": {
            "text/plain": [
              "[]"
            ]
          },
          "metadata": {},
          "execution_count": 10
        }
      ]
    },
    {
      "cell_type": "code",
      "source": [
        "%%sql \n",
        "select * from PROYECTO;"
      ],
      "metadata": {
        "colab": {
          "base_uri": "https://localhost:8080/",
          "height": 76
        },
        "id": "aUiv1uANvuzO",
        "outputId": "78e86a25-ac4c-4c00-fd25-6a3d279a5d4c"
      },
      "execution_count": 11,
      "outputs": [
        {
          "output_type": "stream",
          "name": "stdout",
          "text": [
            " * sqlite:///ONG.db\n",
            "Done.\n"
          ]
        },
        {
          "output_type": "execute_result",
          "data": {
            "text/plain": [
              "[]"
            ],
            "text/html": [
              "<table>\n",
              "    <tr>\n",
              "        <th>idp</th>\n",
              "        <th>region</th>\n",
              "        <th>provincia</th>\n",
              "        <th>objetivo</th>\n",
              "        <th>numero_beneficiados</th>\n",
              "        <th>ido</th>\n",
              "        <th>A_padre</th>\n",
              "    </tr>\n",
              "</table>"
            ]
          },
          "metadata": {},
          "execution_count": 11
        }
      ]
    }
  ]
}