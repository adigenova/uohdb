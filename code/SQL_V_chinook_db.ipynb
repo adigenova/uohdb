{
  "nbformat": 4,
  "nbformat_minor": 0,
  "metadata": {
    "colab": {
      "name": "SQL_V_chinook_db.ipynb",
      "provenance": [],
      "authorship_tag": "ABX9TyNPPhPmxhk1b9ehBwyib0tt",
      "include_colab_link": true
    },
    "kernelspec": {
      "name": "python3",
      "display_name": "Python 3"
    },
    "language_info": {
      "name": "python"
    }
  },
  "cells": [
    {
      "cell_type": "markdown",
      "metadata": {
        "id": "view-in-github",
        "colab_type": "text"
      },
      "source": [
        "<a href=\"https://colab.research.google.com/github/adigenova/uohdb/blob/main/code/SQL_V_chinook_db.ipynb\" target=\"_parent\"><img src=\"https://colab.research.google.com/assets/colab-badge.svg\" alt=\"Open In Colab\"/></a>"
      ]
    },
    {
      "cell_type": "markdown",
      "source": [
        "# Working with the Chinook database\n",
        "\n",
        "## downloading the database from github"
      ],
      "metadata": {
        "id": "ptktIQpcEka9"
      }
    },
    {
      "cell_type": "code",
      "execution_count": 1,
      "metadata": {
        "colab": {
          "base_uri": "https://localhost:8080/"
        },
        "id": "4BcjS8dwEWS-",
        "outputId": "01872267-2023-4771-9598-4e018dca720a"
      },
      "outputs": [
        {
          "output_type": "stream",
          "name": "stdout",
          "text": [
            "Looking in indexes: https://pypi.org/simple, https://us-python.pkg.dev/colab-wheels/public/simple/\n",
            "Collecting SQLAlchemy==1.4.46\n",
            "  Downloading SQLAlchemy-1.4.46-cp310-cp310-manylinux_2_5_x86_64.manylinux1_x86_64.manylinux_2_17_x86_64.manylinux2014_x86_64.whl (1.6 MB)\n",
            "\u001b[2K     \u001b[90m━━━━━━━━━━━━━━━━━━━━━━━━━━━━━━━━━━━━━━━━\u001b[0m \u001b[32m1.6/1.6 MB\u001b[0m \u001b[31m17.7 MB/s\u001b[0m eta \u001b[36m0:00:00\u001b[0m\n",
            "\u001b[?25hRequirement already satisfied: greenlet!=0.4.17 in /usr/local/lib/python3.10/dist-packages (from SQLAlchemy==1.4.46) (2.0.2)\n",
            "Installing collected packages: SQLAlchemy\n",
            "  Attempting uninstall: SQLAlchemy\n",
            "    Found existing installation: SQLAlchemy 2.0.10\n",
            "    Uninstalling SQLAlchemy-2.0.10:\n",
            "      Successfully uninstalled SQLAlchemy-2.0.10\n",
            "Successfully installed SQLAlchemy-1.4.46\n",
            "Cloning into 'chinook-database'...\n",
            "remote: Enumerating objects: 1960, done.\u001b[K\n",
            "remote: Counting objects: 100% (75/75), done.\u001b[K\n",
            "remote: Compressing objects: 100% (54/54), done.\u001b[K\n",
            "remote: Total 1960 (delta 33), reused 50 (delta 21), pack-reused 1885\u001b[K\n",
            "Receiving objects: 100% (1960/1960), 19.57 MiB | 17.14 MiB/s, done.\n",
            "Resolving deltas: 100% (1277/1277), done.\n"
          ]
        }
      ],
      "source": [
        "!pip install SQLAlchemy==1.4.46\n",
        "#download the Chinook database\n",
        "!git clone https://github.com/lerocha/chinook-database.git"
      ]
    },
    {
      "cell_type": "code",
      "source": [
        "# load the SQL magic extension\n",
        "# https://github.com/catherinedevlin/ipython-sql\n",
        "# this extension allows us to connect to DBs and issue SQL command\n",
        "%load_ext sql\n",
        "# now we can use the magic extension to connect to our SQLite DB\n",
        "# use %sql to write an inline SQL command\n",
        "# use %%sql to write SQL commands in a cell\n",
        "%sql sqlite:////content/chinook-database/ChinookDatabase/DataSources/Chinook_Sqlite.sqlite"
      ],
      "metadata": {
        "id": "i3VBK1_EEzlS"
      },
      "execution_count": 3,
      "outputs": []
    },
    {
      "cell_type": "markdown",
      "source": [
        "\n",
        "### Display tables of the Chinook database\n"
      ],
      "metadata": {
        "id": "qAIQdCKNFnfz"
      }
    },
    {
      "cell_type": "code",
      "source": [
        "%%sql\n",
        "SELECT name FROM sqlite_master WHERE type='table' AND name NOT LIKE 'sqlite_%';"
      ],
      "metadata": {
        "colab": {
          "base_uri": "https://localhost:8080/",
          "height": 311
        },
        "id": "ILTPAZ7aGr3o",
        "outputId": "cc366a07-6faf-42c2-ae52-7cf9e842781c"
      },
      "execution_count": null,
      "outputs": [
        {
          "output_type": "stream",
          "name": "stdout",
          "text": [
            " * sqlite:////content/chinook-database/ChinookDatabase/DataSources/Chinook_Sqlite.sqlite\n",
            "Done.\n"
          ]
        },
        {
          "output_type": "execute_result",
          "data": {
            "text/plain": [
              "[('Album',),\n",
              " ('Artist',),\n",
              " ('Customer',),\n",
              " ('Employee',),\n",
              " ('Genre',),\n",
              " ('Invoice',),\n",
              " ('InvoiceLine',),\n",
              " ('MediaType',),\n",
              " ('Playlist',),\n",
              " ('PlaylistTrack',),\n",
              " ('Track',)]"
            ],
            "text/html": [
              "<table>\n",
              "    <thead>\n",
              "        <tr>\n",
              "            <th>name</th>\n",
              "        </tr>\n",
              "    </thead>\n",
              "    <tbody>\n",
              "        <tr>\n",
              "            <td>Album</td>\n",
              "        </tr>\n",
              "        <tr>\n",
              "            <td>Artist</td>\n",
              "        </tr>\n",
              "        <tr>\n",
              "            <td>Customer</td>\n",
              "        </tr>\n",
              "        <tr>\n",
              "            <td>Employee</td>\n",
              "        </tr>\n",
              "        <tr>\n",
              "            <td>Genre</td>\n",
              "        </tr>\n",
              "        <tr>\n",
              "            <td>Invoice</td>\n",
              "        </tr>\n",
              "        <tr>\n",
              "            <td>InvoiceLine</td>\n",
              "        </tr>\n",
              "        <tr>\n",
              "            <td>MediaType</td>\n",
              "        </tr>\n",
              "        <tr>\n",
              "            <td>Playlist</td>\n",
              "        </tr>\n",
              "        <tr>\n",
              "            <td>PlaylistTrack</td>\n",
              "        </tr>\n",
              "        <tr>\n",
              "            <td>Track</td>\n",
              "        </tr>\n",
              "    </tbody>\n",
              "</table>"
            ]
          },
          "metadata": {},
          "execution_count": 3
        }
      ]
    },
    {
      "cell_type": "markdown",
      "source": [
        "getting information about a particular table\n"
      ],
      "metadata": {
        "id": "mUpUSWNlJgvM"
      }
    },
    {
      "cell_type": "code",
      "source": [
        "%%sql \n",
        "PRAGMA table_info([Artist]);"
      ],
      "metadata": {
        "colab": {
          "base_uri": "https://localhost:8080/",
          "height": 119
        },
        "id": "cUK2Md-oJnv0",
        "outputId": "ca55e5d4-98bf-4e01-fceb-2eea475de54f"
      },
      "execution_count": null,
      "outputs": [
        {
          "output_type": "stream",
          "name": "stdout",
          "text": [
            " * sqlite:////content/chinook-database/ChinookDatabase/DataSources/Chinook_Sqlite.sqlite\n",
            "Done.\n"
          ]
        },
        {
          "output_type": "execute_result",
          "data": {
            "text/plain": [
              "[(0, 'ArtistId', 'INTEGER', 1, None, 1),\n",
              " (1, 'Name', 'NVARCHAR(120)', 0, None, 0)]"
            ],
            "text/html": [
              "<table>\n",
              "    <thead>\n",
              "        <tr>\n",
              "            <th>cid</th>\n",
              "            <th>name</th>\n",
              "            <th>type</th>\n",
              "            <th>notnull</th>\n",
              "            <th>dflt_value</th>\n",
              "            <th>pk</th>\n",
              "        </tr>\n",
              "    </thead>\n",
              "    <tbody>\n",
              "        <tr>\n",
              "            <td>0</td>\n",
              "            <td>ArtistId</td>\n",
              "            <td>INTEGER</td>\n",
              "            <td>1</td>\n",
              "            <td>None</td>\n",
              "            <td>1</td>\n",
              "        </tr>\n",
              "        <tr>\n",
              "            <td>1</td>\n",
              "            <td>Name</td>\n",
              "            <td>NVARCHAR(120)</td>\n",
              "            <td>0</td>\n",
              "            <td>None</td>\n",
              "            <td>0</td>\n",
              "        </tr>\n",
              "    </tbody>\n",
              "</table>"
            ]
          },
          "metadata": {},
          "execution_count": 4
        }
      ]
    },
    {
      "cell_type": "markdown",
      "source": [
        "getting the SQL code that generate a table\n",
        "\n",
        "\n",
        "## Create automatic documentation with [schemaspy](https://schemaspy.org/)\n",
        "\n",
        "<img src=\"https://schemaspy.org/sample/diagrams/summary/relationships.real.large.png\" alt=\"ER Diagram\" width=\"836\" height=\"605\" />\n",
        "\n",
        "\n",
        "In the above ER diagram, the tiny vertical key icon indicates a column is a primary key. A primary key is a column (or set of columns) whose values uniquely identify every row in a table. For example, `Employeeud` is the primary key in the `Employee` table.\n",
        "\n",
        "The relationship icon indicates a foreign key constraint and a one-to-many relationship. \n",
        "\n",
        "\n"
      ],
      "metadata": {
        "id": "wA1MJwgRL7UL"
      }
    },
    {
      "cell_type": "markdown",
      "source": [
        "# SQL con Chinook\n",
        "\n"
      ],
      "metadata": {
        "id": "EVxhvaEtNAMt"
      }
    },
    {
      "cell_type": "markdown",
      "source": [
        "\n",
        "\n",
        "## Consultas Avanzadas"
      ],
      "metadata": {
        "id": "dpgxU6l_rLf6"
      }
    },
    {
      "cell_type": "code",
      "source": [
        "# cuales son los 5 artistas que venden mas canciones?\n",
        "%%sql\n",
        "SELECT a.Name 'Artista', sum(li.UnitPrice) 'Total vendido' \n",
        "FROM InvoiceLine li, Track t, Album al, Artist a\n",
        "WHERE li.TrackId = t.Trackid \n",
        "\tand al.AlbumId = t.AlbumId \n",
        "\tand a.ArtistId = al.ArtistId\n",
        "GROUP BY a.Name\n",
        "ORDER BY COUNT(a.ArtistId) DESC\n",
        "limit 5;"
      ],
      "metadata": {
        "colab": {
          "base_uri": "https://localhost:8080/",
          "height": 183
        },
        "id": "2g923v8SncSb",
        "outputId": "2299d87a-e289-4ec0-ecd8-6a85d59e9601"
      },
      "execution_count": null,
      "outputs": [
        {
          "output_type": "stream",
          "name": "stdout",
          "text": [
            " * sqlite:////content/chinook-database/ChinookDatabase/DataSources/Chinook_Sqlite.sqlite\n",
            "Done.\n"
          ]
        },
        {
          "output_type": "execute_result",
          "data": {
            "text/plain": [
              "[('Iron Maiden', 138.5999999999998),\n",
              " ('U2', 105.92999999999982),\n",
              " ('Metallica', 90.0899999999999),\n",
              " ('Led Zeppelin', 86.12999999999992),\n",
              " ('Os Paralamas Do Sucesso', 44.550000000000004)]"
            ],
            "text/html": [
              "<table>\n",
              "    <thead>\n",
              "        <tr>\n",
              "            <th>Artista</th>\n",
              "            <th>Total vendido</th>\n",
              "        </tr>\n",
              "    </thead>\n",
              "    <tbody>\n",
              "        <tr>\n",
              "            <td>Iron Maiden</td>\n",
              "            <td>138.5999999999998</td>\n",
              "        </tr>\n",
              "        <tr>\n",
              "            <td>U2</td>\n",
              "            <td>105.92999999999982</td>\n",
              "        </tr>\n",
              "        <tr>\n",
              "            <td>Metallica</td>\n",
              "            <td>90.0899999999999</td>\n",
              "        </tr>\n",
              "        <tr>\n",
              "            <td>Led Zeppelin</td>\n",
              "            <td>86.12999999999992</td>\n",
              "        </tr>\n",
              "        <tr>\n",
              "            <td>Os Paralamas Do Sucesso</td>\n",
              "            <td>44.550000000000004</td>\n",
              "        </tr>\n",
              "    </tbody>\n",
              "</table>"
            ]
          },
          "metadata": {},
          "execution_count": 9
        }
      ]
    },
    {
      "cell_type": "code",
      "source": [
        "#INNER Join\n",
        "#select count(*) from album JOIN Artist ON album.artistId=Artist.artistId limit 5;\n",
        "%%sql\n",
        "SELECT a.Name 'Artista', sum(li.UnitPrice) 'Total vendido' \n",
        "FROM InvoiceLine as li join Track USING (TrackId) join Album USING (AlbumId) join Artist as a USING (ArtistId)\n",
        "GROUP BY a.Name\n",
        "ORDER BY COUNT(a.ArtistId) DESC\n",
        "limit 5;"
      ],
      "metadata": {
        "colab": {
          "base_uri": "https://localhost:8080/",
          "height": 183
        },
        "id": "iJWtObIPph2b",
        "outputId": "661d6304-af57-484f-8a9a-3c394c5b7791"
      },
      "execution_count": null,
      "outputs": [
        {
          "output_type": "stream",
          "name": "stdout",
          "text": [
            " * sqlite:////content/chinook-database/ChinookDatabase/DataSources/Chinook_Sqlite.sqlite\n",
            "Done.\n"
          ]
        },
        {
          "output_type": "execute_result",
          "data": {
            "text/plain": [
              "[('Iron Maiden', 138.5999999999998),\n",
              " ('U2', 105.92999999999982),\n",
              " ('Metallica', 90.0899999999999),\n",
              " ('Led Zeppelin', 86.12999999999992),\n",
              " ('Os Paralamas Do Sucesso', 44.550000000000004)]"
            ],
            "text/html": [
              "<table>\n",
              "    <thead>\n",
              "        <tr>\n",
              "            <th>Artista</th>\n",
              "            <th>Total vendido</th>\n",
              "        </tr>\n",
              "    </thead>\n",
              "    <tbody>\n",
              "        <tr>\n",
              "            <td>Iron Maiden</td>\n",
              "            <td>138.5999999999998</td>\n",
              "        </tr>\n",
              "        <tr>\n",
              "            <td>U2</td>\n",
              "            <td>105.92999999999982</td>\n",
              "        </tr>\n",
              "        <tr>\n",
              "            <td>Metallica</td>\n",
              "            <td>90.0899999999999</td>\n",
              "        </tr>\n",
              "        <tr>\n",
              "            <td>Led Zeppelin</td>\n",
              "            <td>86.12999999999992</td>\n",
              "        </tr>\n",
              "        <tr>\n",
              "            <td>Os Paralamas Do Sucesso</td>\n",
              "            <td>44.550000000000004</td>\n",
              "        </tr>\n",
              "    </tbody>\n",
              "</table>"
            ]
          },
          "metadata": {},
          "execution_count": 8
        }
      ]
    },
    {
      "cell_type": "code",
      "source": [
        "# Cuales son las canciones más compradas del año 2012?\n",
        "%%sql\n",
        "select t.name, count(t.trackid) purchaseCount\n",
        "from track t \n",
        "join invoiceline l on l.trackid = t.trackid\n",
        "join invoice i on l.invoiceid = i.invoiceid\n",
        "where  i.invoicedate between datetime(\"2012-01-01\") and datetime(\"2012-12-31\")\n",
        "group by t.name\n",
        "order by purchaseCount DESC\n",
        "limit 5"
      ],
      "metadata": {
        "colab": {
          "base_uri": "https://localhost:8080/",
          "height": 183
        },
        "id": "QWiB50aKonqc",
        "outputId": "0f4c723b-2ae5-4831-e167-c7ae5c6a96a3"
      },
      "execution_count": null,
      "outputs": [
        {
          "output_type": "stream",
          "name": "stdout",
          "text": [
            " * sqlite:////content/chinook-database/ChinookDatabase/DataSources/Chinook_Sqlite.sqlite\n",
            "Done.\n"
          ]
        },
        {
          "output_type": "execute_result",
          "data": {
            "text/plain": [
              "[('Black Dog', 2),\n",
              " ('Dream Of Mirrors', 2),\n",
              " ('Iron Maiden', 2),\n",
              " ('Polly', 2),\n",
              " ('Powerslave', 2)]"
            ],
            "text/html": [
              "<table>\n",
              "    <thead>\n",
              "        <tr>\n",
              "            <th>Name</th>\n",
              "            <th>purchaseCount</th>\n",
              "        </tr>\n",
              "    </thead>\n",
              "    <tbody>\n",
              "        <tr>\n",
              "            <td>Black Dog</td>\n",
              "            <td>2</td>\n",
              "        </tr>\n",
              "        <tr>\n",
              "            <td>Dream Of Mirrors</td>\n",
              "            <td>2</td>\n",
              "        </tr>\n",
              "        <tr>\n",
              "            <td>Iron Maiden</td>\n",
              "            <td>2</td>\n",
              "        </tr>\n",
              "        <tr>\n",
              "            <td>Polly</td>\n",
              "            <td>2</td>\n",
              "        </tr>\n",
              "        <tr>\n",
              "            <td>Powerslave</td>\n",
              "            <td>2</td>\n",
              "        </tr>\n",
              "    </tbody>\n",
              "</table>"
            ]
          },
          "metadata": {},
          "execution_count": 26
        }
      ]
    },
    {
      "cell_type": "code",
      "source": [
        "# Cuales son los tipos de medio más vendido?\n",
        "%%sql\n",
        "SELECT m.Name AS 'Tipo de Medio', COUNT(m.MediaTypeId) 'Total' \n",
        "FROM InvoiceLine li, Track t, MediaType m\n",
        "WHERE li.TrackId = t.TrackId\n",
        "\tand m.MediaTypeId = t.MediaTypeId\n",
        "GROUP BY m.Name\n",
        "ORDER BY m.MediaTypeId;"
      ],
      "metadata": {
        "colab": {
          "base_uri": "https://localhost:8080/",
          "height": 183
        },
        "id": "4YD8ZGuFbdLX",
        "outputId": "38344949-89bb-4423-e16f-ef5ba7e22b2b"
      },
      "execution_count": null,
      "outputs": [
        {
          "output_type": "stream",
          "name": "stdout",
          "text": [
            " * sqlite:////content/chinook-database/ChinookDatabase/DataSources/Chinook_Sqlite.sqlite\n",
            "Done.\n"
          ]
        },
        {
          "output_type": "execute_result",
          "data": {
            "text/plain": [
              "[('MPEG audio file', 1976),\n",
              " ('Protected AAC audio file', 146),\n",
              " ('Protected MPEG-4 video file', 111),\n",
              " ('Purchased AAC audio file', 4),\n",
              " ('AAC audio file', 3)]"
            ],
            "text/html": [
              "<table>\n",
              "    <thead>\n",
              "        <tr>\n",
              "            <th>Tipo de Medio</th>\n",
              "            <th>Total</th>\n",
              "        </tr>\n",
              "    </thead>\n",
              "    <tbody>\n",
              "        <tr>\n",
              "            <td>MPEG audio file</td>\n",
              "            <td>1976</td>\n",
              "        </tr>\n",
              "        <tr>\n",
              "            <td>Protected AAC audio file</td>\n",
              "            <td>146</td>\n",
              "        </tr>\n",
              "        <tr>\n",
              "            <td>Protected MPEG-4 video file</td>\n",
              "            <td>111</td>\n",
              "        </tr>\n",
              "        <tr>\n",
              "            <td>Purchased AAC audio file</td>\n",
              "            <td>4</td>\n",
              "        </tr>\n",
              "        <tr>\n",
              "            <td>AAC audio file</td>\n",
              "            <td>3</td>\n",
              "        </tr>\n",
              "    </tbody>\n",
              "</table>"
            ]
          },
          "metadata": {},
          "execution_count": 28
        }
      ]
    },
    {
      "cell_type": "code",
      "source": [
        "# mejor vendedor del 2009\n",
        "%%sql\n",
        "select e.firstName || \" \" || e.lastName as 'Mejor Vendedor 2009', sum(i.total) as Total \n",
        "from Invoice i\n",
        "join customer c on c.customerid =  i.customerid\n",
        "join employee e on e.employeeid = c.supportrepid\n",
        "where i.invoiceDate like '2009%'\n",
        "group by e.Employeeid\n",
        "order by sum(i.total) desc\n",
        "limit 1"
      ],
      "metadata": {
        "colab": {
          "base_uri": "https://localhost:8080/",
          "height": 97
        },
        "id": "KcCe9OIFrR-u",
        "outputId": "e6aa82f5-52fc-48a8-f372-4dcc7e4e6499"
      },
      "execution_count": null,
      "outputs": [
        {
          "output_type": "stream",
          "name": "stdout",
          "text": [
            " * sqlite:////content/chinook-database/ChinookDatabase/DataSources/Chinook_Sqlite.sqlite\n",
            "Done.\n"
          ]
        },
        {
          "output_type": "execute_result",
          "data": {
            "text/plain": [
              "[('Steve Johnson', 164.33999999999997)]"
            ],
            "text/html": [
              "<table>\n",
              "    <thead>\n",
              "        <tr>\n",
              "            <th>Mejor Vendedor 2009</th>\n",
              "            <th>Total</th>\n",
              "        </tr>\n",
              "    </thead>\n",
              "    <tbody>\n",
              "        <tr>\n",
              "            <td>Steve Johnson</td>\n",
              "            <td>164.33999999999997</td>\n",
              "        </tr>\n",
              "    </tbody>\n",
              "</table>"
            ]
          },
          "metadata": {},
          "execution_count": 32
        }
      ]
    },
    {
      "cell_type": "code",
      "source": [
        "#mejor venededor del 2019\n",
        "%%sql\n",
        "select \"Mejor Vendedor 2009\", max(\"Total\") from (\n",
        "select e.firstName || \" \" || e.lastName as \"Mejor Vendedor 2009\", sum(i.total) as \"Total\" from Invoice i\n",
        "join customer c on c.customerid =  i.customerid\n",
        "join employee e on e.employeeid = c.supportrepid\n",
        "where i.invoiceDate like '2009%'\n",
        "group by e.Employeeid\n",
        ")"
      ],
      "metadata": {
        "colab": {
          "base_uri": "https://localhost:8080/",
          "height": 97
        },
        "id": "eXnQf5j1cXQw",
        "outputId": "f50bc387-7ebb-4857-86fc-8e5c82a67efd"
      },
      "execution_count": null,
      "outputs": [
        {
          "output_type": "stream",
          "name": "stdout",
          "text": [
            " * sqlite:////content/chinook-database/ChinookDatabase/DataSources/Chinook_Sqlite.sqlite\n",
            "Done.\n"
          ]
        },
        {
          "output_type": "execute_result",
          "data": {
            "text/plain": [
              "[('Steve Johnson', 164.33999999999997)]"
            ],
            "text/html": [
              "<table>\n",
              "    <thead>\n",
              "        <tr>\n",
              "            <th>Mejor Vendedor 2009</th>\n",
              "            <th>max(&quot;Total&quot;)</th>\n",
              "        </tr>\n",
              "    </thead>\n",
              "    <tbody>\n",
              "        <tr>\n",
              "            <td>Steve Johnson</td>\n",
              "            <td>164.33999999999997</td>\n",
              "        </tr>\n",
              "    </tbody>\n",
              "</table>"
            ]
          },
          "metadata": {},
          "execution_count": 33
        }
      ]
    },
    {
      "cell_type": "code",
      "source": [
        "# Muestre todoas las canciones pero sin el ID. El resultado debe incluir el nommbre del Album, el typo de Medio y el Genero\n",
        "%%sql\n",
        "select t.name as 'Nombre Cancion', t.composer, t.unitprice, \n",
        "a.title as 'Nombre Album', m.name as 'Tipo de Medio',  g.name as 'Nombre de Genero' from Track t\n",
        "join album a on a.albumid = t.albumid\n",
        "join genre g on g.genreid = t.genreid\n",
        "join MediaType m on m.mediatypeid = t.mediatypeid\n",
        "limit 10"
      ],
      "metadata": {
        "colab": {
          "base_uri": "https://localhost:8080/",
          "height": 290
        },
        "id": "WeC8hWqWkTuv",
        "outputId": "9b7d6277-25aa-4891-cfd4-7379e2551a13"
      },
      "execution_count": null,
      "outputs": [
        {
          "output_type": "stream",
          "name": "stdout",
          "text": [
            " * sqlite:////content/chinook-database/ChinookDatabase/DataSources/Chinook_Sqlite.sqlite\n",
            "Done.\n"
          ]
        },
        {
          "output_type": "execute_result",
          "data": {
            "text/plain": [
              "[('For Those About To Rock (We Salute You)', 'Angus Young, Malcolm Young, Brian Johnson', 0.99, 'For Those About To Rock We Salute You', 'MPEG audio file', 'Rock'),\n",
              " ('Balls to the Wall', None, 0.99, 'Balls to the Wall', 'Protected AAC audio file', 'Rock'),\n",
              " ('Fast As a Shark', 'F. Baltes, S. Kaufman, U. Dirkscneider & W. Hoffman', 0.99, 'Restless and Wild', 'Protected AAC audio file', 'Rock'),\n",
              " ('Restless and Wild', 'F. Baltes, R.A. Smith-Diesel, S. Kaufman, U. Dirkscneider & W. Hoffman', 0.99, 'Restless and Wild', 'Protected AAC audio file', 'Rock'),\n",
              " ('Princess of the Dawn', 'Deaffy & R.A. Smith-Diesel', 0.99, 'Restless and Wild', 'Protected AAC audio file', 'Rock'),\n",
              " ('Put The Finger On You', 'Angus Young, Malcolm Young, Brian Johnson', 0.99, 'For Those About To Rock We Salute You', 'MPEG audio file', 'Rock'),\n",
              " (\"Let's Get It Up\", 'Angus Young, Malcolm Young, Brian Johnson', 0.99, 'For Those About To Rock We Salute You', 'MPEG audio file', 'Rock'),\n",
              " ('Inject The Venom', 'Angus Young, Malcolm Young, Brian Johnson', 0.99, 'For Those About To Rock We Salute You', 'MPEG audio file', 'Rock'),\n",
              " ('Snowballed', 'Angus Young, Malcolm Young, Brian Johnson', 0.99, 'For Those About To Rock We Salute You', 'MPEG audio file', 'Rock'),\n",
              " ('Evil Walks', 'Angus Young, Malcolm Young, Brian Johnson', 0.99, 'For Those About To Rock We Salute You', 'MPEG audio file', 'Rock')]"
            ],
            "text/html": [
              "<table>\n",
              "    <thead>\n",
              "        <tr>\n",
              "            <th>Nombre Cancion</th>\n",
              "            <th>Composer</th>\n",
              "            <th>UnitPrice</th>\n",
              "            <th>Nombre Album</th>\n",
              "            <th>Tipo de Medio</th>\n",
              "            <th>Nombre de Genero</th>\n",
              "        </tr>\n",
              "    </thead>\n",
              "    <tbody>\n",
              "        <tr>\n",
              "            <td>For Those About To Rock (We Salute You)</td>\n",
              "            <td>Angus Young, Malcolm Young, Brian Johnson</td>\n",
              "            <td>0.99</td>\n",
              "            <td>For Those About To Rock We Salute You</td>\n",
              "            <td>MPEG audio file</td>\n",
              "            <td>Rock</td>\n",
              "        </tr>\n",
              "        <tr>\n",
              "            <td>Balls to the Wall</td>\n",
              "            <td>None</td>\n",
              "            <td>0.99</td>\n",
              "            <td>Balls to the Wall</td>\n",
              "            <td>Protected AAC audio file</td>\n",
              "            <td>Rock</td>\n",
              "        </tr>\n",
              "        <tr>\n",
              "            <td>Fast As a Shark</td>\n",
              "            <td>F. Baltes, S. Kaufman, U. Dirkscneider &amp; W. Hoffman</td>\n",
              "            <td>0.99</td>\n",
              "            <td>Restless and Wild</td>\n",
              "            <td>Protected AAC audio file</td>\n",
              "            <td>Rock</td>\n",
              "        </tr>\n",
              "        <tr>\n",
              "            <td>Restless and Wild</td>\n",
              "            <td>F. Baltes, R.A. Smith-Diesel, S. Kaufman, U. Dirkscneider &amp; W. Hoffman</td>\n",
              "            <td>0.99</td>\n",
              "            <td>Restless and Wild</td>\n",
              "            <td>Protected AAC audio file</td>\n",
              "            <td>Rock</td>\n",
              "        </tr>\n",
              "        <tr>\n",
              "            <td>Princess of the Dawn</td>\n",
              "            <td>Deaffy &amp; R.A. Smith-Diesel</td>\n",
              "            <td>0.99</td>\n",
              "            <td>Restless and Wild</td>\n",
              "            <td>Protected AAC audio file</td>\n",
              "            <td>Rock</td>\n",
              "        </tr>\n",
              "        <tr>\n",
              "            <td>Put The Finger On You</td>\n",
              "            <td>Angus Young, Malcolm Young, Brian Johnson</td>\n",
              "            <td>0.99</td>\n",
              "            <td>For Those About To Rock We Salute You</td>\n",
              "            <td>MPEG audio file</td>\n",
              "            <td>Rock</td>\n",
              "        </tr>\n",
              "        <tr>\n",
              "            <td>Let&#x27;s Get It Up</td>\n",
              "            <td>Angus Young, Malcolm Young, Brian Johnson</td>\n",
              "            <td>0.99</td>\n",
              "            <td>For Those About To Rock We Salute You</td>\n",
              "            <td>MPEG audio file</td>\n",
              "            <td>Rock</td>\n",
              "        </tr>\n",
              "        <tr>\n",
              "            <td>Inject The Venom</td>\n",
              "            <td>Angus Young, Malcolm Young, Brian Johnson</td>\n",
              "            <td>0.99</td>\n",
              "            <td>For Those About To Rock We Salute You</td>\n",
              "            <td>MPEG audio file</td>\n",
              "            <td>Rock</td>\n",
              "        </tr>\n",
              "        <tr>\n",
              "            <td>Snowballed</td>\n",
              "            <td>Angus Young, Malcolm Young, Brian Johnson</td>\n",
              "            <td>0.99</td>\n",
              "            <td>For Those About To Rock We Salute You</td>\n",
              "            <td>MPEG audio file</td>\n",
              "            <td>Rock</td>\n",
              "        </tr>\n",
              "        <tr>\n",
              "            <td>Evil Walks</td>\n",
              "            <td>Angus Young, Malcolm Young, Brian Johnson</td>\n",
              "            <td>0.99</td>\n",
              "            <td>For Those About To Rock We Salute You</td>\n",
              "            <td>MPEG audio file</td>\n",
              "            <td>Rock</td>\n",
              "        </tr>\n",
              "    </tbody>\n",
              "</table>"
            ]
          },
          "metadata": {},
          "execution_count": 36
        }
      ]
    },
    {
      "cell_type": "code",
      "source": [
        "#construya una consulta que muestre los clientes de que no son de USA\n",
        "%%sql\n",
        "select c.FirstName || \" \" || c.LastName 'Nombre Cliente', c.Country 'Pais'\n",
        "from Customer c\n",
        "where c.Country != \"USA\"\n",
        "limit 10"
      ],
      "metadata": {
        "colab": {
          "base_uri": "https://localhost:8080/",
          "height": 290
        },
        "id": "1GzhtYe6eDXX",
        "outputId": "756014e7-ae8b-445c-b8ce-6f095958dd8a"
      },
      "execution_count": null,
      "outputs": [
        {
          "output_type": "stream",
          "name": "stdout",
          "text": [
            " * sqlite:////content/chinook-database/ChinookDatabase/DataSources/Chinook_Sqlite.sqlite\n",
            "Done.\n"
          ]
        },
        {
          "output_type": "execute_result",
          "data": {
            "text/plain": [
              "[('Luís Gonçalves', 'Brazil'),\n",
              " ('Leonie Köhler', 'Germany'),\n",
              " ('François Tremblay', 'Canada'),\n",
              " ('Bjørn Hansen', 'Norway'),\n",
              " ('František Wichterlová', 'Czech Republic'),\n",
              " ('Helena Holý', 'Czech Republic'),\n",
              " ('Astrid Gruber', 'Austria'),\n",
              " ('Daan Peeters', 'Belgium'),\n",
              " ('Kara Nielsen', 'Denmark'),\n",
              " ('Eduardo Martins', 'Brazil')]"
            ],
            "text/html": [
              "<table>\n",
              "    <thead>\n",
              "        <tr>\n",
              "            <th>Nombre Cliente</th>\n",
              "            <th>Pais</th>\n",
              "        </tr>\n",
              "    </thead>\n",
              "    <tbody>\n",
              "        <tr>\n",
              "            <td>Luís Gonçalves</td>\n",
              "            <td>Brazil</td>\n",
              "        </tr>\n",
              "        <tr>\n",
              "            <td>Leonie Köhler</td>\n",
              "            <td>Germany</td>\n",
              "        </tr>\n",
              "        <tr>\n",
              "            <td>François Tremblay</td>\n",
              "            <td>Canada</td>\n",
              "        </tr>\n",
              "        <tr>\n",
              "            <td>Bjørn Hansen</td>\n",
              "            <td>Norway</td>\n",
              "        </tr>\n",
              "        <tr>\n",
              "            <td>František Wichterlová</td>\n",
              "            <td>Czech Republic</td>\n",
              "        </tr>\n",
              "        <tr>\n",
              "            <td>Helena Holý</td>\n",
              "            <td>Czech Republic</td>\n",
              "        </tr>\n",
              "        <tr>\n",
              "            <td>Astrid Gruber</td>\n",
              "            <td>Austria</td>\n",
              "        </tr>\n",
              "        <tr>\n",
              "            <td>Daan Peeters</td>\n",
              "            <td>Belgium</td>\n",
              "        </tr>\n",
              "        <tr>\n",
              "            <td>Kara Nielsen</td>\n",
              "            <td>Denmark</td>\n",
              "        </tr>\n",
              "        <tr>\n",
              "            <td>Eduardo Martins</td>\n",
              "            <td>Brazil</td>\n",
              "        </tr>\n",
              "    </tbody>\n",
              "</table>"
            ]
          },
          "metadata": {},
          "execution_count": 40
        }
      ]
    },
    {
      "cell_type": "code",
      "source": [
        "%%sql\n",
        "SELECT c.FirstName || ' ' || c.LastName AS CustomerName,\n",
        "       (SELECT COUNT(*) FROM invoiceline WHERE InvoiceId IN\n",
        "           (SELECT InvoiceId FROM invoice WHERE CustomerId = c.CustomerId)) AS TotalTracksPurchased,\n",
        "       (SELECT COUNT(DISTINCT AlbumId) FROM\n",
        "           (SELECT AlbumId FROM invoiceline INNER JOIN track ON invoiceline.TrackId = track.TrackId\n",
        "            WHERE InvoiceId IN (SELECT InvoiceId FROM invoice WHERE CustomerId = c.CustomerId))) AS TotalAlbumsPurchased,\n",
        "       (SELECT SUM(Total) FROM invoice WHERE CustomerId = c.CustomerId) AS TotalSpent\n",
        "FROM customer c;\n"
      ],
      "metadata": {
        "id": "-eh-bNyQbtUu",
        "outputId": "757be616-56de-4879-b742-e0c2c3a9b33d",
        "colab": {
          "base_uri": "https://localhost:8080/",
          "height": 1000
        }
      },
      "execution_count": 4,
      "outputs": [
        {
          "output_type": "stream",
          "name": "stdout",
          "text": [
            " * sqlite:////content/chinook-database/ChinookDatabase/DataSources/Chinook_Sqlite.sqlite\n",
            "Done.\n"
          ]
        },
        {
          "output_type": "execute_result",
          "data": {
            "text/plain": [
              "[('Luís Gonçalves', 38, 22, 39.62),\n",
              " ('Leonie Köhler', 38, 22, 37.620000000000005),\n",
              " ('François Tremblay', 38, 26, 39.62),\n",
              " ('Bjørn Hansen', 38, 25, 39.62),\n",
              " ('František Wichterlová', 38, 22, 40.620000000000005),\n",
              " ('Helena Holý', 38, 19, 49.620000000000005),\n",
              " ('Astrid Gruber', 38, 21, 42.62),\n",
              " ('Daan Peeters', 38, 19, 37.62),\n",
              " ('Kara Nielsen', 38, 20, 37.620000000000005),\n",
              " ('Eduardo Martins', 38, 25, 37.620000000000005),\n",
              " ('Alexandre Rocha', 38, 21, 37.620000000000005),\n",
              " ('Roberto Almeida', 38, 18, 37.62),\n",
              " ('Fernanda Ramos', 38, 23, 37.620000000000005),\n",
              " ('Mark Philips', 38, 22, 37.620000000000005),\n",
              " ('Jennifer Peterson', 38, 22, 38.620000000000005),\n",
              " ('Frank Harris', 38, 25, 37.62),\n",
              " ('Jack Smith', 38, 20, 39.620000000000005),\n",
              " ('Michelle Brooks', 38, 26, 37.620000000000005),\n",
              " ('Tim Goyer', 38, 24, 38.620000000000005),\n",
              " ('Dan Miller', 38, 20, 39.62),\n",
              " ('Kathy Chase', 38, 20, 37.62),\n",
              " ('Heather Leacock', 38, 23, 39.62),\n",
              " ('John Gordon', 38, 23, 37.62),\n",
              " ('Frank Ralston', 38, 23, 43.62),\n",
              " ('Victor Stevens', 38, 19, 42.62),\n",
              " ('Richard Cunningham', 38, 19, 47.620000000000005),\n",
              " ('Patrick Gray', 38, 25, 37.620000000000005),\n",
              " ('Julia Barnett', 38, 20, 43.620000000000005),\n",
              " ('Robert Brown', 38, 21, 37.62),\n",
              " ('Edward Francis', 38, 21, 37.620000000000005),\n",
              " ('Martha Silk', 38, 22, 37.620000000000005),\n",
              " ('Aaron Mitchell', 38, 22, 37.620000000000005),\n",
              " ('Ellie Sullivan', 38, 25, 37.62),\n",
              " ('João Fernandes', 38, 22, 39.620000000000005),\n",
              " ('Madalena Sampaio', 38, 24, 37.620000000000005),\n",
              " ('Hannah Schneider', 38, 25, 37.620000000000005),\n",
              " ('Fynn Zimmermann', 38, 20, 43.62),\n",
              " ('Niklas Schröder', 38, 27, 37.620000000000005),\n",
              " ('Camille Bernard', 38, 24, 38.620000000000005),\n",
              " ('Dominique Lefebvre', 38, 21, 38.620000000000005),\n",
              " ('Marc Dubois', 38, 23, 37.620000000000005),\n",
              " ('Wyatt Girard', 38, 24, 39.62),\n",
              " ('Isabelle Mercier', 38, 24, 40.620000000000005),\n",
              " ('Terhi Hämäläinen', 38, 18, 41.620000000000005),\n",
              " ('Ladislav Kovács', 38, 21, 45.62),\n",
              " (\"Hugh O'Reilly\", 38, 18, 45.62),\n",
              " ('Lucas Mancini', 38, 23, 37.620000000000005),\n",
              " ('Johannes Van der Berg', 38, 21, 40.62),\n",
              " ('Stanisław Wójcik', 38, 24, 37.620000000000005),\n",
              " ('Enrique Muñoz', 38, 21, 37.62),\n",
              " ('Joakim Johansson', 38, 23, 38.620000000000005),\n",
              " ('Emma Jones', 38, 20, 37.620000000000005),\n",
              " ('Phil Hughes', 38, 24, 37.620000000000005),\n",
              " ('Steve Murray', 38, 20, 37.62),\n",
              " ('Mark Taylor', 38, 22, 37.620000000000005),\n",
              " ('Diego Gutiérrez', 38, 22, 37.620000000000005),\n",
              " ('Luis Rojas', 38, 21, 46.62),\n",
              " ('Manoj Pareek', 38, 24, 38.620000000000005),\n",
              " ('Puja Srivastava', 36, 20, 36.64)]"
            ],
            "text/html": [
              "<table>\n",
              "    <tr>\n",
              "        <th>CustomerName</th>\n",
              "        <th>TotalTracksPurchased</th>\n",
              "        <th>TotalAlbumsPurchased</th>\n",
              "        <th>TotalSpent</th>\n",
              "    </tr>\n",
              "    <tr>\n",
              "        <td>Luís Gonçalves</td>\n",
              "        <td>38</td>\n",
              "        <td>22</td>\n",
              "        <td>39.62</td>\n",
              "    </tr>\n",
              "    <tr>\n",
              "        <td>Leonie Köhler</td>\n",
              "        <td>38</td>\n",
              "        <td>22</td>\n",
              "        <td>37.620000000000005</td>\n",
              "    </tr>\n",
              "    <tr>\n",
              "        <td>François Tremblay</td>\n",
              "        <td>38</td>\n",
              "        <td>26</td>\n",
              "        <td>39.62</td>\n",
              "    </tr>\n",
              "    <tr>\n",
              "        <td>Bjørn Hansen</td>\n",
              "        <td>38</td>\n",
              "        <td>25</td>\n",
              "        <td>39.62</td>\n",
              "    </tr>\n",
              "    <tr>\n",
              "        <td>František Wichterlová</td>\n",
              "        <td>38</td>\n",
              "        <td>22</td>\n",
              "        <td>40.620000000000005</td>\n",
              "    </tr>\n",
              "    <tr>\n",
              "        <td>Helena Holý</td>\n",
              "        <td>38</td>\n",
              "        <td>19</td>\n",
              "        <td>49.620000000000005</td>\n",
              "    </tr>\n",
              "    <tr>\n",
              "        <td>Astrid Gruber</td>\n",
              "        <td>38</td>\n",
              "        <td>21</td>\n",
              "        <td>42.62</td>\n",
              "    </tr>\n",
              "    <tr>\n",
              "        <td>Daan Peeters</td>\n",
              "        <td>38</td>\n",
              "        <td>19</td>\n",
              "        <td>37.62</td>\n",
              "    </tr>\n",
              "    <tr>\n",
              "        <td>Kara Nielsen</td>\n",
              "        <td>38</td>\n",
              "        <td>20</td>\n",
              "        <td>37.620000000000005</td>\n",
              "    </tr>\n",
              "    <tr>\n",
              "        <td>Eduardo Martins</td>\n",
              "        <td>38</td>\n",
              "        <td>25</td>\n",
              "        <td>37.620000000000005</td>\n",
              "    </tr>\n",
              "    <tr>\n",
              "        <td>Alexandre Rocha</td>\n",
              "        <td>38</td>\n",
              "        <td>21</td>\n",
              "        <td>37.620000000000005</td>\n",
              "    </tr>\n",
              "    <tr>\n",
              "        <td>Roberto Almeida</td>\n",
              "        <td>38</td>\n",
              "        <td>18</td>\n",
              "        <td>37.62</td>\n",
              "    </tr>\n",
              "    <tr>\n",
              "        <td>Fernanda Ramos</td>\n",
              "        <td>38</td>\n",
              "        <td>23</td>\n",
              "        <td>37.620000000000005</td>\n",
              "    </tr>\n",
              "    <tr>\n",
              "        <td>Mark Philips</td>\n",
              "        <td>38</td>\n",
              "        <td>22</td>\n",
              "        <td>37.620000000000005</td>\n",
              "    </tr>\n",
              "    <tr>\n",
              "        <td>Jennifer Peterson</td>\n",
              "        <td>38</td>\n",
              "        <td>22</td>\n",
              "        <td>38.620000000000005</td>\n",
              "    </tr>\n",
              "    <tr>\n",
              "        <td>Frank Harris</td>\n",
              "        <td>38</td>\n",
              "        <td>25</td>\n",
              "        <td>37.62</td>\n",
              "    </tr>\n",
              "    <tr>\n",
              "        <td>Jack Smith</td>\n",
              "        <td>38</td>\n",
              "        <td>20</td>\n",
              "        <td>39.620000000000005</td>\n",
              "    </tr>\n",
              "    <tr>\n",
              "        <td>Michelle Brooks</td>\n",
              "        <td>38</td>\n",
              "        <td>26</td>\n",
              "        <td>37.620000000000005</td>\n",
              "    </tr>\n",
              "    <tr>\n",
              "        <td>Tim Goyer</td>\n",
              "        <td>38</td>\n",
              "        <td>24</td>\n",
              "        <td>38.620000000000005</td>\n",
              "    </tr>\n",
              "    <tr>\n",
              "        <td>Dan Miller</td>\n",
              "        <td>38</td>\n",
              "        <td>20</td>\n",
              "        <td>39.62</td>\n",
              "    </tr>\n",
              "    <tr>\n",
              "        <td>Kathy Chase</td>\n",
              "        <td>38</td>\n",
              "        <td>20</td>\n",
              "        <td>37.62</td>\n",
              "    </tr>\n",
              "    <tr>\n",
              "        <td>Heather Leacock</td>\n",
              "        <td>38</td>\n",
              "        <td>23</td>\n",
              "        <td>39.62</td>\n",
              "    </tr>\n",
              "    <tr>\n",
              "        <td>John Gordon</td>\n",
              "        <td>38</td>\n",
              "        <td>23</td>\n",
              "        <td>37.62</td>\n",
              "    </tr>\n",
              "    <tr>\n",
              "        <td>Frank Ralston</td>\n",
              "        <td>38</td>\n",
              "        <td>23</td>\n",
              "        <td>43.62</td>\n",
              "    </tr>\n",
              "    <tr>\n",
              "        <td>Victor Stevens</td>\n",
              "        <td>38</td>\n",
              "        <td>19</td>\n",
              "        <td>42.62</td>\n",
              "    </tr>\n",
              "    <tr>\n",
              "        <td>Richard Cunningham</td>\n",
              "        <td>38</td>\n",
              "        <td>19</td>\n",
              "        <td>47.620000000000005</td>\n",
              "    </tr>\n",
              "    <tr>\n",
              "        <td>Patrick Gray</td>\n",
              "        <td>38</td>\n",
              "        <td>25</td>\n",
              "        <td>37.620000000000005</td>\n",
              "    </tr>\n",
              "    <tr>\n",
              "        <td>Julia Barnett</td>\n",
              "        <td>38</td>\n",
              "        <td>20</td>\n",
              "        <td>43.620000000000005</td>\n",
              "    </tr>\n",
              "    <tr>\n",
              "        <td>Robert Brown</td>\n",
              "        <td>38</td>\n",
              "        <td>21</td>\n",
              "        <td>37.62</td>\n",
              "    </tr>\n",
              "    <tr>\n",
              "        <td>Edward Francis</td>\n",
              "        <td>38</td>\n",
              "        <td>21</td>\n",
              "        <td>37.620000000000005</td>\n",
              "    </tr>\n",
              "    <tr>\n",
              "        <td>Martha Silk</td>\n",
              "        <td>38</td>\n",
              "        <td>22</td>\n",
              "        <td>37.620000000000005</td>\n",
              "    </tr>\n",
              "    <tr>\n",
              "        <td>Aaron Mitchell</td>\n",
              "        <td>38</td>\n",
              "        <td>22</td>\n",
              "        <td>37.620000000000005</td>\n",
              "    </tr>\n",
              "    <tr>\n",
              "        <td>Ellie Sullivan</td>\n",
              "        <td>38</td>\n",
              "        <td>25</td>\n",
              "        <td>37.62</td>\n",
              "    </tr>\n",
              "    <tr>\n",
              "        <td>João Fernandes</td>\n",
              "        <td>38</td>\n",
              "        <td>22</td>\n",
              "        <td>39.620000000000005</td>\n",
              "    </tr>\n",
              "    <tr>\n",
              "        <td>Madalena Sampaio</td>\n",
              "        <td>38</td>\n",
              "        <td>24</td>\n",
              "        <td>37.620000000000005</td>\n",
              "    </tr>\n",
              "    <tr>\n",
              "        <td>Hannah Schneider</td>\n",
              "        <td>38</td>\n",
              "        <td>25</td>\n",
              "        <td>37.620000000000005</td>\n",
              "    </tr>\n",
              "    <tr>\n",
              "        <td>Fynn Zimmermann</td>\n",
              "        <td>38</td>\n",
              "        <td>20</td>\n",
              "        <td>43.62</td>\n",
              "    </tr>\n",
              "    <tr>\n",
              "        <td>Niklas Schröder</td>\n",
              "        <td>38</td>\n",
              "        <td>27</td>\n",
              "        <td>37.620000000000005</td>\n",
              "    </tr>\n",
              "    <tr>\n",
              "        <td>Camille Bernard</td>\n",
              "        <td>38</td>\n",
              "        <td>24</td>\n",
              "        <td>38.620000000000005</td>\n",
              "    </tr>\n",
              "    <tr>\n",
              "        <td>Dominique Lefebvre</td>\n",
              "        <td>38</td>\n",
              "        <td>21</td>\n",
              "        <td>38.620000000000005</td>\n",
              "    </tr>\n",
              "    <tr>\n",
              "        <td>Marc Dubois</td>\n",
              "        <td>38</td>\n",
              "        <td>23</td>\n",
              "        <td>37.620000000000005</td>\n",
              "    </tr>\n",
              "    <tr>\n",
              "        <td>Wyatt Girard</td>\n",
              "        <td>38</td>\n",
              "        <td>24</td>\n",
              "        <td>39.62</td>\n",
              "    </tr>\n",
              "    <tr>\n",
              "        <td>Isabelle Mercier</td>\n",
              "        <td>38</td>\n",
              "        <td>24</td>\n",
              "        <td>40.620000000000005</td>\n",
              "    </tr>\n",
              "    <tr>\n",
              "        <td>Terhi Hämäläinen</td>\n",
              "        <td>38</td>\n",
              "        <td>18</td>\n",
              "        <td>41.620000000000005</td>\n",
              "    </tr>\n",
              "    <tr>\n",
              "        <td>Ladislav Kovács</td>\n",
              "        <td>38</td>\n",
              "        <td>21</td>\n",
              "        <td>45.62</td>\n",
              "    </tr>\n",
              "    <tr>\n",
              "        <td>Hugh O&#x27;Reilly</td>\n",
              "        <td>38</td>\n",
              "        <td>18</td>\n",
              "        <td>45.62</td>\n",
              "    </tr>\n",
              "    <tr>\n",
              "        <td>Lucas Mancini</td>\n",
              "        <td>38</td>\n",
              "        <td>23</td>\n",
              "        <td>37.620000000000005</td>\n",
              "    </tr>\n",
              "    <tr>\n",
              "        <td>Johannes Van der Berg</td>\n",
              "        <td>38</td>\n",
              "        <td>21</td>\n",
              "        <td>40.62</td>\n",
              "    </tr>\n",
              "    <tr>\n",
              "        <td>Stanisław Wójcik</td>\n",
              "        <td>38</td>\n",
              "        <td>24</td>\n",
              "        <td>37.620000000000005</td>\n",
              "    </tr>\n",
              "    <tr>\n",
              "        <td>Enrique Muñoz</td>\n",
              "        <td>38</td>\n",
              "        <td>21</td>\n",
              "        <td>37.62</td>\n",
              "    </tr>\n",
              "    <tr>\n",
              "        <td>Joakim Johansson</td>\n",
              "        <td>38</td>\n",
              "        <td>23</td>\n",
              "        <td>38.620000000000005</td>\n",
              "    </tr>\n",
              "    <tr>\n",
              "        <td>Emma Jones</td>\n",
              "        <td>38</td>\n",
              "        <td>20</td>\n",
              "        <td>37.620000000000005</td>\n",
              "    </tr>\n",
              "    <tr>\n",
              "        <td>Phil Hughes</td>\n",
              "        <td>38</td>\n",
              "        <td>24</td>\n",
              "        <td>37.620000000000005</td>\n",
              "    </tr>\n",
              "    <tr>\n",
              "        <td>Steve Murray</td>\n",
              "        <td>38</td>\n",
              "        <td>20</td>\n",
              "        <td>37.62</td>\n",
              "    </tr>\n",
              "    <tr>\n",
              "        <td>Mark Taylor</td>\n",
              "        <td>38</td>\n",
              "        <td>22</td>\n",
              "        <td>37.620000000000005</td>\n",
              "    </tr>\n",
              "    <tr>\n",
              "        <td>Diego Gutiérrez</td>\n",
              "        <td>38</td>\n",
              "        <td>22</td>\n",
              "        <td>37.620000000000005</td>\n",
              "    </tr>\n",
              "    <tr>\n",
              "        <td>Luis Rojas</td>\n",
              "        <td>38</td>\n",
              "        <td>21</td>\n",
              "        <td>46.62</td>\n",
              "    </tr>\n",
              "    <tr>\n",
              "        <td>Manoj Pareek</td>\n",
              "        <td>38</td>\n",
              "        <td>24</td>\n",
              "        <td>38.620000000000005</td>\n",
              "    </tr>\n",
              "    <tr>\n",
              "        <td>Puja Srivastava</td>\n",
              "        <td>36</td>\n",
              "        <td>20</td>\n",
              "        <td>36.64</td>\n",
              "    </tr>\n",
              "</table>"
            ]
          },
          "metadata": {},
          "execution_count": 4
        }
      ]
    }
  ]
}