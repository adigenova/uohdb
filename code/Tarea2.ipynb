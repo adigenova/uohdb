{
  "nbformat": 4,
  "nbformat_minor": 0,
  "metadata": {
    "colab": {
      "name": "Tarea2.ipynb",
      "provenance": [],
      "authorship_tag": "ABX9TyN8q/kBwJtwDBuTNtVFnxJU",
      "include_colab_link": true
    },
    "kernelspec": {
      "name": "python3",
      "display_name": "Python 3"
    },
    "language_info": {
      "name": "python"
    }
  },
  "cells": [
    {
      "cell_type": "markdown",
      "metadata": {
        "id": "view-in-github",
        "colab_type": "text"
      },
      "source": [
        "<a href=\"https://colab.research.google.com/github/adigenova/uohdb/blob/main/code/Tarea2.ipynb\" target=\"_parent\"><img src=\"https://colab.research.google.com/assets/colab-badge.svg\" alt=\"Open In Colab\"/></a>"
      ]
    },
    {
      "cell_type": "markdown",
      "source": [
        "# Tarea 2\n",
        "\n",
        "## Integrantes\n",
        "\n",
        "1. Nombre1 Apellido1\n",
        "2. Nombre2 Apellido2\n",
        "3. Nombre3 Apellido3"
      ],
      "metadata": {
        "id": "ptktIQpcEka9"
      }
    },
    {
      "cell_type": "markdown",
      "source": [
        "## Base de datos Chinook"
      ],
      "metadata": {
        "id": "oyzPYH4K1w3F"
      }
    },
    {
      "cell_type": "code",
      "source": [
        "!pip install SQLAlchemy==1.4.46"
      ],
      "metadata": {
        "id": "hO6T2AzerWGj"
      },
      "execution_count": null,
      "outputs": []
    },
    {
      "cell_type": "code",
      "execution_count": null,
      "metadata": {
        "id": "4BcjS8dwEWS-"
      },
      "outputs": [],
      "source": [
        "#download the Chinook database\n",
        "!git clone https://github.com/lerocha/chinook-database.git"
      ]
    },
    {
      "cell_type": "code",
      "source": [
        "# load the SQL magic extension\n",
        "# https://github.com/catherinedevlin/ipython-sql\n",
        "# this extension allows us to connect to DBs and issue SQL command\n",
        "%load_ext sql\n",
        "# now we can use the magic extension to connect to our SQLite DB\n",
        "# use %sql to write an inline SQL command\n",
        "# use %%sql to write SQL commands in a cell\n",
        "%sql sqlite:////content/chinook-database/ChinookDatabase/DataSources/Chinook_Sqlite.sqlite"
      ],
      "metadata": {
        "colab": {
          "base_uri": "https://localhost:8080/",
          "height": 35
        },
        "id": "i3VBK1_EEzlS",
        "outputId": "6a8c85e8-a64d-4f3a-de1e-39decb628490"
      },
      "execution_count": null,
      "outputs": [
        {
          "output_type": "execute_result",
          "data": {
            "text/plain": [
              "'Connected: @/content/chinook-database/ChinookDatabase/DataSources/Chinook_Sqlite.sqlite'"
            ],
            "application/vnd.google.colaboratory.intrinsic+json": {
              "type": "string"
            }
          },
          "metadata": {},
          "execution_count": 3
        }
      ]
    },
    {
      "cell_type": "markdown",
      "source": [
        "### Obteniendo información de tablas"
      ],
      "metadata": {
        "id": "6D-BwyLnFIW8"
      }
    },
    {
      "cell_type": "code",
      "source": [
        "%%sql \n",
        "PRAGMA table_info([Artist]);"
      ],
      "metadata": {
        "colab": {
          "base_uri": "https://localhost:8080/",
          "height": 136
        },
        "id": "cUK2Md-oJnv0",
        "outputId": "2dcc8547-d245-4105-be09-c10c2b515ce7"
      },
      "execution_count": null,
      "outputs": [
        {
          "output_type": "stream",
          "name": "stdout",
          "text": [
            " * sqlite:////content/chinook-database/ChinookDatabase/DataSources/Chinook_Sqlite.sqlite\n",
            "   sqlite:///Chinook_Sqlite.sqlite\n",
            "Done.\n"
          ]
        },
        {
          "output_type": "execute_result",
          "data": {
            "text/plain": [
              "[(0, 'ArtistId', 'INTEGER', 1, None, 1),\n",
              " (1, 'Name', 'NVARCHAR(120)', 0, None, 0)]"
            ],
            "text/html": [
              "<table>\n",
              "    <thead>\n",
              "        <tr>\n",
              "            <th>cid</th>\n",
              "            <th>name</th>\n",
              "            <th>type</th>\n",
              "            <th>notnull</th>\n",
              "            <th>dflt_value</th>\n",
              "            <th>pk</th>\n",
              "        </tr>\n",
              "    </thead>\n",
              "    <tbody>\n",
              "        <tr>\n",
              "            <td>0</td>\n",
              "            <td>ArtistId</td>\n",
              "            <td>INTEGER</td>\n",
              "            <td>1</td>\n",
              "            <td>None</td>\n",
              "            <td>1</td>\n",
              "        </tr>\n",
              "        <tr>\n",
              "            <td>1</td>\n",
              "            <td>Name</td>\n",
              "            <td>NVARCHAR(120)</td>\n",
              "            <td>0</td>\n",
              "            <td>None</td>\n",
              "            <td>0</td>\n",
              "        </tr>\n",
              "    </tbody>\n",
              "</table>"
            ]
          },
          "metadata": {},
          "execution_count": 16
        }
      ]
    },
    {
      "cell_type": "code",
      "source": [
        "%%sql\n",
        "PRAGMA table_info([Employee]);"
      ],
      "metadata": {
        "colab": {
          "base_uri": "https://localhost:8080/",
          "height": 414
        },
        "id": "x6DaPJvvKW4F",
        "outputId": "7d8bc888-02ab-4871-d676-4abec043f408"
      },
      "execution_count": null,
      "outputs": [
        {
          "output_type": "stream",
          "name": "stdout",
          "text": [
            " * sqlite:////content/chinook-database/ChinookDatabase/DataSources/Chinook_Sqlite.sqlite\n",
            "   sqlite:///Chinook_Sqlite.sqlite\n",
            "Done.\n"
          ]
        },
        {
          "output_type": "execute_result",
          "data": {
            "text/plain": [
              "[(0, 'EmployeeId', 'INTEGER', 1, None, 1),\n",
              " (1, 'LastName', 'NVARCHAR(20)', 1, None, 0),\n",
              " (2, 'FirstName', 'NVARCHAR(20)', 1, None, 0),\n",
              " (3, 'Title', 'NVARCHAR(30)', 0, None, 0),\n",
              " (4, 'ReportsTo', 'INTEGER', 0, None, 0),\n",
              " (5, 'BirthDate', 'DATETIME', 0, None, 0),\n",
              " (6, 'HireDate', 'DATETIME', 0, None, 0),\n",
              " (7, 'Address', 'NVARCHAR(70)', 0, None, 0),\n",
              " (8, 'City', 'NVARCHAR(40)', 0, None, 0),\n",
              " (9, 'State', 'NVARCHAR(40)', 0, None, 0),\n",
              " (10, 'Country', 'NVARCHAR(40)', 0, None, 0),\n",
              " (11, 'PostalCode', 'NVARCHAR(10)', 0, None, 0),\n",
              " (12, 'Phone', 'NVARCHAR(24)', 0, None, 0),\n",
              " (13, 'Fax', 'NVARCHAR(24)', 0, None, 0),\n",
              " (14, 'Email', 'NVARCHAR(60)', 0, None, 0)]"
            ],
            "text/html": [
              "<table>\n",
              "    <thead>\n",
              "        <tr>\n",
              "            <th>cid</th>\n",
              "            <th>name</th>\n",
              "            <th>type</th>\n",
              "            <th>notnull</th>\n",
              "            <th>dflt_value</th>\n",
              "            <th>pk</th>\n",
              "        </tr>\n",
              "    </thead>\n",
              "    <tbody>\n",
              "        <tr>\n",
              "            <td>0</td>\n",
              "            <td>EmployeeId</td>\n",
              "            <td>INTEGER</td>\n",
              "            <td>1</td>\n",
              "            <td>None</td>\n",
              "            <td>1</td>\n",
              "        </tr>\n",
              "        <tr>\n",
              "            <td>1</td>\n",
              "            <td>LastName</td>\n",
              "            <td>NVARCHAR(20)</td>\n",
              "            <td>1</td>\n",
              "            <td>None</td>\n",
              "            <td>0</td>\n",
              "        </tr>\n",
              "        <tr>\n",
              "            <td>2</td>\n",
              "            <td>FirstName</td>\n",
              "            <td>NVARCHAR(20)</td>\n",
              "            <td>1</td>\n",
              "            <td>None</td>\n",
              "            <td>0</td>\n",
              "        </tr>\n",
              "        <tr>\n",
              "            <td>3</td>\n",
              "            <td>Title</td>\n",
              "            <td>NVARCHAR(30)</td>\n",
              "            <td>0</td>\n",
              "            <td>None</td>\n",
              "            <td>0</td>\n",
              "        </tr>\n",
              "        <tr>\n",
              "            <td>4</td>\n",
              "            <td>ReportsTo</td>\n",
              "            <td>INTEGER</td>\n",
              "            <td>0</td>\n",
              "            <td>None</td>\n",
              "            <td>0</td>\n",
              "        </tr>\n",
              "        <tr>\n",
              "            <td>5</td>\n",
              "            <td>BirthDate</td>\n",
              "            <td>DATETIME</td>\n",
              "            <td>0</td>\n",
              "            <td>None</td>\n",
              "            <td>0</td>\n",
              "        </tr>\n",
              "        <tr>\n",
              "            <td>6</td>\n",
              "            <td>HireDate</td>\n",
              "            <td>DATETIME</td>\n",
              "            <td>0</td>\n",
              "            <td>None</td>\n",
              "            <td>0</td>\n",
              "        </tr>\n",
              "        <tr>\n",
              "            <td>7</td>\n",
              "            <td>Address</td>\n",
              "            <td>NVARCHAR(70)</td>\n",
              "            <td>0</td>\n",
              "            <td>None</td>\n",
              "            <td>0</td>\n",
              "        </tr>\n",
              "        <tr>\n",
              "            <td>8</td>\n",
              "            <td>City</td>\n",
              "            <td>NVARCHAR(40)</td>\n",
              "            <td>0</td>\n",
              "            <td>None</td>\n",
              "            <td>0</td>\n",
              "        </tr>\n",
              "        <tr>\n",
              "            <td>9</td>\n",
              "            <td>State</td>\n",
              "            <td>NVARCHAR(40)</td>\n",
              "            <td>0</td>\n",
              "            <td>None</td>\n",
              "            <td>0</td>\n",
              "        </tr>\n",
              "        <tr>\n",
              "            <td>10</td>\n",
              "            <td>Country</td>\n",
              "            <td>NVARCHAR(40)</td>\n",
              "            <td>0</td>\n",
              "            <td>None</td>\n",
              "            <td>0</td>\n",
              "        </tr>\n",
              "        <tr>\n",
              "            <td>11</td>\n",
              "            <td>PostalCode</td>\n",
              "            <td>NVARCHAR(10)</td>\n",
              "            <td>0</td>\n",
              "            <td>None</td>\n",
              "            <td>0</td>\n",
              "        </tr>\n",
              "        <tr>\n",
              "            <td>12</td>\n",
              "            <td>Phone</td>\n",
              "            <td>NVARCHAR(24)</td>\n",
              "            <td>0</td>\n",
              "            <td>None</td>\n",
              "            <td>0</td>\n",
              "        </tr>\n",
              "        <tr>\n",
              "            <td>13</td>\n",
              "            <td>Fax</td>\n",
              "            <td>NVARCHAR(24)</td>\n",
              "            <td>0</td>\n",
              "            <td>None</td>\n",
              "            <td>0</td>\n",
              "        </tr>\n",
              "        <tr>\n",
              "            <td>14</td>\n",
              "            <td>Email</td>\n",
              "            <td>NVARCHAR(60)</td>\n",
              "            <td>0</td>\n",
              "            <td>None</td>\n",
              "            <td>0</td>\n",
              "        </tr>\n",
              "    </tbody>\n",
              "</table>"
            ]
          },
          "metadata": {},
          "execution_count": 20
        }
      ]
    },
    {
      "cell_type": "markdown",
      "source": [
        "\n",
        "\n",
        "### Modelo relacional de Chinook [schemaspy](https://schemaspy.org/)\n",
        "\n",
        "<img src=\"https://schemaspy.org/sample/diagrams/summary/relationships.real.large.png\" alt=\"ER Diagram\" width=\"836\" height=\"605\" />\n",
        "\n",
        "\n"
      ],
      "metadata": {
        "id": "wA1MJwgRL7UL"
      }
    },
    {
      "cell_type": "markdown",
      "source": [
        "\n",
        "\n",
        "# Soluciones consultas SQL\n",
        "\n",
        "Para cada consulta seleccionada, indique el numero de la consulta, el enunciado y el codigo SQL que resuelve la consulta. A modo de ejemplo utilice el siguiente formato."
      ],
      "metadata": {
        "id": "EVxhvaEtNAMt"
      }
    },
    {
      "cell_type": "markdown",
      "source": [
        "X) Escriba una consulta que muestre solo los Clientes de Brasil."
      ],
      "metadata": {
        "id": "DRXDt7gB6M0F"
      }
    },
    {
      "cell_type": "code",
      "source": [
        "%%sql \n",
        "select * from Customer WHERE Country = \"Brazil\";"
      ],
      "metadata": {
        "colab": {
          "base_uri": "https://localhost:8080/",
          "height": 270
        },
        "id": "bw_Bp7J3NFlR",
        "outputId": "9f020f09-f275-4ebf-9db1-416ba00e9d9e"
      },
      "execution_count": null,
      "outputs": [
        {
          "output_type": "stream",
          "name": "stdout",
          "text": [
            " * sqlite:////content/chinook-database/ChinookDatabase/DataSources/Chinook_Sqlite.sqlite\n",
            "Done.\n"
          ]
        },
        {
          "output_type": "execute_result",
          "data": {
            "text/plain": [
              "[(1, 'Luís', 'Gonçalves', 'Embraer - Empresa Brasileira de Aeronáutica S.A.', 'Av. Brigadeiro Faria Lima, 2170', 'São José dos Campos', 'SP', 'Brazil', '12227-000', '+55 (12) 3923-5555', '+55 (12) 3923-5566', 'luisg@embraer.com.br', 3),\n",
              " (10, 'Eduardo', 'Martins', 'Woodstock Discos', 'Rua Dr. Falcão Filho, 155', 'São Paulo', 'SP', 'Brazil', '01007-010', '+55 (11) 3033-5446', '+55 (11) 3033-4564', 'eduardo@woodstock.com.br', 4),\n",
              " (11, 'Alexandre', 'Rocha', 'Banco do Brasil S.A.', 'Av. Paulista, 2022', 'São Paulo', 'SP', 'Brazil', '01310-200', '+55 (11) 3055-3278', '+55 (11) 3055-8131', 'alero@uol.com.br', 5),\n",
              " (12, 'Roberto', 'Almeida', 'Riotur', 'Praça Pio X, 119', 'Rio de Janeiro', 'RJ', 'Brazil', '20040-020', '+55 (21) 2271-7000', '+55 (21) 2271-7070', 'roberto.almeida@riotur.gov.br', 3),\n",
              " (13, 'Fernanda', 'Ramos', None, 'Qe 7 Bloco G', 'Brasília', 'DF', 'Brazil', '71020-677', '+55 (61) 3363-5547', '+55 (61) 3363-7855', 'fernadaramos4@uol.com.br', 4)]"
            ],
            "text/html": [
              "<table>\n",
              "    <thead>\n",
              "        <tr>\n",
              "            <th>CustomerId</th>\n",
              "            <th>FirstName</th>\n",
              "            <th>LastName</th>\n",
              "            <th>Company</th>\n",
              "            <th>Address</th>\n",
              "            <th>City</th>\n",
              "            <th>State</th>\n",
              "            <th>Country</th>\n",
              "            <th>PostalCode</th>\n",
              "            <th>Phone</th>\n",
              "            <th>Fax</th>\n",
              "            <th>Email</th>\n",
              "            <th>SupportRepId</th>\n",
              "        </tr>\n",
              "    </thead>\n",
              "    <tbody>\n",
              "        <tr>\n",
              "            <td>1</td>\n",
              "            <td>Luís</td>\n",
              "            <td>Gonçalves</td>\n",
              "            <td>Embraer - Empresa Brasileira de Aeronáutica S.A.</td>\n",
              "            <td>Av. Brigadeiro Faria Lima, 2170</td>\n",
              "            <td>São José dos Campos</td>\n",
              "            <td>SP</td>\n",
              "            <td>Brazil</td>\n",
              "            <td>12227-000</td>\n",
              "            <td>+55 (12) 3923-5555</td>\n",
              "            <td>+55 (12) 3923-5566</td>\n",
              "            <td>luisg@embraer.com.br</td>\n",
              "            <td>3</td>\n",
              "        </tr>\n",
              "        <tr>\n",
              "            <td>10</td>\n",
              "            <td>Eduardo</td>\n",
              "            <td>Martins</td>\n",
              "            <td>Woodstock Discos</td>\n",
              "            <td>Rua Dr. Falcão Filho, 155</td>\n",
              "            <td>São Paulo</td>\n",
              "            <td>SP</td>\n",
              "            <td>Brazil</td>\n",
              "            <td>01007-010</td>\n",
              "            <td>+55 (11) 3033-5446</td>\n",
              "            <td>+55 (11) 3033-4564</td>\n",
              "            <td>eduardo@woodstock.com.br</td>\n",
              "            <td>4</td>\n",
              "        </tr>\n",
              "        <tr>\n",
              "            <td>11</td>\n",
              "            <td>Alexandre</td>\n",
              "            <td>Rocha</td>\n",
              "            <td>Banco do Brasil S.A.</td>\n",
              "            <td>Av. Paulista, 2022</td>\n",
              "            <td>São Paulo</td>\n",
              "            <td>SP</td>\n",
              "            <td>Brazil</td>\n",
              "            <td>01310-200</td>\n",
              "            <td>+55 (11) 3055-3278</td>\n",
              "            <td>+55 (11) 3055-8131</td>\n",
              "            <td>alero@uol.com.br</td>\n",
              "            <td>5</td>\n",
              "        </tr>\n",
              "        <tr>\n",
              "            <td>12</td>\n",
              "            <td>Roberto</td>\n",
              "            <td>Almeida</td>\n",
              "            <td>Riotur</td>\n",
              "            <td>Praça Pio X, 119</td>\n",
              "            <td>Rio de Janeiro</td>\n",
              "            <td>RJ</td>\n",
              "            <td>Brazil</td>\n",
              "            <td>20040-020</td>\n",
              "            <td>+55 (21) 2271-7000</td>\n",
              "            <td>+55 (21) 2271-7070</td>\n",
              "            <td>roberto.almeida@riotur.gov.br</td>\n",
              "            <td>3</td>\n",
              "        </tr>\n",
              "        <tr>\n",
              "            <td>13</td>\n",
              "            <td>Fernanda</td>\n",
              "            <td>Ramos</td>\n",
              "            <td>None</td>\n",
              "            <td>Qe 7 Bloco G</td>\n",
              "            <td>Brasília</td>\n",
              "            <td>DF</td>\n",
              "            <td>Brazil</td>\n",
              "            <td>71020-677</td>\n",
              "            <td>+55 (61) 3363-5547</td>\n",
              "            <td>+55 (61) 3363-7855</td>\n",
              "            <td>fernadaramos4@uol.com.br</td>\n",
              "            <td>4</td>\n",
              "        </tr>\n",
              "    </tbody>\n",
              "</table>"
            ]
          },
          "metadata": {},
          "execution_count": 5
        }
      ]
    },
    {
      "cell_type": "markdown",
      "source": [
        "1) ..."
      ],
      "metadata": {
        "id": "FjI2rAux6YmV"
      }
    },
    {
      "cell_type": "code",
      "source": [
        "%%sql\n",
        "select ..."
      ],
      "metadata": {
        "id": "V2tqdhTI7DYf"
      },
      "execution_count": null,
      "outputs": []
    },
    {
      "cell_type": "markdown",
      "source": [
        "2) ..."
      ],
      "metadata": {
        "id": "h5vG9ycS7XlI"
      }
    },
    {
      "cell_type": "code",
      "source": [
        "%%sql\n",
        "select ..."
      ],
      "metadata": {
        "id": "tzVkwA4K7XlI"
      },
      "execution_count": null,
      "outputs": []
    },
    {
      "cell_type": "markdown",
      "source": [
        "3) ..."
      ],
      "metadata": {
        "id": "agplFF0N7ZKt"
      }
    },
    {
      "cell_type": "code",
      "source": [
        "%%sql\n",
        "select ..."
      ],
      "metadata": {
        "id": "hCgkKTmK7ZKt"
      },
      "execution_count": null,
      "outputs": []
    },
    {
      "cell_type": "markdown",
      "source": [
        "4) ..."
      ],
      "metadata": {
        "id": "iCbQbjP97aYZ"
      }
    },
    {
      "cell_type": "code",
      "source": [
        "%%sql\n",
        "select ..."
      ],
      "metadata": {
        "id": "QcnmYQfd7aYa"
      },
      "execution_count": null,
      "outputs": []
    },
    {
      "cell_type": "markdown",
      "source": [
        "5) ..."
      ],
      "metadata": {
        "id": "j7vxf1VE7bSC"
      }
    },
    {
      "cell_type": "code",
      "source": [
        "%%sql\n",
        "select"
      ],
      "metadata": {
        "id": "9PRCpDbV8BCT"
      },
      "execution_count": null,
      "outputs": []
    },
    {
      "cell_type": "markdown",
      "source": [
        "6) ..."
      ],
      "metadata": {
        "id": "zZro9Dob7b89"
      }
    },
    {
      "cell_type": "code",
      "source": [
        "%%sql\n",
        "select ..."
      ],
      "metadata": {
        "id": "bEEldpUY7b8-"
      },
      "execution_count": null,
      "outputs": []
    },
    {
      "cell_type": "markdown",
      "source": [
        "7) ..."
      ],
      "metadata": {
        "id": "og2K92SN7clc"
      }
    },
    {
      "cell_type": "code",
      "source": [
        "%%sql\n",
        "select ..."
      ],
      "metadata": {
        "id": "6i1RSsbv7clc"
      },
      "execution_count": null,
      "outputs": []
    },
    {
      "cell_type": "markdown",
      "source": [
        "8) ..."
      ],
      "metadata": {
        "id": "ORcbBJ4M7dI3"
      }
    },
    {
      "cell_type": "code",
      "source": [
        "%%sql\n",
        "select ..."
      ],
      "metadata": {
        "id": "kSaGWKDy7dI4"
      },
      "execution_count": null,
      "outputs": []
    },
    {
      "cell_type": "markdown",
      "source": [
        "9) ..."
      ],
      "metadata": {
        "id": "nrACAaIw7dvp"
      }
    },
    {
      "cell_type": "code",
      "source": [
        "%%sql\n",
        "select ..."
      ],
      "metadata": {
        "id": "5pHSeHnM7dvq"
      },
      "execution_count": null,
      "outputs": []
    },
    {
      "cell_type": "markdown",
      "source": [
        "10) ..."
      ],
      "metadata": {
        "id": "cth2JIb57eTD"
      }
    },
    {
      "cell_type": "code",
      "source": [
        "%%sql\n",
        "select ..."
      ],
      "metadata": {
        "id": "3lMZYSWL7eTD"
      },
      "execution_count": null,
      "outputs": []
    },
    {
      "cell_type": "markdown",
      "source": [
        "11) ..."
      ],
      "metadata": {
        "id": "BXsTZIsn7e2i"
      }
    },
    {
      "cell_type": "code",
      "source": [
        "%%sql\n",
        "select ..."
      ],
      "metadata": {
        "id": "RlCYBKr07e2i"
      },
      "execution_count": null,
      "outputs": []
    },
    {
      "cell_type": "markdown",
      "source": [
        "12) ..."
      ],
      "metadata": {
        "id": "2zevdpYh7fZk"
      }
    },
    {
      "cell_type": "code",
      "source": [
        "%%sql\n",
        "select ..."
      ],
      "metadata": {
        "id": "_lKjA_vQ7fZl"
      },
      "execution_count": null,
      "outputs": []
    },
    {
      "cell_type": "markdown",
      "source": [
        "13) ..."
      ],
      "metadata": {
        "id": "blya_rwj7gLo"
      }
    },
    {
      "cell_type": "code",
      "source": [
        "%%sql\n",
        "select ..."
      ],
      "metadata": {
        "id": "6V3eo9uE7gLp"
      },
      "execution_count": null,
      "outputs": []
    },
    {
      "cell_type": "markdown",
      "source": [
        "14) ..."
      ],
      "metadata": {
        "id": "WPUtmA__7g1K"
      }
    },
    {
      "cell_type": "code",
      "source": [
        "%%sql\n",
        "select ..."
      ],
      "metadata": {
        "id": "zWqsD5Fi7g1L"
      },
      "execution_count": null,
      "outputs": []
    },
    {
      "cell_type": "markdown",
      "source": [
        "15) ..."
      ],
      "metadata": {
        "id": "uuxkxV2w7hYt"
      }
    },
    {
      "cell_type": "code",
      "source": [
        "%%sql\n",
        "select ..."
      ],
      "metadata": {
        "id": "_rp21Bok7hYu"
      },
      "execution_count": null,
      "outputs": []
    },
    {
      "cell_type": "markdown",
      "source": [
        "16) ..."
      ],
      "metadata": {
        "id": "jMmbn83K7h9M"
      }
    },
    {
      "cell_type": "code",
      "source": [
        "%%sql\n",
        "select ..."
      ],
      "metadata": {
        "id": "ZcugB-k27h9M"
      },
      "execution_count": null,
      "outputs": []
    },
    {
      "cell_type": "markdown",
      "source": [
        "17) ..."
      ],
      "metadata": {
        "id": "pXStb_eL7ig_"
      }
    },
    {
      "cell_type": "code",
      "source": [
        "%%sql\n",
        "select ..."
      ],
      "metadata": {
        "id": "4i9wVTvz7ihA"
      },
      "execution_count": null,
      "outputs": []
    },
    {
      "cell_type": "markdown",
      "source": [
        "18) ..."
      ],
      "metadata": {
        "id": "3WNhZXP67jC0"
      }
    },
    {
      "cell_type": "code",
      "source": [
        "%%sql\n",
        "select ..."
      ],
      "metadata": {
        "id": "R27zJZuZ7jC1"
      },
      "execution_count": null,
      "outputs": []
    },
    {
      "cell_type": "markdown",
      "source": [
        "19) ..."
      ],
      "metadata": {
        "id": "Yqsnp4HD7kHX"
      }
    },
    {
      "cell_type": "code",
      "source": [
        "%%sql\n",
        "select ..."
      ],
      "metadata": {
        "id": "rvSJnClX7kHX"
      },
      "execution_count": null,
      "outputs": []
    },
    {
      "cell_type": "markdown",
      "source": [
        "20) ..."
      ],
      "metadata": {
        "id": "C95uLbxt7kov"
      }
    },
    {
      "cell_type": "code",
      "source": [
        "%%sql\n",
        "select ..."
      ],
      "metadata": {
        "id": "c3S4Z-yI7kow"
      },
      "execution_count": null,
      "outputs": []
    },
    {
      "cell_type": "markdown",
      "source": [
        "21) ..."
      ],
      "metadata": {
        "id": "p4_pNx9a7lJ8"
      }
    },
    {
      "cell_type": "code",
      "source": [
        "%%sql\n",
        "select ..."
      ],
      "metadata": {
        "id": "NXO3N8UD7lJ9"
      },
      "execution_count": null,
      "outputs": []
    },
    {
      "cell_type": "markdown",
      "source": [
        "22) ..."
      ],
      "metadata": {
        "id": "95skHeFW7lqD"
      }
    },
    {
      "cell_type": "code",
      "source": [
        "%%sql\n",
        "select ..."
      ],
      "metadata": {
        "id": "zjzKXHrH7lqE"
      },
      "execution_count": null,
      "outputs": []
    },
    {
      "cell_type": "markdown",
      "source": [
        "23) ..."
      ],
      "metadata": {
        "id": "pTWwWrDN7mJ7"
      }
    },
    {
      "cell_type": "code",
      "source": [
        "%%sql\n",
        "select ..."
      ],
      "metadata": {
        "id": "ooNl5h2a7mJ8"
      },
      "execution_count": null,
      "outputs": []
    },
    {
      "cell_type": "markdown",
      "source": [
        "24) ..."
      ],
      "metadata": {
        "id": "-Lc45vdZ7mpx"
      }
    },
    {
      "cell_type": "code",
      "source": [
        "%%sql\n",
        "select ..."
      ],
      "metadata": {
        "id": "_49QXazl7mpy"
      },
      "execution_count": null,
      "outputs": []
    },
    {
      "cell_type": "markdown",
      "source": [
        "25) ..."
      ],
      "metadata": {
        "id": "BrTxrwo-7nLU"
      }
    },
    {
      "cell_type": "code",
      "source": [
        "%%sql\n",
        "select ..."
      ],
      "metadata": {
        "id": "-jy7XY-K7nLV"
      },
      "execution_count": null,
      "outputs": []
    },
    {
      "cell_type": "markdown",
      "source": [
        "26) ..."
      ],
      "metadata": {
        "id": "Lvo_5dmr7nrb"
      }
    },
    {
      "cell_type": "code",
      "source": [
        "%%sql\n",
        "select ..."
      ],
      "metadata": {
        "id": "vaoUU2Z67nrc"
      },
      "execution_count": null,
      "outputs": []
    },
    {
      "cell_type": "markdown",
      "source": [
        "27) ..."
      ],
      "metadata": {
        "id": "uvstdeoa7oLQ"
      }
    },
    {
      "cell_type": "code",
      "source": [
        "%%sql\n",
        "select ..."
      ],
      "metadata": {
        "id": "zi2HSxj27oLQ"
      },
      "execution_count": null,
      "outputs": []
    },
    {
      "cell_type": "markdown",
      "source": [
        "28) ..."
      ],
      "metadata": {
        "id": "-3HlfveJ7ovP"
      }
    },
    {
      "cell_type": "code",
      "source": [
        "%%sql\n",
        "select ..."
      ],
      "metadata": {
        "id": "mZgWgzfv7ovQ"
      },
      "execution_count": null,
      "outputs": []
    },
    {
      "cell_type": "markdown",
      "source": [
        "29) ..."
      ],
      "metadata": {
        "id": "ox-PVh3a9Fg9"
      }
    },
    {
      "cell_type": "code",
      "source": [
        "%%sql\n",
        "select ..."
      ],
      "metadata": {
        "id": "9GVKSaiB9Fg-"
      },
      "execution_count": null,
      "outputs": []
    },
    {
      "cell_type": "markdown",
      "source": [
        "30) ..."
      ],
      "metadata": {
        "id": "4ktUdjrt9GeJ"
      }
    },
    {
      "cell_type": "code",
      "source": [
        "%%sql\n",
        "select ..."
      ],
      "metadata": {
        "id": "sIF18pDc9GeK"
      },
      "execution_count": null,
      "outputs": []
    }
  ]
}