{
  "nbformat": 4,
  "nbformat_minor": 0,
  "metadata": {
    "colab": {
      "provenance": [],
      "collapsed_sections": [
        "cTIT0ffjd50i",
        "VVdqQnsApX-e",
        "O-TXo0_h29KR",
        "e_3jTuNh3K54",
        "e8MW5vxx3KU3"
      ],
      "include_colab_link": true
    },
    "kernelspec": {
      "name": "python3",
      "display_name": "Python 3"
    },
    "language_info": {
      "name": "python"
    }
  },
  "cells": [
    {
      "cell_type": "markdown",
      "metadata": {
        "id": "view-in-github",
        "colab_type": "text"
      },
      "source": [
        "<a href=\"https://colab.research.google.com/github/adigenova/uohdb/blob/main/code/NOSQL_AQL.ipynb\" target=\"_parent\"><img src=\"https://colab.research.google.com/assets/colab-badge.svg\" alt=\"Open In Colab\"/></a>"
      ]
    },
    {
      "cell_type": "markdown",
      "metadata": {
        "id": "XIHPS095d50h"
      },
      "source": [
        "\n",
        "\n",
        "# Práctico NoSQL\n",
        "## Ejemplos AQL\n",
        "\n"
      ]
    },
    {
      "cell_type": "markdown",
      "source": [
        "# Primera parte : ArangoDB - Documentos"
      ],
      "metadata": {
        "id": "3d4CKexSMz8v"
      }
    },
    {
      "cell_type": "markdown",
      "source": [
        "## Conexion db Arango"
      ],
      "metadata": {
        "id": "dXmb7XAzQhdh"
      }
    },
    {
      "cell_type": "code",
      "source": [
        "%%capture\n",
        "!git clone -b oasis_connector --single-branch https://github.com/arangodb/interactive_tutorials.git\n",
        "!rsync -av interactive_tutorials/ ./ --exclude=.git\n",
        "!pip3 install pyarango\n",
        "!pip3 install \"python-arango>=5.0\""
      ],
      "metadata": {
        "id": "qzOvqUdYQkmv"
      },
      "execution_count": 16,
      "outputs": []
    },
    {
      "cell_type": "code",
      "source": [
        "\n",
        "import json\n",
        "import requests\n",
        "import sys\n",
        "import oasis\n",
        "import time\n",
        "\n",
        "from pyArango.connection import *\n",
        "from arango import ArangoClient"
      ],
      "metadata": {
        "id": "KbOJghSeQqH6"
      },
      "execution_count": 17,
      "outputs": []
    },
    {
      "cell_type": "code",
      "source": [
        "# Retrieve tmp credentials from ArangoDB Tutorial Service\n",
        "login = oasis.getTempCredentials(tutorialName=\"AQLCrudTutorial\", credentialProvider='https://tutorials.arangodb.cloud:8529/_db/_system/tutorialDB/tutorialDB')\n",
        "# Connect to the temp database\n",
        "conn = oasis.connect(login)\n",
        "pyAr_db = conn[login[\"dbName\"]]\n",
        ""
      ],
      "metadata": {
        "colab": {
          "base_uri": "https://localhost:8080/"
        },
        "id": "YRCS1afHQtYs",
        "outputId": "c1de6d35-f700-4020-dc81-58079519f45b"
      },
      "execution_count": 18,
      "outputs": [
        {
          "output_type": "stream",
          "name": "stdout",
          "text": [
            "Requesting new temp credentials.\n",
            "Temp database ready to use.\n"
          ]
        }
      ]
    },
    {
      "cell_type": "code",
      "source": [
        "python_arango_db = oasis.connect_python_arango(login)\n",
        "aql = python_arango_db.aql"
      ],
      "metadata": {
        "id": "yK4lA5nBQv_P"
      },
      "execution_count": 19,
      "outputs": []
    },
    {
      "cell_type": "code",
      "source": [
        "print(\"https://{}:{}\".format(login[\"hostname\"], login[\"port\"]))\n",
        "print(\"Username: \" + login[\"username\"])\n",
        "print(\"Password: \" + login[\"password\"])\n",
        "print(\"Database: \" + login[\"dbName\"])"
      ],
      "metadata": {
        "colab": {
          "base_uri": "https://localhost:8080/"
        },
        "id": "HH6OiJhuQzC8",
        "outputId": "9001d348-1cbd-49b8-ff54-3a6df9902643"
      },
      "execution_count": 20,
      "outputs": [
        {
          "output_type": "stream",
          "name": "stdout",
          "text": [
            "https://tutorials.arangodb.cloud:8529\n",
            "Username: TUTew5n49fk4a7kfnrtrwi40s\n",
            "Password: TUT2y5j5hki5m8qw38cyiwom\n",
            "Database: TUTwm972r05npnjxedqpua20d\n"
          ]
        }
      ]
    },
    {
      "cell_type": "markdown",
      "source": [
        "## Creando una colección"
      ],
      "metadata": {
        "id": "-4ThVC9iM7fL"
      }
    },
    {
      "cell_type": "code",
      "source": [
        "# creamos la coleccion usando pyArango\n",
        "pyAr_db.createCollection(name=\"Alumnos\")\n",
        "if python_arango_db.has_collection(\"Alumnos\"):\n",
        "  pass\n",
        "else:\n",
        "  python_arango_db.create_collection(\"Alumnos\")"
      ],
      "metadata": {
        "id": "dbMxcp3VQL2_"
      },
      "execution_count": 22,
      "outputs": []
    },
    {
      "cell_type": "code",
      "source": [
        "#Creamos 1000 estudiantes en la colleccion Alumnos\n",
        "query = \"\"\"\n",
        "FOR i IN 1..1000\n",
        "   let comunas = [\"Rancagua\", \"Pichilemu\",\"Machali\",\"Matanzas\",\"Olivar\",\"Codegua\",\"Rengo\",\"Graneros\",\"Navidad\",\"Litueche\"]\n",
        "   let equipos = [\"Colo colo\",\" Universidad de Chile\", \"Universidad Catolica\",\"Ohiggins\",\"Rangers\"]\n",
        "  INSERT {\n",
        "    id: 1000 + i,\n",
        "    edad: 18 + FLOOR(RAND() * 30),\n",
        "    nombre: CONCAT('alumno', TO_STRING(i)),\n",
        "    estado: i % 2 == 0 ? \"activo\" : \"no activo\",\n",
        "    sexo: i % 3 == 0 ? \"hombre\" : i % 3 == 1 ? \"mujer\" : \"no-informado\",\n",
        "    ciudad : comunas[FLOOR(RAND()*10)],\n",
        "    equipo : equipos[FLOOR(RAND()*5)]\n",
        "  } IN Alumnos\n",
        "\"\"\"\n",
        "query_result = aql.execute(query)\n",
        "for doc in query_result:\n",
        "    print(doc)"
      ],
      "metadata": {
        "id": "TJ4H0EiENMgS"
      },
      "execution_count": 28,
      "outputs": []
    },
    {
      "cell_type": "code",
      "source": [
        "# Mostrar los 10 primeros estudiantes\n",
        "query = \"\"\"\n",
        " For e in Alumnos\n",
        "     limit 10\n",
        "    return {\"Nombre\":e.nombre, \"Sexo\":e.sexo, \"Equipo\": e.equipo, \"Edad\": e.edad, \"Ciudad\":e.ciudad}\n",
        " \"\"\"\n",
        "query_result = aql.execute(query)\n",
        "for doc in query_result:\n",
        "    print(doc)"
      ],
      "metadata": {
        "colab": {
          "base_uri": "https://localhost:8080/"
        },
        "id": "8-I4rAq5T4OQ",
        "outputId": "6c147a2b-3095-49b7-beba-51b0cae7ee80"
      },
      "execution_count": 31,
      "outputs": [
        {
          "output_type": "stream",
          "name": "stdout",
          "text": [
            "{'Nombre': 'alumno1', 'Sexo': 'mujer', 'Equipo': 'Universidad Catolica', 'Edad': 28, 'Ciudad': 'Matanzas'}\n",
            "{'Nombre': 'alumno2', 'Sexo': 'no-informado', 'Equipo': 'Ohiggins', 'Edad': 32, 'Ciudad': 'Matanzas'}\n",
            "{'Nombre': 'alumno3', 'Sexo': 'hombre', 'Equipo': 'Universidad Catolica', 'Edad': 42, 'Ciudad': 'Litueche'}\n",
            "{'Nombre': 'alumno4', 'Sexo': 'mujer', 'Equipo': 'Rangers', 'Edad': 18, 'Ciudad': 'Pichilemu'}\n",
            "{'Nombre': 'alumno5', 'Sexo': 'no-informado', 'Equipo': 'Universidad Catolica', 'Edad': 29, 'Ciudad': 'Rancagua'}\n",
            "{'Nombre': 'alumno6', 'Sexo': 'hombre', 'Equipo': 'Universidad Catolica', 'Edad': 41, 'Ciudad': 'Olivar'}\n",
            "{'Nombre': 'alumno7', 'Sexo': 'mujer', 'Equipo': ' Universidad de Chile', 'Edad': 35, 'Ciudad': 'Machali'}\n",
            "{'Nombre': 'alumno8', 'Sexo': 'no-informado', 'Equipo': 'Colo colo', 'Edad': 23, 'Ciudad': 'Pichilemu'}\n",
            "{'Nombre': 'alumno9', 'Sexo': 'hombre', 'Equipo': 'Universidad Catolica', 'Edad': 40, 'Ciudad': 'Pichilemu'}\n",
            "{'Nombre': 'alumno10', 'Sexo': 'mujer', 'Equipo': ' Universidad de Chile', 'Edad': 43, 'Ciudad': 'Rengo'}\n"
          ]
        }
      ]
    },
    {
      "cell_type": "code",
      "source": [
        "#seleccione los estudiantes de Rancagua menores a 25 años y  fanaticos de Colo Colo. Despliege los resultados ordenados por edad y luego sexo\n",
        "# retorne solo los atributos involucrados en la consulta\n",
        "query= \"\"\"\n",
        "FOR e IN Alumnos\n",
        "    FILTER e.ciudad == \"Rancagua\" && e.equipo == \"Colo colo\" && e.edad <25\n",
        "    SORT e.edad, e.sexo ASC\n",
        "    limit 10\n",
        "  RETURN {\"Ciudad\":e.ciudad, \"Equipo\":e.equipo, \"Edad\":e.edad, \"Sexo\":e.sexo, \"Nombre\":e.nombre }\n",
        "\"\"\"\n",
        "query_result = aql.execute(query)\n",
        "for doc in query_result:\n",
        "    print(doc)"
      ],
      "metadata": {
        "colab": {
          "base_uri": "https://localhost:8080/"
        },
        "id": "_bgAjihdU7BM",
        "outputId": "e9d4f40b-d883-4078-c222-65c77cc4bf52"
      },
      "execution_count": 42,
      "outputs": [
        {
          "output_type": "stream",
          "name": "stdout",
          "text": [
            "{'Ciudad': 'Rancagua', 'Equipo': 'Colo colo', 'Edad': 18, 'Sexo': 'hombre', 'Nombre': 'alumno525'}\n",
            "{'Ciudad': 'Rancagua', 'Equipo': 'Colo colo', 'Edad': 18, 'Sexo': 'no-informado', 'Nombre': 'alumno290'}\n",
            "{'Ciudad': 'Rancagua', 'Equipo': 'Colo colo', 'Edad': 19, 'Sexo': 'hombre', 'Nombre': 'alumno87'}\n",
            "{'Ciudad': 'Rancagua', 'Equipo': 'Colo colo', 'Edad': 19, 'Sexo': 'hombre', 'Nombre': 'alumno306'}\n",
            "{'Ciudad': 'Rancagua', 'Equipo': 'Colo colo', 'Edad': 22, 'Sexo': 'hombre', 'Nombre': 'alumno948'}\n",
            "{'Ciudad': 'Rancagua', 'Equipo': 'Colo colo', 'Edad': 22, 'Sexo': 'mujer', 'Nombre': 'alumno328'}\n"
          ]
        }
      ]
    },
    {
      "cell_type": "code",
      "source": [
        "# Calcula el promedio de los alumnos fanaticos de colo colo\n",
        "query=\"\"\"\n",
        "FOR e IN Alumnos\n",
        "    FILTER e.equipo == \"Colo colo\"\n",
        "    COLLECT AGGREGATE edadp = AVERAGE(e.edad)\n",
        "    RETURN {edadp}\n",
        " \"\"\"\n",
        "query_result = aql.execute(query)\n",
        "for doc in query_result:\n",
        "    print(doc)"
      ],
      "metadata": {
        "colab": {
          "base_uri": "https://localhost:8080/"
        },
        "id": "uPJQrb5IYL7a",
        "outputId": "c84f2ee0-f315-4cd7-e6ef-236b4eb01377"
      },
      "execution_count": 54,
      "outputs": [
        {
          "output_type": "stream",
          "name": "stdout",
          "text": [
            "{'edadp': 32.60730593607306}\n"
          ]
        }
      ]
    },
    {
      "cell_type": "code",
      "source": [
        "# Cuenta el numero de alumnos de cada comuna\n",
        "query=\"\"\"\n",
        "FOR e IN Alumnos\n",
        "    COLLECT ciudad = e.ciudad WITH COUNT INTO length\n",
        "    RETURN {\n",
        "    \"ciudad\" : ciudad,\n",
        "    \"cantidad\" : length\n",
        "    }\n",
        " \"\"\"\n",
        "query_result = aql.execute(query)\n",
        "for doc in query_result:\n",
        "    print(doc)"
      ],
      "metadata": {
        "colab": {
          "base_uri": "https://localhost:8080/"
        },
        "id": "iHEnLp8_bEGS",
        "outputId": "981e421e-12a5-4214-f236-77457715a099"
      },
      "execution_count": 55,
      "outputs": [
        {
          "output_type": "stream",
          "name": "stdout",
          "text": [
            "{'ciudad': 'Codegua', 'cantidad': 119}\n",
            "{'ciudad': 'Graneros', 'cantidad': 97}\n",
            "{'ciudad': 'Litueche', 'cantidad': 92}\n",
            "{'ciudad': 'Machali', 'cantidad': 111}\n",
            "{'ciudad': 'Matanzas', 'cantidad': 107}\n",
            "{'ciudad': 'Navidad', 'cantidad': 87}\n",
            "{'ciudad': 'Olivar', 'cantidad': 94}\n",
            "{'ciudad': 'Pichilemu', 'cantidad': 105}\n",
            "{'ciudad': 'Rancagua', 'cantidad': 92}\n",
            "{'ciudad': 'Rengo', 'cantidad': 96}\n"
          ]
        }
      ]
    },
    {
      "cell_type": "code",
      "source": [
        "# Cuenta el numero de alumnos de cada comuna fanaticos de colo colo y universidad de Chile\n",
        "query=\"\"\"\n",
        "FOR e IN Alumnos\n",
        "    filter e.equipo IN [\"Colo colo\",\"Universidad de Chile\"]\n",
        "    COLLECT ciudad = e.ciudad WITH COUNT INTO length\n",
        "    RETURN {\n",
        "    \"ciudad\" : ciudad,\n",
        "    \"cantidad\" : length\n",
        "    }\n",
        " \"\"\"\n",
        "query_result = aql.execute(query)\n",
        "for doc in query_result:\n",
        "    print(doc)"
      ],
      "metadata": {
        "colab": {
          "base_uri": "https://localhost:8080/"
        },
        "id": "6U8pP8wcbr-p",
        "outputId": "44fb9007-dce1-44ff-8391-a860c2a009a3"
      },
      "execution_count": 60,
      "outputs": [
        {
          "output_type": "stream",
          "name": "stdout",
          "text": [
            "{'ciudad': 'Codegua', 'cantidad': 53}\n",
            "{'ciudad': 'Graneros', 'cantidad': 38}\n",
            "{'ciudad': 'Litueche', 'cantidad': 43}\n",
            "{'ciudad': 'Machali', 'cantidad': 54}\n",
            "{'ciudad': 'Matanzas', 'cantidad': 51}\n",
            "{'ciudad': 'Navidad', 'cantidad': 39}\n",
            "{'ciudad': 'Olivar', 'cantidad': 40}\n",
            "{'ciudad': 'Pichilemu', 'cantidad': 46}\n",
            "{'ciudad': 'Rancagua', 'cantidad': 41}\n",
            "{'ciudad': 'Rengo', 'cantidad': 40}\n"
          ]
        }
      ]
    },
    {
      "cell_type": "code",
      "source": [
        "# Cual es la comuna con más fanaticos de UC\n",
        "query=\"\"\"\n",
        "FOR e IN Alumnos\n",
        "    filter e.equipo==\"Universidad Catolica\"\n",
        "    COLLECT ciudad = e.ciudad WITH COUNT INTO length\n",
        "    sort length desc limit 1\n",
        "    RETURN {\n",
        "    \"ciudad\" : ciudad,\n",
        "    \"cantidad\" : length\n",
        "    }\n",
        " \"\"\"\n",
        "query_result = aql.execute(query)\n",
        "for doc in query_result:\n",
        "    print(doc)"
      ],
      "metadata": {
        "colab": {
          "base_uri": "https://localhost:8080/"
        },
        "id": "6-Q8loCNcTnb",
        "outputId": "514f9a17-996c-43fe-d2cd-d8196a0ec32d"
      },
      "execution_count": 63,
      "outputs": [
        {
          "output_type": "stream",
          "name": "stdout",
          "text": [
            "{'ciudad': 'Graneros', 'cantidad': 28}\n"
          ]
        }
      ]
    },
    {
      "cell_type": "code",
      "source": [
        "#Creamos una coleccion de amigos\n",
        "# creamos la coleccion usando pyArango\n",
        "\n",
        "pyAr_db.createCollection(name=\"Amigos\")\n",
        "if python_arango_db.has_collection(\"Amigos\"):\n",
        "  pass\n",
        "else:\n",
        "  python_arango_db.create_collection(\"Amigos\")\n"
      ],
      "metadata": {
        "id": "g7EGZAwZdvle"
      },
      "execution_count": 64,
      "outputs": []
    },
    {
      "cell_type": "code",
      "source": [
        "#Creamos 1000 amistades en la coleccion Amigos\n",
        "query = \"\"\"\n",
        "\n",
        "FOR i in 1..1000\n",
        "  let pm=[\"Facebook\", \"Instagram\",\"Tinder\",\"Twitter\",\"InVivo\"]\n",
        "  INSERT {\n",
        "    id: 1000 + i,\n",
        "    ia1: CONCAT('alumno', TO_STRING(i)),\n",
        "    ia2: CONCAT('alumno', TO_STRING(FLOOR(RAND() * 1000))),\n",
        "    conocieron: pm[FLOOR(RAND() * 5)]\n",
        "  } IN Amigos\n",
        "\"\"\"\n",
        "query_result = aql.execute(query)\n",
        "for doc in query_result:\n",
        "    print(doc)"
      ],
      "metadata": {
        "id": "unJjM8sSd5_o"
      },
      "execution_count": 69,
      "outputs": []
    },
    {
      "cell_type": "code",
      "source": [
        "#eliminamos la coleccion amigos\n",
        "query = \"\"\"\n",
        "For u in Amigos REMOVE u IN Amigos\n",
        "\"\"\"\n",
        "query_result = aql.execute(query)\n",
        "for doc in query_result:\n",
        "    print(doc)"
      ],
      "metadata": {
        "id": "PZ-hs_HyhoiM"
      },
      "execution_count": 68,
      "outputs": []
    },
    {
      "cell_type": "code",
      "source": [
        "# Mostrar los 10 primeros registros de amigos\n",
        "query = \"\"\"\n",
        " For a in Amigos\n",
        "     limit 10\n",
        "    return a\n",
        " \"\"\"\n",
        "query_result = aql.execute(query)\n",
        "for doc in query_result:\n",
        "    print(doc)"
      ],
      "metadata": {
        "colab": {
          "base_uri": "https://localhost:8080/"
        },
        "id": "A0xSvE0ngxSz",
        "outputId": "d271e1ae-b0fd-44b2-b607-cf566f453e8c"
      },
      "execution_count": 70,
      "outputs": [
        {
          "output_type": "stream",
          "name": "stdout",
          "text": [
            "{'_key': '266226963080', '_id': 'Amigos/266226963080', '_rev': '_gSMFSwy---', 'id': 1001, 'ia1': 'alumno1', 'ia2': 'alumno90', 'conocieron': 'Twitter'}\n",
            "{'_key': '266226963081', '_id': 'Amigos/266226963081', '_rev': '_gSMFSwy--_', 'id': 1002, 'ia1': 'alumno2', 'ia2': 'alumno482', 'conocieron': 'Tinder'}\n",
            "{'_key': '266226963082', '_id': 'Amigos/266226963082', '_rev': '_gSMFSwy--A', 'id': 1003, 'ia1': 'alumno3', 'ia2': 'alumno125', 'conocieron': 'Instagram'}\n",
            "{'_key': '266226963083', '_id': 'Amigos/266226963083', '_rev': '_gSMFSwy--B', 'id': 1004, 'ia1': 'alumno4', 'ia2': 'alumno888', 'conocieron': 'InVivo'}\n",
            "{'_key': '266226963084', '_id': 'Amigos/266226963084', '_rev': '_gSMFSwy--C', 'id': 1005, 'ia1': 'alumno5', 'ia2': 'alumno4', 'conocieron': 'Facebook'}\n",
            "{'_key': '266226963085', '_id': 'Amigos/266226963085', '_rev': '_gSMFSwy--D', 'id': 1006, 'ia1': 'alumno6', 'ia2': 'alumno498', 'conocieron': 'Facebook'}\n",
            "{'_key': '266226963086', '_id': 'Amigos/266226963086', '_rev': '_gSMFSwy--E', 'id': 1007, 'ia1': 'alumno7', 'ia2': 'alumno233', 'conocieron': 'Facebook'}\n",
            "{'_key': '266226963087', '_id': 'Amigos/266226963087', '_rev': '_gSMFSwy--F', 'id': 1008, 'ia1': 'alumno8', 'ia2': 'alumno722', 'conocieron': 'Tinder'}\n",
            "{'_key': '266226963088', '_id': 'Amigos/266226963088', '_rev': '_gSMFSwy--G', 'id': 1009, 'ia1': 'alumno9', 'ia2': 'alumno240', 'conocieron': 'Tinder'}\n",
            "{'_key': '266226963089', '_id': 'Amigos/266226963089', '_rev': '_gSMFSwy--H', 'id': 1010, 'ia1': 'alumno10', 'ia2': 'alumno707', 'conocieron': 'Facebook'}\n"
          ]
        }
      ]
    },
    {
      "cell_type": "code",
      "source": [
        "# Determinar los amigos del alumno90\n",
        "query = \"\"\"\n",
        "FOR a IN Amigos\n",
        "   FILTER a.ia1 == \"alumno90\" || a.ia2 == \"alumno90\"\n",
        "     FOR b in [a.ia1, a.ia2]\n",
        "      FILTER b != \"alumno90\"\n",
        "      RETURN DISTINCT b\n",
        "\"\"\"\n",
        "query_result = aql.execute(query)\n",
        "for doc in query_result:\n",
        "    print(doc)"
      ],
      "metadata": {
        "colab": {
          "base_uri": "https://localhost:8080/"
        },
        "id": "mcvLPrkuiIao",
        "outputId": "c4ff37c2-8c7b-4847-c78b-f2c7f2e16331"
      },
      "execution_count": 87,
      "outputs": [
        {
          "output_type": "stream",
          "name": "stdout",
          "text": [
            "alumno1\n",
            "alumno197\n"
          ]
        }
      ]
    },
    {
      "cell_type": "code",
      "source": [
        "# Determinar los 10 alumnos mas amistosos\n",
        "query = \"\"\"\n",
        "FOR a IN Amigos\n",
        "   FOR b in [a.ia1, a.ia2]\n",
        "    COLLECT amigo = b INTO amigos\n",
        "    LET count = LENGTH(amigos)\n",
        "    SORT count DESC\n",
        "    LIMIT 10\n",
        "    RETURN {\"Alumno\":amigo, \"Amigos\":count}\n",
        "\"\"\"\n",
        "query_result = aql.execute(query)\n",
        "for doc in query_result:\n",
        "    print(doc)"
      ],
      "metadata": {
        "colab": {
          "base_uri": "https://localhost:8080/"
        },
        "id": "g6nT4-npnbdb",
        "outputId": "70dae9e2-766a-4609-f1cc-2cefc29f7a01"
      },
      "execution_count": 88,
      "outputs": [
        {
          "output_type": "stream",
          "name": "stdout",
          "text": [
            "{'Alumno': 'alumno156', 'Amigos': 6}\n",
            "{'Alumno': 'alumno206', 'Amigos': 6}\n",
            "{'Alumno': 'alumno496', 'Amigos': 6}\n",
            "{'Alumno': 'alumno9', 'Amigos': 6}\n",
            "{'Alumno': 'alumno482', 'Amigos': 6}\n",
            "{'Alumno': 'alumno708', 'Amigos': 6}\n",
            "{'Alumno': 'alumno872', 'Amigos': 5}\n",
            "{'Alumno': 'alumno326', 'Amigos': 5}\n",
            "{'Alumno': 'alumno377', 'Amigos': 5}\n",
            "{'Alumno': 'alumno964', 'Amigos': 5}\n"
          ]
        }
      ]
    },
    {
      "cell_type": "markdown",
      "source": [
        "# Segunda parte: ArangoDB-Grafos"
      ],
      "metadata": {
        "id": "BO-eOyO_8Maj"
      }
    },
    {
      "cell_type": "markdown",
      "metadata": {
        "id": "cTIT0ffjd50i"
      },
      "source": [
        "## Configuración del entorno"
      ]
    },
    {
      "cell_type": "code",
      "execution_count": 1,
      "metadata": {
        "id": "r2KGTMwUlvFn"
      },
      "outputs": [],
      "source": [
        "%%capture\n",
        "!git clone https://github.com/joerg84/ArangoDBUniversity.git\n",
        "!rsync -av ArangoDBUniversity/ ./ --exclude=.git\n",
        "!wget \"https://raw.githubusercontent.com/adigenova/uohpmd/main/data/nosql/aeropuertos.csv.gz\"\n",
        "!wget \"https://raw.githubusercontent.com/adigenova/uohpmd/main/data/nosql/vuelos.csv.gz\"\n",
        "!pip3 install pyarango\n",
        "!pip3 install \"python-arango>=5.0\""
      ]
    },
    {
      "cell_type": "code",
      "execution_count": 2,
      "metadata": {
        "id": "hdHIAso1lvFo"
      },
      "outputs": [],
      "source": [
        "import json\n",
        "import requests\n",
        "import sys\n",
        "import oasis\n",
        "import time\n",
        "from IPython.display import JSON\n",
        "\n",
        "from arango import ArangoClient"
      ]
    },
    {
      "cell_type": "code",
      "execution_count": 7,
      "metadata": {
        "id": "wag0VrQDlvFp",
        "colab": {
          "base_uri": "https://localhost:8080/"
        },
        "outputId": "aecdc0ac-007a-4044-f1ac-c77739b27d6a"
      },
      "outputs": [
        {
          "output_type": "stream",
          "name": "stdout",
          "text": [
            "Reusing cached credentials.\n"
          ]
        }
      ],
      "source": [
        "# Retrieve tmp credentials from ArangoDB Tutorial Service\n",
        "login = oasis.getTempCredentials(tutorialName=\"Pregel\", credentialProvider='https://tutorials.arangodb.cloud:8529/_db/_system/tutorialDB/tutorialDB')\n",
        "\n",
        "# Connect to the temp database\n",
        "db = oasis.connect_python_arango(login)"
      ]
    },
    {
      "cell_type": "code",
      "execution_count": 8,
      "metadata": {
        "id": "pxnn2UBSlvFq",
        "colab": {
          "base_uri": "https://localhost:8080/"
        },
        "outputId": "83aa690c-f484-486d-ec91-05b0f4b4bb18"
      },
      "outputs": [
        {
          "output_type": "stream",
          "name": "stdout",
          "text": [
            "https://tutorials.arangodb.cloud:8529\n",
            "Username: TUTapag8oxl06cjana4wntsc\n",
            "Password: TUT7m2keodczjbd0jq9n265j\n",
            "Database: TUT1jlevb8f0g40o506wdtifm\n"
          ]
        }
      ],
      "source": [
        "print(\"https://{}:{}\".format(login[\"hostname\"], login[\"port\"]))\n",
        "print(\"Username: \" + login[\"username\"])\n",
        "print(\"Password: \" + login[\"password\"])\n",
        "print(\"Database: \" + login[\"dbName\"])"
      ]
    },
    {
      "cell_type": "markdown",
      "source": [
        "## Cargando datos en arangoDB"
      ],
      "metadata": {
        "id": "VVdqQnsApX-e"
      }
    },
    {
      "cell_type": "code",
      "source": [
        "%%capture\n",
        "! zcat /content/aeropuertos.csv.gz | wc -l\n",
        "! zcat /content/vuelos.csv.gz | wc -l\n",
        "! zcat /content/aeropuertos.csv.gz > /content/aeropuertos.csv\n",
        "! zcat /content/vuelos.csv.gz > /content/vuelos.csv\n",
        "! echo \":::AEROPUERTOS:::\"\n",
        "! head /content/aeropuertos.csv\n",
        "! echo \":::VUELOS:::\"\n",
        "! head /content/vuelos.csv"
      ],
      "metadata": {
        "id": "cOJT7vyApfB3"
      },
      "execution_count": null,
      "outputs": []
    },
    {
      "cell_type": "code",
      "execution_count": null,
      "metadata": {
        "id": "2CEzdVMJkCrd"
      },
      "outputs": [],
      "source": [
        "%%capture\n",
        "# cargamos los aeropuertos A LA db\n",
        "! ./tools/arangoimport  -c none --server.endpoint http+ssl://{login[\"hostname\"]}:{login[\"port\"]} --server.username {login[\"username\"]} --server.database {login[\"dbName\"]} --server.password {login[\"password\"]} --file /content/aeropuertos.csv --collection airports --create-collection true --type csv\n",
        "# CARGAMOS los vuelos a la DB\n",
        "! ./tools/arangoimport  -c none --server.endpoint http+ssl://{login[\"hostname\"]}:{login[\"port\"]} --server.username {login[\"username\"]} --server.database {login[\"dbName\"]} --server.password {login[\"password\"]} --file /content/vuelos.csv --collection flights --create-collection true --type csv --create-collection-type edge\n",
        "\n",
        "aql = db.aql"
      ]
    },
    {
      "cell_type": "markdown",
      "source": [
        "## Consultas"
      ],
      "metadata": {
        "id": "zqF48Myb3gk4"
      }
    },
    {
      "cell_type": "markdown",
      "source": [
        "### Ejemplo 1\n",
        "\n",
        "Liste los vuelos del avión \"N802AE\" retornado el origen (_from), destino(_to) y distancia (Distance). Ordene los resultados por distancia y despliegue los top 10 vuelos."
      ],
      "metadata": {
        "id": "O-TXo0_h29KR"
      }
    },
    {
      "cell_type": "code",
      "source": [
        "query = \"\"\"\n",
        "FOR f IN flights\n",
        "    FILTER f.TailNum == \"N802AE\"\n",
        "    SORT f.Distance DESC\n",
        "    LIMIT 10\n",
        "    RETURN {origen:f._from, destino:f._to, distancia:f.Distance}\n",
        "\"\"\"\n",
        "query_result = aql.execute(query)\n",
        "for doc in query_result:\n",
        "    print(doc)"
      ],
      "metadata": {
        "id": "KM65tI5khu7c"
      },
      "execution_count": null,
      "outputs": []
    },
    {
      "cell_type": "markdown",
      "source": [
        "### Ejemplo 2\n",
        "Calcule la distancia, mínima, máxima, promedio y desviación standard de los vuelos del avión “N802AE\"."
      ],
      "metadata": {
        "id": "e_3jTuNh3K54"
      }
    },
    {
      "cell_type": "code",
      "source": [
        "query = \"\"\"\n",
        "LET data = (\n",
        "    FOR f IN flights\n",
        "        FILTER f.TailNum == \"N802AE\"\n",
        "        RETURN f.Distance\n",
        ")\n",
        "let mean = AVG(data)\n",
        "LET std = STDDEV(data)\n",
        "return {minimo:MIN(data), maximo:MAX(data), promedio:mean, desviacion:std}\n",
        "\"\"\"\n",
        "\n",
        "query_result = aql.execute(query)\n",
        "for doc in query_result:\n",
        "    print(doc)"
      ],
      "metadata": {
        "id": "R09Xoz08jqAM",
        "colab": {
          "base_uri": "https://localhost:8080/"
        },
        "outputId": "0496b075-68b5-46c8-b2a0-872f03bf1c7e"
      },
      "execution_count": null,
      "outputs": [
        {
          "output_type": "stream",
          "name": "stdout",
          "text": [
            "{'minimo': 89, 'maximo': 1021, 'promedio': 565.0298507462686, 'desviacion': 302.7851792617578}\n"
          ]
        }
      ]
    },
    {
      "cell_type": "markdown",
      "source": [
        "### Ejemplo 3\n",
        "\n",
        "Liste todos los aeropuertos distintos (_from, y _to) que el avión “N802AE” a visitado."
      ],
      "metadata": {
        "id": "e8MW5vxx3KU3"
      }
    },
    {
      "cell_type": "code",
      "source": [
        "query = \"\"\"\n",
        "FOR f IN flights\n",
        "    FILTER f.TailNum == \"N802AE\"\n",
        "    FOR a in [f._from, f._to]\n",
        "        RETURN DISTINCT {aeropuerto:a}\n",
        "\"\"\"\n",
        "query_result = aql.execute(query)\n",
        "for doc in query_result:\n",
        "    print(doc)"
      ],
      "metadata": {
        "id": "vzOITyrVkNVY"
      },
      "execution_count": null,
      "outputs": []
    },
    {
      "cell_type": "markdown",
      "source": [
        "### Ejemplo 4\n",
        "\n",
        "Determine los 5 aviones con más vuelos efectuados."
      ],
      "metadata": {
        "id": "_qNuUf-c3Msj"
      }
    },
    {
      "cell_type": "code",
      "source": [
        "query = \"\"\"\n",
        "FOR f IN flights\n",
        "    COLLECT plane = f.TailNum INTO trips\n",
        "    LET count = LENGTH(trips)\n",
        "    SORT count DESC\n",
        "    LIMIT 5\n",
        "    RETURN {plane:plane, count:count}\n",
        "\"\"\"\n",
        "query_result = aql.execute(query)\n",
        "for doc in query_result:\n",
        "    print(doc)"
      ],
      "metadata": {
        "colab": {
          "base_uri": "https://localhost:8080/"
        },
        "id": "N0PINBy4kzKn",
        "outputId": "933c3f85-bc76-4790-b505-2b706ee64433"
      },
      "execution_count": null,
      "outputs": [
        {
          "output_type": "stream",
          "name": "stdout",
          "text": [
            "{'plane': 'N484HA', 'count': 200}\n",
            "{'plane': 'N651BR', 'count': 196}\n",
            "{'plane': 'N837AL', 'count': 194}\n",
            "{'plane': 'N481HA', 'count': 192}\n",
            "{'plane': 'N835AL', 'count': 192}\n"
          ]
        }
      ]
    },
    {
      "cell_type": "markdown",
      "source": [
        "### Ejemplo 5\n",
        "\n",
        "Construya el grafo de vuelos del avión con más vuelos efectuados.*texto en cursiva*"
      ],
      "metadata": {
        "id": "d4JembMr3L-Q"
      }
    },
    {
      "cell_type": "code",
      "source": [
        "graph = \"\"\"\n",
        "FOR f IN flights\n",
        "FILTER f.TailNum == \"N484HA\"\n",
        "RETURN f\n",
        "\"\"\"\n",
        "\n",
        "query = \"\"\"\n",
        "FOR f IN flights\n",
        "FILTER f.TailNum == \"N484HA\"\n",
        "RETURN DISTINCT {_from: f._from, _to: f._to}\n",
        "\"\"\"\n",
        "\n",
        "query_result = aql.execute(query)\n",
        "for doc in query_result:\n",
        "    print(doc)"
      ],
      "metadata": {
        "colab": {
          "base_uri": "https://localhost:8080/"
        },
        "id": "ABhTKcKglfwk",
        "outputId": "4b34ca9d-bda0-4deb-dea6-d13de9cc2cef"
      },
      "execution_count": null,
      "outputs": [
        {
          "output_type": "stream",
          "name": "stdout",
          "text": [
            "{'_from': 'airports/HNL', '_to': 'airports/LIH'}\n",
            "{'_from': 'airports/LIH', '_to': 'airports/HNL'}\n",
            "{'_from': 'airports/HNL', '_to': 'airports/OGG'}\n",
            "{'_from': 'airports/OGG', '_to': 'airports/HNL'}\n",
            "{'_from': 'airports/HNL', '_to': 'airports/KOA'}\n",
            "{'_from': 'airports/KOA', '_to': 'airports/HNL'}\n",
            "{'_from': 'airports/HNL', '_to': 'airports/ITO'}\n",
            "{'_from': 'airports/ITO', '_to': 'airports/HNL'}\n",
            "{'_from': 'airports/LIH', '_to': 'airports/OGG'}\n",
            "{'_from': 'airports/OGG', '_to': 'airports/KOA'}\n",
            "{'_from': 'airports/ITO', '_to': 'airports/OGG'}\n"
          ]
        }
      ]
    },
    {
      "cell_type": "markdown",
      "source": [
        "#### Representación en grafo\n",
        "\n",
        "# <center><img src=\"https://raw.githubusercontent.com/Vicente-G/file-deposit/main/graph1.png\" alt=\"graph\" width=\"500\"/></center>"
      ],
      "metadata": {
        "id": "USVX--mk48md"
      }
    },
    {
      "cell_type": "markdown",
      "source": [
        "### Ejemplo 6\n",
        "\n",
        "Determine todos los destinos (caminos) a los que se puede llegar desde\n",
        "aeropuerto ATL (OUTBOUND) y dibuje el grafo de conexiones."
      ],
      "metadata": {
        "id": "0zvTSs1f3Nk3"
      }
    },
    {
      "cell_type": "code",
      "source": [
        "graph = \"\"\"\n",
        "WITH airports\n",
        "FOR a, f IN 1..3 OUTBOUND 'airports/ATL' flights\n",
        "OPTIONS { bfs: true, uniqueVertices: 'global' }\n",
        "RETURN f\n",
        "\"\"\"\n",
        "query = \"\"\"\n",
        "WITH airports\n",
        "FOR airport IN 1..3 OUTBOUND 'airports/ATL' flights\n",
        "OPTIONS { bfs: true, uniqueVertices: 'global' }\n",
        "RETURN airport._key\n",
        "\"\"\"\n",
        "query_result = aql.execute(query)\n",
        "data = [d for d in query_result]\n",
        "print(f\"There is {len(data)} airports reachable from ATL,\")\n",
        "print(\"and those airports are:\\n\")\n",
        "for j in range(0, 285, 19):\n",
        "    for i in range(j, j+19):\n",
        "        print(data[i], end=\" \")\n",
        "    print()"
      ],
      "metadata": {
        "id": "FsdD-QV6vL3h",
        "colab": {
          "base_uri": "https://localhost:8080/"
        },
        "outputId": "4878e072-0510-4fc2-fdc0-194b6e11da1d"
      },
      "execution_count": null,
      "outputs": [
        {
          "output_type": "stream",
          "name": "stdout",
          "text": [
            "There is 285 airports reachable from ATL,\n",
            "and those airports are:\n",
            "\n",
            "CHS MSP LGA MIA IAH DFW ORD BOS PHL DTW LAX MCO SLC MEM HOU DCA DEN CVG SFO \n",
            "PBI CAK EWR PHF TPA BWI PHX JAX MDW MSY FLL RSW LAS RIC DAY PIT IAD RDU BUF \n",
            "AUS MKE ROC SJC SEA ORF SAT SAN SRQ ONT CLT SDF ELP GSP IND BNA SWF SAV HPN \n",
            "PNS BDL SJU SGF EGE STL MLI EWN GPT CHA FNT PIA CAE ATW TLH HDN TYS JAN CLE \n",
            "STT BTR SYR HNL ICT ROA MCI GRK GSO LEX AGS ILM XNA DAB MOB OMA TUS BHM MLB \n",
            "SHV LIT COS ABQ OKC BMI FAY EVV SNA TRI JFK GNV PWM VPS MYR CSG MDT PFN AVL \n",
            "ABY EYW MLU PVD DSM TUL CMH ABE HHH GRR BQK CHO OAJ FWA ALB LFT GTR CRW AEX \n",
            "PDX BTV RNO ISP LYH SCE MCN OAK MEI FSM CID SMF MFE AVP MHT ACY VLD SBN MSN \n",
            "TOL TUP MGM BZN BGR FSD DHN FLO CRP GRB HSV JAC STX MTJ BIS MOT BIL GFK PSP \n",
            "DLH RAP BOI LSE LNK RST SUX GEG ANC FAR GTF RHI TVC AZO FCA HLN LAN CPR IDA \n",
            "CMX ALO MSO DAL BRO MAF HRL LBB LRD LCH AMA BPT CLL TYR SPS ACT SJT BUR TXK \n",
            "ABI LAW GGG OGG GUC FAT ROW SBA CMI LGB DBQ ASE CWA SPI MBS MQT ELM BGM ERI \n",
            "PLN SBP YUM LIH SMX MRY OXR KOA CLD IYK IPL MOD SGU BFL EUG BQN PSE TWF SUN \n",
            "GJT LWS YKM COD PSC PIH MFR DRO SLE RDM BTM EKO BLI CDC RFD PMD ACV CIC CEC \n",
            "RDD TEX FLG KTN JNU FAI ITO ADQ OME BET SCC CDV OTZ ADK WRG SIT YAK PSG BRW \n"
          ]
        }
      ]
    },
    {
      "cell_type": "markdown",
      "source": [
        "#### Representación en grafo\n",
        "\n",
        "# <center><img src=\"https://raw.githubusercontent.com/Vicente-G/file-deposit/main/graph2.png\" alt=\"graph\" width=\"500\"/></center>"
      ],
      "metadata": {
        "id": "ycQItszELs8G"
      }
    },
    {
      "cell_type": "markdown",
      "source": [
        "### Ejemplo 7\n",
        "\n",
        "Determine todos los destinos (caminos) a los que se puede llegar desde aeropuerto ATL (OUTBOUND) y calcule para cada uno de ellos la distancia\n",
        "entre las escalas y la distancia total."
      ],
      "metadata": {
        "id": "0K3n1CT63N5y"
      }
    },
    {
      "cell_type": "code",
      "source": [
        "query = \"\"\"\n",
        "WITH airports\n",
        "FOR a, f, p IN 1..3 OUTBOUND 'airports/ATL' flights\n",
        "OPTIONS { bfs: true, uniqueVertices: 'global' }\n",
        "LET dists = (\n",
        "    FOR e in p.edges\n",
        "    RETURN e.Distance\n",
        ")\n",
        "RETURN {destiny:a._key, layovers:dists, distance:SUM(dists)}\n",
        "\"\"\"\n",
        "query_result = aql.execute(query)\n",
        "for doc in  query_result:\n",
        "    print(doc)"
      ],
      "metadata": {
        "id": "EaHjT_SnvL6K"
      },
      "execution_count": null,
      "outputs": []
    }
  ]
}