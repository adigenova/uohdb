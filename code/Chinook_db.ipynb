{
  "nbformat": 4,
  "nbformat_minor": 0,
  "metadata": {
    "colab": {
      "name": "Chinook_db.ipynb",
      "provenance": [],
      "include_colab_link": true
    },
    "kernelspec": {
      "name": "python3",
      "display_name": "Python 3"
    },
    "language_info": {
      "name": "python"
    }
  },
  "cells": [
    {
      "cell_type": "markdown",
      "metadata": {
        "id": "view-in-github",
        "colab_type": "text"
      },
      "source": [
        "<a href=\"https://colab.research.google.com/github/adigenova/uohdb/blob/main/code/Chinook_db.ipynb\" target=\"_parent\"><img src=\"https://colab.research.google.com/assets/colab-badge.svg\" alt=\"Open In Colab\"/></a>"
      ]
    },
    {
      "cell_type": "markdown",
      "source": [
        "# Working with the Chinook database\n",
        "\n",
        "## downloading the database from github"
      ],
      "metadata": {
        "id": "ptktIQpcEka9"
      }
    },
    {
      "cell_type": "code",
      "execution_count": 1,
      "metadata": {
        "colab": {
          "base_uri": "https://localhost:8080/"
        },
        "id": "4BcjS8dwEWS-",
        "outputId": "064d967d-778e-41bc-bd51-ef2b340de619"
      },
      "outputs": [
        {
          "output_type": "stream",
          "name": "stdout",
          "text": [
            "Looking in indexes: https://pypi.org/simple, https://us-python.pkg.dev/colab-wheels/public/simple/\n",
            "Collecting SQLAlchemy==1.4.46\n",
            "  Downloading SQLAlchemy-1.4.46-cp39-cp39-manylinux_2_5_x86_64.manylinux1_x86_64.manylinux_2_17_x86_64.manylinux2014_x86_64.whl (1.6 MB)\n",
            "\u001b[2K     \u001b[90m━━━━━━━━━━━━━━━━━━━━━━━━━━━━━━━━━━━━━━━━\u001b[0m \u001b[32m1.6/1.6 MB\u001b[0m \u001b[31m16.2 MB/s\u001b[0m eta \u001b[36m0:00:00\u001b[0m\n",
            "\u001b[?25hRequirement already satisfied: greenlet!=0.4.17 in /usr/local/lib/python3.9/dist-packages (from SQLAlchemy==1.4.46) (2.0.2)\n",
            "Installing collected packages: SQLAlchemy\n",
            "  Attempting uninstall: SQLAlchemy\n",
            "    Found existing installation: SQLAlchemy 2.0.10\n",
            "    Uninstalling SQLAlchemy-2.0.10:\n",
            "      Successfully uninstalled SQLAlchemy-2.0.10\n",
            "Successfully installed SQLAlchemy-1.4.46\n",
            "Cloning into 'chinook-database'...\n",
            "remote: Enumerating objects: 1960, done.\u001b[K\n",
            "remote: Counting objects: 100% (75/75), done.\u001b[K\n",
            "remote: Compressing objects: 100% (54/54), done.\u001b[K\n",
            "remote: Total 1960 (delta 33), reused 50 (delta 21), pack-reused 1885\u001b[K\n",
            "Receiving objects: 100% (1960/1960), 19.57 MiB | 11.27 MiB/s, done.\n",
            "Resolving deltas: 100% (1277/1277), done.\n"
          ]
        }
      ],
      "source": [
        "#download the Chinook database\n",
        "!pip install SQLAlchemy==1.4.46\n",
        "!git clone https://github.com/lerocha/chinook-database.git"
      ]
    },
    {
      "cell_type": "code",
      "source": [
        "# load the SQL magic extension\n",
        "# https://github.com/catherinedevlin/ipython-sql\n",
        "# this extension allows us to connect to DBs and issue SQL command\n",
        "%load_ext sql\n",
        "# now we can use the magic extension to connect to our SQLite DB\n",
        "# use %sql to write an inline SQL command\n",
        "# use %%sql to write SQL commands in a cell\n",
        "%sql sqlite:////content/chinook-database/ChinookDatabase/DataSources/Chinook_Sqlite.sqlite"
      ],
      "metadata": {
        "id": "i3VBK1_EEzlS"
      },
      "execution_count": 2,
      "outputs": []
    },
    {
      "cell_type": "markdown",
      "source": [
        "## getting information from the Chinook database\n",
        "\n",
        "We get information about the database engine\n",
        "\n"
      ],
      "metadata": {
        "id": "6D-BwyLnFIW8"
      }
    },
    {
      "cell_type": "code",
      "source": [
        "%%sql\n",
        "SELECT sqlite_version();"
      ],
      "metadata": {
        "colab": {
          "base_uri": "https://localhost:8080/",
          "height": 97
        },
        "id": "RU2gwe-2FOk0",
        "outputId": "5f5514f6-f6d4-499b-e84e-cd375369822a"
      },
      "execution_count": 3,
      "outputs": [
        {
          "output_type": "stream",
          "name": "stdout",
          "text": [
            " * sqlite:////content/chinook-database/ChinookDatabase/DataSources/Chinook_Sqlite.sqlite\n",
            "Done.\n"
          ]
        },
        {
          "output_type": "execute_result",
          "data": {
            "text/plain": [
              "[('3.31.1',)]"
            ],
            "text/html": [
              "<table>\n",
              "    <tr>\n",
              "        <th>sqlite_version()</th>\n",
              "    </tr>\n",
              "    <tr>\n",
              "        <td>3.31.1</td>\n",
              "    </tr>\n",
              "</table>"
            ]
          },
          "metadata": {},
          "execution_count": 3
        }
      ]
    },
    {
      "cell_type": "markdown",
      "source": [
        "We are using [SQLite](https://www.sqlite.org/index.html) 3.22. It's a fast Relational Database engine writing in C. SQLite DB is self-contained: one database is just a file.  SQLite is the most used DB engine in the world. It's built into millions of mobile phones.\n",
        "\n",
        "### Display tables of the Chinook database\n"
      ],
      "metadata": {
        "id": "qAIQdCKNFnfz"
      }
    },
    {
      "cell_type": "code",
      "source": [
        "%%sql\n",
        "SELECT name FROM sqlite_master WHERE type='table' AND name NOT LIKE 'sqlite_%';"
      ],
      "metadata": {
        "id": "ILTPAZ7aGr3o"
      },
      "execution_count": null,
      "outputs": []
    },
    {
      "cell_type": "markdown",
      "source": [
        "getting information about a particular table\n"
      ],
      "metadata": {
        "id": "mUpUSWNlJgvM"
      }
    },
    {
      "cell_type": "code",
      "source": [
        "%%sql \n",
        "PRAGMA table_info([Artist]);"
      ],
      "metadata": {
        "id": "cUK2Md-oJnv0"
      },
      "execution_count": null,
      "outputs": []
    },
    {
      "cell_type": "code",
      "source": [
        "%%sql\n",
        "PRAGMA table_info([Employee]);"
      ],
      "metadata": {
        "id": "x6DaPJvvKW4F"
      },
      "execution_count": null,
      "outputs": []
    },
    {
      "cell_type": "code",
      "source": [
        "%%sql \n",
        "SELECT sql \n",
        "FROM sqlite_master \n",
        "WHERE tbl_name = 'Employee';"
      ],
      "metadata": {
        "id": "zGv7XzzwMCmB"
      },
      "execution_count": null,
      "outputs": []
    },
    {
      "cell_type": "markdown",
      "source": [
        "getting the SQL code that generate a table\n",
        "\n",
        "\n",
        "## Create automatic documentation with [schemaspy](https://schemaspy.org/)\n",
        "\n",
        "<img src=\"https://schemaspy.org/sample/diagrams/summary/relationships.real.large.png\" alt=\"ER Diagram\" width=\"836\" height=\"605\" />\n",
        "\n",
        "\n",
        "In the above ER diagram, the tiny vertical key icon indicates a column is a primary key. A primary key is a column (or set of columns) whose values uniquely identify every row in a table. For example, `Employeeud` is the primary key in the `Employee` table.\n",
        "\n",
        "The relationship icon indicates a foreign key constraint and a one-to-many relationship. \n",
        "\n",
        "\n"
      ],
      "metadata": {
        "id": "wA1MJwgRL7UL"
      }
    },
    {
      "cell_type": "markdown",
      "source": [
        "# Visualizations with matlibPlot\n",
        "\n"
      ],
      "metadata": {
        "id": "EVxhvaEtNAMt"
      }
    },
    {
      "cell_type": "code",
      "source": [
        "#we select the genderID from Track and use the Group by to order\n",
        "%%sql \n",
        "select GenreId,COUNT(GenreId) from Track group by GenreId order by COUNT(GenreId);"
      ],
      "metadata": {
        "id": "bw_Bp7J3NFlR"
      },
      "execution_count": null,
      "outputs": []
    },
    {
      "cell_type": "code",
      "source": [
        "\n",
        "result = %sql select GenreId,COUNT(GenreId) from Track group by GenreId order by COUNT(GenreId);\n",
        "%matplotlib inline\n",
        "result.pie()"
      ],
      "metadata": {
        "colab": {
          "base_uri": "https://localhost:8080/",
          "height": 1000
        },
        "id": "WvrJK4qvNTmZ",
        "outputId": "0510610c-9789-4345-e91a-67528bad1548"
      },
      "execution_count": 9,
      "outputs": [
        {
          "output_type": "stream",
          "name": "stdout",
          "text": [
            " * sqlite:////content/chinook-database/ChinookDatabase/DataSources/Chinook_Sqlite.sqlite\n",
            "Done.\n"
          ]
        },
        {
          "output_type": "execute_result",
          "data": {
            "text/plain": [
              "([<matplotlib.patches.Wedge at 0x7f6ec8ae0400>,\n",
              "  <matplotlib.patches.Wedge at 0x7f6ec8ae0490>,\n",
              "  <matplotlib.patches.Wedge at 0x7f6ec8af0c70>,\n",
              "  <matplotlib.patches.Wedge at 0x7f6ec8a96130>,\n",
              "  <matplotlib.patches.Wedge at 0x7f6ec8a965b0>,\n",
              "  <matplotlib.patches.Wedge at 0x7f6ec8a96a30>,\n",
              "  <matplotlib.patches.Wedge at 0x7f6ec8a96eb0>,\n",
              "  <matplotlib.patches.Wedge at 0x7f6ec8aa6370>,\n",
              "  <matplotlib.patches.Wedge at 0x7f6ec8aa67f0>,\n",
              "  <matplotlib.patches.Wedge at 0x7f6ec8aa6c70>,\n",
              "  <matplotlib.patches.Wedge at 0x7f6ec8ae03d0>,\n",
              "  <matplotlib.patches.Wedge at 0x7f6ec8ab4580>,\n",
              "  <matplotlib.patches.Wedge at 0x7f6ec8ab4a00>,\n",
              "  <matplotlib.patches.Wedge at 0x7f6ec8ab4e80>,\n",
              "  <matplotlib.patches.Wedge at 0x7f6ec8a44340>,\n",
              "  <matplotlib.patches.Wedge at 0x7f6ec8a447c0>,\n",
              "  <matplotlib.patches.Wedge at 0x7f6ec8a44c40>,\n",
              "  <matplotlib.patches.Wedge at 0x7f6ec8a52100>,\n",
              "  <matplotlib.patches.Wedge at 0x7f6ec8a52580>,\n",
              "  <matplotlib.patches.Wedge at 0x7f6ec8a52a00>,\n",
              "  <matplotlib.patches.Wedge at 0x7f6ec8a52e80>,\n",
              "  <matplotlib.patches.Wedge at 0x7f6ec8a61340>,\n",
              "  <matplotlib.patches.Wedge at 0x7f6ec8a617c0>,\n",
              "  <matplotlib.patches.Wedge at 0x7f6ec8a61c40>,\n",
              "  <matplotlib.patches.Wedge at 0x7f6ec8a6e100>],\n",
              " [Text(1.099999557633573, 0.0009865120090909278, '25'),\n",
              "  Text(1.0999132973185322, 0.01381080670614299, '5'),\n",
              "  Text(1.0993272292408907, 0.03846612860096677, '18'),\n",
              "  Text(1.0980148145051614, 0.06605654492324219, '11'),\n",
              "  Text(1.0956672140776675, 0.09753643419401385, '22'),\n",
              "  Text(1.0913410023248564, 0.13774910759993292, '12'),\n",
              "  Text(1.08406917435208, 0.18653156628195608, '20'),\n",
              "  Text(1.0737681990793713, 0.23879249285905985, '13'),\n",
              "  Text(1.0604266054107625, 0.29239598926286087, '16'),\n",
              "  Text(1.0437899056790356, 0.3471348913643662, '15'),\n",
              "  Text(1.0217925288197627, 0.40735737141742556, '17'),\n",
              "  Text(0.992102908478928, 0.47511242773437523, '23'),\n",
              "  Text(0.9540224255386923, 0.5475775849770244, '10'),\n",
              "  Text(0.9062080753916403, 0.6235278053904089, '9'),\n",
              "  Text(0.842930648557247, 0.7067304448818228, '8'),\n",
              "  Text(0.7628537573503251, 0.7924986718578723, '14'),\n",
              "  Text(0.669409266901983, 0.8728638114767675, '21'),\n",
              "  Text(0.5565369112673118, 0.948823833172966, '24'),\n",
              "  Text(0.4196982439628641, 1.0167858102936371, '6'),\n",
              "  Text(0.25657405185648685, 1.0696587100163981, '19'),\n",
              "  Text(0.038959068000941705, 1.0993098703370665, '2'),\n",
              "  Text(-0.40689915971174784, 1.021975084738309, '4'),\n",
              "  Text(-0.9327251023098185, 0.5831156690753033, '3'),\n",
              "  Text(-1.0521768888112366, -0.3208173852077014, '7'),\n",
              "  Text(0.43605677977585316, -1.009878450513483, '1')])"
            ]
          },
          "metadata": {},
          "execution_count": 9
        },
        {
          "output_type": "display_data",
          "data": {
            "text/plain": [
              "<Figure size 640x480 with 1 Axes>"
            ],
            "image/png": "[encoded data removed]"
          },
          "metadata": {}
        }
      ]
    }
  ]
}