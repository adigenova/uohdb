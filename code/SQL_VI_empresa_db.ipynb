{
  "nbformat": 4,
  "nbformat_minor": 0,
  "metadata": {
    "colab": {
      "name": "SQL_VI_empresa_db.ipynb",
      "provenance": [],
      "collapsed_sections": [],
      "authorship_tag": "ABX9TyMvENXC0Mrh+GFN+nwWrGCN",
      "include_colab_link": true
    },
    "kernelspec": {
      "name": "python3",
      "display_name": "Python 3"
    },
    "language_info": {
      "name": "python"
    }
  },
  "cells": [
    {
      "cell_type": "markdown",
      "metadata": {
        "id": "view-in-github",
        "colab_type": "text"
      },
      "source": [
        "<a href=\"https://colab.research.google.com/github/adigenova/uohdb/blob/main/code/SQL_VI_empresa_db.ipynb\" target=\"_parent\"><img src=\"https://colab.research.google.com/assets/colab-badge.svg\" alt=\"Open In Colab\"/></a>"
      ]
    },
    {
      "cell_type": "markdown",
      "source": [
        "# Base de datos empresa\n",
        "\n",
        "## descargando la base de datos de github"
      ],
      "metadata": {
        "id": "ptktIQpcEka9"
      }
    },
    {
      "cell_type": "code",
      "execution_count": 2,
      "metadata": {
        "colab": {
          "base_uri": "https://localhost:8080/"
        },
        "id": "4BcjS8dwEWS-",
        "outputId": "99e6144c-c35d-4a34-915c-99e2a5aa8009"
      },
      "outputs": [
        {
          "output_type": "stream",
          "name": "stdout",
          "text": [
            "Cloning into 'northwind-SQLite3'...\n",
            "remote: Enumerating objects: 35, done.\u001b[K\n",
            "remote: Counting objects: 100% (10/10), done.\u001b[K\n",
            "remote: Compressing objects: 100% (10/10), done.\u001b[K\n",
            "remote: Total 35 (delta 4), reused 0 (delta 0), pack-reused 25\u001b[K\n",
            "Unpacking objects: 100% (35/35), done.\n"
          ]
        }
      ],
      "source": [
        "#download the empresa database\n",
        "!git clone https://github.com/jpwhite3/northwind-SQLite3.git"
      ]
    },
    {
      "cell_type": "code",
      "source": [
        "!unzip /content/northwind-SQLite3/Northwind_large.sqlite.zip"
      ],
      "metadata": {
        "colab": {
          "base_uri": "https://localhost:8080/"
        },
        "id": "n4lklsDFq6K5",
        "outputId": "88f5e7f4-db87-4565-ca1b-115081c40f09"
      },
      "execution_count": 3,
      "outputs": [
        {
          "output_type": "stream",
          "name": "stdout",
          "text": [
            "Archive:  /content/northwind-SQLite3/Northwind_large.sqlite.zip\n",
            "  inflating: Northwind_large.sqlite  \n",
            "   creating: __MACOSX/\n",
            "  inflating: __MACOSX/._Northwind_large.sqlite  \n"
          ]
        }
      ]
    },
    {
      "cell_type": "code",
      "source": [
        "# load the SQL magic extension\n",
        "# https://github.com/catherinedevlin/ipython-sql\n",
        "# this extension allows us to connect to DBs and issue SQL command\n",
        "%load_ext sql\n",
        "# now we can use the magic extension to connect to our SQLite DB\n",
        "# use %sql to write an inline SQL command\n",
        "# use %%sql to write SQL commands in a cell\n",
        "%sql sqlite:////content/Northwind_large.sqlite"
      ],
      "metadata": {
        "colab": {
          "base_uri": "https://localhost:8080/",
          "height": 35
        },
        "id": "i3VBK1_EEzlS",
        "outputId": "20cd0aab-c64b-42e5-dca9-c60ad9152b2b"
      },
      "execution_count": 4,
      "outputs": [
        {
          "output_type": "execute_result",
          "data": {
            "text/plain": [
              "'Connected: @/content/Northwind_large.sqlite'"
            ],
            "application/vnd.google.colaboratory.intrinsic+json": {
              "type": "string"
            }
          },
          "metadata": {},
          "execution_count": 4
        }
      ]
    },
    {
      "cell_type": "markdown",
      "source": [
        "\n",
        "### Display tables of the empresa database\n"
      ],
      "metadata": {
        "id": "qAIQdCKNFnfz"
      }
    },
    {
      "cell_type": "code",
      "source": [
        "%%sql\n",
        "SELECT name FROM sqlite_master WHERE type='table' AND name NOT LIKE 'sqlite_%';"
      ],
      "metadata": {
        "colab": {
          "base_uri": "https://localhost:8080/",
          "height": 354
        },
        "id": "ILTPAZ7aGr3o",
        "outputId": "25d5d276-5dc1-4ce2-87aa-80bcf178ba5a"
      },
      "execution_count": 4,
      "outputs": [
        {
          "output_type": "stream",
          "name": "stdout",
          "text": [
            " * sqlite:////content/Northwind_large.sqlite\n",
            "Done.\n"
          ]
        },
        {
          "output_type": "execute_result",
          "data": {
            "text/plain": [
              "[('Employee',),\n",
              " ('Category',),\n",
              " ('Customer',),\n",
              " ('Shipper',),\n",
              " ('Supplier',),\n",
              " ('Order',),\n",
              " ('Product',),\n",
              " ('OrderDetail',),\n",
              " ('CustomerCustomerDemo',),\n",
              " ('CustomerDemographic',),\n",
              " ('Region',),\n",
              " ('Territory',),\n",
              " ('EmployeeTerritory',)]"
            ],
            "text/html": [
              "<table>\n",
              "    <thead>\n",
              "        <tr>\n",
              "            <th>name</th>\n",
              "        </tr>\n",
              "    </thead>\n",
              "    <tbody>\n",
              "        <tr>\n",
              "            <td>Employee</td>\n",
              "        </tr>\n",
              "        <tr>\n",
              "            <td>Category</td>\n",
              "        </tr>\n",
              "        <tr>\n",
              "            <td>Customer</td>\n",
              "        </tr>\n",
              "        <tr>\n",
              "            <td>Shipper</td>\n",
              "        </tr>\n",
              "        <tr>\n",
              "            <td>Supplier</td>\n",
              "        </tr>\n",
              "        <tr>\n",
              "            <td>Order</td>\n",
              "        </tr>\n",
              "        <tr>\n",
              "            <td>Product</td>\n",
              "        </tr>\n",
              "        <tr>\n",
              "            <td>OrderDetail</td>\n",
              "        </tr>\n",
              "        <tr>\n",
              "            <td>CustomerCustomerDemo</td>\n",
              "        </tr>\n",
              "        <tr>\n",
              "            <td>CustomerDemographic</td>\n",
              "        </tr>\n",
              "        <tr>\n",
              "            <td>Region</td>\n",
              "        </tr>\n",
              "        <tr>\n",
              "            <td>Territory</td>\n",
              "        </tr>\n",
              "        <tr>\n",
              "            <td>EmployeeTerritory</td>\n",
              "        </tr>\n",
              "    </tbody>\n",
              "</table>"
            ]
          },
          "metadata": {},
          "execution_count": 4
        }
      ]
    },
    {
      "cell_type": "markdown",
      "source": [
        "getting information about a particular table\n"
      ],
      "metadata": {
        "id": "mUpUSWNlJgvM"
      }
    },
    {
      "cell_type": "code",
      "source": [
        "%%sql \n",
        "PRAGMA table_info([Employee]);"
      ],
      "metadata": {
        "colab": {
          "base_uri": "https://localhost:8080/",
          "height": 461
        },
        "id": "cUK2Md-oJnv0",
        "outputId": "332607a6-69b1-4708-fbca-7e257762e714"
      },
      "execution_count": 5,
      "outputs": [
        {
          "output_type": "stream",
          "name": "stdout",
          "text": [
            " * sqlite:////content/Northwind_large.sqlite\n",
            "Done.\n"
          ]
        },
        {
          "output_type": "execute_result",
          "data": {
            "text/plain": [
              "[(0, 'Id', 'INTEGER', 0, None, 1),\n",
              " (1, 'LastName', 'VARCHAR(8000)', 0, None, 0),\n",
              " (2, 'FirstName', 'VARCHAR(8000)', 0, None, 0),\n",
              " (3, 'Title', 'VARCHAR(8000)', 0, None, 0),\n",
              " (4, 'TitleOfCourtesy', 'VARCHAR(8000)', 0, None, 0),\n",
              " (5, 'BirthDate', 'VARCHAR(8000)', 0, None, 0),\n",
              " (6, 'HireDate', 'VARCHAR(8000)', 0, None, 0),\n",
              " (7, 'Address', 'VARCHAR(8000)', 0, None, 0),\n",
              " (8, 'City', 'VARCHAR(8000)', 0, None, 0),\n",
              " (9, 'Region', 'VARCHAR(8000)', 0, None, 0),\n",
              " (10, 'PostalCode', 'VARCHAR(8000)', 0, None, 0),\n",
              " (11, 'Country', 'VARCHAR(8000)', 0, None, 0),\n",
              " (12, 'HomePhone', 'VARCHAR(8000)', 0, None, 0),\n",
              " (13, 'Extension', 'VARCHAR(8000)', 0, None, 0),\n",
              " (14, 'Photo', 'BLOB', 0, None, 0),\n",
              " (15, 'Notes', 'VARCHAR(8000)', 0, None, 0),\n",
              " (16, 'ReportsTo', 'INTEGER', 0, None, 0),\n",
              " (17, 'PhotoPath', 'VARCHAR(8000)', 0, None, 0)]"
            ],
            "text/html": [
              "<table>\n",
              "    <thead>\n",
              "        <tr>\n",
              "            <th>cid</th>\n",
              "            <th>name</th>\n",
              "            <th>type</th>\n",
              "            <th>notnull</th>\n",
              "            <th>dflt_value</th>\n",
              "            <th>pk</th>\n",
              "        </tr>\n",
              "    </thead>\n",
              "    <tbody>\n",
              "        <tr>\n",
              "            <td>0</td>\n",
              "            <td>Id</td>\n",
              "            <td>INTEGER</td>\n",
              "            <td>0</td>\n",
              "            <td>None</td>\n",
              "            <td>1</td>\n",
              "        </tr>\n",
              "        <tr>\n",
              "            <td>1</td>\n",
              "            <td>LastName</td>\n",
              "            <td>VARCHAR(8000)</td>\n",
              "            <td>0</td>\n",
              "            <td>None</td>\n",
              "            <td>0</td>\n",
              "        </tr>\n",
              "        <tr>\n",
              "            <td>2</td>\n",
              "            <td>FirstName</td>\n",
              "            <td>VARCHAR(8000)</td>\n",
              "            <td>0</td>\n",
              "            <td>None</td>\n",
              "            <td>0</td>\n",
              "        </tr>\n",
              "        <tr>\n",
              "            <td>3</td>\n",
              "            <td>Title</td>\n",
              "            <td>VARCHAR(8000)</td>\n",
              "            <td>0</td>\n",
              "            <td>None</td>\n",
              "            <td>0</td>\n",
              "        </tr>\n",
              "        <tr>\n",
              "            <td>4</td>\n",
              "            <td>TitleOfCourtesy</td>\n",
              "            <td>VARCHAR(8000)</td>\n",
              "            <td>0</td>\n",
              "            <td>None</td>\n",
              "            <td>0</td>\n",
              "        </tr>\n",
              "        <tr>\n",
              "            <td>5</td>\n",
              "            <td>BirthDate</td>\n",
              "            <td>VARCHAR(8000)</td>\n",
              "            <td>0</td>\n",
              "            <td>None</td>\n",
              "            <td>0</td>\n",
              "        </tr>\n",
              "        <tr>\n",
              "            <td>6</td>\n",
              "            <td>HireDate</td>\n",
              "            <td>VARCHAR(8000)</td>\n",
              "            <td>0</td>\n",
              "            <td>None</td>\n",
              "            <td>0</td>\n",
              "        </tr>\n",
              "        <tr>\n",
              "            <td>7</td>\n",
              "            <td>Address</td>\n",
              "            <td>VARCHAR(8000)</td>\n",
              "            <td>0</td>\n",
              "            <td>None</td>\n",
              "            <td>0</td>\n",
              "        </tr>\n",
              "        <tr>\n",
              "            <td>8</td>\n",
              "            <td>City</td>\n",
              "            <td>VARCHAR(8000)</td>\n",
              "            <td>0</td>\n",
              "            <td>None</td>\n",
              "            <td>0</td>\n",
              "        </tr>\n",
              "        <tr>\n",
              "            <td>9</td>\n",
              "            <td>Region</td>\n",
              "            <td>VARCHAR(8000)</td>\n",
              "            <td>0</td>\n",
              "            <td>None</td>\n",
              "            <td>0</td>\n",
              "        </tr>\n",
              "        <tr>\n",
              "            <td>10</td>\n",
              "            <td>PostalCode</td>\n",
              "            <td>VARCHAR(8000)</td>\n",
              "            <td>0</td>\n",
              "            <td>None</td>\n",
              "            <td>0</td>\n",
              "        </tr>\n",
              "        <tr>\n",
              "            <td>11</td>\n",
              "            <td>Country</td>\n",
              "            <td>VARCHAR(8000)</td>\n",
              "            <td>0</td>\n",
              "            <td>None</td>\n",
              "            <td>0</td>\n",
              "        </tr>\n",
              "        <tr>\n",
              "            <td>12</td>\n",
              "            <td>HomePhone</td>\n",
              "            <td>VARCHAR(8000)</td>\n",
              "            <td>0</td>\n",
              "            <td>None</td>\n",
              "            <td>0</td>\n",
              "        </tr>\n",
              "        <tr>\n",
              "            <td>13</td>\n",
              "            <td>Extension</td>\n",
              "            <td>VARCHAR(8000)</td>\n",
              "            <td>0</td>\n",
              "            <td>None</td>\n",
              "            <td>0</td>\n",
              "        </tr>\n",
              "        <tr>\n",
              "            <td>14</td>\n",
              "            <td>Photo</td>\n",
              "            <td>BLOB</td>\n",
              "            <td>0</td>\n",
              "            <td>None</td>\n",
              "            <td>0</td>\n",
              "        </tr>\n",
              "        <tr>\n",
              "            <td>15</td>\n",
              "            <td>Notes</td>\n",
              "            <td>VARCHAR(8000)</td>\n",
              "            <td>0</td>\n",
              "            <td>None</td>\n",
              "            <td>0</td>\n",
              "        </tr>\n",
              "        <tr>\n",
              "            <td>16</td>\n",
              "            <td>ReportsTo</td>\n",
              "            <td>INTEGER</td>\n",
              "            <td>0</td>\n",
              "            <td>None</td>\n",
              "            <td>0</td>\n",
              "        </tr>\n",
              "        <tr>\n",
              "            <td>17</td>\n",
              "            <td>PhotoPath</td>\n",
              "            <td>VARCHAR(8000)</td>\n",
              "            <td>0</td>\n",
              "            <td>None</td>\n",
              "            <td>0</td>\n",
              "        </tr>\n",
              "    </tbody>\n",
              "</table>"
            ]
          },
          "metadata": {},
          "execution_count": 5
        }
      ]
    },
    {
      "cell_type": "markdown",
      "source": [
        "getting the SQL code that generate a table\n",
        "\n",
        "\n",
        "## Create automatic documentation with [schemaspy](https://schemaspy.org/)\n",
        "\n",
        "<img src=\"https://github.com/jpwhite3/northwind-SQLite3/blob/master/Northwind_ERD.png?raw=true\" alt=\"ER Diagram\" width=\"836\" height=\"605\" />\n",
        "\n",
        "\n",
        "The relationship icon indicates a foreign key constraint and a one-to-many relationship. \n",
        "\n",
        "\n"
      ],
      "metadata": {
        "id": "wA1MJwgRL7UL"
      }
    },
    {
      "cell_type": "markdown",
      "source": [
        "# SQL con empresa\n",
        "\n"
      ],
      "metadata": {
        "id": "EVxhvaEtNAMt"
      }
    },
    {
      "cell_type": "markdown",
      "source": [
        "\n",
        "\n",
        "## Consultas Avanzadas"
      ],
      "metadata": {
        "id": "dpgxU6l_rLf6"
      }
    },
    {
      "cell_type": "code",
      "source": [
        "# Determine si los empleados son 'experimentados' o 'Junior' en función de la fecha de contratación\n",
        "%%sql\n",
        "select LastName ||\" \"||FirstName \"Nombre\",HireDate as \"Fecha Contrato\", \n",
        "CASE WHEN HireDate < '2025-01-01' THEN 'Experimentado'\n",
        "     WHEN HireDate >= '2025-01-01' THEN 'Junior'\n",
        "     ELSE 'Otro' END AS \"Estado\"\n",
        "FROM Employee"
      ],
      "metadata": {
        "colab": {
          "base_uri": "https://localhost:8080/",
          "height": 268
        },
        "id": "2g923v8SncSb",
        "outputId": "6e87b630-0f2a-440b-8d2c-ccacaa1f2662"
      },
      "execution_count": 18,
      "outputs": [
        {
          "output_type": "stream",
          "name": "stdout",
          "text": [
            " * sqlite:////content/Northwind_large.sqlite\n",
            "Done.\n"
          ]
        },
        {
          "output_type": "execute_result",
          "data": {
            "text/plain": [
              "[('Davolio Nancy', '2024-05-01', 'Experimentado'),\n",
              " ('Fuller Andrew', '2024-08-14', 'Experimentado'),\n",
              " ('Leverling Janet', '2024-04-01', 'Experimentado'),\n",
              " ('Peacock Margaret', '2025-05-03', 'Junior'),\n",
              " ('Buchanan Steven', '2025-10-17', 'Junior'),\n",
              " ('Suyama Michael', '2025-10-17', 'Junior'),\n",
              " ('King Robert', '2026-01-02', 'Junior'),\n",
              " ('Callahan Laura', '2026-03-05', 'Junior'),\n",
              " ('Dodsworth Anne', '2026-11-15', 'Junior')]"
            ],
            "text/html": [
              "<table>\n",
              "    <thead>\n",
              "        <tr>\n",
              "            <th>Nombre</th>\n",
              "            <th>Fecha Contrato</th>\n",
              "            <th>Estado</th>\n",
              "        </tr>\n",
              "    </thead>\n",
              "    <tbody>\n",
              "        <tr>\n",
              "            <td>Davolio Nancy</td>\n",
              "            <td>2024-05-01</td>\n",
              "            <td>Experimentado</td>\n",
              "        </tr>\n",
              "        <tr>\n",
              "            <td>Fuller Andrew</td>\n",
              "            <td>2024-08-14</td>\n",
              "            <td>Experimentado</td>\n",
              "        </tr>\n",
              "        <tr>\n",
              "            <td>Leverling Janet</td>\n",
              "            <td>2024-04-01</td>\n",
              "            <td>Experimentado</td>\n",
              "        </tr>\n",
              "        <tr>\n",
              "            <td>Peacock Margaret</td>\n",
              "            <td>2025-05-03</td>\n",
              "            <td>Junior</td>\n",
              "        </tr>\n",
              "        <tr>\n",
              "            <td>Buchanan Steven</td>\n",
              "            <td>2025-10-17</td>\n",
              "            <td>Junior</td>\n",
              "        </tr>\n",
              "        <tr>\n",
              "            <td>Suyama Michael</td>\n",
              "            <td>2025-10-17</td>\n",
              "            <td>Junior</td>\n",
              "        </tr>\n",
              "        <tr>\n",
              "            <td>King Robert</td>\n",
              "            <td>2026-01-02</td>\n",
              "            <td>Junior</td>\n",
              "        </tr>\n",
              "        <tr>\n",
              "            <td>Callahan Laura</td>\n",
              "            <td>2026-03-05</td>\n",
              "            <td>Junior</td>\n",
              "        </tr>\n",
              "        <tr>\n",
              "            <td>Dodsworth Anne</td>\n",
              "            <td>2026-11-15</td>\n",
              "            <td>Junior</td>\n",
              "        </tr>\n",
              "    </tbody>\n",
              "</table>"
            ]
          },
          "metadata": {},
          "execution_count": 18
        }
      ]
    },
    {
      "cell_type": "code",
      "source": [
        "#Ordenando resultados basado en una condicion\n",
        "%%sql\n",
        "SELECT FirstName \"Nombre\", LastName \"Apellido\", \n",
        "BirthDate \"Fecha Nacimiento\", City \"Ciudad\", \n",
        "PostalCode \"Codigo Postal\" \n",
        "FROM Employee\n",
        "ORDER BY \n",
        "CASE WHEN Birthdate > '1990-01-01' \n",
        "     THEN City \n",
        "     ELSE PostalCode \n",
        "    END"
      ],
      "metadata": {
        "colab": {
          "base_uri": "https://localhost:8080/",
          "height": 268
        },
        "id": "iJWtObIPph2b",
        "outputId": "914ca202-fc39-4b40-a42b-07d4f568c3ff"
      },
      "execution_count": 33,
      "outputs": [
        {
          "output_type": "stream",
          "name": "stdout",
          "text": [
            " * sqlite:////content/Northwind_large.sqlite\n",
            "Done.\n"
          ]
        },
        {
          "output_type": "execute_result",
          "data": {
            "text/plain": [
              "[('Margaret', 'Peacock', '1969-09-19', 'Redmond', '98052'),\n",
              " ('Nancy', 'Davolio', '1980-12-08', 'Seattle', '98122'),\n",
              " ('Andrew', 'Fuller', '1984-02-19', 'Tacoma', '98401'),\n",
              " ('Janet', 'Leverling', '1995-08-30', 'Kirkland', '98033'),\n",
              " ('Michael', 'Suyama', '1995-07-02', 'London', 'EC2 7JR'),\n",
              " ('Robert', 'King', '1992-05-29', 'London', 'RG1 9SP'),\n",
              " ('Anne', 'Dodsworth', '1998-01-27', 'London', 'WG2 7LT'),\n",
              " ('Steven', 'Buchanan', '1987-03-04', 'London', 'SW1 8JR'),\n",
              " ('Laura', 'Callahan', '1990-01-09', 'Seattle', '98105')]"
            ],
            "text/html": [
              "<table>\n",
              "    <thead>\n",
              "        <tr>\n",
              "            <th>Nombre</th>\n",
              "            <th>Apellido</th>\n",
              "            <th>Fecha Nacimiento</th>\n",
              "            <th>Ciudad</th>\n",
              "            <th>Codigo Postal</th>\n",
              "        </tr>\n",
              "    </thead>\n",
              "    <tbody>\n",
              "        <tr>\n",
              "            <td>Margaret</td>\n",
              "            <td>Peacock</td>\n",
              "            <td>1969-09-19</td>\n",
              "            <td>Redmond</td>\n",
              "            <td>98052</td>\n",
              "        </tr>\n",
              "        <tr>\n",
              "            <td>Nancy</td>\n",
              "            <td>Davolio</td>\n",
              "            <td>1980-12-08</td>\n",
              "            <td>Seattle</td>\n",
              "            <td>98122</td>\n",
              "        </tr>\n",
              "        <tr>\n",
              "            <td>Andrew</td>\n",
              "            <td>Fuller</td>\n",
              "            <td>1984-02-19</td>\n",
              "            <td>Tacoma</td>\n",
              "            <td>98401</td>\n",
              "        </tr>\n",
              "        <tr>\n",
              "            <td>Janet</td>\n",
              "            <td>Leverling</td>\n",
              "            <td>1995-08-30</td>\n",
              "            <td>Kirkland</td>\n",
              "            <td>98033</td>\n",
              "        </tr>\n",
              "        <tr>\n",
              "            <td>Michael</td>\n",
              "            <td>Suyama</td>\n",
              "            <td>1995-07-02</td>\n",
              "            <td>London</td>\n",
              "            <td>EC2 7JR</td>\n",
              "        </tr>\n",
              "        <tr>\n",
              "            <td>Robert</td>\n",
              "            <td>King</td>\n",
              "            <td>1992-05-29</td>\n",
              "            <td>London</td>\n",
              "            <td>RG1 9SP</td>\n",
              "        </tr>\n",
              "        <tr>\n",
              "            <td>Anne</td>\n",
              "            <td>Dodsworth</td>\n",
              "            <td>1998-01-27</td>\n",
              "            <td>London</td>\n",
              "            <td>WG2 7LT</td>\n",
              "        </tr>\n",
              "        <tr>\n",
              "            <td>Steven</td>\n",
              "            <td>Buchanan</td>\n",
              "            <td>1987-03-04</td>\n",
              "            <td>London</td>\n",
              "            <td>SW1 8JR</td>\n",
              "        </tr>\n",
              "        <tr>\n",
              "            <td>Laura</td>\n",
              "            <td>Callahan</td>\n",
              "            <td>1990-01-09</td>\n",
              "            <td>Seattle</td>\n",
              "            <td>98105</td>\n",
              "        </tr>\n",
              "    </tbody>\n",
              "</table>"
            ]
          },
          "metadata": {},
          "execution_count": 33
        }
      ]
    },
    {
      "cell_type": "code",
      "source": [
        "# Cual es la categoria de productos que vende mas unidades?\n",
        "%%sql\n",
        "SELECT c.CategoryName \"Categoria\", SUM(o.Quantity) AS \"Total productos\"\n",
        "FROM OrderDetail o\n",
        "JOIN Product p\n",
        "ON o.ProductId = p.Id\n",
        "JOIN Category c\n",
        "ON p.Id = c.Id\n",
        "GROUP BY 1\n",
        "ORDER BY 2 Desc"
      ],
      "metadata": {
        "colab": {
          "base_uri": "https://localhost:8080/",
          "height": 247
        },
        "id": "QWiB50aKonqc",
        "outputId": "95c58d70-b451-48f1-d7e0-ac1e6dafebb5"
      },
      "execution_count": 11,
      "outputs": [
        {
          "output_type": "stream",
          "name": "stdout",
          "text": [
            " * sqlite:////content/Northwind_large.sqlite\n",
            "Done.\n"
          ]
        },
        {
          "output_type": "execute_result",
          "data": {
            "text/plain": [
              "[('Confections', 209901),\n",
              " ('Condiments', 209418),\n",
              " ('Grains/Cereals', 206906),\n",
              " ('Meat/Poultry', 205879),\n",
              " ('Produce', 205437),\n",
              " ('Dairy Products', 204578),\n",
              " ('Beverages', 203353),\n",
              " ('Seafood', 203223)]"
            ],
            "text/html": [
              "<table>\n",
              "    <thead>\n",
              "        <tr>\n",
              "            <th>Categoria</th>\n",
              "            <th>Total productos</th>\n",
              "        </tr>\n",
              "    </thead>\n",
              "    <tbody>\n",
              "        <tr>\n",
              "            <td>Confections</td>\n",
              "            <td>209901</td>\n",
              "        </tr>\n",
              "        <tr>\n",
              "            <td>Condiments</td>\n",
              "            <td>209418</td>\n",
              "        </tr>\n",
              "        <tr>\n",
              "            <td>Grains/Cereals</td>\n",
              "            <td>206906</td>\n",
              "        </tr>\n",
              "        <tr>\n",
              "            <td>Meat/Poultry</td>\n",
              "            <td>205879</td>\n",
              "        </tr>\n",
              "        <tr>\n",
              "            <td>Produce</td>\n",
              "            <td>205437</td>\n",
              "        </tr>\n",
              "        <tr>\n",
              "            <td>Dairy Products</td>\n",
              "            <td>204578</td>\n",
              "        </tr>\n",
              "        <tr>\n",
              "            <td>Beverages</td>\n",
              "            <td>203353</td>\n",
              "        </tr>\n",
              "        <tr>\n",
              "            <td>Seafood</td>\n",
              "            <td>203223</td>\n",
              "        </tr>\n",
              "    </tbody>\n",
              "</table>"
            ]
          },
          "metadata": {},
          "execution_count": 11
        }
      ]
    },
    {
      "cell_type": "code",
      "source": [
        "# Cual es la categoria de productos que produce más dinero? \n",
        "%%sql\n",
        "SELECT c.CategoryName \"Categoria\", \n",
        "SUM(o.Quantity) \"Total Productos\", \n",
        "SUM(o.Quantity * o.UnitPrice) \"Total Vendido\"\n",
        "FROM OrderDetail o\n",
        "JOIN Product p\n",
        "ON o.ProductId = p.Id\n",
        "JOIN Category c\n",
        "ON p.Id = c.Id\n",
        "GROUP BY 1\n",
        "ORDER BY 3 Desc"
      ],
      "metadata": {
        "colab": {
          "base_uri": "https://localhost:8080/",
          "height": 247
        },
        "id": "YNZ6g9lZkWKX",
        "outputId": "27fff86c-a2d9-4661-f5f2-06955b5412a9"
      },
      "execution_count": 12,
      "outputs": [
        {
          "output_type": "stream",
          "name": "stdout",
          "text": [
            " * sqlite:////content/Northwind_large.sqlite\n",
            "Done.\n"
          ]
        },
        {
          "output_type": "execute_result",
          "data": {
            "text/plain": [
              "[('Seafood', 203223, 8127800),\n",
              " ('Produce', 205437, 6162684),\n",
              " ('Meat/Poultry', 205879, 5146795),\n",
              " ('Dairy Products', 204578, 4500174.8),\n",
              " ('Grains/Cereals', 206906, 4416881.949999999),\n",
              " ('Condiments', 209418, 3977418.2),\n",
              " ('Beverages', 203353, 3659727.6),\n",
              " ('Confections', 209901, 2098810)]"
            ],
            "text/html": [
              "<table>\n",
              "    <thead>\n",
              "        <tr>\n",
              "            <th>Categoria</th>\n",
              "            <th>Total Productos</th>\n",
              "            <th>Total Vendido</th>\n",
              "        </tr>\n",
              "    </thead>\n",
              "    <tbody>\n",
              "        <tr>\n",
              "            <td>Seafood</td>\n",
              "            <td>203223</td>\n",
              "            <td>8127800</td>\n",
              "        </tr>\n",
              "        <tr>\n",
              "            <td>Produce</td>\n",
              "            <td>205437</td>\n",
              "            <td>6162684</td>\n",
              "        </tr>\n",
              "        <tr>\n",
              "            <td>Meat/Poultry</td>\n",
              "            <td>205879</td>\n",
              "            <td>5146795</td>\n",
              "        </tr>\n",
              "        <tr>\n",
              "            <td>Dairy Products</td>\n",
              "            <td>204578</td>\n",
              "            <td>4500174.8</td>\n",
              "        </tr>\n",
              "        <tr>\n",
              "            <td>Grains/Cereals</td>\n",
              "            <td>206906</td>\n",
              "            <td>4416881.949999999</td>\n",
              "        </tr>\n",
              "        <tr>\n",
              "            <td>Condiments</td>\n",
              "            <td>209418</td>\n",
              "            <td>3977418.2</td>\n",
              "        </tr>\n",
              "        <tr>\n",
              "            <td>Beverages</td>\n",
              "            <td>203353</td>\n",
              "            <td>3659727.6</td>\n",
              "        </tr>\n",
              "        <tr>\n",
              "            <td>Confections</td>\n",
              "            <td>209901</td>\n",
              "            <td>2098810</td>\n",
              "        </tr>\n",
              "    </tbody>\n",
              "</table>"
            ]
          },
          "metadata": {},
          "execution_count": 12
        }
      ]
    },
    {
      "cell_type": "code",
      "source": [
        "#Determine los 10 productos que generan más vendidos inluyendo precio promedio, descuento promedio y precio venta\n",
        "%%sql\n",
        "SELECT p.Id \"ID producto\", p.ProductName \"Nombre\", c.CategoryName \"Categoria\", \n",
        "    AVG(o.UnitPrice) AS  \"Precio Promedio\", \n",
        "    AVG(o.Discount) AS  \"Descuento Promedio\", \n",
        "    SUM(o.UnitPrice*o.Quantity*(1-o.Discount)) AS \"Venta Total\"\n",
        " FROM Product p\n",
        "  JOIN OrderDetail o\n",
        "   ON p.Id = o.ProductId\n",
        "    JOIN Category c\n",
        "    ON p.CategoryId = c.Id\n",
        "GROUP BY p.Id\n",
        "ORDER BY \"Venta Total\" DESC limit 10;"
      ],
      "metadata": {
        "colab": {
          "base_uri": "https://localhost:8080/",
          "height": 290
        },
        "id": "qI9IcHz_-wKB",
        "outputId": "26a26940-80f9-482b-8cb8-0daf03f1911b"
      },
      "execution_count": 18,
      "outputs": [
        {
          "output_type": "stream",
          "name": "stdout",
          "text": [
            " * sqlite:////content/Northwind_large.sqlite\n",
            "Done.\n"
          ]
        },
        {
          "output_type": "execute_result",
          "data": {
            "text/plain": [
              "[(38, 'Côte de Blaye', 'Beverages', 263.4479249011858, 0.0001358695652173913, 54009228.735),\n",
              " (29, 'Thüringer Rostbratwurst', 'Meat/Poultry', 123.7597387695445, 0.000250244140625, 25791923.041999985),\n",
              " (9, 'Mishi Kobe Niku', 'Meat/Poultry', 96.9975924547034, 6.205013651030033e-05, 19899792.5),\n",
              " (20, \"Sir Rodney's Marmalade\", 'Confections', 80.98998763906057, 9.147095179233625e-05, 16816617.36),\n",
              " (18, 'Carnarvon Tigers', 'Seafood', 62.49071667285555, 0.0002661220448075257, 12940859.375),\n",
              " (59, 'Raclette Courdavault', 'Dairy Products', 54.97427058968361, 0.00031392342730518274, 11358970.7),\n",
              " (51, 'Manjimup Dried Apples', 'Produce', 52.988335982393934, 0.00024452867098667317, 11083309.65),\n",
              " (62, 'Tarte au sucre', 'Confections', 49.28288043477547, 0.00032114624505928847, 10185139.069999997),\n",
              " (43, 'Ipoh Coffee', 'Beverages', 45.9898180029513, 0.00017215937038858828, 9548562.7),\n",
              " (28, 'Rössle Sauerkraut', 'Produce', 45.58516681135679, 0.0001550291454793501, 9334526.240000056)]"
            ],
            "text/html": [
              "<table>\n",
              "    <thead>\n",
              "        <tr>\n",
              "            <th>ID producto</th>\n",
              "            <th>Nombre</th>\n",
              "            <th>Categoria</th>\n",
              "            <th>Precio Promedio</th>\n",
              "            <th>Descuento Promedio</th>\n",
              "            <th>Venta Total</th>\n",
              "        </tr>\n",
              "    </thead>\n",
              "    <tbody>\n",
              "        <tr>\n",
              "            <td>38</td>\n",
              "            <td>Côte de Blaye</td>\n",
              "            <td>Beverages</td>\n",
              "            <td>263.4479249011858</td>\n",
              "            <td>0.0001358695652173913</td>\n",
              "            <td>54009228.735</td>\n",
              "        </tr>\n",
              "        <tr>\n",
              "            <td>29</td>\n",
              "            <td>Thüringer Rostbratwurst</td>\n",
              "            <td>Meat/Poultry</td>\n",
              "            <td>123.7597387695445</td>\n",
              "            <td>0.000250244140625</td>\n",
              "            <td>25791923.041999985</td>\n",
              "        </tr>\n",
              "        <tr>\n",
              "            <td>9</td>\n",
              "            <td>Mishi Kobe Niku</td>\n",
              "            <td>Meat/Poultry</td>\n",
              "            <td>96.9975924547034</td>\n",
              "            <td>6.205013651030033e-05</td>\n",
              "            <td>19899792.5</td>\n",
              "        </tr>\n",
              "        <tr>\n",
              "            <td>20</td>\n",
              "            <td>Sir Rodney&#x27;s Marmalade</td>\n",
              "            <td>Confections</td>\n",
              "            <td>80.98998763906057</td>\n",
              "            <td>9.147095179233625e-05</td>\n",
              "            <td>16816617.36</td>\n",
              "        </tr>\n",
              "        <tr>\n",
              "            <td>18</td>\n",
              "            <td>Carnarvon Tigers</td>\n",
              "            <td>Seafood</td>\n",
              "            <td>62.49071667285555</td>\n",
              "            <td>0.0002661220448075257</td>\n",
              "            <td>12940859.375</td>\n",
              "        </tr>\n",
              "        <tr>\n",
              "            <td>59</td>\n",
              "            <td>Raclette Courdavault</td>\n",
              "            <td>Dairy Products</td>\n",
              "            <td>54.97427058968361</td>\n",
              "            <td>0.00031392342730518274</td>\n",
              "            <td>11358970.7</td>\n",
              "        </tr>\n",
              "        <tr>\n",
              "            <td>51</td>\n",
              "            <td>Manjimup Dried Apples</td>\n",
              "            <td>Produce</td>\n",
              "            <td>52.988335982393934</td>\n",
              "            <td>0.00024452867098667317</td>\n",
              "            <td>11083309.65</td>\n",
              "        </tr>\n",
              "        <tr>\n",
              "            <td>62</td>\n",
              "            <td>Tarte au sucre</td>\n",
              "            <td>Confections</td>\n",
              "            <td>49.28288043477547</td>\n",
              "            <td>0.00032114624505928847</td>\n",
              "            <td>10185139.069999997</td>\n",
              "        </tr>\n",
              "        <tr>\n",
              "            <td>43</td>\n",
              "            <td>Ipoh Coffee</td>\n",
              "            <td>Beverages</td>\n",
              "            <td>45.9898180029513</td>\n",
              "            <td>0.00017215937038858828</td>\n",
              "            <td>9548562.7</td>\n",
              "        </tr>\n",
              "        <tr>\n",
              "            <td>28</td>\n",
              "            <td>Rössle Sauerkraut</td>\n",
              "            <td>Produce</td>\n",
              "            <td>45.58516681135679</td>\n",
              "            <td>0.0001550291454793501</td>\n",
              "            <td>9334526.240000056</td>\n",
              "        </tr>\n",
              "    </tbody>\n",
              "</table>"
            ]
          },
          "metadata": {},
          "execution_count": 18
        }
      ]
    },
    {
      "cell_type": "code",
      "source": [
        "# Cuales son los productos más caros por proveedor?\n",
        "%%sql\n",
        "SELECT s.companyname \"Nombre Proveedor\", p.productname \"Nombre Producto\", p.unitprice \"Precio Unidad\"\n",
        "FROM supplier as s\n",
        "JOIN product as p ON s.id = p.supplierid\n",
        "WHERE p.unitprice = (SELECT MAX(p2.unitprice) FROM product as p2 WHERE p2.supplierid = s.id)\n",
        "ORDER BY p.unitprice DESC, s.companyname ASC, p.productname ASC\n",
        " limit 10"
      ],
      "metadata": {
        "colab": {
          "base_uri": "https://localhost:8080/",
          "height": 290
        },
        "id": "4YD8ZGuFbdLX",
        "outputId": "adca84df-2f2e-4391-defd-25002503ecc9"
      },
      "execution_count": 28,
      "outputs": [
        {
          "output_type": "stream",
          "name": "stdout",
          "text": [
            " * sqlite:////content/Northwind_large.sqlite\n",
            "Done.\n"
          ]
        },
        {
          "output_type": "execute_result",
          "data": {
            "text/plain": [
              "[('Aux joyeux ecclésiastiques', 'Côte de Blaye', 263.5),\n",
              " ('Plutzer Lebensmittelgroßmärkte AG', 'Thüringer Rostbratwurst', 123.79),\n",
              " ('Tokyo Traders', 'Mishi Kobe Niku', 97),\n",
              " ('Specialty Biscuits, Ltd.', \"Sir Rodney's Marmalade\", 81),\n",
              " ('Pavlova, Ltd.', 'Carnarvon Tigers', 62.5),\n",
              " ('Gai pâturage', 'Raclette Courdavault', 55),\n",
              " (\"G'day, Mate\", 'Manjimup Dried Apples', 53),\n",
              " (\"Forêts d'érables\", 'Tarte au sucre', 49.3),\n",
              " ('Leka Trading', 'Ipoh Coffee', 46),\n",
              " ('Heli Süßwaren GmbH & Co. KG', 'Schoggi Schokolade', 43.9)]"
            ],
            "text/html": [
              "<table>\n",
              "    <thead>\n",
              "        <tr>\n",
              "            <th>Nombre Proveedor</th>\n",
              "            <th>Nombre Producto</th>\n",
              "            <th>Precio Unidad</th>\n",
              "        </tr>\n",
              "    </thead>\n",
              "    <tbody>\n",
              "        <tr>\n",
              "            <td>Aux joyeux ecclésiastiques</td>\n",
              "            <td>Côte de Blaye</td>\n",
              "            <td>263.5</td>\n",
              "        </tr>\n",
              "        <tr>\n",
              "            <td>Plutzer Lebensmittelgroßmärkte AG</td>\n",
              "            <td>Thüringer Rostbratwurst</td>\n",
              "            <td>123.79</td>\n",
              "        </tr>\n",
              "        <tr>\n",
              "            <td>Tokyo Traders</td>\n",
              "            <td>Mishi Kobe Niku</td>\n",
              "            <td>97</td>\n",
              "        </tr>\n",
              "        <tr>\n",
              "            <td>Specialty Biscuits, Ltd.</td>\n",
              "            <td>Sir Rodney&#x27;s Marmalade</td>\n",
              "            <td>81</td>\n",
              "        </tr>\n",
              "        <tr>\n",
              "            <td>Pavlova, Ltd.</td>\n",
              "            <td>Carnarvon Tigers</td>\n",
              "            <td>62.5</td>\n",
              "        </tr>\n",
              "        <tr>\n",
              "            <td>Gai pâturage</td>\n",
              "            <td>Raclette Courdavault</td>\n",
              "            <td>55</td>\n",
              "        </tr>\n",
              "        <tr>\n",
              "            <td>G&#x27;day, Mate</td>\n",
              "            <td>Manjimup Dried Apples</td>\n",
              "            <td>53</td>\n",
              "        </tr>\n",
              "        <tr>\n",
              "            <td>Forêts d&#x27;érables</td>\n",
              "            <td>Tarte au sucre</td>\n",
              "            <td>49.3</td>\n",
              "        </tr>\n",
              "        <tr>\n",
              "            <td>Leka Trading</td>\n",
              "            <td>Ipoh Coffee</td>\n",
              "            <td>46</td>\n",
              "        </tr>\n",
              "        <tr>\n",
              "            <td>Heli Süßwaren GmbH &amp; Co. KG</td>\n",
              "            <td>Schoggi Schokolade</td>\n",
              "            <td>43.9</td>\n",
              "        </tr>\n",
              "    </tbody>\n",
              "</table>"
            ]
          },
          "metadata": {},
          "execution_count": 28
        }
      ]
    },
    {
      "cell_type": "code",
      "source": [
        "%%sql\n",
        "select MAX(unitprice), product.id, supplier.id from product, supplier where product.id=supplier.id;"
      ],
      "metadata": {
        "colab": {
          "base_uri": "https://localhost:8080/",
          "height": 97
        },
        "id": "pnUfYHRgsc9m",
        "outputId": "2d5cfde6-7c94-4feb-b203-79f5401ef7e6"
      },
      "execution_count": 32,
      "outputs": [
        {
          "output_type": "stream",
          "name": "stdout",
          "text": [
            " * sqlite:////content/Northwind_large.sqlite\n",
            "Done.\n"
          ]
        },
        {
          "output_type": "execute_result",
          "data": {
            "text/plain": [
              "[(123.79, 29, 29)]"
            ],
            "text/html": [
              "<table>\n",
              "    <thead>\n",
              "        <tr>\n",
              "            <th>MAX(unitprice)</th>\n",
              "            <th>Id</th>\n",
              "            <th>Id_1</th>\n",
              "        </tr>\n",
              "    </thead>\n",
              "    <tbody>\n",
              "        <tr>\n",
              "            <td>123.79</td>\n",
              "            <td>29</td>\n",
              "            <td>29</td>\n",
              "        </tr>\n",
              "    </tbody>\n",
              "</table>"
            ]
          },
          "metadata": {},
          "execution_count": 32
        }
      ]
    },
    {
      "cell_type": "code",
      "source": [
        "%%sql\n",
        "select t.*,  t.\"Venta Total\"-t.\"Venta Descuento Total\" as \"Descuento Total\" from (\n",
        "select o.ProductID \"ID producto\", \n",
        "sum(Quantity) \"Unidades Total\", \n",
        "sum(Quantity*UnitPrice) \"Venta Total\", \n",
        "sum(Quantity*UnitPrice*(1-Discount)) \"Venta Descuento Total\" from OrderDetail as o\n",
        "Group by  o.ProductId\n",
        "ORDER by 4 DESC ) as t\n",
        "limit 10;"
      ],
      "metadata": {
        "colab": {
          "base_uri": "https://localhost:8080/",
          "height": 290
        },
        "id": "k3Jtex53vtOW",
        "outputId": "3f13fce3-fa10-46cb-ea95-8fff8aac5f7f"
      },
      "execution_count": 56,
      "outputs": [
        {
          "output_type": "stream",
          "name": "stdout",
          "text": [
            " * sqlite:////content/Northwind_large.sqlite\n",
            "Done.\n"
          ]
        },
        {
          "output_type": "execute_result",
          "data": {
            "text/plain": [
              "[(38, 205055, 54017816.2, 54009228.735, 8587.465000003576),\n",
              " (29, 208449, 25799290.769999985, 25791923.041999985, 7367.728000000119),\n",
              " (9, 205173, 19901393.0, 19899792.5, 1600.5),\n",
              " (20, 207647, 16817689.8, 16816617.36, 1072.440000001341),\n",
              " (18, 207126, 12943675.0, 12940859.375, 2815.625),\n",
              " (59, 206729, 11364111, 11358970.7, 5140.300000000745),\n",
              " (51, 209216, 11086232.6, 11083309.65, 2922.949999999255),\n",
              " (62, 206720, 10187731.999999998, 10185139.069999997, 2592.9300000015646),\n",
              " (43, 207646, 9550115.2, 9548562.7, 1552.5),\n",
              " (28, 204781, 9335695.200000055, 9334526.240000056, 1168.9599999990314)]"
            ],
            "text/html": [
              "<table>\n",
              "    <thead>\n",
              "        <tr>\n",
              "            <th>ID producto</th>\n",
              "            <th>Unidades Total</th>\n",
              "            <th>Venta Total</th>\n",
              "            <th>Venta Descuento Total</th>\n",
              "            <th>Descuento Total</th>\n",
              "        </tr>\n",
              "    </thead>\n",
              "    <tbody>\n",
              "        <tr>\n",
              "            <td>38</td>\n",
              "            <td>205055</td>\n",
              "            <td>54017816.2</td>\n",
              "            <td>54009228.735</td>\n",
              "            <td>8587.465000003576</td>\n",
              "        </tr>\n",
              "        <tr>\n",
              "            <td>29</td>\n",
              "            <td>208449</td>\n",
              "            <td>25799290.769999985</td>\n",
              "            <td>25791923.041999985</td>\n",
              "            <td>7367.728000000119</td>\n",
              "        </tr>\n",
              "        <tr>\n",
              "            <td>9</td>\n",
              "            <td>205173</td>\n",
              "            <td>19901393.0</td>\n",
              "            <td>19899792.5</td>\n",
              "            <td>1600.5</td>\n",
              "        </tr>\n",
              "        <tr>\n",
              "            <td>20</td>\n",
              "            <td>207647</td>\n",
              "            <td>16817689.8</td>\n",
              "            <td>16816617.36</td>\n",
              "            <td>1072.440000001341</td>\n",
              "        </tr>\n",
              "        <tr>\n",
              "            <td>18</td>\n",
              "            <td>207126</td>\n",
              "            <td>12943675.0</td>\n",
              "            <td>12940859.375</td>\n",
              "            <td>2815.625</td>\n",
              "        </tr>\n",
              "        <tr>\n",
              "            <td>59</td>\n",
              "            <td>206729</td>\n",
              "            <td>11364111</td>\n",
              "            <td>11358970.7</td>\n",
              "            <td>5140.300000000745</td>\n",
              "        </tr>\n",
              "        <tr>\n",
              "            <td>51</td>\n",
              "            <td>209216</td>\n",
              "            <td>11086232.6</td>\n",
              "            <td>11083309.65</td>\n",
              "            <td>2922.949999999255</td>\n",
              "        </tr>\n",
              "        <tr>\n",
              "            <td>62</td>\n",
              "            <td>206720</td>\n",
              "            <td>10187731.999999998</td>\n",
              "            <td>10185139.069999997</td>\n",
              "            <td>2592.9300000015646</td>\n",
              "        </tr>\n",
              "        <tr>\n",
              "            <td>43</td>\n",
              "            <td>207646</td>\n",
              "            <td>9550115.2</td>\n",
              "            <td>9548562.7</td>\n",
              "            <td>1552.5</td>\n",
              "        </tr>\n",
              "        <tr>\n",
              "            <td>28</td>\n",
              "            <td>204781</td>\n",
              "            <td>9335695.200000055</td>\n",
              "            <td>9334526.240000056</td>\n",
              "            <td>1168.9599999990314</td>\n",
              "        </tr>\n",
              "    </tbody>\n",
              "</table>"
            ]
          },
          "metadata": {},
          "execution_count": 56
        }
      ]
    },
    {
      "cell_type": "code",
      "source": [
        "%%sql\n",
        "PRAGMA table_info([OrderDetail]);"
      ],
      "metadata": {
        "colab": {
          "base_uri": "https://localhost:8080/",
          "height": 204
        },
        "id": "U3dAe2mDqzHk",
        "outputId": "5800fc1d-f6eb-4fcc-d604-4199e2dc5969"
      },
      "execution_count": 50,
      "outputs": [
        {
          "output_type": "stream",
          "name": "stdout",
          "text": [
            " * sqlite:////content/Northwind_large.sqlite\n",
            "Done.\n"
          ]
        },
        {
          "output_type": "execute_result",
          "data": {
            "text/plain": [
              "[(0, 'Id', 'VARCHAR(8000)', 0, None, 1),\n",
              " (1, 'OrderId', 'INTEGER', 1, None, 0),\n",
              " (2, 'ProductId', 'INTEGER', 1, None, 0),\n",
              " (3, 'UnitPrice', 'DECIMAL', 1, None, 0),\n",
              " (4, 'Quantity', 'INTEGER', 1, None, 0),\n",
              " (5, 'Discount', 'DOUBLE', 1, None, 0)]"
            ],
            "text/html": [
              "<table>\n",
              "    <thead>\n",
              "        <tr>\n",
              "            <th>cid</th>\n",
              "            <th>name</th>\n",
              "            <th>type</th>\n",
              "            <th>notnull</th>\n",
              "            <th>dflt_value</th>\n",
              "            <th>pk</th>\n",
              "        </tr>\n",
              "    </thead>\n",
              "    <tbody>\n",
              "        <tr>\n",
              "            <td>0</td>\n",
              "            <td>Id</td>\n",
              "            <td>VARCHAR(8000)</td>\n",
              "            <td>0</td>\n",
              "            <td>None</td>\n",
              "            <td>1</td>\n",
              "        </tr>\n",
              "        <tr>\n",
              "            <td>1</td>\n",
              "            <td>OrderId</td>\n",
              "            <td>INTEGER</td>\n",
              "            <td>1</td>\n",
              "            <td>None</td>\n",
              "            <td>0</td>\n",
              "        </tr>\n",
              "        <tr>\n",
              "            <td>2</td>\n",
              "            <td>ProductId</td>\n",
              "            <td>INTEGER</td>\n",
              "            <td>1</td>\n",
              "            <td>None</td>\n",
              "            <td>0</td>\n",
              "        </tr>\n",
              "        <tr>\n",
              "            <td>3</td>\n",
              "            <td>UnitPrice</td>\n",
              "            <td>DECIMAL</td>\n",
              "            <td>1</td>\n",
              "            <td>None</td>\n",
              "            <td>0</td>\n",
              "        </tr>\n",
              "        <tr>\n",
              "            <td>4</td>\n",
              "            <td>Quantity</td>\n",
              "            <td>INTEGER</td>\n",
              "            <td>1</td>\n",
              "            <td>None</td>\n",
              "            <td>0</td>\n",
              "        </tr>\n",
              "        <tr>\n",
              "            <td>5</td>\n",
              "            <td>Discount</td>\n",
              "            <td>DOUBLE</td>\n",
              "            <td>1</td>\n",
              "            <td>None</td>\n",
              "            <td>0</td>\n",
              "        </tr>\n",
              "    </tbody>\n",
              "</table>"
            ]
          },
          "metadata": {},
          "execution_count": 50
        }
      ]
    }
  ]
}