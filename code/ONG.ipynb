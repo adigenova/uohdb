{
  "nbformat": 4,
  "nbformat_minor": 0,
  "metadata": {
    "colab": {
      "name": "ONG.ipynb",
      "provenance": [],
      "authorship_tag": "ABX9TyNe/RUYlER7oV2Uh4wUQklQ",
      "include_colab_link": true
    },
    "kernelspec": {
      "name": "python3",
      "display_name": "Python 3"
    },
    "language_info": {
      "name": "python"
    }
  },
  "cells": [
    {
      "cell_type": "markdown",
      "metadata": {
        "id": "view-in-github",
        "colab_type": "text"
      },
      "source": [
        "<a href=\"https://colab.research.google.com/github/adigenova/uohdb/blob/main/code/ONG.ipynb\" target=\"_parent\"><img src=\"https://colab.research.google.com/assets/colab-badge.svg\" alt=\"Open In Colab\"/></a>"
      ]
    },
    {
      "cell_type": "markdown",
      "source": [
        "# ONG relacional a SQL"
      ],
      "metadata": {
        "id": "PEcZ8hnsLIST"
      }
    },
    {
      "cell_type": "code",
      "source": [
        "!pip install SQLAlchemy==1.4.46"
      ],
      "metadata": {
        "id": "JJfjXsej8HWz",
        "outputId": "1741e230-38a9-48cf-e6dc-07b4b44c29b0",
        "colab": {
          "base_uri": "https://localhost:8080/"
        }
      },
      "execution_count": 1,
      "outputs": [
        {
          "output_type": "stream",
          "name": "stdout",
          "text": [
            "Looking in indexes: https://pypi.org/simple, https://us-python.pkg.dev/colab-wheels/public/simple/\n",
            "Collecting SQLAlchemy==1.4.46\n",
            "  Downloading SQLAlchemy-1.4.46-cp39-cp39-manylinux_2_5_x86_64.manylinux1_x86_64.manylinux_2_17_x86_64.manylinux2014_x86_64.whl (1.6 MB)\n",
            "\u001b[2K     \u001b[90m━━━━━━━━━━━━━━━━━━━━━━━━━━━━━━━━━━━━━━━━\u001b[0m \u001b[32m1.6/1.6 MB\u001b[0m \u001b[31m13.4 MB/s\u001b[0m eta \u001b[36m0:00:00\u001b[0m\n",
            "\u001b[?25hRequirement already satisfied: greenlet!=0.4.17 in /usr/local/lib/python3.9/dist-packages (from SQLAlchemy==1.4.46) (2.0.2)\n",
            "Installing collected packages: SQLAlchemy\n",
            "  Attempting uninstall: SQLAlchemy\n",
            "    Found existing installation: SQLAlchemy 2.0.9\n",
            "    Uninstalling SQLAlchemy-2.0.9:\n",
            "      Successfully uninstalled SQLAlchemy-2.0.9\n",
            "Successfully installed SQLAlchemy-1.4.46\n"
          ]
        }
      ]
    },
    {
      "cell_type": "markdown",
      "source": [],
      "metadata": {
        "id": "Z506ayPz8WGs"
      }
    },
    {
      "cell_type": "code",
      "execution_count": 2,
      "metadata": {
        "id": "bWCO1kbwLFyb"
      },
      "outputs": [],
      "source": [
        "# cargamos sqlite3\n",
        "# https://www.sqlite.org/docs.html\n",
        "%load_ext sql\n",
        "#nos conectamos o creamos una base de datos\n",
        "%sql sqlite:///ONG.db"
      ]
    },
    {
      "cell_type": "code",
      "source": [
        "#activamos claves foráneas\n",
        "#activate foreing key support on SQL lite\n",
        "%%sql\n",
        "PRAGMA foreign_keys;\n",
        "PRAGMA foreign_keys = 0;\n",
        "PRAGMA foreign_keys;"
      ],
      "metadata": {
        "colab": {
          "base_uri": "https://localhost:8080/",
          "height": 133
        },
        "id": "fvH4lzShNC7L",
        "outputId": "ea20f9c3-d678-4c82-b11a-2ea044fef619"
      },
      "execution_count": 16,
      "outputs": [
        {
          "output_type": "stream",
          "name": "stdout",
          "text": [
            " * sqlite:///ONG.db\n",
            "Done.\n",
            "Done.\n",
            "Done.\n"
          ]
        },
        {
          "output_type": "execute_result",
          "data": {
            "text/plain": [
              "[(0,)]"
            ],
            "text/html": [
              "<table>\n",
              "    <tr>\n",
              "        <th>foreign_keys</th>\n",
              "    </tr>\n",
              "    <tr>\n",
              "        <td>0</td>\n",
              "    </tr>\n",
              "</table>"
            ]
          },
          "metadata": {},
          "execution_count": 16
        }
      ]
    },
    {
      "cell_type": "markdown",
      "source": [
        "## Creamos base de datos ONG"
      ],
      "metadata": {
        "id": "bSHiehMHLcPF"
      }
    },
    {
      "cell_type": "code",
      "source": [
        "%%sql\n",
        "drop table if exists PROYECTO;\n",
        "drop table if exists ONG;\n",
        "/*drop table if exists MIEMBRO;\n",
        "drop table if exists TRABAJADOR;\n",
        "drop table if exists VOLUNTARIO;\n",
        "drop table if exists CONTRATADO;\n",
        "drop table if exists FORMADA;*/\n",
        "\n",
        "-- creamos las relaciones --\n",
        "\n",
        "-- Relación ONG --\n",
        "CREATE TABLE ONG (\n",
        "ido INTEGER PRIMARY KEY,\n",
        "denominacion INTEGER NOT NULL,\n",
        "direccion TEXT NOT NULL,\n",
        "provincia TEXT NOT NULL,\n",
        "region TEXT NOT NULL,\n",
        "tipo TEXT NOT NULL,\n",
        "u_publica INTEGER\n",
        ");\n",
        "\n",
        "-- Relación PROYECTO --\n",
        "CREATE TABLE PROYECTO (\n",
        "idp INTEGER PRIMARY KEY,\n",
        "region TEXT NOT NULL,\n",
        "provincia TEXT NOT NULL,\n",
        "objetivo TEXT NOT NULL,\n",
        "numero_beneficiados INTEGER NOT NULL,\n",
        "ido INTEGER NOT NULL,\n",
        "A_padre INTEGER,\n",
        "FOREIGN KEY(A_padre) REFERENCES PROYECTO(idp) ON DELETE CASCADE,\n",
        "FOREIGN KEY(ido) REFERENCES ONG(ido) ON DELETE CASCADE\n",
        "); "
      ],
      "metadata": {
        "colab": {
          "base_uri": "https://localhost:8080/"
        },
        "id": "utggvwvWLhuG",
        "outputId": "a51f9b15-a15f-402f-a328-5be116b88da1"
      },
      "execution_count": 17,
      "outputs": [
        {
          "output_type": "stream",
          "name": "stdout",
          "text": [
            " * sqlite:///ONG.db\n",
            "Done.\n",
            "Done.\n",
            "Done.\n",
            "Done.\n"
          ]
        },
        {
          "output_type": "execute_result",
          "data": {
            "text/plain": [
              "[]"
            ]
          },
          "metadata": {},
          "execution_count": 17
        }
      ]
    },
    {
      "cell_type": "markdown",
      "source": [
        "## Revisamos las tablas e insertamos datos en la DB"
      ],
      "metadata": {
        "id": "GO3Ys5trObBy"
      }
    },
    {
      "cell_type": "code",
      "source": [
        "#mostramos las tablas de pyme\n",
        "%%sql\n",
        "SELECT name FROM sqlite_master WHERE type='table' AND name NOT LIKE 'sqlite_%';"
      ],
      "metadata": {
        "colab": {
          "base_uri": "https://localhost:8080/",
          "height": 119
        },
        "id": "d8hqgvQ4OoIl",
        "outputId": "153d63a8-5999-4c22-e57c-abf014639239"
      },
      "execution_count": 7,
      "outputs": [
        {
          "output_type": "stream",
          "name": "stdout",
          "text": [
            " * sqlite:///ONG.db\n",
            "Done.\n"
          ]
        },
        {
          "output_type": "execute_result",
          "data": {
            "text/plain": [
              "[('ONG',), ('PROYECTO',)]"
            ],
            "text/html": [
              "<table>\n",
              "    <tr>\n",
              "        <th>name</th>\n",
              "    </tr>\n",
              "    <tr>\n",
              "        <td>ONG</td>\n",
              "    </tr>\n",
              "    <tr>\n",
              "        <td>PROYECTO</td>\n",
              "    </tr>\n",
              "</table>"
            ]
          },
          "metadata": {},
          "execution_count": 7
        }
      ]
    },
    {
      "cell_type": "code",
      "source": [
        "%%sql \n",
        "PRAGMA table_info([PROYECTO]);"
      ],
      "metadata": {
        "colab": {
          "base_uri": "https://localhost:8080/",
          "height": 226
        },
        "id": "zo1E1hRdOzvR",
        "outputId": "1f279559-4fc1-4dc4-bcf9-ed5225310e2c"
      },
      "execution_count": 8,
      "outputs": [
        {
          "output_type": "stream",
          "name": "stdout",
          "text": [
            " * sqlite:///ONG.db\n",
            "Done.\n"
          ]
        },
        {
          "output_type": "execute_result",
          "data": {
            "text/plain": [
              "[(0, 'idp', 'INTEGER', 0, None, 1),\n",
              " (1, 'region', 'TEXT', 1, None, 0),\n",
              " (2, 'provincia', 'TEXT', 1, None, 0),\n",
              " (3, 'objetivo', 'TEXT', 1, None, 0),\n",
              " (4, 'numero_beneficiados', 'INTEGER', 1, None, 0),\n",
              " (5, 'ido', 'INTEGER', 1, None, 0),\n",
              " (6, 'A_padre', 'INTEGER', 0, None, 0)]"
            ],
            "text/html": [
              "<table>\n",
              "    <tr>\n",
              "        <th>cid</th>\n",
              "        <th>name</th>\n",
              "        <th>type</th>\n",
              "        <th>notnull</th>\n",
              "        <th>dflt_value</th>\n",
              "        <th>pk</th>\n",
              "    </tr>\n",
              "    <tr>\n",
              "        <td>0</td>\n",
              "        <td>idp</td>\n",
              "        <td>INTEGER</td>\n",
              "        <td>0</td>\n",
              "        <td>None</td>\n",
              "        <td>1</td>\n",
              "    </tr>\n",
              "    <tr>\n",
              "        <td>1</td>\n",
              "        <td>region</td>\n",
              "        <td>TEXT</td>\n",
              "        <td>1</td>\n",
              "        <td>None</td>\n",
              "        <td>0</td>\n",
              "    </tr>\n",
              "    <tr>\n",
              "        <td>2</td>\n",
              "        <td>provincia</td>\n",
              "        <td>TEXT</td>\n",
              "        <td>1</td>\n",
              "        <td>None</td>\n",
              "        <td>0</td>\n",
              "    </tr>\n",
              "    <tr>\n",
              "        <td>3</td>\n",
              "        <td>objetivo</td>\n",
              "        <td>TEXT</td>\n",
              "        <td>1</td>\n",
              "        <td>None</td>\n",
              "        <td>0</td>\n",
              "    </tr>\n",
              "    <tr>\n",
              "        <td>4</td>\n",
              "        <td>numero_beneficiados</td>\n",
              "        <td>INTEGER</td>\n",
              "        <td>1</td>\n",
              "        <td>None</td>\n",
              "        <td>0</td>\n",
              "    </tr>\n",
              "    <tr>\n",
              "        <td>5</td>\n",
              "        <td>ido</td>\n",
              "        <td>INTEGER</td>\n",
              "        <td>1</td>\n",
              "        <td>None</td>\n",
              "        <td>0</td>\n",
              "    </tr>\n",
              "    <tr>\n",
              "        <td>6</td>\n",
              "        <td>A_padre</td>\n",
              "        <td>INTEGER</td>\n",
              "        <td>0</td>\n",
              "        <td>None</td>\n",
              "        <td>0</td>\n",
              "    </tr>\n",
              "</table>"
            ]
          },
          "metadata": {},
          "execution_count": 8
        }
      ]
    },
    {
      "cell_type": "markdown",
      "source": [
        "### insertamos valores\n"
      ],
      "metadata": {
        "id": "yOZi2C7tO7IN"
      }
    },
    {
      "cell_type": "code",
      "source": [
        "%%sql\n",
        "-- valores en ONG --\n",
        "INSERT INTO ONG(ido,denominacion,direccion,provincia,region,tipo,u_publica) VALUES\n",
        "(1,\"TODES\",\"Blanco Encalada 2120\",\"Santiago\",\"RM\",\"social\",0),\n",
        "(2,\"TREES\",\"Almirante 2323\",\"Rancagua\",\"VI\",\"ecologista\",0),\n",
        "(3,\"COMPU\",\"Blanco 2120\",\"Santiago\",\"RM\",\"tecnologica\",1);\n",
        "\n",
        "INSERT INTO PROYECTO(idp,region,provincia,objetivo,numero_beneficiados,ido,A_padre) VALUES\n",
        "(1,\"RM\",\"Santiago\",\"Igualdad de Genero\",500,1,NULL),\n",
        "(2,\"RM\",\"Santiago\",\"Igualdad de Genero en STEM\",100,1,1);"
      ],
      "metadata": {
        "colab": {
          "base_uri": "https://localhost:8080/"
        },
        "id": "NaaNBvotO_56",
        "outputId": "0e7dc510-cd87-4a2a-da0f-8e172445aad8"
      },
      "execution_count": 18,
      "outputs": [
        {
          "output_type": "stream",
          "name": "stdout",
          "text": [
            " * sqlite:///ONG.db\n",
            "Done.\n",
            "2 rows affected.\n"
          ]
        },
        {
          "output_type": "execute_result",
          "data": {
            "text/plain": [
              "[]"
            ]
          },
          "metadata": {},
          "execution_count": 18
        }
      ]
    },
    {
      "cell_type": "code",
      "source": [
        "%%sql\n",
        "select * from ONG;"
      ],
      "metadata": {
        "colab": {
          "base_uri": "https://localhost:8080/",
          "height": 140
        },
        "id": "UJlGcGmbUu6R",
        "outputId": "81959ee8-c624-4aa8-c0b9-375389037797"
      },
      "execution_count": 19,
      "outputs": [
        {
          "output_type": "stream",
          "name": "stdout",
          "text": [
            " * sqlite:///ONG.db\n",
            "Done.\n"
          ]
        },
        {
          "output_type": "execute_result",
          "data": {
            "text/plain": [
              "[(1, 'TODES', 'Blanco Encalada 2120', 'Santiago', 'RM', 'social', 0),\n",
              " (2, 'TREES', 'Almirante 2323', 'Rancagua', 'VI', 'ecologista', 0),\n",
              " (3, 'COMPU', 'Blanco 2120', 'Santiago', 'RM', 'tecnologica', 1)]"
            ],
            "text/html": [
              "<table>\n",
              "    <tr>\n",
              "        <th>ido</th>\n",
              "        <th>denominacion</th>\n",
              "        <th>direccion</th>\n",
              "        <th>provincia</th>\n",
              "        <th>region</th>\n",
              "        <th>tipo</th>\n",
              "        <th>u_publica</th>\n",
              "    </tr>\n",
              "    <tr>\n",
              "        <td>1</td>\n",
              "        <td>TODES</td>\n",
              "        <td>Blanco Encalada 2120</td>\n",
              "        <td>Santiago</td>\n",
              "        <td>RM</td>\n",
              "        <td>social</td>\n",
              "        <td>0</td>\n",
              "    </tr>\n",
              "    <tr>\n",
              "        <td>2</td>\n",
              "        <td>TREES</td>\n",
              "        <td>Almirante 2323</td>\n",
              "        <td>Rancagua</td>\n",
              "        <td>VI</td>\n",
              "        <td>ecologista</td>\n",
              "        <td>0</td>\n",
              "    </tr>\n",
              "    <tr>\n",
              "        <td>3</td>\n",
              "        <td>COMPU</td>\n",
              "        <td>Blanco 2120</td>\n",
              "        <td>Santiago</td>\n",
              "        <td>RM</td>\n",
              "        <td>tecnologica</td>\n",
              "        <td>1</td>\n",
              "    </tr>\n",
              "</table>"
            ]
          },
          "metadata": {},
          "execution_count": 19
        }
      ]
    },
    {
      "cell_type": "code",
      "source": [
        "%%sql\n",
        "select * from PROYECTO;"
      ],
      "metadata": {
        "colab": {
          "base_uri": "https://localhost:8080/",
          "height": 119
        },
        "id": "0_SubMMmWLhV",
        "outputId": "6b8b407c-fc0f-44b1-8467-6fced8d602ba"
      },
      "execution_count": 20,
      "outputs": [
        {
          "output_type": "stream",
          "name": "stdout",
          "text": [
            " * sqlite:///ONG.db\n",
            "Done.\n"
          ]
        },
        {
          "output_type": "execute_result",
          "data": {
            "text/plain": [
              "[(1, 'RM', 'Santiago', 'Igualdad de Genero', 500, 1, None),\n",
              " (2, 'RM', 'Santiago', 'Igualdad de Genero en STEM', 100, 1, 1)]"
            ],
            "text/html": [
              "<table>\n",
              "    <tr>\n",
              "        <th>idp</th>\n",
              "        <th>region</th>\n",
              "        <th>provincia</th>\n",
              "        <th>objetivo</th>\n",
              "        <th>numero_beneficiados</th>\n",
              "        <th>ido</th>\n",
              "        <th>A_padre</th>\n",
              "    </tr>\n",
              "    <tr>\n",
              "        <td>1</td>\n",
              "        <td>RM</td>\n",
              "        <td>Santiago</td>\n",
              "        <td>Igualdad de Genero</td>\n",
              "        <td>500</td>\n",
              "        <td>1</td>\n",
              "        <td>None</td>\n",
              "    </tr>\n",
              "    <tr>\n",
              "        <td>2</td>\n",
              "        <td>RM</td>\n",
              "        <td>Santiago</td>\n",
              "        <td>Igualdad de Genero en STEM</td>\n",
              "        <td>100</td>\n",
              "        <td>1</td>\n",
              "        <td>1</td>\n",
              "    </tr>\n",
              "</table>"
            ]
          },
          "metadata": {},
          "execution_count": 20
        }
      ]
    },
    {
      "cell_type": "code",
      "source": [
        "%%sql\n",
        "delete from ONG where ido == 1; "
      ],
      "metadata": {
        "colab": {
          "base_uri": "https://localhost:8080/"
        },
        "id": "vkxRtEIzWT8Z",
        "outputId": "9a28298c-046b-463e-84cc-208e56a66c39"
      },
      "execution_count": 21,
      "outputs": [
        {
          "output_type": "stream",
          "name": "stdout",
          "text": [
            " * sqlite:///ONG.db\n",
            "1 rows affected.\n"
          ]
        },
        {
          "output_type": "execute_result",
          "data": {
            "text/plain": [
              "[]"
            ]
          },
          "metadata": {},
          "execution_count": 21
        }
      ]
    },
    {
      "cell_type": "code",
      "source": [
        "%%sql\n",
        "select * from ONG;"
      ],
      "metadata": {
        "id": "UstirHpSBdqN",
        "outputId": "7b354ae7-27f7-4459-ab65-a0278220853c",
        "colab": {
          "base_uri": "https://localhost:8080/",
          "height": 119
        }
      },
      "execution_count": 22,
      "outputs": [
        {
          "output_type": "stream",
          "name": "stdout",
          "text": [
            " * sqlite:///ONG.db\n",
            "Done.\n"
          ]
        },
        {
          "output_type": "execute_result",
          "data": {
            "text/plain": [
              "[(2, 'TREES', 'Almirante 2323', 'Rancagua', 'VI', 'ecologista', 0),\n",
              " (3, 'COMPU', 'Blanco 2120', 'Santiago', 'RM', 'tecnologica', 1)]"
            ],
            "text/html": [
              "<table>\n",
              "    <tr>\n",
              "        <th>ido</th>\n",
              "        <th>denominacion</th>\n",
              "        <th>direccion</th>\n",
              "        <th>provincia</th>\n",
              "        <th>region</th>\n",
              "        <th>tipo</th>\n",
              "        <th>u_publica</th>\n",
              "    </tr>\n",
              "    <tr>\n",
              "        <td>2</td>\n",
              "        <td>TREES</td>\n",
              "        <td>Almirante 2323</td>\n",
              "        <td>Rancagua</td>\n",
              "        <td>VI</td>\n",
              "        <td>ecologista</td>\n",
              "        <td>0</td>\n",
              "    </tr>\n",
              "    <tr>\n",
              "        <td>3</td>\n",
              "        <td>COMPU</td>\n",
              "        <td>Blanco 2120</td>\n",
              "        <td>Santiago</td>\n",
              "        <td>RM</td>\n",
              "        <td>tecnologica</td>\n",
              "        <td>1</td>\n",
              "    </tr>\n",
              "</table>"
            ]
          },
          "metadata": {},
          "execution_count": 22
        }
      ]
    },
    {
      "cell_type": "code",
      "source": [
        "%%sql\n",
        "select * from PROYECTO;"
      ],
      "metadata": {
        "id": "bpF1W0JnBp5_",
        "outputId": "369114f3-8da0-4256-b59a-412118a87a17",
        "colab": {
          "base_uri": "https://localhost:8080/",
          "height": 119
        }
      },
      "execution_count": 23,
      "outputs": [
        {
          "output_type": "stream",
          "name": "stdout",
          "text": [
            " * sqlite:///ONG.db\n",
            "Done.\n"
          ]
        },
        {
          "output_type": "execute_result",
          "data": {
            "text/plain": [
              "[(1, 'RM', 'Santiago', 'Igualdad de Genero', 500, 1, None),\n",
              " (2, 'RM', 'Santiago', 'Igualdad de Genero en STEM', 100, 1, 1)]"
            ],
            "text/html": [
              "<table>\n",
              "    <tr>\n",
              "        <th>idp</th>\n",
              "        <th>region</th>\n",
              "        <th>provincia</th>\n",
              "        <th>objetivo</th>\n",
              "        <th>numero_beneficiados</th>\n",
              "        <th>ido</th>\n",
              "        <th>A_padre</th>\n",
              "    </tr>\n",
              "    <tr>\n",
              "        <td>1</td>\n",
              "        <td>RM</td>\n",
              "        <td>Santiago</td>\n",
              "        <td>Igualdad de Genero</td>\n",
              "        <td>500</td>\n",
              "        <td>1</td>\n",
              "        <td>None</td>\n",
              "    </tr>\n",
              "    <tr>\n",
              "        <td>2</td>\n",
              "        <td>RM</td>\n",
              "        <td>Santiago</td>\n",
              "        <td>Igualdad de Genero en STEM</td>\n",
              "        <td>100</td>\n",
              "        <td>1</td>\n",
              "        <td>1</td>\n",
              "    </tr>\n",
              "</table>"
            ]
          },
          "metadata": {},
          "execution_count": 23
        }
      ]
    }
  ]
}