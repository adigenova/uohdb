{
  "nbformat": 4,
  "nbformat_minor": 0,
  "metadata": {
    "colab": {
      "name": "ONG.ipynb",
      "provenance": [],
      "collapsed_sections": [],
      "authorship_tag": "ABX9TyMtDpz6zvW8eZblwsUF/QxZ",
      "include_colab_link": true
    },
    "kernelspec": {
      "name": "python3",
      "display_name": "Python 3"
    },
    "language_info": {
      "name": "python"
    }
  },
  "cells": [
    {
      "cell_type": "markdown",
      "metadata": {
        "id": "view-in-github",
        "colab_type": "text"
      },
      "source": [
        "<a href=\"https://colab.research.google.com/github/adigenova/uohdb/blob/main/code/ONG.ipynb\" target=\"_parent\"><img src=\"https://colab.research.google.com/assets/colab-badge.svg\" alt=\"Open In Colab\"/></a>"
      ]
    },
    {
      "cell_type": "markdown",
      "source": [
        "# ONG relacional a SQL"
      ],
      "metadata": {
        "id": "PEcZ8hnsLIST"
      }
    },
    {
      "cell_type": "code",
      "execution_count": 1,
      "metadata": {
        "colab": {
          "base_uri": "https://localhost:8080/",
          "height": 35
        },
        "id": "bWCO1kbwLFyb",
        "outputId": "aa87a3ba-b430-4ae6-bc74-6e8cb513b715"
      },
      "outputs": [
        {
          "output_type": "execute_result",
          "data": {
            "text/plain": [
              "'Connected: @ONG.db'"
            ],
            "application/vnd.google.colaboratory.intrinsic+json": {
              "type": "string"
            }
          },
          "metadata": {},
          "execution_count": 1
        }
      ],
      "source": [
        "# cargamos sqlite3\n",
        "# https://www.sqlite.org/docs.html\n",
        "%reload_ext sql\n",
        "#nos conectamos o creamos una base de datos\n",
        "%sql sqlite:///ONG.db"
      ]
    },
    {
      "cell_type": "code",
      "source": [
        "#activamos claves foráneas\n",
        "#activate foreing key support on SQL lite\n",
        "%%sql\n",
        "PRAGMA foreign_keys;\n",
        "PRAGMA foreign_keys = ON;\n",
        "PRAGMA foreign_keys;"
      ],
      "metadata": {
        "colab": {
          "base_uri": "https://localhost:8080/",
          "height": 133
        },
        "id": "fvH4lzShNC7L",
        "outputId": "9badc665-503d-435c-a190-5f488065f00a"
      },
      "execution_count": 2,
      "outputs": [
        {
          "output_type": "stream",
          "name": "stdout",
          "text": [
            " * sqlite:///ONG.db\n",
            "Done.\n",
            "Done.\n",
            "Done.\n"
          ]
        },
        {
          "output_type": "execute_result",
          "data": {
            "text/plain": [
              "[(1,)]"
            ],
            "text/html": [
              "<table>\n",
              "    <thead>\n",
              "        <tr>\n",
              "            <th>foreign_keys</th>\n",
              "        </tr>\n",
              "    </thead>\n",
              "    <tbody>\n",
              "        <tr>\n",
              "            <td>1</td>\n",
              "        </tr>\n",
              "    </tbody>\n",
              "</table>"
            ]
          },
          "metadata": {},
          "execution_count": 2
        }
      ]
    },
    {
      "cell_type": "markdown",
      "source": [
        "## Creamos base de datos ONG"
      ],
      "metadata": {
        "id": "bSHiehMHLcPF"
      }
    },
    {
      "cell_type": "code",
      "source": [
        "%%sql\n",
        "drop table if exists PROYECTO;\n",
        "drop table if exists ONG;\n",
        "/*drop table if exists MIEMBRO;\n",
        "drop table if exists TRABAJADOR;\n",
        "drop table if exists VOLUNTARIO;\n",
        "drop table if exists CONTRATADO;\n",
        "drop table if exists FORMADA;*/\n",
        "\n",
        "-- creamos las relaciones --\n",
        "\n",
        "-- Relación ONG --\n",
        "CREATE TABLE ONG (\n",
        "ido INTEGER PRIMARY KEY,\n",
        "denominacion INTEGER NOT NULL,\n",
        "direccion TEXT NOT NULL,\n",
        "provincia TEXT NOT NULL,\n",
        "region TEXT NOT NULL,\n",
        "tipo TEXT NOT NULL,\n",
        "u_publica INTEGER\n",
        ");\n",
        "\n",
        "-- Relación PROYECTO --\n",
        "CREATE TABLE PROYECTO (\n",
        "idp INTEGER PRIMARY KEY,\n",
        "region TEXT NOT NULL,\n",
        "provincia TEXT NOT NULL,\n",
        "objetivo TEXT NOT NULL,\n",
        "numero_beneficiados INTEGER NOT NULL,\n",
        "ido INTEGER NOT NULL,\n",
        "A_padre INTEGER,\n",
        "FOREIGN KEY(A_padre) REFERENCES PROYECTO(idp) ON DELETE CASCADE,\n",
        "FOREIGN KEY(ido) REFERENCES ONG(ido) ON DELETE CASCADE\n",
        "); "
      ],
      "metadata": {
        "colab": {
          "base_uri": "https://localhost:8080/"
        },
        "id": "utggvwvWLhuG",
        "outputId": "ae78e1f3-a26d-41bc-ac9c-1221feeebbe0"
      },
      "execution_count": 3,
      "outputs": [
        {
          "output_type": "stream",
          "name": "stdout",
          "text": [
            " * sqlite:///ONG.db\n",
            "Done.\n",
            "Done.\n",
            "Done.\n",
            "Done.\n"
          ]
        },
        {
          "output_type": "execute_result",
          "data": {
            "text/plain": [
              "[]"
            ]
          },
          "metadata": {},
          "execution_count": 3
        }
      ]
    },
    {
      "cell_type": "markdown",
      "source": [
        "## Revisamos las tablas e insertamos datos en la DB"
      ],
      "metadata": {
        "id": "GO3Ys5trObBy"
      }
    },
    {
      "cell_type": "code",
      "source": [
        "#mostramos las tablas de pyme\n",
        "%%sql\n",
        "SELECT name FROM sqlite_master WHERE type='table' AND name NOT LIKE 'sqlite_%';"
      ],
      "metadata": {
        "colab": {
          "base_uri": "https://localhost:8080/",
          "height": 119
        },
        "id": "d8hqgvQ4OoIl",
        "outputId": "b042be29-b3b0-4355-a931-7af46132479e"
      },
      "execution_count": 4,
      "outputs": [
        {
          "output_type": "stream",
          "name": "stdout",
          "text": [
            " * sqlite:///ONG.db\n",
            "Done.\n"
          ]
        },
        {
          "output_type": "execute_result",
          "data": {
            "text/plain": [
              "[('ONG',), ('PROYECTO',)]"
            ],
            "text/html": [
              "<table>\n",
              "    <thead>\n",
              "        <tr>\n",
              "            <th>name</th>\n",
              "        </tr>\n",
              "    </thead>\n",
              "    <tbody>\n",
              "        <tr>\n",
              "            <td>ONG</td>\n",
              "        </tr>\n",
              "        <tr>\n",
              "            <td>PROYECTO</td>\n",
              "        </tr>\n",
              "    </tbody>\n",
              "</table>"
            ]
          },
          "metadata": {},
          "execution_count": 4
        }
      ]
    },
    {
      "cell_type": "code",
      "source": [
        "%%sql \n",
        "PRAGMA table_info([PROYECTO]);"
      ],
      "metadata": {
        "colab": {
          "base_uri": "https://localhost:8080/",
          "height": 226
        },
        "id": "zo1E1hRdOzvR",
        "outputId": "0b036697-858e-4729-d9ae-99ddec6311f5"
      },
      "execution_count": 6,
      "outputs": [
        {
          "output_type": "stream",
          "name": "stdout",
          "text": [
            " * sqlite:///ONG.db\n",
            "Done.\n"
          ]
        },
        {
          "output_type": "execute_result",
          "data": {
            "text/plain": [
              "[(0, 'idp', 'INTEGER', 0, None, 1),\n",
              " (1, 'region', 'TEXT', 1, None, 0),\n",
              " (2, 'provincia', 'TEXT', 1, None, 0),\n",
              " (3, 'objetivo', 'TEXT', 1, None, 0),\n",
              " (4, 'numero_beneficiados', 'INTEGER', 1, None, 0),\n",
              " (5, 'ido', 'INTEGER', 1, None, 0),\n",
              " (6, 'A_padre', 'INTEGER', 0, None, 0)]"
            ],
            "text/html": [
              "<table>\n",
              "    <thead>\n",
              "        <tr>\n",
              "            <th>cid</th>\n",
              "            <th>name</th>\n",
              "            <th>type</th>\n",
              "            <th>notnull</th>\n",
              "            <th>dflt_value</th>\n",
              "            <th>pk</th>\n",
              "        </tr>\n",
              "    </thead>\n",
              "    <tbody>\n",
              "        <tr>\n",
              "            <td>0</td>\n",
              "            <td>idp</td>\n",
              "            <td>INTEGER</td>\n",
              "            <td>0</td>\n",
              "            <td>None</td>\n",
              "            <td>1</td>\n",
              "        </tr>\n",
              "        <tr>\n",
              "            <td>1</td>\n",
              "            <td>region</td>\n",
              "            <td>TEXT</td>\n",
              "            <td>1</td>\n",
              "            <td>None</td>\n",
              "            <td>0</td>\n",
              "        </tr>\n",
              "        <tr>\n",
              "            <td>2</td>\n",
              "            <td>provincia</td>\n",
              "            <td>TEXT</td>\n",
              "            <td>1</td>\n",
              "            <td>None</td>\n",
              "            <td>0</td>\n",
              "        </tr>\n",
              "        <tr>\n",
              "            <td>3</td>\n",
              "            <td>objetivo</td>\n",
              "            <td>TEXT</td>\n",
              "            <td>1</td>\n",
              "            <td>None</td>\n",
              "            <td>0</td>\n",
              "        </tr>\n",
              "        <tr>\n",
              "            <td>4</td>\n",
              "            <td>numero_beneficiados</td>\n",
              "            <td>INTEGER</td>\n",
              "            <td>1</td>\n",
              "            <td>None</td>\n",
              "            <td>0</td>\n",
              "        </tr>\n",
              "        <tr>\n",
              "            <td>5</td>\n",
              "            <td>ido</td>\n",
              "            <td>INTEGER</td>\n",
              "            <td>1</td>\n",
              "            <td>None</td>\n",
              "            <td>0</td>\n",
              "        </tr>\n",
              "        <tr>\n",
              "            <td>6</td>\n",
              "            <td>A_padre</td>\n",
              "            <td>INTEGER</td>\n",
              "            <td>0</td>\n",
              "            <td>None</td>\n",
              "            <td>0</td>\n",
              "        </tr>\n",
              "    </tbody>\n",
              "</table>"
            ]
          },
          "metadata": {},
          "execution_count": 6
        }
      ]
    },
    {
      "cell_type": "markdown",
      "source": [
        "### insertamos valores\n"
      ],
      "metadata": {
        "id": "yOZi2C7tO7IN"
      }
    },
    {
      "cell_type": "code",
      "source": [
        "%%sql\n",
        "-- valores en ONG --\n",
        "INSERT INTO ONG(ido,denominacion,direccion,provincia,region,tipo,u_publica) VALUES\n",
        "(1,\"TODES\",\"Blanco Encalada 2120\",\"Santiago\",\"RM\",\"social\",0),\n",
        "(2,\"TREES\",\"Almirante 2323\",\"Rancagua\",\"VI\",\"ecologista\",0),\n",
        "(3,\"COMPU\",\"Blanco 2120\",\"Santiago\",\"RM\",\"tecnologica\",1);\n",
        "\n",
        "INSERT INTO PROYECTO(idp,region,provincia,objetivo,numero_beneficiados,ido,A_padre) VALUES\n",
        "(1,\"RM\",\"Santiago\",\"Igualdad de Genero\",500,1,NULL),\n",
        "(2,\"RM\",\"Santiago\",\"Igualdad de Genero en STEM\",100,1,1);"
      ],
      "metadata": {
        "colab": {
          "base_uri": "https://localhost:8080/"
        },
        "id": "NaaNBvotO_56",
        "outputId": "f4a93d52-0766-49fe-db95-2d02c3171f3f"
      },
      "execution_count": 7,
      "outputs": [
        {
          "output_type": "stream",
          "name": "stdout",
          "text": [
            " * sqlite:///ONG.db\n",
            "Done.\n",
            "2 rows affected.\n"
          ]
        },
        {
          "output_type": "execute_result",
          "data": {
            "text/plain": [
              "[]"
            ]
          },
          "metadata": {},
          "execution_count": 7
        }
      ]
    },
    {
      "cell_type": "code",
      "source": [
        "%%sql\n",
        "select * from ONG;"
      ],
      "metadata": {
        "colab": {
          "base_uri": "https://localhost:8080/",
          "height": 119
        },
        "id": "UJlGcGmbUu6R",
        "outputId": "f8578e97-fb53-4df1-b3c2-c69a4d7d70fe"
      },
      "execution_count": 11,
      "outputs": [
        {
          "output_type": "stream",
          "name": "stdout",
          "text": [
            " * sqlite:///ONG.db\n",
            "Done.\n"
          ]
        },
        {
          "output_type": "execute_result",
          "data": {
            "text/plain": [
              "[(2, 'TREES', 'Almirante 2323', 'Rancagua', 'VI', 'ecologista', 0),\n",
              " (3, 'COMPU', 'Blanco 2120', 'Santiago', 'RM', 'tecnologica', 1)]"
            ],
            "text/html": [
              "<table>\n",
              "    <thead>\n",
              "        <tr>\n",
              "            <th>ido</th>\n",
              "            <th>denominacion</th>\n",
              "            <th>direccion</th>\n",
              "            <th>provincia</th>\n",
              "            <th>region</th>\n",
              "            <th>tipo</th>\n",
              "            <th>u_publica</th>\n",
              "        </tr>\n",
              "    </thead>\n",
              "    <tbody>\n",
              "        <tr>\n",
              "            <td>2</td>\n",
              "            <td>TREES</td>\n",
              "            <td>Almirante 2323</td>\n",
              "            <td>Rancagua</td>\n",
              "            <td>VI</td>\n",
              "            <td>ecologista</td>\n",
              "            <td>0</td>\n",
              "        </tr>\n",
              "        <tr>\n",
              "            <td>3</td>\n",
              "            <td>COMPU</td>\n",
              "            <td>Blanco 2120</td>\n",
              "            <td>Santiago</td>\n",
              "            <td>RM</td>\n",
              "            <td>tecnologica</td>\n",
              "            <td>1</td>\n",
              "        </tr>\n",
              "    </tbody>\n",
              "</table>"
            ]
          },
          "metadata": {},
          "execution_count": 11
        }
      ]
    },
    {
      "cell_type": "code",
      "source": [
        "%%sql\n",
        "select * from PROYECTO;"
      ],
      "metadata": {
        "colab": {
          "base_uri": "https://localhost:8080/",
          "height": 76
        },
        "id": "0_SubMMmWLhV",
        "outputId": "d160ae8b-5684-4240-f364-88360d857fe6"
      },
      "execution_count": 12,
      "outputs": [
        {
          "output_type": "stream",
          "name": "stdout",
          "text": [
            " * sqlite:///ONG.db\n",
            "Done.\n"
          ]
        },
        {
          "output_type": "execute_result",
          "data": {
            "text/plain": [
              "[]"
            ],
            "text/html": [
              "<table>\n",
              "    <thead>\n",
              "        <tr>\n",
              "            <th>idp</th>\n",
              "            <th>region</th>\n",
              "            <th>provincia</th>\n",
              "            <th>objetivo</th>\n",
              "            <th>numero_beneficiados</th>\n",
              "            <th>ido</th>\n",
              "            <th>A_padre</th>\n",
              "        </tr>\n",
              "    </thead>\n",
              "    <tbody>\n",
              "    </tbody>\n",
              "</table>"
            ]
          },
          "metadata": {},
          "execution_count": 12
        }
      ]
    },
    {
      "cell_type": "code",
      "source": [
        "%%sql\n",
        "delete from ONG where ido == 1; "
      ],
      "metadata": {
        "colab": {
          "base_uri": "https://localhost:8080/"
        },
        "id": "vkxRtEIzWT8Z",
        "outputId": "d6379d0d-b876-49df-bd46-0d8a0293878a"
      },
      "execution_count": 10,
      "outputs": [
        {
          "output_type": "stream",
          "name": "stdout",
          "text": [
            " * sqlite:///ONG.db\n",
            "1 rows affected.\n"
          ]
        },
        {
          "output_type": "execute_result",
          "data": {
            "text/plain": [
              "[]"
            ]
          },
          "metadata": {},
          "execution_count": 10
        }
      ]
    }
  ]
}