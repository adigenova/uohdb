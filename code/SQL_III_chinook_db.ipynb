{
  "nbformat": 4,
  "nbformat_minor": 0,
  "metadata": {
    "colab": {
      "name": "SQL_III_chinook_db.ipynb",
      "provenance": [],
      "collapsed_sections": [],
      "authorship_tag": "ABX9TyPlPhc3SSfQsPq3Xx4ZiFou",
      "include_colab_link": true
    },
    "kernelspec": {
      "name": "python3",
      "display_name": "Python 3"
    },
    "language_info": {
      "name": "python"
    }
  },
  "cells": [
    {
      "cell_type": "markdown",
      "metadata": {
        "id": "view-in-github",
        "colab_type": "text"
      },
      "source": [
        "<a href=\"https://colab.research.google.com/github/adigenova/uohdb/blob/main/code/SQL_III_chinook_db.ipynb\" target=\"_parent\"><img src=\"https://colab.research.google.com/assets/colab-badge.svg\" alt=\"Open In Colab\"/></a>"
      ]
    },
    {
      "cell_type": "markdown",
      "source": [
        "# Working with the Chinook database\n",
        "\n",
        "## downloading the database from github"
      ],
      "metadata": {
        "id": "ptktIQpcEka9"
      }
    },
    {
      "cell_type": "code",
      "execution_count": 2,
      "metadata": {
        "colab": {
          "base_uri": "https://localhost:8080/"
        },
        "id": "4BcjS8dwEWS-",
        "outputId": "76665826-ce7b-423d-8283-22056c993af9"
      },
      "outputs": [
        {
          "output_type": "stream",
          "name": "stdout",
          "text": [
            "Cloning into 'chinook-database'...\n",
            "remote: Enumerating objects: 1960, done.\u001b[K\n",
            "remote: Counting objects: 100% (75/75), done.\u001b[K\n",
            "remote: Compressing objects: 100% (54/54), done.\u001b[K\n",
            "remote: Total 1960 (delta 33), reused 50 (delta 21), pack-reused 1885\u001b[K\n",
            "Receiving objects: 100% (1960/1960), 19.57 MiB | 17.08 MiB/s, done.\n",
            "Resolving deltas: 100% (1277/1277), done.\n"
          ]
        }
      ],
      "source": [
        "#download the Chinook database\n",
        "!git clone https://github.com/lerocha/chinook-database.git"
      ]
    },
    {
      "cell_type": "code",
      "source": [
        "# load the SQL magic extension\n",
        "# https://github.com/catherinedevlin/ipython-sql\n",
        "# this extension allows us to connect to DBs and issue SQL command\n",
        "%load_ext sql\n",
        "# now we can use the magic extension to connect to our SQLite DB\n",
        "# use %sql to write an inline SQL command\n",
        "# use %%sql to write SQL commands in a cell\n",
        "%sql sqlite:////content/chinook-database/ChinookDatabase/DataSources/Chinook_Sqlite.sqlite"
      ],
      "metadata": {
        "colab": {
          "base_uri": "https://localhost:8080/",
          "height": 35
        },
        "id": "i3VBK1_EEzlS",
        "outputId": "6434e5ea-1178-4405-d68a-1c45871aa537"
      },
      "execution_count": 3,
      "outputs": [
        {
          "output_type": "execute_result",
          "data": {
            "text/plain": [
              "'Connected: @/content/chinook-database/ChinookDatabase/DataSources/Chinook_Sqlite.sqlite'"
            ],
            "application/vnd.google.colaboratory.intrinsic+json": {
              "type": "string"
            }
          },
          "metadata": {},
          "execution_count": 3
        }
      ]
    },
    {
      "cell_type": "markdown",
      "source": [
        "\n",
        "### Display tables of the Chinook database\n"
      ],
      "metadata": {
        "id": "qAIQdCKNFnfz"
      }
    },
    {
      "cell_type": "code",
      "source": [
        "%%sql\n",
        "SELECT name FROM sqlite_master WHERE type='table' AND name NOT LIKE 'sqlite_%';"
      ],
      "metadata": {
        "colab": {
          "base_uri": "https://localhost:8080/",
          "height": 311
        },
        "id": "ILTPAZ7aGr3o",
        "outputId": "cc366a07-6faf-42c2-ae52-7cf9e842781c"
      },
      "execution_count": null,
      "outputs": [
        {
          "output_type": "stream",
          "name": "stdout",
          "text": [
            " * sqlite:////content/chinook-database/ChinookDatabase/DataSources/Chinook_Sqlite.sqlite\n",
            "Done.\n"
          ]
        },
        {
          "output_type": "execute_result",
          "data": {
            "text/plain": [
              "[('Album',),\n",
              " ('Artist',),\n",
              " ('Customer',),\n",
              " ('Employee',),\n",
              " ('Genre',),\n",
              " ('Invoice',),\n",
              " ('InvoiceLine',),\n",
              " ('MediaType',),\n",
              " ('Playlist',),\n",
              " ('PlaylistTrack',),\n",
              " ('Track',)]"
            ],
            "text/html": [
              "<table>\n",
              "    <thead>\n",
              "        <tr>\n",
              "            <th>name</th>\n",
              "        </tr>\n",
              "    </thead>\n",
              "    <tbody>\n",
              "        <tr>\n",
              "            <td>Album</td>\n",
              "        </tr>\n",
              "        <tr>\n",
              "            <td>Artist</td>\n",
              "        </tr>\n",
              "        <tr>\n",
              "            <td>Customer</td>\n",
              "        </tr>\n",
              "        <tr>\n",
              "            <td>Employee</td>\n",
              "        </tr>\n",
              "        <tr>\n",
              "            <td>Genre</td>\n",
              "        </tr>\n",
              "        <tr>\n",
              "            <td>Invoice</td>\n",
              "        </tr>\n",
              "        <tr>\n",
              "            <td>InvoiceLine</td>\n",
              "        </tr>\n",
              "        <tr>\n",
              "            <td>MediaType</td>\n",
              "        </tr>\n",
              "        <tr>\n",
              "            <td>Playlist</td>\n",
              "        </tr>\n",
              "        <tr>\n",
              "            <td>PlaylistTrack</td>\n",
              "        </tr>\n",
              "        <tr>\n",
              "            <td>Track</td>\n",
              "        </tr>\n",
              "    </tbody>\n",
              "</table>"
            ]
          },
          "metadata": {},
          "execution_count": 3
        }
      ]
    },
    {
      "cell_type": "markdown",
      "source": [
        "getting information about a particular table\n"
      ],
      "metadata": {
        "id": "mUpUSWNlJgvM"
      }
    },
    {
      "cell_type": "code",
      "source": [
        "%%sql \n",
        "PRAGMA table_info([Artist]);"
      ],
      "metadata": {
        "colab": {
          "base_uri": "https://localhost:8080/",
          "height": 119
        },
        "id": "cUK2Md-oJnv0",
        "outputId": "ca55e5d4-98bf-4e01-fceb-2eea475de54f"
      },
      "execution_count": null,
      "outputs": [
        {
          "output_type": "stream",
          "name": "stdout",
          "text": [
            " * sqlite:////content/chinook-database/ChinookDatabase/DataSources/Chinook_Sqlite.sqlite\n",
            "Done.\n"
          ]
        },
        {
          "output_type": "execute_result",
          "data": {
            "text/plain": [
              "[(0, 'ArtistId', 'INTEGER', 1, None, 1),\n",
              " (1, 'Name', 'NVARCHAR(120)', 0, None, 0)]"
            ],
            "text/html": [
              "<table>\n",
              "    <thead>\n",
              "        <tr>\n",
              "            <th>cid</th>\n",
              "            <th>name</th>\n",
              "            <th>type</th>\n",
              "            <th>notnull</th>\n",
              "            <th>dflt_value</th>\n",
              "            <th>pk</th>\n",
              "        </tr>\n",
              "    </thead>\n",
              "    <tbody>\n",
              "        <tr>\n",
              "            <td>0</td>\n",
              "            <td>ArtistId</td>\n",
              "            <td>INTEGER</td>\n",
              "            <td>1</td>\n",
              "            <td>None</td>\n",
              "            <td>1</td>\n",
              "        </tr>\n",
              "        <tr>\n",
              "            <td>1</td>\n",
              "            <td>Name</td>\n",
              "            <td>NVARCHAR(120)</td>\n",
              "            <td>0</td>\n",
              "            <td>None</td>\n",
              "            <td>0</td>\n",
              "        </tr>\n",
              "    </tbody>\n",
              "</table>"
            ]
          },
          "metadata": {},
          "execution_count": 4
        }
      ]
    },
    {
      "cell_type": "markdown",
      "source": [
        "getting the SQL code that generate a table\n",
        "\n",
        "\n",
        "## Create automatic documentation with [schemaspy](https://schemaspy.org/)\n",
        "\n",
        "<img src=\"https://schemaspy.org/sample/diagrams/summary/relationships.real.large.png\" alt=\"ER Diagram\" width=\"836\" height=\"605\" />\n",
        "\n",
        "\n",
        "In the above ER diagram, the tiny vertical key icon indicates a column is a primary key. A primary key is a column (or set of columns) whose values uniquely identify every row in a table. For example, `Employeeud` is the primary key in the `Employee` table.\n",
        "\n",
        "The relationship icon indicates a foreign key constraint and a one-to-many relationship. \n",
        "\n",
        "\n"
      ],
      "metadata": {
        "id": "wA1MJwgRL7UL"
      }
    },
    {
      "cell_type": "markdown",
      "source": [
        "# SQL con Chinook\n",
        "\n"
      ],
      "metadata": {
        "id": "EVxhvaEtNAMt"
      }
    },
    {
      "cell_type": "markdown",
      "source": [
        "## Manipulando Strings"
      ],
      "metadata": {
        "id": "dpgxU6l_rLf6"
      }
    },
    {
      "cell_type": "code",
      "source": [
        "%%sql\n",
        "select distinct(composer) from track where composer like \"%Brian\";"
      ],
      "metadata": {
        "colab": {
          "base_uri": "https://localhost:8080/",
          "height": 119
        },
        "id": "2g923v8SncSb",
        "outputId": "7abc7325-3399-4d8a-a176-c46056ace642"
      },
      "execution_count": 85,
      "outputs": [
        {
          "output_type": "stream",
          "name": "stdout",
          "text": [
            " * sqlite:////content/chinook-database/ChinookDatabase/DataSources/Chinook_Sqlite.sqlite\n",
            "Done.\n"
          ]
        },
        {
          "output_type": "execute_result",
          "data": {
            "text/plain": [
              "[('May, Brian',), ('Deacon, John/May, Brian',)]"
            ],
            "text/html": [
              "<table>\n",
              "    <thead>\n",
              "        <tr>\n",
              "            <th>Composer</th>\n",
              "        </tr>\n",
              "    </thead>\n",
              "    <tbody>\n",
              "        <tr>\n",
              "            <td>May, Brian</td>\n",
              "        </tr>\n",
              "        <tr>\n",
              "            <td>Deacon, John/May, Brian</td>\n",
              "        </tr>\n",
              "    </tbody>\n",
              "</table>"
            ]
          },
          "metadata": {},
          "execution_count": 85
        }
      ]
    },
    {
      "cell_type": "code",
      "source": [
        "%%sql\n",
        "select distinct(composer) from track where composer like \"Brian%\";"
      ],
      "metadata": {
        "colab": {
          "base_uri": "https://localhost:8080/",
          "height": 183
        },
        "id": "iJWtObIPph2b",
        "outputId": "333c0db8-106b-44e0-ed80-f708f86c491b"
      },
      "execution_count": 86,
      "outputs": [
        {
          "output_type": "stream",
          "name": "stdout",
          "text": [
            " * sqlite:////content/chinook-database/ChinookDatabase/DataSources/Chinook_Sqlite.sqlite\n",
            "Done.\n"
          ]
        },
        {
          "output_type": "execute_result",
          "data": {
            "text/plain": [
              "[('Brian Holland/Freddie Gorman/Georgia Dobbins/Robert Bateman/William Garrett',),\n",
              " ('Brian May',),\n",
              " ('Brian Holland/Eddie Holland/Lamont Dozier',),\n",
              " ('Brian Eno, Bono, Adam Clayton, The Edge & Larry Mullen Jnr.',),\n",
              " ('Brian Eno/U2',)]"
            ],
            "text/html": [
              "<table>\n",
              "    <thead>\n",
              "        <tr>\n",
              "            <th>Composer</th>\n",
              "        </tr>\n",
              "    </thead>\n",
              "    <tbody>\n",
              "        <tr>\n",
              "            <td>Brian Holland/Freddie Gorman/Georgia Dobbins/Robert Bateman/William Garrett</td>\n",
              "        </tr>\n",
              "        <tr>\n",
              "            <td>Brian May</td>\n",
              "        </tr>\n",
              "        <tr>\n",
              "            <td>Brian Holland/Eddie Holland/Lamont Dozier</td>\n",
              "        </tr>\n",
              "        <tr>\n",
              "            <td>Brian Eno, Bono, Adam Clayton, The Edge &amp; Larry Mullen Jnr.</td>\n",
              "        </tr>\n",
              "        <tr>\n",
              "            <td>Brian Eno/U2</td>\n",
              "        </tr>\n",
              "    </tbody>\n",
              "</table>"
            ]
          },
          "metadata": {},
          "execution_count": 86
        }
      ]
    },
    {
      "cell_type": "code",
      "source": [
        "%%sql\n",
        "select distinct(composer) from track where composer like \"%Brian%\";"
      ],
      "metadata": {
        "colab": {
          "base_uri": "https://localhost:8080/",
          "height": 247
        },
        "id": "QWiB50aKonqc",
        "outputId": "b923aa28-b167-4a2c-a5d4-d5c53e46e552"
      },
      "execution_count": 84,
      "outputs": [
        {
          "output_type": "stream",
          "name": "stdout",
          "text": [
            " * sqlite:////content/chinook-database/ChinookDatabase/DataSources/Chinook_Sqlite.sqlite\n",
            "Done.\n"
          ]
        },
        {
          "output_type": "execute_result",
          "data": {
            "text/plain": [
              "[('Angus Young, Malcolm Young, Brian Johnson',),\n",
              " ('Brian Holland/Freddie Gorman/Georgia Dobbins/Robert Bateman/William Garrett',),\n",
              " ('Brian May',),\n",
              " ('Brian Holland/Eddie Holland/Lamont Dozier',),\n",
              " ('Brian Eno, Bono, Adam Clayton, The Edge & Larry Mullen Jnr.',),\n",
              " ('May, Brian',),\n",
              " ('Deacon, John/May, Brian',),\n",
              " ('Brian Eno/U2',)]"
            ],
            "text/html": [
              "<table>\n",
              "    <thead>\n",
              "        <tr>\n",
              "            <th>Composer</th>\n",
              "        </tr>\n",
              "    </thead>\n",
              "    <tbody>\n",
              "        <tr>\n",
              "            <td>Angus Young, Malcolm Young, Brian Johnson</td>\n",
              "        </tr>\n",
              "        <tr>\n",
              "            <td>Brian Holland/Freddie Gorman/Georgia Dobbins/Robert Bateman/William Garrett</td>\n",
              "        </tr>\n",
              "        <tr>\n",
              "            <td>Brian May</td>\n",
              "        </tr>\n",
              "        <tr>\n",
              "            <td>Brian Holland/Eddie Holland/Lamont Dozier</td>\n",
              "        </tr>\n",
              "        <tr>\n",
              "            <td>Brian Eno, Bono, Adam Clayton, The Edge &amp; Larry Mullen Jnr.</td>\n",
              "        </tr>\n",
              "        <tr>\n",
              "            <td>May, Brian</td>\n",
              "        </tr>\n",
              "        <tr>\n",
              "            <td>Deacon, John/May, Brian</td>\n",
              "        </tr>\n",
              "        <tr>\n",
              "            <td>Brian Eno/U2</td>\n",
              "        </tr>\n",
              "    </tbody>\n",
              "</table>"
            ]
          },
          "metadata": {},
          "execution_count": 84
        }
      ]
    },
    {
      "cell_type": "code",
      "source": [
        "%%sql\n",
        "select distinct(composer) from track where composer like \"%Br_an%\";"
      ],
      "metadata": {
        "colab": {
          "base_uri": "https://localhost:8080/",
          "height": 268
        },
        "id": "KcCe9OIFrR-u",
        "outputId": "5adb790c-74f5-41c5-e11a-2a765bcf4fae"
      },
      "execution_count": 87,
      "outputs": [
        {
          "output_type": "stream",
          "name": "stdout",
          "text": [
            " * sqlite:////content/chinook-database/ChinookDatabase/DataSources/Chinook_Sqlite.sqlite\n",
            "Done.\n"
          ]
        },
        {
          "output_type": "execute_result",
          "data": {
            "text/plain": [
              "[('Angus Young, Malcolm Young, Brian Johnson',),\n",
              " ('Brian Holland/Freddie Gorman/Georgia Dobbins/Robert Bateman/William Garrett',),\n",
              " ('Brian May',),\n",
              " ('Brian Holland/Eddie Holland/Lamont Dozier',),\n",
              " ('Bryan Adams/Nikki Sixx/Scott Humphrey',),\n",
              " ('Brian Eno, Bono, Adam Clayton, The Edge & Larry Mullen Jnr.',),\n",
              " ('May, Brian',),\n",
              " ('Deacon, John/May, Brian',),\n",
              " ('Brian Eno/U2',)]"
            ],
            "text/html": [
              "<table>\n",
              "    <thead>\n",
              "        <tr>\n",
              "            <th>Composer</th>\n",
              "        </tr>\n",
              "    </thead>\n",
              "    <tbody>\n",
              "        <tr>\n",
              "            <td>Angus Young, Malcolm Young, Brian Johnson</td>\n",
              "        </tr>\n",
              "        <tr>\n",
              "            <td>Brian Holland/Freddie Gorman/Georgia Dobbins/Robert Bateman/William Garrett</td>\n",
              "        </tr>\n",
              "        <tr>\n",
              "            <td>Brian May</td>\n",
              "        </tr>\n",
              "        <tr>\n",
              "            <td>Brian Holland/Eddie Holland/Lamont Dozier</td>\n",
              "        </tr>\n",
              "        <tr>\n",
              "            <td>Bryan Adams/Nikki Sixx/Scott Humphrey</td>\n",
              "        </tr>\n",
              "        <tr>\n",
              "            <td>Brian Eno, Bono, Adam Clayton, The Edge &amp; Larry Mullen Jnr.</td>\n",
              "        </tr>\n",
              "        <tr>\n",
              "            <td>May, Brian</td>\n",
              "        </tr>\n",
              "        <tr>\n",
              "            <td>Deacon, John/May, Brian</td>\n",
              "        </tr>\n",
              "        <tr>\n",
              "            <td>Brian Eno/U2</td>\n",
              "        </tr>\n",
              "    </tbody>\n",
              "</table>"
            ]
          },
          "metadata": {},
          "execution_count": 87
        }
      ]
    },
    {
      "cell_type": "code",
      "source": [
        "%%sql\n",
        "select length(distinct(composer)) from track where composer like \"%Br_an%\" limit 2;"
      ],
      "metadata": {
        "colab": {
          "base_uri": "https://localhost:8080/",
          "height": 119
        },
        "id": "07nezkKEtCBK",
        "outputId": "7f240814-9dbd-4965-885e-2b81d938729e"
      },
      "execution_count": 99,
      "outputs": [
        {
          "output_type": "stream",
          "name": "stdout",
          "text": [
            " * sqlite:////content/chinook-database/ChinookDatabase/DataSources/Chinook_Sqlite.sqlite\n",
            "Done.\n"
          ]
        },
        {
          "output_type": "execute_result",
          "data": {
            "text/plain": [
              "[(41,), (41,)]"
            ],
            "text/html": [
              "<table>\n",
              "    <thead>\n",
              "        <tr>\n",
              "            <th>length(distinct(composer))</th>\n",
              "        </tr>\n",
              "    </thead>\n",
              "    <tbody>\n",
              "        <tr>\n",
              "            <td>41</td>\n",
              "        </tr>\n",
              "        <tr>\n",
              "            <td>41</td>\n",
              "        </tr>\n",
              "    </tbody>\n",
              "</table>"
            ]
          },
          "metadata": {},
          "execution_count": 99
        }
      ]
    },
    {
      "cell_type": "code",
      "source": [
        "%%sql\n",
        "select upper(distinct(composer)) from track where composer like \"%Br_an%\" limit 2;"
      ],
      "metadata": {
        "colab": {
          "base_uri": "https://localhost:8080/",
          "height": 119
        },
        "id": "ZtgEIjqctSqh",
        "outputId": "23b5e9b3-8c10-460e-a848-fa2466575128"
      },
      "execution_count": 100,
      "outputs": [
        {
          "output_type": "stream",
          "name": "stdout",
          "text": [
            " * sqlite:////content/chinook-database/ChinookDatabase/DataSources/Chinook_Sqlite.sqlite\n",
            "Done.\n"
          ]
        },
        {
          "output_type": "execute_result",
          "data": {
            "text/plain": [
              "[('ANGUS YOUNG, MALCOLM YOUNG, BRIAN JOHNSON',),\n",
              " ('ANGUS YOUNG, MALCOLM YOUNG, BRIAN JOHNSON',)]"
            ],
            "text/html": [
              "<table>\n",
              "    <thead>\n",
              "        <tr>\n",
              "            <th>upper(distinct(composer))</th>\n",
              "        </tr>\n",
              "    </thead>\n",
              "    <tbody>\n",
              "        <tr>\n",
              "            <td>ANGUS YOUNG, MALCOLM YOUNG, BRIAN JOHNSON</td>\n",
              "        </tr>\n",
              "        <tr>\n",
              "            <td>ANGUS YOUNG, MALCOLM YOUNG, BRIAN JOHNSON</td>\n",
              "        </tr>\n",
              "    </tbody>\n",
              "</table>"
            ]
          },
          "metadata": {},
          "execution_count": 100
        }
      ]
    },
    {
      "cell_type": "code",
      "source": [
        "%%sql\n",
        "select substr(distinct(composer),1,6) from track where composer like \"%Br_an%\" limit 2;"
      ],
      "metadata": {
        "colab": {
          "base_uri": "https://localhost:8080/",
          "height": 119
        },
        "id": "lij4c4OPtkqV",
        "outputId": "0a154830-09c1-4a5d-84b9-6fd7693a03ba"
      },
      "execution_count": 101,
      "outputs": [
        {
          "output_type": "stream",
          "name": "stdout",
          "text": [
            " * sqlite:////content/chinook-database/ChinookDatabase/DataSources/Chinook_Sqlite.sqlite\n",
            "Done.\n"
          ]
        },
        {
          "output_type": "execute_result",
          "data": {
            "text/plain": [
              "[('Angus ',), ('Angus ',)]"
            ],
            "text/html": [
              "<table>\n",
              "    <thead>\n",
              "        <tr>\n",
              "            <th>substr(distinct(composer),1,6)</th>\n",
              "        </tr>\n",
              "    </thead>\n",
              "    <tbody>\n",
              "        <tr>\n",
              "            <td>Angus </td>\n",
              "        </tr>\n",
              "        <tr>\n",
              "            <td>Angus </td>\n",
              "        </tr>\n",
              "    </tbody>\n",
              "</table>"
            ]
          },
          "metadata": {},
          "execution_count": 101
        }
      ]
    },
    {
      "cell_type": "code",
      "source": [
        "%%sql\n",
        "select replace(distinct(composer),\"Angus\",\"Alex\") from track where composer like \"%Br_an%\" limit 2;"
      ],
      "metadata": {
        "colab": {
          "base_uri": "https://localhost:8080/",
          "height": 119
        },
        "id": "Nxj-IxPEv4ho",
        "outputId": "982ad570-4545-4859-9a13-d58531932085"
      },
      "execution_count": 107,
      "outputs": [
        {
          "output_type": "stream",
          "name": "stdout",
          "text": [
            " * sqlite:////content/chinook-database/ChinookDatabase/DataSources/Chinook_Sqlite.sqlite\n",
            "Done.\n"
          ]
        },
        {
          "output_type": "execute_result",
          "data": {
            "text/plain": [
              "[('Alex Young, Malcolm Young, Brian Johnson',),\n",
              " ('Alex Young, Malcolm Young, Brian Johnson',)]"
            ],
            "text/html": [
              "<table>\n",
              "    <thead>\n",
              "        <tr>\n",
              "            <th>replace(distinct(composer),&quot;Angus&quot;,&quot;Alex&quot;)</th>\n",
              "        </tr>\n",
              "    </thead>\n",
              "    <tbody>\n",
              "        <tr>\n",
              "            <td>Alex Young, Malcolm Young, Brian Johnson</td>\n",
              "        </tr>\n",
              "        <tr>\n",
              "            <td>Alex Young, Malcolm Young, Brian Johnson</td>\n",
              "        </tr>\n",
              "    </tbody>\n",
              "</table>"
            ]
          },
          "metadata": {},
          "execution_count": 107
        }
      ]
    },
    {
      "cell_type": "code",
      "source": [
        "%%sql\n",
        "select composer || Name as merge_composer_name from track where composer like \"%Br_an%\" limit 2;"
      ],
      "metadata": {
        "colab": {
          "base_uri": "https://localhost:8080/",
          "height": 119
        },
        "id": "0fWDJ-v5uct2",
        "outputId": "7b62cdee-7f2c-4401-8e60-fd1c11ba28a5"
      },
      "execution_count": 105,
      "outputs": [
        {
          "output_type": "stream",
          "name": "stdout",
          "text": [
            " * sqlite:////content/chinook-database/ChinookDatabase/DataSources/Chinook_Sqlite.sqlite\n",
            "Done.\n"
          ]
        },
        {
          "output_type": "execute_result",
          "data": {
            "text/plain": [
              "[('Angus Young, Malcolm Young, Brian JohnsonFor Those About To Rock (We Salute You)',),\n",
              " ('Angus Young, Malcolm Young, Brian JohnsonPut The Finger On You',)]"
            ],
            "text/html": [
              "<table>\n",
              "    <thead>\n",
              "        <tr>\n",
              "            <th>merge_composer_name</th>\n",
              "        </tr>\n",
              "    </thead>\n",
              "    <tbody>\n",
              "        <tr>\n",
              "            <td>Angus Young, Malcolm Young, Brian JohnsonFor Those About To Rock (We Salute You)</td>\n",
              "        </tr>\n",
              "        <tr>\n",
              "            <td>Angus Young, Malcolm Young, Brian JohnsonPut The Finger On You</td>\n",
              "        </tr>\n",
              "    </tbody>\n",
              "</table>"
            ]
          },
          "metadata": {},
          "execution_count": 105
        }
      ]
    },
    {
      "cell_type": "markdown",
      "source": [
        "## Controlando los resultados\n",
        "\n",
        "Order by and limit"
      ],
      "metadata": {
        "id": "tQZ_GwrCyA9f"
      }
    },
    {
      "cell_type": "code",
      "source": [
        "%%sql\n",
        "select Name,Milliseconds from track\n",
        "order by Milliseconds ASC limit 3;"
      ],
      "metadata": {
        "colab": {
          "base_uri": "https://localhost:8080/",
          "height": 140
        },
        "id": "_yT6aaE5yLgu",
        "outputId": "d0c91fbd-3b93-4083-9829-7305a8d2c29a"
      },
      "execution_count": 113,
      "outputs": [
        {
          "output_type": "stream",
          "name": "stdout",
          "text": [
            " * sqlite:////content/chinook-database/ChinookDatabase/DataSources/Chinook_Sqlite.sqlite\n",
            "Done.\n"
          ]
        },
        {
          "output_type": "execute_result",
          "data": {
            "text/plain": [
              "[('É Uma Partida De Futebol', 1071),\n",
              " ('Now Sports', 4884),\n",
              " ('A Statistic', 6373)]"
            ],
            "text/html": [
              "<table>\n",
              "    <thead>\n",
              "        <tr>\n",
              "            <th>Name</th>\n",
              "            <th>Milliseconds</th>\n",
              "        </tr>\n",
              "    </thead>\n",
              "    <tbody>\n",
              "        <tr>\n",
              "            <td>É Uma Partida De Futebol</td>\n",
              "            <td>1071</td>\n",
              "        </tr>\n",
              "        <tr>\n",
              "            <td>Now Sports</td>\n",
              "            <td>4884</td>\n",
              "        </tr>\n",
              "        <tr>\n",
              "            <td>A Statistic</td>\n",
              "            <td>6373</td>\n",
              "        </tr>\n",
              "    </tbody>\n",
              "</table>"
            ]
          },
          "metadata": {},
          "execution_count": 113
        }
      ]
    },
    {
      "cell_type": "code",
      "source": [
        "%%sql\n",
        "select Name,Milliseconds from track\n",
        "order by Milliseconds DESC limit 3;"
      ],
      "metadata": {
        "colab": {
          "base_uri": "https://localhost:8080/",
          "height": 140
        },
        "id": "uBTPUc-qyoCm",
        "outputId": "0166a645-68b2-480a-e2d0-42d8669f170e"
      },
      "execution_count": 114,
      "outputs": [
        {
          "output_type": "stream",
          "name": "stdout",
          "text": [
            " * sqlite:////content/chinook-database/ChinookDatabase/DataSources/Chinook_Sqlite.sqlite\n",
            "Done.\n"
          ]
        },
        {
          "output_type": "execute_result",
          "data": {
            "text/plain": [
              "[('Occupation / Precipice', 5286953),\n",
              " ('Through a Looking Glass', 5088838),\n",
              " ('Greetings from Earth, Pt. 1', 2960293)]"
            ],
            "text/html": [
              "<table>\n",
              "    <thead>\n",
              "        <tr>\n",
              "            <th>Name</th>\n",
              "            <th>Milliseconds</th>\n",
              "        </tr>\n",
              "    </thead>\n",
              "    <tbody>\n",
              "        <tr>\n",
              "            <td>Occupation / Precipice</td>\n",
              "            <td>5286953</td>\n",
              "        </tr>\n",
              "        <tr>\n",
              "            <td>Through a Looking Glass</td>\n",
              "            <td>5088838</td>\n",
              "        </tr>\n",
              "        <tr>\n",
              "            <td>Greetings from Earth, Pt. 1</td>\n",
              "            <td>2960293</td>\n",
              "        </tr>\n",
              "    </tbody>\n",
              "</table>"
            ]
          },
          "metadata": {},
          "execution_count": 114
        }
      ]
    },
    {
      "cell_type": "code",
      "source": [
        "%%sql\n",
        "select * from track\n",
        "order by MediaTypeId DESC, GenreId ASC, AlbumId DESC limit 10;"
      ],
      "metadata": {
        "colab": {
          "base_uri": "https://localhost:8080/",
          "height": 290
        },
        "id": "5NI2yjRFy1Yx",
        "outputId": "20ef8488-b905-466f-9b2c-b2692a8c8705"
      },
      "execution_count": 120,
      "outputs": [
        {
          "output_type": "stream",
          "name": "stdout",
          "text": [
            " * sqlite:////content/chinook-database/ChinookDatabase/DataSources/Chinook_Sqlite.sqlite\n",
            "Done.\n"
          ]
        },
        {
          "output_type": "execute_result",
          "data": {
            "text/plain": [
              "[(3355, 'Love Comes', 265, 5, 1, 'Darius \"Take One\" Minwalla/Jon Auer/Ken Stringfellow/Matt Harris', 199923, 3240609, 0.99),\n",
              " (3353, \"I Guess You're Right\", 265, 5, 1, 'Darius \"Take One\" Minwalla/Jon Auer/Ken Stringfellow/Matt Harris', 212044, 3453849, 0.99),\n",
              " (3357, \"OAM's Blues\", 267, 5, 2, 'Aaron Goldberg', 266936, 4292028, 0.99),\n",
              " (3350, 'Despertar', 262, 5, 2, 'Andrea Dulbecco', 307385, 4821485, 0.99),\n",
              " (3349, 'Amanda', 262, 5, 2, 'Luca Gusella', 246503, 4011615, 0.99),\n",
              " (3356, 'Muita Bobeira', 266, 5, 7, 'Luciana Souza', 172710, 2775071, 0.99),\n",
              " (3358, 'One Step Beyond', 264, 5, 15, 'Karsh Kale', 366085, 6034098, 0.99),\n",
              " (3352, 'Distance', 264, 5, 15, 'Karsh Kale/Vishal Vaid', 327122, 5327463, 0.99),\n",
              " (3354, 'I Ka Barra (Your Work)', 263, 5, 16, 'Habib Koité', 300605, 4855457, 0.99),\n",
              " (3351, 'Din Din Wo (Little Child)', 263, 5, 16, 'Habib Koité', 285837, 4615841, 0.99)]"
            ],
            "text/html": [
              "<table>\n",
              "    <thead>\n",
              "        <tr>\n",
              "            <th>TrackId</th>\n",
              "            <th>Name</th>\n",
              "            <th>AlbumId</th>\n",
              "            <th>MediaTypeId</th>\n",
              "            <th>GenreId</th>\n",
              "            <th>Composer</th>\n",
              "            <th>Milliseconds</th>\n",
              "            <th>Bytes</th>\n",
              "            <th>UnitPrice</th>\n",
              "        </tr>\n",
              "    </thead>\n",
              "    <tbody>\n",
              "        <tr>\n",
              "            <td>3355</td>\n",
              "            <td>Love Comes</td>\n",
              "            <td>265</td>\n",
              "            <td>5</td>\n",
              "            <td>1</td>\n",
              "            <td>Darius &quot;Take One&quot; Minwalla/Jon Auer/Ken Stringfellow/Matt Harris</td>\n",
              "            <td>199923</td>\n",
              "            <td>3240609</td>\n",
              "            <td>0.99</td>\n",
              "        </tr>\n",
              "        <tr>\n",
              "            <td>3353</td>\n",
              "            <td>I Guess You&#x27;re Right</td>\n",
              "            <td>265</td>\n",
              "            <td>5</td>\n",
              "            <td>1</td>\n",
              "            <td>Darius &quot;Take One&quot; Minwalla/Jon Auer/Ken Stringfellow/Matt Harris</td>\n",
              "            <td>212044</td>\n",
              "            <td>3453849</td>\n",
              "            <td>0.99</td>\n",
              "        </tr>\n",
              "        <tr>\n",
              "            <td>3357</td>\n",
              "            <td>OAM&#x27;s Blues</td>\n",
              "            <td>267</td>\n",
              "            <td>5</td>\n",
              "            <td>2</td>\n",
              "            <td>Aaron Goldberg</td>\n",
              "            <td>266936</td>\n",
              "            <td>4292028</td>\n",
              "            <td>0.99</td>\n",
              "        </tr>\n",
              "        <tr>\n",
              "            <td>3350</td>\n",
              "            <td>Despertar</td>\n",
              "            <td>262</td>\n",
              "            <td>5</td>\n",
              "            <td>2</td>\n",
              "            <td>Andrea Dulbecco</td>\n",
              "            <td>307385</td>\n",
              "            <td>4821485</td>\n",
              "            <td>0.99</td>\n",
              "        </tr>\n",
              "        <tr>\n",
              "            <td>3349</td>\n",
              "            <td>Amanda</td>\n",
              "            <td>262</td>\n",
              "            <td>5</td>\n",
              "            <td>2</td>\n",
              "            <td>Luca Gusella</td>\n",
              "            <td>246503</td>\n",
              "            <td>4011615</td>\n",
              "            <td>0.99</td>\n",
              "        </tr>\n",
              "        <tr>\n",
              "            <td>3356</td>\n",
              "            <td>Muita Bobeira</td>\n",
              "            <td>266</td>\n",
              "            <td>5</td>\n",
              "            <td>7</td>\n",
              "            <td>Luciana Souza</td>\n",
              "            <td>172710</td>\n",
              "            <td>2775071</td>\n",
              "            <td>0.99</td>\n",
              "        </tr>\n",
              "        <tr>\n",
              "            <td>3358</td>\n",
              "            <td>One Step Beyond</td>\n",
              "            <td>264</td>\n",
              "            <td>5</td>\n",
              "            <td>15</td>\n",
              "            <td>Karsh Kale</td>\n",
              "            <td>366085</td>\n",
              "            <td>6034098</td>\n",
              "            <td>0.99</td>\n",
              "        </tr>\n",
              "        <tr>\n",
              "            <td>3352</td>\n",
              "            <td>Distance</td>\n",
              "            <td>264</td>\n",
              "            <td>5</td>\n",
              "            <td>15</td>\n",
              "            <td>Karsh Kale/Vishal Vaid</td>\n",
              "            <td>327122</td>\n",
              "            <td>5327463</td>\n",
              "            <td>0.99</td>\n",
              "        </tr>\n",
              "        <tr>\n",
              "            <td>3354</td>\n",
              "            <td>I Ka Barra (Your Work)</td>\n",
              "            <td>263</td>\n",
              "            <td>5</td>\n",
              "            <td>16</td>\n",
              "            <td>Habib Koité</td>\n",
              "            <td>300605</td>\n",
              "            <td>4855457</td>\n",
              "            <td>0.99</td>\n",
              "        </tr>\n",
              "        <tr>\n",
              "            <td>3351</td>\n",
              "            <td>Din Din Wo (Little Child)</td>\n",
              "            <td>263</td>\n",
              "            <td>5</td>\n",
              "            <td>16</td>\n",
              "            <td>Habib Koité</td>\n",
              "            <td>285837</td>\n",
              "            <td>4615841</td>\n",
              "            <td>0.99</td>\n",
              "        </tr>\n",
              "    </tbody>\n",
              "</table>"
            ]
          },
          "metadata": {},
          "execution_count": 120
        }
      ]
    },
    {
      "cell_type": "code",
      "source": [
        "%%sql \n",
        "select * from track limit 5 offset 10"
      ],
      "metadata": {
        "colab": {
          "base_uri": "https://localhost:8080/",
          "height": 183
        },
        "id": "0XC4NBQL04Fb",
        "outputId": "895e67bc-efd5-4971-93ba-05b56d1a36f9"
      },
      "execution_count": 125,
      "outputs": [
        {
          "output_type": "stream",
          "name": "stdout",
          "text": [
            " * sqlite:////content/chinook-database/ChinookDatabase/DataSources/Chinook_Sqlite.sqlite\n",
            "Done.\n"
          ]
        },
        {
          "output_type": "execute_result",
          "data": {
            "text/plain": [
              "[(11, 'C.O.D.', 1, 1, 1, 'Angus Young, Malcolm Young, Brian Johnson', 199836, 6566314, 0.99),\n",
              " (12, 'Breaking The Rules', 1, 1, 1, 'Angus Young, Malcolm Young, Brian Johnson', 263288, 8596840, 0.99),\n",
              " (13, 'Night Of The Long Knives', 1, 1, 1, 'Angus Young, Malcolm Young, Brian Johnson', 205688, 6706347, 0.99),\n",
              " (14, 'Spellbound', 1, 1, 1, 'Angus Young, Malcolm Young, Brian Johnson', 270863, 8817038, 0.99),\n",
              " (15, 'Go Down', 4, 1, 1, 'AC/DC', 331180, 10847611, 0.99)]"
            ],
            "text/html": [
              "<table>\n",
              "    <thead>\n",
              "        <tr>\n",
              "            <th>TrackId</th>\n",
              "            <th>Name</th>\n",
              "            <th>AlbumId</th>\n",
              "            <th>MediaTypeId</th>\n",
              "            <th>GenreId</th>\n",
              "            <th>Composer</th>\n",
              "            <th>Milliseconds</th>\n",
              "            <th>Bytes</th>\n",
              "            <th>UnitPrice</th>\n",
              "        </tr>\n",
              "    </thead>\n",
              "    <tbody>\n",
              "        <tr>\n",
              "            <td>11</td>\n",
              "            <td>C.O.D.</td>\n",
              "            <td>1</td>\n",
              "            <td>1</td>\n",
              "            <td>1</td>\n",
              "            <td>Angus Young, Malcolm Young, Brian Johnson</td>\n",
              "            <td>199836</td>\n",
              "            <td>6566314</td>\n",
              "            <td>0.99</td>\n",
              "        </tr>\n",
              "        <tr>\n",
              "            <td>12</td>\n",
              "            <td>Breaking The Rules</td>\n",
              "            <td>1</td>\n",
              "            <td>1</td>\n",
              "            <td>1</td>\n",
              "            <td>Angus Young, Malcolm Young, Brian Johnson</td>\n",
              "            <td>263288</td>\n",
              "            <td>8596840</td>\n",
              "            <td>0.99</td>\n",
              "        </tr>\n",
              "        <tr>\n",
              "            <td>13</td>\n",
              "            <td>Night Of The Long Knives</td>\n",
              "            <td>1</td>\n",
              "            <td>1</td>\n",
              "            <td>1</td>\n",
              "            <td>Angus Young, Malcolm Young, Brian Johnson</td>\n",
              "            <td>205688</td>\n",
              "            <td>6706347</td>\n",
              "            <td>0.99</td>\n",
              "        </tr>\n",
              "        <tr>\n",
              "            <td>14</td>\n",
              "            <td>Spellbound</td>\n",
              "            <td>1</td>\n",
              "            <td>1</td>\n",
              "            <td>1</td>\n",
              "            <td>Angus Young, Malcolm Young, Brian Johnson</td>\n",
              "            <td>270863</td>\n",
              "            <td>8817038</td>\n",
              "            <td>0.99</td>\n",
              "        </tr>\n",
              "        <tr>\n",
              "            <td>15</td>\n",
              "            <td>Go Down</td>\n",
              "            <td>4</td>\n",
              "            <td>1</td>\n",
              "            <td>1</td>\n",
              "            <td>AC/DC</td>\n",
              "            <td>331180</td>\n",
              "            <td>10847611</td>\n",
              "            <td>0.99</td>\n",
              "        </tr>\n",
              "    </tbody>\n",
              "</table>"
            ]
          },
          "metadata": {},
          "execution_count": 125
        }
      ]
    },
    {
      "cell_type": "markdown",
      "source": [
        "## Manipulando fechas y horas\n"
      ],
      "metadata": {
        "id": "4qFxKvcU4G80"
      }
    },
    {
      "cell_type": "code",
      "source": [
        "%%sql\n",
        "PRAGMA table_info([invoice]);"
      ],
      "metadata": {
        "colab": {
          "base_uri": "https://localhost:8080/",
          "height": 268
        },
        "id": "UaW55ULt7JMo",
        "outputId": "8496f09a-2812-4c90-d7c8-eb44672d7c13"
      },
      "execution_count": 150,
      "outputs": [
        {
          "output_type": "stream",
          "name": "stdout",
          "text": [
            " * sqlite:////content/chinook-database/ChinookDatabase/DataSources/Chinook_Sqlite.sqlite\n",
            "Done.\n"
          ]
        },
        {
          "output_type": "execute_result",
          "data": {
            "text/plain": [
              "[(0, 'InvoiceId', 'INTEGER', 1, None, 1),\n",
              " (1, 'CustomerId', 'INTEGER', 1, None, 0),\n",
              " (2, 'InvoiceDate', 'DATETIME', 1, None, 0),\n",
              " (3, 'BillingAddress', 'NVARCHAR(70)', 0, None, 0),\n",
              " (4, 'BillingCity', 'NVARCHAR(40)', 0, None, 0),\n",
              " (5, 'BillingState', 'NVARCHAR(40)', 0, None, 0),\n",
              " (6, 'BillingCountry', 'NVARCHAR(40)', 0, None, 0),\n",
              " (7, 'BillingPostalCode', 'NVARCHAR(10)', 0, None, 0),\n",
              " (8, 'Total', 'NUMERIC(10,2)', 1, None, 0)]"
            ],
            "text/html": [
              "<table>\n",
              "    <thead>\n",
              "        <tr>\n",
              "            <th>cid</th>\n",
              "            <th>name</th>\n",
              "            <th>type</th>\n",
              "            <th>notnull</th>\n",
              "            <th>dflt_value</th>\n",
              "            <th>pk</th>\n",
              "        </tr>\n",
              "    </thead>\n",
              "    <tbody>\n",
              "        <tr>\n",
              "            <td>0</td>\n",
              "            <td>InvoiceId</td>\n",
              "            <td>INTEGER</td>\n",
              "            <td>1</td>\n",
              "            <td>None</td>\n",
              "            <td>1</td>\n",
              "        </tr>\n",
              "        <tr>\n",
              "            <td>1</td>\n",
              "            <td>CustomerId</td>\n",
              "            <td>INTEGER</td>\n",
              "            <td>1</td>\n",
              "            <td>None</td>\n",
              "            <td>0</td>\n",
              "        </tr>\n",
              "        <tr>\n",
              "            <td>2</td>\n",
              "            <td>InvoiceDate</td>\n",
              "            <td>DATETIME</td>\n",
              "            <td>1</td>\n",
              "            <td>None</td>\n",
              "            <td>0</td>\n",
              "        </tr>\n",
              "        <tr>\n",
              "            <td>3</td>\n",
              "            <td>BillingAddress</td>\n",
              "            <td>NVARCHAR(70)</td>\n",
              "            <td>0</td>\n",
              "            <td>None</td>\n",
              "            <td>0</td>\n",
              "        </tr>\n",
              "        <tr>\n",
              "            <td>4</td>\n",
              "            <td>BillingCity</td>\n",
              "            <td>NVARCHAR(40)</td>\n",
              "            <td>0</td>\n",
              "            <td>None</td>\n",
              "            <td>0</td>\n",
              "        </tr>\n",
              "        <tr>\n",
              "            <td>5</td>\n",
              "            <td>BillingState</td>\n",
              "            <td>NVARCHAR(40)</td>\n",
              "            <td>0</td>\n",
              "            <td>None</td>\n",
              "            <td>0</td>\n",
              "        </tr>\n",
              "        <tr>\n",
              "            <td>6</td>\n",
              "            <td>BillingCountry</td>\n",
              "            <td>NVARCHAR(40)</td>\n",
              "            <td>0</td>\n",
              "            <td>None</td>\n",
              "            <td>0</td>\n",
              "        </tr>\n",
              "        <tr>\n",
              "            <td>7</td>\n",
              "            <td>BillingPostalCode</td>\n",
              "            <td>NVARCHAR(10)</td>\n",
              "            <td>0</td>\n",
              "            <td>None</td>\n",
              "            <td>0</td>\n",
              "        </tr>\n",
              "        <tr>\n",
              "            <td>8</td>\n",
              "            <td>Total</td>\n",
              "            <td>NUMERIC(10,2)</td>\n",
              "            <td>1</td>\n",
              "            <td>None</td>\n",
              "            <td>0</td>\n",
              "        </tr>\n",
              "    </tbody>\n",
              "</table>"
            ]
          },
          "metadata": {},
          "execution_count": 150
        }
      ]
    },
    {
      "cell_type": "code",
      "source": [
        "%%sql\n",
        "select  InvoiceDate,strftime('%Y',InvoiceDate) as \"Año\",\n",
        "strftime('%m',InvoiceDate) as \"Mes\",\n",
        "strftime('%d',InvoiceDate) as \"Dia\",\n",
        "strftime('%H',InvoiceDate) as \"Horas\",\n",
        "strftime('%M',InvoiceDate) as \"Minutos\"\n",
        " from invoice limit 5;"
      ],
      "metadata": {
        "colab": {
          "base_uri": "https://localhost:8080/",
          "height": 183
        },
        "id": "eH3zkcf14N0Z",
        "outputId": "65f3f900-7a79-4033-b154-41f9fe575171"
      },
      "execution_count": 151,
      "outputs": [
        {
          "output_type": "stream",
          "name": "stdout",
          "text": [
            " * sqlite:////content/chinook-database/ChinookDatabase/DataSources/Chinook_Sqlite.sqlite\n",
            "Done.\n"
          ]
        },
        {
          "output_type": "execute_result",
          "data": {
            "text/plain": [
              "[('2009-01-01 00:00:00', '2009', '01', '01', '00', '00'),\n",
              " ('2009-01-02 00:00:00', '2009', '01', '02', '00', '00'),\n",
              " ('2009-01-03 00:00:00', '2009', '01', '03', '00', '00'),\n",
              " ('2009-01-06 00:00:00', '2009', '01', '06', '00', '00'),\n",
              " ('2009-01-11 00:00:00', '2009', '01', '11', '00', '00')]"
            ],
            "text/html": [
              "<table>\n",
              "    <thead>\n",
              "        <tr>\n",
              "            <th>InvoiceDate</th>\n",
              "            <th>Año</th>\n",
              "            <th>Mes</th>\n",
              "            <th>Dia</th>\n",
              "            <th>Horas</th>\n",
              "            <th>Minutos</th>\n",
              "        </tr>\n",
              "    </thead>\n",
              "    <tbody>\n",
              "        <tr>\n",
              "            <td>2009-01-01 00:00:00</td>\n",
              "            <td>2009</td>\n",
              "            <td>01</td>\n",
              "            <td>01</td>\n",
              "            <td>00</td>\n",
              "            <td>00</td>\n",
              "        </tr>\n",
              "        <tr>\n",
              "            <td>2009-01-02 00:00:00</td>\n",
              "            <td>2009</td>\n",
              "            <td>01</td>\n",
              "            <td>02</td>\n",
              "            <td>00</td>\n",
              "            <td>00</td>\n",
              "        </tr>\n",
              "        <tr>\n",
              "            <td>2009-01-03 00:00:00</td>\n",
              "            <td>2009</td>\n",
              "            <td>01</td>\n",
              "            <td>03</td>\n",
              "            <td>00</td>\n",
              "            <td>00</td>\n",
              "        </tr>\n",
              "        <tr>\n",
              "            <td>2009-01-06 00:00:00</td>\n",
              "            <td>2009</td>\n",
              "            <td>01</td>\n",
              "            <td>06</td>\n",
              "            <td>00</td>\n",
              "            <td>00</td>\n",
              "        </tr>\n",
              "        <tr>\n",
              "            <td>2009-01-11 00:00:00</td>\n",
              "            <td>2009</td>\n",
              "            <td>01</td>\n",
              "            <td>11</td>\n",
              "            <td>00</td>\n",
              "            <td>00</td>\n",
              "        </tr>\n",
              "    </tbody>\n",
              "</table>"
            ]
          },
          "metadata": {},
          "execution_count": 151
        }
      ]
    },
    {
      "cell_type": "code",
      "source": [
        "%%sql\n",
        "select  InvoiceDate,strftime('%Y',InvoiceDate) as \"Año\",\n",
        "strftime('%m',InvoiceDate) as \"Mes\",\n",
        "strftime('%d',InvoiceDate) as Dia\n",
        " from invoice where Dia in (\"01\",\"02\",\"11\") limit 5;"
      ],
      "metadata": {
        "colab": {
          "base_uri": "https://localhost:8080/",
          "height": 183
        },
        "id": "oS8gGYBy7gPX",
        "outputId": "2b812044-b984-424c-d045-a6407e62b755"
      },
      "execution_count": 152,
      "outputs": [
        {
          "output_type": "stream",
          "name": "stdout",
          "text": [
            " * sqlite:////content/chinook-database/ChinookDatabase/DataSources/Chinook_Sqlite.sqlite\n",
            "Done.\n"
          ]
        },
        {
          "output_type": "execute_result",
          "data": {
            "text/plain": [
              "[('2009-01-01 00:00:00', '2009', '01', '01'),\n",
              " ('2009-01-02 00:00:00', '2009', '01', '02'),\n",
              " ('2009-01-11 00:00:00', '2009', '01', '11'),\n",
              " ('2009-02-01 00:00:00', '2009', '02', '01'),\n",
              " ('2009-02-01 00:00:00', '2009', '02', '01')]"
            ],
            "text/html": [
              "<table>\n",
              "    <thead>\n",
              "        <tr>\n",
              "            <th>InvoiceDate</th>\n",
              "            <th>Año</th>\n",
              "            <th>Mes</th>\n",
              "            <th>Dia</th>\n",
              "        </tr>\n",
              "    </thead>\n",
              "    <tbody>\n",
              "        <tr>\n",
              "            <td>2009-01-01 00:00:00</td>\n",
              "            <td>2009</td>\n",
              "            <td>01</td>\n",
              "            <td>01</td>\n",
              "        </tr>\n",
              "        <tr>\n",
              "            <td>2009-01-02 00:00:00</td>\n",
              "            <td>2009</td>\n",
              "            <td>01</td>\n",
              "            <td>02</td>\n",
              "        </tr>\n",
              "        <tr>\n",
              "            <td>2009-01-11 00:00:00</td>\n",
              "            <td>2009</td>\n",
              "            <td>01</td>\n",
              "            <td>11</td>\n",
              "        </tr>\n",
              "        <tr>\n",
              "            <td>2009-02-01 00:00:00</td>\n",
              "            <td>2009</td>\n",
              "            <td>02</td>\n",
              "            <td>01</td>\n",
              "        </tr>\n",
              "        <tr>\n",
              "            <td>2009-02-01 00:00:00</td>\n",
              "            <td>2009</td>\n",
              "            <td>02</td>\n",
              "            <td>01</td>\n",
              "        </tr>\n",
              "    </tbody>\n",
              "</table>"
            ]
          },
          "metadata": {},
          "execution_count": 152
        }
      ]
    },
    {
      "cell_type": "markdown",
      "source": [
        "## Almacenado consultas en tablas"
      ],
      "metadata": {
        "id": "g0ZORj13SQc4"
      }
    },
    {
      "cell_type": "code",
      "source": [
        "%%sql\n",
        "select strftime('%Y',InvoiceDate) as \"Año\",\n",
        "strftime('%m',InvoiceDate) as \"Mes\",\n",
        "strftime('%d',InvoiceDate) as \"Dia\"\n",
        " from invoice limit 5;"
      ],
      "metadata": {
        "colab": {
          "base_uri": "https://localhost:8080/",
          "height": 183
        },
        "id": "QQ8i6cGnTxzS",
        "outputId": "9a950514-f335-43e7-8e4c-5701f08eca58"
      },
      "execution_count": 11,
      "outputs": [
        {
          "output_type": "stream",
          "name": "stdout",
          "text": [
            " * sqlite:////content/chinook-database/ChinookDatabase/DataSources/Chinook_Sqlite.sqlite\n",
            "Done.\n"
          ]
        },
        {
          "output_type": "execute_result",
          "data": {
            "text/plain": [
              "[('2009', '01', '01'),\n",
              " ('2009', '01', '02'),\n",
              " ('2009', '01', '03'),\n",
              " ('2009', '01', '06'),\n",
              " ('2009', '01', '11')]"
            ],
            "text/html": [
              "<table>\n",
              "    <thead>\n",
              "        <tr>\n",
              "            <th>Año</th>\n",
              "            <th>Mes</th>\n",
              "            <th>Dia</th>\n",
              "        </tr>\n",
              "    </thead>\n",
              "    <tbody>\n",
              "        <tr>\n",
              "            <td>2009</td>\n",
              "            <td>01</td>\n",
              "            <td>01</td>\n",
              "        </tr>\n",
              "        <tr>\n",
              "            <td>2009</td>\n",
              "            <td>01</td>\n",
              "            <td>02</td>\n",
              "        </tr>\n",
              "        <tr>\n",
              "            <td>2009</td>\n",
              "            <td>01</td>\n",
              "            <td>03</td>\n",
              "        </tr>\n",
              "        <tr>\n",
              "            <td>2009</td>\n",
              "            <td>01</td>\n",
              "            <td>06</td>\n",
              "        </tr>\n",
              "        <tr>\n",
              "            <td>2009</td>\n",
              "            <td>01</td>\n",
              "            <td>11</td>\n",
              "        </tr>\n",
              "    </tbody>\n",
              "</table>"
            ]
          },
          "metadata": {},
          "execution_count": 11
        }
      ]
    },
    {
      "cell_type": "code",
      "source": [
        "%%sql\n",
        "create table Fecha as\n",
        "select strftime('%Y',InvoiceDate) as \"Año\",\n",
        "strftime('%m',InvoiceDate) as \"Mes\",\n",
        "strftime('%d',InvoiceDate) as \"Dia\"\n",
        " from invoice limit 10;"
      ],
      "metadata": {
        "colab": {
          "base_uri": "https://localhost:8080/"
        },
        "id": "IQu-D91YST4q",
        "outputId": "f7b7d4dd-5c7b-4e99-f4bb-28bf3213935a"
      },
      "execution_count": 9,
      "outputs": [
        {
          "output_type": "stream",
          "name": "stdout",
          "text": [
            " * sqlite:////content/chinook-database/ChinookDatabase/DataSources/Chinook_Sqlite.sqlite\n",
            "Done.\n"
          ]
        },
        {
          "output_type": "execute_result",
          "data": {
            "text/plain": [
              "[]"
            ]
          },
          "metadata": {},
          "execution_count": 9
        }
      ]
    },
    {
      "cell_type": "code",
      "source": [
        "%%sql\n",
        "select * from Fecha limit 10;"
      ],
      "metadata": {
        "colab": {
          "base_uri": "https://localhost:8080/",
          "height": 290
        },
        "id": "TAA19enITpVr",
        "outputId": "fdf7ee05-44dc-4b92-d1df-bacc60735efa"
      },
      "execution_count": 10,
      "outputs": [
        {
          "output_type": "stream",
          "name": "stdout",
          "text": [
            " * sqlite:////content/chinook-database/ChinookDatabase/DataSources/Chinook_Sqlite.sqlite\n",
            "Done.\n"
          ]
        },
        {
          "output_type": "execute_result",
          "data": {
            "text/plain": [
              "[('2009', '01', '01'),\n",
              " ('2009', '01', '02'),\n",
              " ('2009', '01', '03'),\n",
              " ('2009', '01', '06'),\n",
              " ('2009', '01', '11'),\n",
              " ('2009', '01', '19'),\n",
              " ('2009', '02', '01'),\n",
              " ('2009', '02', '01'),\n",
              " ('2009', '02', '02'),\n",
              " ('2009', '02', '03')]"
            ],
            "text/html": [
              "<table>\n",
              "    <thead>\n",
              "        <tr>\n",
              "            <th>Año</th>\n",
              "            <th>Mes</th>\n",
              "            <th>Dia</th>\n",
              "        </tr>\n",
              "    </thead>\n",
              "    <tbody>\n",
              "        <tr>\n",
              "            <td>2009</td>\n",
              "            <td>01</td>\n",
              "            <td>01</td>\n",
              "        </tr>\n",
              "        <tr>\n",
              "            <td>2009</td>\n",
              "            <td>01</td>\n",
              "            <td>02</td>\n",
              "        </tr>\n",
              "        <tr>\n",
              "            <td>2009</td>\n",
              "            <td>01</td>\n",
              "            <td>03</td>\n",
              "        </tr>\n",
              "        <tr>\n",
              "            <td>2009</td>\n",
              "            <td>01</td>\n",
              "            <td>06</td>\n",
              "        </tr>\n",
              "        <tr>\n",
              "            <td>2009</td>\n",
              "            <td>01</td>\n",
              "            <td>11</td>\n",
              "        </tr>\n",
              "        <tr>\n",
              "            <td>2009</td>\n",
              "            <td>01</td>\n",
              "            <td>19</td>\n",
              "        </tr>\n",
              "        <tr>\n",
              "            <td>2009</td>\n",
              "            <td>02</td>\n",
              "            <td>01</td>\n",
              "        </tr>\n",
              "        <tr>\n",
              "            <td>2009</td>\n",
              "            <td>02</td>\n",
              "            <td>01</td>\n",
              "        </tr>\n",
              "        <tr>\n",
              "            <td>2009</td>\n",
              "            <td>02</td>\n",
              "            <td>02</td>\n",
              "        </tr>\n",
              "        <tr>\n",
              "            <td>2009</td>\n",
              "            <td>02</td>\n",
              "            <td>03</td>\n",
              "        </tr>\n",
              "    </tbody>\n",
              "</table>"
            ]
          },
          "metadata": {},
          "execution_count": 10
        }
      ]
    },
    {
      "cell_type": "code",
      "source": [
        "%%sql \n",
        "PRAGMA table_info([Fecha]);"
      ],
      "metadata": {
        "colab": {
          "base_uri": "https://localhost:8080/",
          "height": 140
        },
        "id": "6pBvj5T5UNXF",
        "outputId": "dc04b546-69f6-4a6c-c3b1-30bce71c72e5"
      },
      "execution_count": 12,
      "outputs": [
        {
          "output_type": "stream",
          "name": "stdout",
          "text": [
            " * sqlite:////content/chinook-database/ChinookDatabase/DataSources/Chinook_Sqlite.sqlite\n",
            "Done.\n"
          ]
        },
        {
          "output_type": "execute_result",
          "data": {
            "text/plain": [
              "[(0, 'Año', '', 0, None, 0),\n",
              " (1, 'Mes', '', 0, None, 0),\n",
              " (2, 'Dia', '', 0, None, 0)]"
            ],
            "text/html": [
              "<table>\n",
              "    <thead>\n",
              "        <tr>\n",
              "            <th>cid</th>\n",
              "            <th>name</th>\n",
              "            <th>type</th>\n",
              "            <th>notnull</th>\n",
              "            <th>dflt_value</th>\n",
              "            <th>pk</th>\n",
              "        </tr>\n",
              "    </thead>\n",
              "    <tbody>\n",
              "        <tr>\n",
              "            <td>0</td>\n",
              "            <td>Año</td>\n",
              "            <td></td>\n",
              "            <td>0</td>\n",
              "            <td>None</td>\n",
              "            <td>0</td>\n",
              "        </tr>\n",
              "        <tr>\n",
              "            <td>1</td>\n",
              "            <td>Mes</td>\n",
              "            <td></td>\n",
              "            <td>0</td>\n",
              "            <td>None</td>\n",
              "            <td>0</td>\n",
              "        </tr>\n",
              "        <tr>\n",
              "            <td>2</td>\n",
              "            <td>Dia</td>\n",
              "            <td></td>\n",
              "            <td>0</td>\n",
              "            <td>None</td>\n",
              "            <td>0</td>\n",
              "        </tr>\n",
              "    </tbody>\n",
              "</table>"
            ]
          },
          "metadata": {},
          "execution_count": 12
        }
      ]
    },
    {
      "cell_type": "markdown",
      "source": [
        "## subconsultas\n"
      ],
      "metadata": {
        "id": "YQbesiqWX-PF"
      }
    },
    {
      "cell_type": "code",
      "source": [
        "#Obtener los nombres de todas las canciones del álbum \"Californication\".\n",
        "%%sql\n",
        "select name , AlbumId\n",
        "from track \n",
        "where AlbumId in (\n",
        "  select AlbumId \n",
        "  from album\n",
        "  where title = \"Californication\")\n",
        "limit 5;"
      ],
      "metadata": {
        "colab": {
          "base_uri": "https://localhost:8080/",
          "height": 183
        },
        "id": "w9XZEkGjYA9j",
        "outputId": "75553aac-aa4c-46fd-90a3-8b21d601cde9"
      },
      "execution_count": 16,
      "outputs": [
        {
          "output_type": "stream",
          "name": "stdout",
          "text": [
            " * sqlite:////content/chinook-database/ChinookDatabase/DataSources/Chinook_Sqlite.sqlite\n",
            "Done.\n"
          ]
        },
        {
          "output_type": "execute_result",
          "data": {
            "text/plain": [
              "[('Around The World', 195),\n",
              " ('Parallel Universe', 195),\n",
              " ('Scar Tissue', 195),\n",
              " ('Otherside', 195),\n",
              " ('Get On Top', 195)]"
            ],
            "text/html": [
              "<table>\n",
              "    <thead>\n",
              "        <tr>\n",
              "            <th>Name</th>\n",
              "            <th>AlbumId</th>\n",
              "        </tr>\n",
              "    </thead>\n",
              "    <tbody>\n",
              "        <tr>\n",
              "            <td>Around The World</td>\n",
              "            <td>195</td>\n",
              "        </tr>\n",
              "        <tr>\n",
              "            <td>Parallel Universe</td>\n",
              "            <td>195</td>\n",
              "        </tr>\n",
              "        <tr>\n",
              "            <td>Scar Tissue</td>\n",
              "            <td>195</td>\n",
              "        </tr>\n",
              "        <tr>\n",
              "            <td>Otherside</td>\n",
              "            <td>195</td>\n",
              "        </tr>\n",
              "        <tr>\n",
              "            <td>Get On Top</td>\n",
              "            <td>195</td>\n",
              "        </tr>\n",
              "    </tbody>\n",
              "</table>"
            ]
          },
          "metadata": {},
          "execution_count": 16
        }
      ]
    },
    {
      "cell_type": "code",
      "source": [
        "%%sql\n",
        "select name , AlbumId\n",
        "from track \n",
        "where AlbumId not in (\n",
        "  select AlbumId \n",
        "  from album\n",
        "  where title = \"Californication\")\n",
        "limit 5;"
      ],
      "metadata": {
        "colab": {
          "base_uri": "https://localhost:8080/",
          "height": 183
        },
        "id": "5mCNIhjRYjrd",
        "outputId": "ed6c6745-f8e9-41dc-cbce-e93aebdae4d5"
      },
      "execution_count": 17,
      "outputs": [
        {
          "output_type": "stream",
          "name": "stdout",
          "text": [
            " * sqlite:////content/chinook-database/ChinookDatabase/DataSources/Chinook_Sqlite.sqlite\n",
            "Done.\n"
          ]
        },
        {
          "output_type": "execute_result",
          "data": {
            "text/plain": [
              "[('For Those About To Rock (We Salute You)', 1),\n",
              " ('Balls to the Wall', 2),\n",
              " ('Fast As a Shark', 3),\n",
              " ('Restless and Wild', 3),\n",
              " ('Princess of the Dawn', 3)]"
            ],
            "text/html": [
              "<table>\n",
              "    <thead>\n",
              "        <tr>\n",
              "            <th>Name</th>\n",
              "            <th>AlbumId</th>\n",
              "        </tr>\n",
              "    </thead>\n",
              "    <tbody>\n",
              "        <tr>\n",
              "            <td>For Those About To Rock (We Salute You)</td>\n",
              "            <td>1</td>\n",
              "        </tr>\n",
              "        <tr>\n",
              "            <td>Balls to the Wall</td>\n",
              "            <td>2</td>\n",
              "        </tr>\n",
              "        <tr>\n",
              "            <td>Fast As a Shark</td>\n",
              "            <td>3</td>\n",
              "        </tr>\n",
              "        <tr>\n",
              "            <td>Restless and Wild</td>\n",
              "            <td>3</td>\n",
              "        </tr>\n",
              "        <tr>\n",
              "            <td>Princess of the Dawn</td>\n",
              "            <td>3</td>\n",
              "        </tr>\n",
              "    </tbody>\n",
              "</table>"
            ]
          },
          "metadata": {},
          "execution_count": 17
        }
      ]
    },
    {
      "cell_type": "code",
      "source": [
        "#Obtener los nombres de todas las canciones del álbum \"Californication\".\n",
        "%%sql\n",
        "select * from album, track where album.albumid==track.albumid and album.title==\"Californication\";"
      ],
      "metadata": {
        "colab": {
          "base_uri": "https://localhost:8080/",
          "height": 396
        },
        "id": "jQwNRDSgbDoA",
        "outputId": "34b809c9-dc37-4d58-ac37-df25e8a96798"
      },
      "execution_count": 12,
      "outputs": [
        {
          "output_type": "stream",
          "name": "stdout",
          "text": [
            " * sqlite:////content/chinook-database/ChinookDatabase/DataSources/Chinook_Sqlite.sqlite\n",
            "Done.\n"
          ]
        },
        {
          "output_type": "execute_result",
          "data": {
            "text/plain": [
              "[(195, 'Californication', 127, 2391, 'Around The World', 195, 1, 1, 'Anthony Kiedis/Chad Smith/Flea/John Frusciante', 238837, 7859167, 0.99),\n",
              " (195, 'Californication', 127, 2392, 'Parallel Universe', 195, 1, 1, 'Red Hot Chili Peppers', 270654, 8958519, 0.99),\n",
              " (195, 'Californication', 127, 2393, 'Scar Tissue', 195, 1, 1, 'Red Hot Chili Peppers', 217469, 7153744, 0.99),\n",
              " (195, 'Californication', 127, 2394, 'Otherside', 195, 1, 1, 'Red Hot Chili Peppers', 255973, 8357989, 0.99),\n",
              " (195, 'Californication', 127, 2395, 'Get On Top', 195, 1, 1, 'Red Hot Chili Peppers', 198164, 6587883, 0.99),\n",
              " (195, 'Californication', 127, 2396, 'Californication', 195, 1, 1, 'Red Hot Chili Peppers', 321671, 10568999, 0.99),\n",
              " (195, 'Californication', 127, 2397, 'Easily', 195, 1, 1, 'Red Hot Chili Peppers', 231418, 7504534, 0.99),\n",
              " (195, 'Californication', 127, 2398, 'Porcelain', 195, 1, 1, 'Anthony Kiedis/Chad Smith/Flea/John Frusciante', 163787, 5278793, 0.99),\n",
              " (195, 'Californication', 127, 2399, 'Emit Remmus', 195, 1, 1, 'Red Hot Chili Peppers', 240300, 7901717, 0.99),\n",
              " (195, 'Californication', 127, 2400, 'I Like Dirt', 195, 1, 1, 'Red Hot Chili Peppers', 157727, 5225917, 0.99),\n",
              " (195, 'Californication', 127, 2401, 'This Velvet Glove', 195, 1, 1, 'Red Hot Chili Peppers', 225280, 7480537, 0.99),\n",
              " (195, 'Californication', 127, 2402, 'Savior', 195, 1, 1, 'Anthony Kiedis/Chad Smith/Flea/John Frusciante', 292493, 9551885, 0.99),\n",
              " (195, 'Californication', 127, 2403, 'Purple Stain', 195, 1, 1, 'Red Hot Chili Peppers', 253440, 8359971, 0.99),\n",
              " (195, 'Californication', 127, 2404, 'Right On Time', 195, 1, 1, 'Red Hot Chili Peppers', 112613, 3722219, 0.99),\n",
              " (195, 'Californication', 127, 2405, \"Road Trippin'\", 195, 1, 1, 'Red Hot Chili Peppers', 205635, 6685831, 0.99)]"
            ],
            "text/html": [
              "<table>\n",
              "    <thead>\n",
              "        <tr>\n",
              "            <th>AlbumId</th>\n",
              "            <th>Title</th>\n",
              "            <th>ArtistId</th>\n",
              "            <th>TrackId</th>\n",
              "            <th>Name</th>\n",
              "            <th>AlbumId_1</th>\n",
              "            <th>MediaTypeId</th>\n",
              "            <th>GenreId</th>\n",
              "            <th>Composer</th>\n",
              "            <th>Milliseconds</th>\n",
              "            <th>Bytes</th>\n",
              "            <th>UnitPrice</th>\n",
              "        </tr>\n",
              "    </thead>\n",
              "    <tbody>\n",
              "        <tr>\n",
              "            <td>195</td>\n",
              "            <td>Californication</td>\n",
              "            <td>127</td>\n",
              "            <td>2391</td>\n",
              "            <td>Around The World</td>\n",
              "            <td>195</td>\n",
              "            <td>1</td>\n",
              "            <td>1</td>\n",
              "            <td>Anthony Kiedis/Chad Smith/Flea/John Frusciante</td>\n",
              "            <td>238837</td>\n",
              "            <td>7859167</td>\n",
              "            <td>0.99</td>\n",
              "        </tr>\n",
              "        <tr>\n",
              "            <td>195</td>\n",
              "            <td>Californication</td>\n",
              "            <td>127</td>\n",
              "            <td>2392</td>\n",
              "            <td>Parallel Universe</td>\n",
              "            <td>195</td>\n",
              "            <td>1</td>\n",
              "            <td>1</td>\n",
              "            <td>Red Hot Chili Peppers</td>\n",
              "            <td>270654</td>\n",
              "            <td>8958519</td>\n",
              "            <td>0.99</td>\n",
              "        </tr>\n",
              "        <tr>\n",
              "            <td>195</td>\n",
              "            <td>Californication</td>\n",
              "            <td>127</td>\n",
              "            <td>2393</td>\n",
              "            <td>Scar Tissue</td>\n",
              "            <td>195</td>\n",
              "            <td>1</td>\n",
              "            <td>1</td>\n",
              "            <td>Red Hot Chili Peppers</td>\n",
              "            <td>217469</td>\n",
              "            <td>7153744</td>\n",
              "            <td>0.99</td>\n",
              "        </tr>\n",
              "        <tr>\n",
              "            <td>195</td>\n",
              "            <td>Californication</td>\n",
              "            <td>127</td>\n",
              "            <td>2394</td>\n",
              "            <td>Otherside</td>\n",
              "            <td>195</td>\n",
              "            <td>1</td>\n",
              "            <td>1</td>\n",
              "            <td>Red Hot Chili Peppers</td>\n",
              "            <td>255973</td>\n",
              "            <td>8357989</td>\n",
              "            <td>0.99</td>\n",
              "        </tr>\n",
              "        <tr>\n",
              "            <td>195</td>\n",
              "            <td>Californication</td>\n",
              "            <td>127</td>\n",
              "            <td>2395</td>\n",
              "            <td>Get On Top</td>\n",
              "            <td>195</td>\n",
              "            <td>1</td>\n",
              "            <td>1</td>\n",
              "            <td>Red Hot Chili Peppers</td>\n",
              "            <td>198164</td>\n",
              "            <td>6587883</td>\n",
              "            <td>0.99</td>\n",
              "        </tr>\n",
              "        <tr>\n",
              "            <td>195</td>\n",
              "            <td>Californication</td>\n",
              "            <td>127</td>\n",
              "            <td>2396</td>\n",
              "            <td>Californication</td>\n",
              "            <td>195</td>\n",
              "            <td>1</td>\n",
              "            <td>1</td>\n",
              "            <td>Red Hot Chili Peppers</td>\n",
              "            <td>321671</td>\n",
              "            <td>10568999</td>\n",
              "            <td>0.99</td>\n",
              "        </tr>\n",
              "        <tr>\n",
              "            <td>195</td>\n",
              "            <td>Californication</td>\n",
              "            <td>127</td>\n",
              "            <td>2397</td>\n",
              "            <td>Easily</td>\n",
              "            <td>195</td>\n",
              "            <td>1</td>\n",
              "            <td>1</td>\n",
              "            <td>Red Hot Chili Peppers</td>\n",
              "            <td>231418</td>\n",
              "            <td>7504534</td>\n",
              "            <td>0.99</td>\n",
              "        </tr>\n",
              "        <tr>\n",
              "            <td>195</td>\n",
              "            <td>Californication</td>\n",
              "            <td>127</td>\n",
              "            <td>2398</td>\n",
              "            <td>Porcelain</td>\n",
              "            <td>195</td>\n",
              "            <td>1</td>\n",
              "            <td>1</td>\n",
              "            <td>Anthony Kiedis/Chad Smith/Flea/John Frusciante</td>\n",
              "            <td>163787</td>\n",
              "            <td>5278793</td>\n",
              "            <td>0.99</td>\n",
              "        </tr>\n",
              "        <tr>\n",
              "            <td>195</td>\n",
              "            <td>Californication</td>\n",
              "            <td>127</td>\n",
              "            <td>2399</td>\n",
              "            <td>Emit Remmus</td>\n",
              "            <td>195</td>\n",
              "            <td>1</td>\n",
              "            <td>1</td>\n",
              "            <td>Red Hot Chili Peppers</td>\n",
              "            <td>240300</td>\n",
              "            <td>7901717</td>\n",
              "            <td>0.99</td>\n",
              "        </tr>\n",
              "        <tr>\n",
              "            <td>195</td>\n",
              "            <td>Californication</td>\n",
              "            <td>127</td>\n",
              "            <td>2400</td>\n",
              "            <td>I Like Dirt</td>\n",
              "            <td>195</td>\n",
              "            <td>1</td>\n",
              "            <td>1</td>\n",
              "            <td>Red Hot Chili Peppers</td>\n",
              "            <td>157727</td>\n",
              "            <td>5225917</td>\n",
              "            <td>0.99</td>\n",
              "        </tr>\n",
              "        <tr>\n",
              "            <td>195</td>\n",
              "            <td>Californication</td>\n",
              "            <td>127</td>\n",
              "            <td>2401</td>\n",
              "            <td>This Velvet Glove</td>\n",
              "            <td>195</td>\n",
              "            <td>1</td>\n",
              "            <td>1</td>\n",
              "            <td>Red Hot Chili Peppers</td>\n",
              "            <td>225280</td>\n",
              "            <td>7480537</td>\n",
              "            <td>0.99</td>\n",
              "        </tr>\n",
              "        <tr>\n",
              "            <td>195</td>\n",
              "            <td>Californication</td>\n",
              "            <td>127</td>\n",
              "            <td>2402</td>\n",
              "            <td>Savior</td>\n",
              "            <td>195</td>\n",
              "            <td>1</td>\n",
              "            <td>1</td>\n",
              "            <td>Anthony Kiedis/Chad Smith/Flea/John Frusciante</td>\n",
              "            <td>292493</td>\n",
              "            <td>9551885</td>\n",
              "            <td>0.99</td>\n",
              "        </tr>\n",
              "        <tr>\n",
              "            <td>195</td>\n",
              "            <td>Californication</td>\n",
              "            <td>127</td>\n",
              "            <td>2403</td>\n",
              "            <td>Purple Stain</td>\n",
              "            <td>195</td>\n",
              "            <td>1</td>\n",
              "            <td>1</td>\n",
              "            <td>Red Hot Chili Peppers</td>\n",
              "            <td>253440</td>\n",
              "            <td>8359971</td>\n",
              "            <td>0.99</td>\n",
              "        </tr>\n",
              "        <tr>\n",
              "            <td>195</td>\n",
              "            <td>Californication</td>\n",
              "            <td>127</td>\n",
              "            <td>2404</td>\n",
              "            <td>Right On Time</td>\n",
              "            <td>195</td>\n",
              "            <td>1</td>\n",
              "            <td>1</td>\n",
              "            <td>Red Hot Chili Peppers</td>\n",
              "            <td>112613</td>\n",
              "            <td>3722219</td>\n",
              "            <td>0.99</td>\n",
              "        </tr>\n",
              "        <tr>\n",
              "            <td>195</td>\n",
              "            <td>Californication</td>\n",
              "            <td>127</td>\n",
              "            <td>2405</td>\n",
              "            <td>Road Trippin&#x27;</td>\n",
              "            <td>195</td>\n",
              "            <td>1</td>\n",
              "            <td>1</td>\n",
              "            <td>Red Hot Chili Peppers</td>\n",
              "            <td>205635</td>\n",
              "            <td>6685831</td>\n",
              "            <td>0.99</td>\n",
              "        </tr>\n",
              "    </tbody>\n",
              "</table>"
            ]
          },
          "metadata": {},
          "execution_count": 12
        }
      ]
    },
    {
      "cell_type": "code",
      "source": [
        "#Obtener los nombres de todas las canciones del álbum \"Californication\".\n",
        "%%sql\n",
        "select * from album, track where album.albumid==track.albumid and album.albumid==195;"
      ],
      "metadata": {
        "colab": {
          "base_uri": "https://localhost:8080/",
          "height": 396
        },
        "id": "7qySnIAXbeKI",
        "outputId": "5f8c89fc-8a2c-4495-cf9b-5eb7b018f679"
      },
      "execution_count": 13,
      "outputs": [
        {
          "output_type": "stream",
          "name": "stdout",
          "text": [
            " * sqlite:////content/chinook-database/ChinookDatabase/DataSources/Chinook_Sqlite.sqlite\n",
            "Done.\n"
          ]
        },
        {
          "output_type": "execute_result",
          "data": {
            "text/plain": [
              "[(195, 'Californication', 127, 2391, 'Around The World', 195, 1, 1, 'Anthony Kiedis/Chad Smith/Flea/John Frusciante', 238837, 7859167, 0.99),\n",
              " (195, 'Californication', 127, 2392, 'Parallel Universe', 195, 1, 1, 'Red Hot Chili Peppers', 270654, 8958519, 0.99),\n",
              " (195, 'Californication', 127, 2393, 'Scar Tissue', 195, 1, 1, 'Red Hot Chili Peppers', 217469, 7153744, 0.99),\n",
              " (195, 'Californication', 127, 2394, 'Otherside', 195, 1, 1, 'Red Hot Chili Peppers', 255973, 8357989, 0.99),\n",
              " (195, 'Californication', 127, 2395, 'Get On Top', 195, 1, 1, 'Red Hot Chili Peppers', 198164, 6587883, 0.99),\n",
              " (195, 'Californication', 127, 2396, 'Californication', 195, 1, 1, 'Red Hot Chili Peppers', 321671, 10568999, 0.99),\n",
              " (195, 'Californication', 127, 2397, 'Easily', 195, 1, 1, 'Red Hot Chili Peppers', 231418, 7504534, 0.99),\n",
              " (195, 'Californication', 127, 2398, 'Porcelain', 195, 1, 1, 'Anthony Kiedis/Chad Smith/Flea/John Frusciante', 163787, 5278793, 0.99),\n",
              " (195, 'Californication', 127, 2399, 'Emit Remmus', 195, 1, 1, 'Red Hot Chili Peppers', 240300, 7901717, 0.99),\n",
              " (195, 'Californication', 127, 2400, 'I Like Dirt', 195, 1, 1, 'Red Hot Chili Peppers', 157727, 5225917, 0.99),\n",
              " (195, 'Californication', 127, 2401, 'This Velvet Glove', 195, 1, 1, 'Red Hot Chili Peppers', 225280, 7480537, 0.99),\n",
              " (195, 'Californication', 127, 2402, 'Savior', 195, 1, 1, 'Anthony Kiedis/Chad Smith/Flea/John Frusciante', 292493, 9551885, 0.99),\n",
              " (195, 'Californication', 127, 2403, 'Purple Stain', 195, 1, 1, 'Red Hot Chili Peppers', 253440, 8359971, 0.99),\n",
              " (195, 'Californication', 127, 2404, 'Right On Time', 195, 1, 1, 'Red Hot Chili Peppers', 112613, 3722219, 0.99),\n",
              " (195, 'Californication', 127, 2405, \"Road Trippin'\", 195, 1, 1, 'Red Hot Chili Peppers', 205635, 6685831, 0.99)]"
            ],
            "text/html": [
              "<table>\n",
              "    <thead>\n",
              "        <tr>\n",
              "            <th>AlbumId</th>\n",
              "            <th>Title</th>\n",
              "            <th>ArtistId</th>\n",
              "            <th>TrackId</th>\n",
              "            <th>Name</th>\n",
              "            <th>AlbumId_1</th>\n",
              "            <th>MediaTypeId</th>\n",
              "            <th>GenreId</th>\n",
              "            <th>Composer</th>\n",
              "            <th>Milliseconds</th>\n",
              "            <th>Bytes</th>\n",
              "            <th>UnitPrice</th>\n",
              "        </tr>\n",
              "    </thead>\n",
              "    <tbody>\n",
              "        <tr>\n",
              "            <td>195</td>\n",
              "            <td>Californication</td>\n",
              "            <td>127</td>\n",
              "            <td>2391</td>\n",
              "            <td>Around The World</td>\n",
              "            <td>195</td>\n",
              "            <td>1</td>\n",
              "            <td>1</td>\n",
              "            <td>Anthony Kiedis/Chad Smith/Flea/John Frusciante</td>\n",
              "            <td>238837</td>\n",
              "            <td>7859167</td>\n",
              "            <td>0.99</td>\n",
              "        </tr>\n",
              "        <tr>\n",
              "            <td>195</td>\n",
              "            <td>Californication</td>\n",
              "            <td>127</td>\n",
              "            <td>2392</td>\n",
              "            <td>Parallel Universe</td>\n",
              "            <td>195</td>\n",
              "            <td>1</td>\n",
              "            <td>1</td>\n",
              "            <td>Red Hot Chili Peppers</td>\n",
              "            <td>270654</td>\n",
              "            <td>8958519</td>\n",
              "            <td>0.99</td>\n",
              "        </tr>\n",
              "        <tr>\n",
              "            <td>195</td>\n",
              "            <td>Californication</td>\n",
              "            <td>127</td>\n",
              "            <td>2393</td>\n",
              "            <td>Scar Tissue</td>\n",
              "            <td>195</td>\n",
              "            <td>1</td>\n",
              "            <td>1</td>\n",
              "            <td>Red Hot Chili Peppers</td>\n",
              "            <td>217469</td>\n",
              "            <td>7153744</td>\n",
              "            <td>0.99</td>\n",
              "        </tr>\n",
              "        <tr>\n",
              "            <td>195</td>\n",
              "            <td>Californication</td>\n",
              "            <td>127</td>\n",
              "            <td>2394</td>\n",
              "            <td>Otherside</td>\n",
              "            <td>195</td>\n",
              "            <td>1</td>\n",
              "            <td>1</td>\n",
              "            <td>Red Hot Chili Peppers</td>\n",
              "            <td>255973</td>\n",
              "            <td>8357989</td>\n",
              "            <td>0.99</td>\n",
              "        </tr>\n",
              "        <tr>\n",
              "            <td>195</td>\n",
              "            <td>Californication</td>\n",
              "            <td>127</td>\n",
              "            <td>2395</td>\n",
              "            <td>Get On Top</td>\n",
              "            <td>195</td>\n",
              "            <td>1</td>\n",
              "            <td>1</td>\n",
              "            <td>Red Hot Chili Peppers</td>\n",
              "            <td>198164</td>\n",
              "            <td>6587883</td>\n",
              "            <td>0.99</td>\n",
              "        </tr>\n",
              "        <tr>\n",
              "            <td>195</td>\n",
              "            <td>Californication</td>\n",
              "            <td>127</td>\n",
              "            <td>2396</td>\n",
              "            <td>Californication</td>\n",
              "            <td>195</td>\n",
              "            <td>1</td>\n",
              "            <td>1</td>\n",
              "            <td>Red Hot Chili Peppers</td>\n",
              "            <td>321671</td>\n",
              "            <td>10568999</td>\n",
              "            <td>0.99</td>\n",
              "        </tr>\n",
              "        <tr>\n",
              "            <td>195</td>\n",
              "            <td>Californication</td>\n",
              "            <td>127</td>\n",
              "            <td>2397</td>\n",
              "            <td>Easily</td>\n",
              "            <td>195</td>\n",
              "            <td>1</td>\n",
              "            <td>1</td>\n",
              "            <td>Red Hot Chili Peppers</td>\n",
              "            <td>231418</td>\n",
              "            <td>7504534</td>\n",
              "            <td>0.99</td>\n",
              "        </tr>\n",
              "        <tr>\n",
              "            <td>195</td>\n",
              "            <td>Californication</td>\n",
              "            <td>127</td>\n",
              "            <td>2398</td>\n",
              "            <td>Porcelain</td>\n",
              "            <td>195</td>\n",
              "            <td>1</td>\n",
              "            <td>1</td>\n",
              "            <td>Anthony Kiedis/Chad Smith/Flea/John Frusciante</td>\n",
              "            <td>163787</td>\n",
              "            <td>5278793</td>\n",
              "            <td>0.99</td>\n",
              "        </tr>\n",
              "        <tr>\n",
              "            <td>195</td>\n",
              "            <td>Californication</td>\n",
              "            <td>127</td>\n",
              "            <td>2399</td>\n",
              "            <td>Emit Remmus</td>\n",
              "            <td>195</td>\n",
              "            <td>1</td>\n",
              "            <td>1</td>\n",
              "            <td>Red Hot Chili Peppers</td>\n",
              "            <td>240300</td>\n",
              "            <td>7901717</td>\n",
              "            <td>0.99</td>\n",
              "        </tr>\n",
              "        <tr>\n",
              "            <td>195</td>\n",
              "            <td>Californication</td>\n",
              "            <td>127</td>\n",
              "            <td>2400</td>\n",
              "            <td>I Like Dirt</td>\n",
              "            <td>195</td>\n",
              "            <td>1</td>\n",
              "            <td>1</td>\n",
              "            <td>Red Hot Chili Peppers</td>\n",
              "            <td>157727</td>\n",
              "            <td>5225917</td>\n",
              "            <td>0.99</td>\n",
              "        </tr>\n",
              "        <tr>\n",
              "            <td>195</td>\n",
              "            <td>Californication</td>\n",
              "            <td>127</td>\n",
              "            <td>2401</td>\n",
              "            <td>This Velvet Glove</td>\n",
              "            <td>195</td>\n",
              "            <td>1</td>\n",
              "            <td>1</td>\n",
              "            <td>Red Hot Chili Peppers</td>\n",
              "            <td>225280</td>\n",
              "            <td>7480537</td>\n",
              "            <td>0.99</td>\n",
              "        </tr>\n",
              "        <tr>\n",
              "            <td>195</td>\n",
              "            <td>Californication</td>\n",
              "            <td>127</td>\n",
              "            <td>2402</td>\n",
              "            <td>Savior</td>\n",
              "            <td>195</td>\n",
              "            <td>1</td>\n",
              "            <td>1</td>\n",
              "            <td>Anthony Kiedis/Chad Smith/Flea/John Frusciante</td>\n",
              "            <td>292493</td>\n",
              "            <td>9551885</td>\n",
              "            <td>0.99</td>\n",
              "        </tr>\n",
              "        <tr>\n",
              "            <td>195</td>\n",
              "            <td>Californication</td>\n",
              "            <td>127</td>\n",
              "            <td>2403</td>\n",
              "            <td>Purple Stain</td>\n",
              "            <td>195</td>\n",
              "            <td>1</td>\n",
              "            <td>1</td>\n",
              "            <td>Red Hot Chili Peppers</td>\n",
              "            <td>253440</td>\n",
              "            <td>8359971</td>\n",
              "            <td>0.99</td>\n",
              "        </tr>\n",
              "        <tr>\n",
              "            <td>195</td>\n",
              "            <td>Californication</td>\n",
              "            <td>127</td>\n",
              "            <td>2404</td>\n",
              "            <td>Right On Time</td>\n",
              "            <td>195</td>\n",
              "            <td>1</td>\n",
              "            <td>1</td>\n",
              "            <td>Red Hot Chili Peppers</td>\n",
              "            <td>112613</td>\n",
              "            <td>3722219</td>\n",
              "            <td>0.99</td>\n",
              "        </tr>\n",
              "        <tr>\n",
              "            <td>195</td>\n",
              "            <td>Californication</td>\n",
              "            <td>127</td>\n",
              "            <td>2405</td>\n",
              "            <td>Road Trippin&#x27;</td>\n",
              "            <td>195</td>\n",
              "            <td>1</td>\n",
              "            <td>1</td>\n",
              "            <td>Red Hot Chili Peppers</td>\n",
              "            <td>205635</td>\n",
              "            <td>6685831</td>\n",
              "            <td>0.99</td>\n",
              "        </tr>\n",
              "    </tbody>\n",
              "</table>"
            ]
          },
          "metadata": {},
          "execution_count": 13
        }
      ]
    },
    {
      "cell_type": "code",
      "source": [
        "#ordenar los nombres de todas las canciones del álbum \"Californication\" por duracion orden desendente\n",
        "%%sql\n",
        "select * from album as a, track as t \n",
        "where a.albumid==t.albumid and a.albumid==195\n",
        "order by  t.milliseconds limit 5;"
      ],
      "metadata": {
        "colab": {
          "base_uri": "https://localhost:8080/",
          "height": 183
        },
        "id": "7s1Pnygfb1ga",
        "outputId": "b3fe142a-cc89-47ac-8428-ef3debcfc6a9"
      },
      "execution_count": 20,
      "outputs": [
        {
          "output_type": "stream",
          "name": "stdout",
          "text": [
            " * sqlite:////content/chinook-database/ChinookDatabase/DataSources/Chinook_Sqlite.sqlite\n",
            "Done.\n"
          ]
        },
        {
          "output_type": "execute_result",
          "data": {
            "text/plain": [
              "[(195, 'Californication', 127, 2404, 'Right On Time', 195, 1, 1, 'Red Hot Chili Peppers', 112613, 3722219, 0.99),\n",
              " (195, 'Californication', 127, 2400, 'I Like Dirt', 195, 1, 1, 'Red Hot Chili Peppers', 157727, 5225917, 0.99),\n",
              " (195, 'Californication', 127, 2398, 'Porcelain', 195, 1, 1, 'Anthony Kiedis/Chad Smith/Flea/John Frusciante', 163787, 5278793, 0.99),\n",
              " (195, 'Californication', 127, 2395, 'Get On Top', 195, 1, 1, 'Red Hot Chili Peppers', 198164, 6587883, 0.99),\n",
              " (195, 'Californication', 127, 2405, \"Road Trippin'\", 195, 1, 1, 'Red Hot Chili Peppers', 205635, 6685831, 0.99)]"
            ],
            "text/html": [
              "<table>\n",
              "    <thead>\n",
              "        <tr>\n",
              "            <th>AlbumId</th>\n",
              "            <th>Title</th>\n",
              "            <th>ArtistId</th>\n",
              "            <th>TrackId</th>\n",
              "            <th>Name</th>\n",
              "            <th>AlbumId_1</th>\n",
              "            <th>MediaTypeId</th>\n",
              "            <th>GenreId</th>\n",
              "            <th>Composer</th>\n",
              "            <th>Milliseconds</th>\n",
              "            <th>Bytes</th>\n",
              "            <th>UnitPrice</th>\n",
              "        </tr>\n",
              "    </thead>\n",
              "    <tbody>\n",
              "        <tr>\n",
              "            <td>195</td>\n",
              "            <td>Californication</td>\n",
              "            <td>127</td>\n",
              "            <td>2404</td>\n",
              "            <td>Right On Time</td>\n",
              "            <td>195</td>\n",
              "            <td>1</td>\n",
              "            <td>1</td>\n",
              "            <td>Red Hot Chili Peppers</td>\n",
              "            <td>112613</td>\n",
              "            <td>3722219</td>\n",
              "            <td>0.99</td>\n",
              "        </tr>\n",
              "        <tr>\n",
              "            <td>195</td>\n",
              "            <td>Californication</td>\n",
              "            <td>127</td>\n",
              "            <td>2400</td>\n",
              "            <td>I Like Dirt</td>\n",
              "            <td>195</td>\n",
              "            <td>1</td>\n",
              "            <td>1</td>\n",
              "            <td>Red Hot Chili Peppers</td>\n",
              "            <td>157727</td>\n",
              "            <td>5225917</td>\n",
              "            <td>0.99</td>\n",
              "        </tr>\n",
              "        <tr>\n",
              "            <td>195</td>\n",
              "            <td>Californication</td>\n",
              "            <td>127</td>\n",
              "            <td>2398</td>\n",
              "            <td>Porcelain</td>\n",
              "            <td>195</td>\n",
              "            <td>1</td>\n",
              "            <td>1</td>\n",
              "            <td>Anthony Kiedis/Chad Smith/Flea/John Frusciante</td>\n",
              "            <td>163787</td>\n",
              "            <td>5278793</td>\n",
              "            <td>0.99</td>\n",
              "        </tr>\n",
              "        <tr>\n",
              "            <td>195</td>\n",
              "            <td>Californication</td>\n",
              "            <td>127</td>\n",
              "            <td>2395</td>\n",
              "            <td>Get On Top</td>\n",
              "            <td>195</td>\n",
              "            <td>1</td>\n",
              "            <td>1</td>\n",
              "            <td>Red Hot Chili Peppers</td>\n",
              "            <td>198164</td>\n",
              "            <td>6587883</td>\n",
              "            <td>0.99</td>\n",
              "        </tr>\n",
              "        <tr>\n",
              "            <td>195</td>\n",
              "            <td>Californication</td>\n",
              "            <td>127</td>\n",
              "            <td>2405</td>\n",
              "            <td>Road Trippin&#x27;</td>\n",
              "            <td>195</td>\n",
              "            <td>1</td>\n",
              "            <td>1</td>\n",
              "            <td>Red Hot Chili Peppers</td>\n",
              "            <td>205635</td>\n",
              "            <td>6685831</td>\n",
              "            <td>0.99</td>\n",
              "        </tr>\n",
              "    </tbody>\n",
              "</table>"
            ]
          },
          "metadata": {},
          "execution_count": 20
        }
      ]
    },
    {
      "cell_type": "code",
      "source": [
        "#Obtener el nombre del album, el nombre de la cancion y el compositor del álbum \"Californication\".\n",
        "%%sql\n",
        "select Title, Name, Composer from Album,track where Album.albumid==track.albumid and Album.Title==\"Californication\";"
      ],
      "metadata": {
        "colab": {
          "base_uri": "https://localhost:8080/",
          "height": 396
        },
        "id": "p_LD_kPwZT1F",
        "outputId": "7d5124ca-5b25-4f45-875a-9fd997b454d7"
      },
      "execution_count": 11,
      "outputs": [
        {
          "output_type": "stream",
          "name": "stdout",
          "text": [
            " * sqlite:////content/chinook-database/ChinookDatabase/DataSources/Chinook_Sqlite.sqlite\n",
            "Done.\n"
          ]
        },
        {
          "output_type": "execute_result",
          "data": {
            "text/plain": [
              "[('Californication', 'Around The World', 'Anthony Kiedis/Chad Smith/Flea/John Frusciante'),\n",
              " ('Californication', 'Parallel Universe', 'Red Hot Chili Peppers'),\n",
              " ('Californication', 'Scar Tissue', 'Red Hot Chili Peppers'),\n",
              " ('Californication', 'Otherside', 'Red Hot Chili Peppers'),\n",
              " ('Californication', 'Get On Top', 'Red Hot Chili Peppers'),\n",
              " ('Californication', 'Californication', 'Red Hot Chili Peppers'),\n",
              " ('Californication', 'Easily', 'Red Hot Chili Peppers'),\n",
              " ('Californication', 'Porcelain', 'Anthony Kiedis/Chad Smith/Flea/John Frusciante'),\n",
              " ('Californication', 'Emit Remmus', 'Red Hot Chili Peppers'),\n",
              " ('Californication', 'I Like Dirt', 'Red Hot Chili Peppers'),\n",
              " ('Californication', 'This Velvet Glove', 'Red Hot Chili Peppers'),\n",
              " ('Californication', 'Savior', 'Anthony Kiedis/Chad Smith/Flea/John Frusciante'),\n",
              " ('Californication', 'Purple Stain', 'Red Hot Chili Peppers'),\n",
              " ('Californication', 'Right On Time', 'Red Hot Chili Peppers'),\n",
              " ('Californication', \"Road Trippin'\", 'Red Hot Chili Peppers')]"
            ],
            "text/html": [
              "<table>\n",
              "    <thead>\n",
              "        <tr>\n",
              "            <th>Title</th>\n",
              "            <th>Name</th>\n",
              "            <th>Composer</th>\n",
              "        </tr>\n",
              "    </thead>\n",
              "    <tbody>\n",
              "        <tr>\n",
              "            <td>Californication</td>\n",
              "            <td>Around The World</td>\n",
              "            <td>Anthony Kiedis/Chad Smith/Flea/John Frusciante</td>\n",
              "        </tr>\n",
              "        <tr>\n",
              "            <td>Californication</td>\n",
              "            <td>Parallel Universe</td>\n",
              "            <td>Red Hot Chili Peppers</td>\n",
              "        </tr>\n",
              "        <tr>\n",
              "            <td>Californication</td>\n",
              "            <td>Scar Tissue</td>\n",
              "            <td>Red Hot Chili Peppers</td>\n",
              "        </tr>\n",
              "        <tr>\n",
              "            <td>Californication</td>\n",
              "            <td>Otherside</td>\n",
              "            <td>Red Hot Chili Peppers</td>\n",
              "        </tr>\n",
              "        <tr>\n",
              "            <td>Californication</td>\n",
              "            <td>Get On Top</td>\n",
              "            <td>Red Hot Chili Peppers</td>\n",
              "        </tr>\n",
              "        <tr>\n",
              "            <td>Californication</td>\n",
              "            <td>Californication</td>\n",
              "            <td>Red Hot Chili Peppers</td>\n",
              "        </tr>\n",
              "        <tr>\n",
              "            <td>Californication</td>\n",
              "            <td>Easily</td>\n",
              "            <td>Red Hot Chili Peppers</td>\n",
              "        </tr>\n",
              "        <tr>\n",
              "            <td>Californication</td>\n",
              "            <td>Porcelain</td>\n",
              "            <td>Anthony Kiedis/Chad Smith/Flea/John Frusciante</td>\n",
              "        </tr>\n",
              "        <tr>\n",
              "            <td>Californication</td>\n",
              "            <td>Emit Remmus</td>\n",
              "            <td>Red Hot Chili Peppers</td>\n",
              "        </tr>\n",
              "        <tr>\n",
              "            <td>Californication</td>\n",
              "            <td>I Like Dirt</td>\n",
              "            <td>Red Hot Chili Peppers</td>\n",
              "        </tr>\n",
              "        <tr>\n",
              "            <td>Californication</td>\n",
              "            <td>This Velvet Glove</td>\n",
              "            <td>Red Hot Chili Peppers</td>\n",
              "        </tr>\n",
              "        <tr>\n",
              "            <td>Californication</td>\n",
              "            <td>Savior</td>\n",
              "            <td>Anthony Kiedis/Chad Smith/Flea/John Frusciante</td>\n",
              "        </tr>\n",
              "        <tr>\n",
              "            <td>Californication</td>\n",
              "            <td>Purple Stain</td>\n",
              "            <td>Red Hot Chili Peppers</td>\n",
              "        </tr>\n",
              "        <tr>\n",
              "            <td>Californication</td>\n",
              "            <td>Right On Time</td>\n",
              "            <td>Red Hot Chili Peppers</td>\n",
              "        </tr>\n",
              "        <tr>\n",
              "            <td>Californication</td>\n",
              "            <td>Road Trippin&#x27;</td>\n",
              "            <td>Red Hot Chili Peppers</td>\n",
              "        </tr>\n",
              "    </tbody>\n",
              "</table>"
            ]
          },
          "metadata": {},
          "execution_count": 11
        }
      ]
    },
    {
      "cell_type": "code",
      "source": [
        "#Obtener los nombres de todas las canciones del álbum \"Californication\".\n",
        "# utilizando subconsultas\n",
        "%%sql\n",
        "select name , AlbumId\n",
        "from track \n",
        "where AlbumId in (\n",
        "  select AlbumId \n",
        "  from album\n",
        "  where title = \"Californication\")"
      ],
      "metadata": {
        "colab": {
          "base_uri": "https://localhost:8080/",
          "height": 396
        },
        "id": "bw_Bp7J3NFlR",
        "outputId": "e0fa2ef3-d8fa-4775-9226-8b520f80cb20"
      },
      "execution_count": 5,
      "outputs": [
        {
          "output_type": "stream",
          "name": "stdout",
          "text": [
            " * sqlite:////content/chinook-database/ChinookDatabase/DataSources/Chinook_Sqlite.sqlite\n",
            "Done.\n"
          ]
        },
        {
          "output_type": "execute_result",
          "data": {
            "text/plain": [
              "[('Around The World', 195),\n",
              " ('Parallel Universe', 195),\n",
              " ('Scar Tissue', 195),\n",
              " ('Otherside', 195),\n",
              " ('Get On Top', 195),\n",
              " ('Californication', 195),\n",
              " ('Easily', 195),\n",
              " ('Porcelain', 195),\n",
              " ('Emit Remmus', 195),\n",
              " ('I Like Dirt', 195),\n",
              " ('This Velvet Glove', 195),\n",
              " ('Savior', 195),\n",
              " ('Purple Stain', 195),\n",
              " ('Right On Time', 195),\n",
              " (\"Road Trippin'\", 195)]"
            ],
            "text/html": [
              "<table>\n",
              "    <thead>\n",
              "        <tr>\n",
              "            <th>Name</th>\n",
              "            <th>AlbumId</th>\n",
              "        </tr>\n",
              "    </thead>\n",
              "    <tbody>\n",
              "        <tr>\n",
              "            <td>Around The World</td>\n",
              "            <td>195</td>\n",
              "        </tr>\n",
              "        <tr>\n",
              "            <td>Parallel Universe</td>\n",
              "            <td>195</td>\n",
              "        </tr>\n",
              "        <tr>\n",
              "            <td>Scar Tissue</td>\n",
              "            <td>195</td>\n",
              "        </tr>\n",
              "        <tr>\n",
              "            <td>Otherside</td>\n",
              "            <td>195</td>\n",
              "        </tr>\n",
              "        <tr>\n",
              "            <td>Get On Top</td>\n",
              "            <td>195</td>\n",
              "        </tr>\n",
              "        <tr>\n",
              "            <td>Californication</td>\n",
              "            <td>195</td>\n",
              "        </tr>\n",
              "        <tr>\n",
              "            <td>Easily</td>\n",
              "            <td>195</td>\n",
              "        </tr>\n",
              "        <tr>\n",
              "            <td>Porcelain</td>\n",
              "            <td>195</td>\n",
              "        </tr>\n",
              "        <tr>\n",
              "            <td>Emit Remmus</td>\n",
              "            <td>195</td>\n",
              "        </tr>\n",
              "        <tr>\n",
              "            <td>I Like Dirt</td>\n",
              "            <td>195</td>\n",
              "        </tr>\n",
              "        <tr>\n",
              "            <td>This Velvet Glove</td>\n",
              "            <td>195</td>\n",
              "        </tr>\n",
              "        <tr>\n",
              "            <td>Savior</td>\n",
              "            <td>195</td>\n",
              "        </tr>\n",
              "        <tr>\n",
              "            <td>Purple Stain</td>\n",
              "            <td>195</td>\n",
              "        </tr>\n",
              "        <tr>\n",
              "            <td>Right On Time</td>\n",
              "            <td>195</td>\n",
              "        </tr>\n",
              "        <tr>\n",
              "            <td>Road Trippin&#x27;</td>\n",
              "            <td>195</td>\n",
              "        </tr>\n",
              "    </tbody>\n",
              "</table>"
            ]
          },
          "metadata": {},
          "execution_count": 5
        }
      ]
    },
    {
      "cell_type": "code",
      "source": [
        "# Determinar el número total de facturas del cliente 59 junto con el nombre completo, la ciudad y el correo electrónico del cliente.\n",
        "%%sql\n",
        "select FirstName,\n",
        "        LastName,\n",
        "        City,\n",
        "        Email, \n",
        "        customer.CustomerId,\n",
        "        InvoiceDate,\n",
        "        BillingAddress,\n",
        "        Total,\n",
        "        InvoiceId\n",
        "from customer, invoice\n",
        "where customer.CustomerId==59 and invoice.customerId=customer.customerId\n",
        "order by Total"
      ],
      "metadata": {
        "colab": {
          "base_uri": "https://localhost:8080/",
          "height": 204
        },
        "id": "ib2XTCtzgEhL",
        "outputId": "68f4d17b-2864-4d36-d78b-6165e6b2da5b"
      },
      "execution_count": 51,
      "outputs": [
        {
          "output_type": "stream",
          "name": "stdout",
          "text": [
            " * sqlite:////content/chinook-database/ChinookDatabase/DataSources/Chinook_Sqlite.sqlite\n",
            "Done.\n"
          ]
        },
        {
          "output_type": "execute_result",
          "data": {
            "text/plain": [
              "[('Puja', 'Srivastava', 'Bangalore', 'puja_srivastava@yahoo.in', 59, '2011-08-20 00:00:00', '3,Raj Bhavan Road', 1.98, 218),\n",
              " ('Puja', 'Srivastava', 'Bangalore', 'puja_srivastava@yahoo.in', 59, '2010-02-26 00:00:00', '3,Raj Bhavan Road', 1.99, 97),\n",
              " ('Puja', 'Srivastava', 'Bangalore', 'puja_srivastava@yahoo.in', 59, '2009-04-05 00:00:00', '3,Raj Bhavan Road', 3.96, 23),\n",
              " ('Puja', 'Srivastava', 'Bangalore', 'puja_srivastava@yahoo.in', 59, '2009-07-08 00:00:00', '3,Raj Bhavan Road', 5.94, 45),\n",
              " ('Puja', 'Srivastava', 'Bangalore', 'puja_srivastava@yahoo.in', 59, '2012-05-30 00:00:00', '3,Raj Bhavan Road', 8.91, 284),\n",
              " ('Puja', 'Srivastava', 'Bangalore', 'puja_srivastava@yahoo.in', 59, '2011-09-30 00:00:00', '3,Raj Bhavan Road', 13.86, 229)]"
            ],
            "text/html": [
              "<table>\n",
              "    <thead>\n",
              "        <tr>\n",
              "            <th>FirstName</th>\n",
              "            <th>LastName</th>\n",
              "            <th>City</th>\n",
              "            <th>Email</th>\n",
              "            <th>CustomerId</th>\n",
              "            <th>InvoiceDate</th>\n",
              "            <th>BillingAddress</th>\n",
              "            <th>Total</th>\n",
              "            <th>InvoiceId</th>\n",
              "        </tr>\n",
              "    </thead>\n",
              "    <tbody>\n",
              "        <tr>\n",
              "            <td>Puja</td>\n",
              "            <td>Srivastava</td>\n",
              "            <td>Bangalore</td>\n",
              "            <td>puja_srivastava@yahoo.in</td>\n",
              "            <td>59</td>\n",
              "            <td>2011-08-20 00:00:00</td>\n",
              "            <td>3,Raj Bhavan Road</td>\n",
              "            <td>1.98</td>\n",
              "            <td>218</td>\n",
              "        </tr>\n",
              "        <tr>\n",
              "            <td>Puja</td>\n",
              "            <td>Srivastava</td>\n",
              "            <td>Bangalore</td>\n",
              "            <td>puja_srivastava@yahoo.in</td>\n",
              "            <td>59</td>\n",
              "            <td>2010-02-26 00:00:00</td>\n",
              "            <td>3,Raj Bhavan Road</td>\n",
              "            <td>1.99</td>\n",
              "            <td>97</td>\n",
              "        </tr>\n",
              "        <tr>\n",
              "            <td>Puja</td>\n",
              "            <td>Srivastava</td>\n",
              "            <td>Bangalore</td>\n",
              "            <td>puja_srivastava@yahoo.in</td>\n",
              "            <td>59</td>\n",
              "            <td>2009-04-05 00:00:00</td>\n",
              "            <td>3,Raj Bhavan Road</td>\n",
              "            <td>3.96</td>\n",
              "            <td>23</td>\n",
              "        </tr>\n",
              "        <tr>\n",
              "            <td>Puja</td>\n",
              "            <td>Srivastava</td>\n",
              "            <td>Bangalore</td>\n",
              "            <td>puja_srivastava@yahoo.in</td>\n",
              "            <td>59</td>\n",
              "            <td>2009-07-08 00:00:00</td>\n",
              "            <td>3,Raj Bhavan Road</td>\n",
              "            <td>5.94</td>\n",
              "            <td>45</td>\n",
              "        </tr>\n",
              "        <tr>\n",
              "            <td>Puja</td>\n",
              "            <td>Srivastava</td>\n",
              "            <td>Bangalore</td>\n",
              "            <td>puja_srivastava@yahoo.in</td>\n",
              "            <td>59</td>\n",
              "            <td>2012-05-30 00:00:00</td>\n",
              "            <td>3,Raj Bhavan Road</td>\n",
              "            <td>8.91</td>\n",
              "            <td>284</td>\n",
              "        </tr>\n",
              "        <tr>\n",
              "            <td>Puja</td>\n",
              "            <td>Srivastava</td>\n",
              "            <td>Bangalore</td>\n",
              "            <td>puja_srivastava@yahoo.in</td>\n",
              "            <td>59</td>\n",
              "            <td>2011-09-30 00:00:00</td>\n",
              "            <td>3,Raj Bhavan Road</td>\n",
              "            <td>13.86</td>\n",
              "            <td>229</td>\n",
              "        </tr>\n",
              "    </tbody>\n",
              "</table>"
            ]
          },
          "metadata": {},
          "execution_count": 51
        }
      ]
    },
    {
      "cell_type": "code",
      "source": [
        "#obtener las canciones compradas en la invoice 229 del cliente 59 (sub consultas)\n",
        "%%sql \n",
        "select * from track where trackid in (\n",
        "select TrackId from InvoiceLine where invoiceId==229);"
      ],
      "metadata": {
        "colab": {
          "base_uri": "https://localhost:8080/",
          "height": 375
        },
        "id": "0qPhN-n9hlPi",
        "outputId": "3e81f2bc-2a4b-41b7-a65c-9fa5cd26cb0b"
      },
      "execution_count": 58,
      "outputs": [
        {
          "output_type": "stream",
          "name": "stdout",
          "text": [
            " * sqlite:////content/chinook-database/ChinookDatabase/DataSources/Chinook_Sqlite.sqlite\n",
            "Done.\n"
          ]
        },
        {
          "output_type": "execute_result",
          "data": {
            "text/plain": [
              "[(517, 'Um Indio', 23, 1, 7, None, 195944, 6453213, 0.99),\n",
              " (526, 'Fora Da Ordem', 23, 1, 7, None, 354011, 11746781, 0.99),\n",
              " (535, 'Chão De Estrelas', 42, 1, 4, 'Orestes Barbosa-Sílvio Caldas', 284813, 9433620, 0.99),\n",
              " (544, 'Stormbringer', 43, 1, 1, 'Coverdale', 277133, 9050022, 0.99),\n",
              " (553, 'Houses Of The Holy', 44, 1, 1, 'Jimmy Page/Robert Plant', 242494, 7972503, 0.99),\n",
              " (562, 'Mangueira', 45, 1, 7, \"Bizuca/Clóvis Pê/Gilson Bernini/Marelo D'Aguia\", 298318, 9999506, 0.99),\n",
              " (571, 'Love Of My Life', 46, 1, 1, 'Carlos Santana & Dave Matthews', 347820, 11634337, 0.99),\n",
              " (580, 'El Farol', 46, 1, 1, 'Carlos Santana & KC Porter', 291160, 9599353, 0.99),\n",
              " (589, 'Um Love', 47, 1, 7, None, 181603, 6095524, 0.99),\n",
              " (598, 'Jeru', 48, 1, 2, 'Miles Davis', 193410, 6222536, 0.99),\n",
              " (607, 'So What', 48, 1, 2, 'Miles Davis', 564009, 18360449, 0.99),\n",
              " (616, 'Black Satin', 49, 1, 2, 'Miles Davis', 316682, 10529483, 0.99),\n",
              " (625, 'Blue Rythm Fantasy', 51, 1, 2, None, 348212, 11204006, 0.99),\n",
              " (634, 'Bop Boogie', 51, 1, 2, None, 189596, 6093124, 0.99)]"
            ],
            "text/html": [
              "<table>\n",
              "    <thead>\n",
              "        <tr>\n",
              "            <th>TrackId</th>\n",
              "            <th>Name</th>\n",
              "            <th>AlbumId</th>\n",
              "            <th>MediaTypeId</th>\n",
              "            <th>GenreId</th>\n",
              "            <th>Composer</th>\n",
              "            <th>Milliseconds</th>\n",
              "            <th>Bytes</th>\n",
              "            <th>UnitPrice</th>\n",
              "        </tr>\n",
              "    </thead>\n",
              "    <tbody>\n",
              "        <tr>\n",
              "            <td>517</td>\n",
              "            <td>Um Indio</td>\n",
              "            <td>23</td>\n",
              "            <td>1</td>\n",
              "            <td>7</td>\n",
              "            <td>None</td>\n",
              "            <td>195944</td>\n",
              "            <td>6453213</td>\n",
              "            <td>0.99</td>\n",
              "        </tr>\n",
              "        <tr>\n",
              "            <td>526</td>\n",
              "            <td>Fora Da Ordem</td>\n",
              "            <td>23</td>\n",
              "            <td>1</td>\n",
              "            <td>7</td>\n",
              "            <td>None</td>\n",
              "            <td>354011</td>\n",
              "            <td>11746781</td>\n",
              "            <td>0.99</td>\n",
              "        </tr>\n",
              "        <tr>\n",
              "            <td>535</td>\n",
              "            <td>Chão De Estrelas</td>\n",
              "            <td>42</td>\n",
              "            <td>1</td>\n",
              "            <td>4</td>\n",
              "            <td>Orestes Barbosa-Sílvio Caldas</td>\n",
              "            <td>284813</td>\n",
              "            <td>9433620</td>\n",
              "            <td>0.99</td>\n",
              "        </tr>\n",
              "        <tr>\n",
              "            <td>544</td>\n",
              "            <td>Stormbringer</td>\n",
              "            <td>43</td>\n",
              "            <td>1</td>\n",
              "            <td>1</td>\n",
              "            <td>Coverdale</td>\n",
              "            <td>277133</td>\n",
              "            <td>9050022</td>\n",
              "            <td>0.99</td>\n",
              "        </tr>\n",
              "        <tr>\n",
              "            <td>553</td>\n",
              "            <td>Houses Of The Holy</td>\n",
              "            <td>44</td>\n",
              "            <td>1</td>\n",
              "            <td>1</td>\n",
              "            <td>Jimmy Page/Robert Plant</td>\n",
              "            <td>242494</td>\n",
              "            <td>7972503</td>\n",
              "            <td>0.99</td>\n",
              "        </tr>\n",
              "        <tr>\n",
              "            <td>562</td>\n",
              "            <td>Mangueira</td>\n",
              "            <td>45</td>\n",
              "            <td>1</td>\n",
              "            <td>7</td>\n",
              "            <td>Bizuca/Clóvis Pê/Gilson Bernini/Marelo D&#x27;Aguia</td>\n",
              "            <td>298318</td>\n",
              "            <td>9999506</td>\n",
              "            <td>0.99</td>\n",
              "        </tr>\n",
              "        <tr>\n",
              "            <td>571</td>\n",
              "            <td>Love Of My Life</td>\n",
              "            <td>46</td>\n",
              "            <td>1</td>\n",
              "            <td>1</td>\n",
              "            <td>Carlos Santana &amp; Dave Matthews</td>\n",
              "            <td>347820</td>\n",
              "            <td>11634337</td>\n",
              "            <td>0.99</td>\n",
              "        </tr>\n",
              "        <tr>\n",
              "            <td>580</td>\n",
              "            <td>El Farol</td>\n",
              "            <td>46</td>\n",
              "            <td>1</td>\n",
              "            <td>1</td>\n",
              "            <td>Carlos Santana &amp; KC Porter</td>\n",
              "            <td>291160</td>\n",
              "            <td>9599353</td>\n",
              "            <td>0.99</td>\n",
              "        </tr>\n",
              "        <tr>\n",
              "            <td>589</td>\n",
              "            <td>Um Love</td>\n",
              "            <td>47</td>\n",
              "            <td>1</td>\n",
              "            <td>7</td>\n",
              "            <td>None</td>\n",
              "            <td>181603</td>\n",
              "            <td>6095524</td>\n",
              "            <td>0.99</td>\n",
              "        </tr>\n",
              "        <tr>\n",
              "            <td>598</td>\n",
              "            <td>Jeru</td>\n",
              "            <td>48</td>\n",
              "            <td>1</td>\n",
              "            <td>2</td>\n",
              "            <td>Miles Davis</td>\n",
              "            <td>193410</td>\n",
              "            <td>6222536</td>\n",
              "            <td>0.99</td>\n",
              "        </tr>\n",
              "        <tr>\n",
              "            <td>607</td>\n",
              "            <td>So What</td>\n",
              "            <td>48</td>\n",
              "            <td>1</td>\n",
              "            <td>2</td>\n",
              "            <td>Miles Davis</td>\n",
              "            <td>564009</td>\n",
              "            <td>18360449</td>\n",
              "            <td>0.99</td>\n",
              "        </tr>\n",
              "        <tr>\n",
              "            <td>616</td>\n",
              "            <td>Black Satin</td>\n",
              "            <td>49</td>\n",
              "            <td>1</td>\n",
              "            <td>2</td>\n",
              "            <td>Miles Davis</td>\n",
              "            <td>316682</td>\n",
              "            <td>10529483</td>\n",
              "            <td>0.99</td>\n",
              "        </tr>\n",
              "        <tr>\n",
              "            <td>625</td>\n",
              "            <td>Blue Rythm Fantasy</td>\n",
              "            <td>51</td>\n",
              "            <td>1</td>\n",
              "            <td>2</td>\n",
              "            <td>None</td>\n",
              "            <td>348212</td>\n",
              "            <td>11204006</td>\n",
              "            <td>0.99</td>\n",
              "        </tr>\n",
              "        <tr>\n",
              "            <td>634</td>\n",
              "            <td>Bop Boogie</td>\n",
              "            <td>51</td>\n",
              "            <td>1</td>\n",
              "            <td>2</td>\n",
              "            <td>None</td>\n",
              "            <td>189596</td>\n",
              "            <td>6093124</td>\n",
              "            <td>0.99</td>\n",
              "        </tr>\n",
              "    </tbody>\n",
              "</table>"
            ]
          },
          "metadata": {},
          "execution_count": 58
        }
      ]
    },
    {
      "cell_type": "code",
      "source": [
        "# Determinar el número total de facturas de cada cliente junto con el nombre completo, la ciudad y el correo electrónico del cliente.\n",
        "%%sql\n",
        "select FirstName,\n",
        "        LastName,\n",
        "        City,\n",
        "        Email, \n",
        "        customer.CustomerId,\n",
        "        count(invoice.CustomerId) as Total_Invoices\n",
        "from customer , invoice\n",
        "where customer.CustomerId = invoice.CustomerId \n",
        "Group by customer.customerId\n",
        "order by Total_Invoices DESC"
      ],
      "metadata": {
        "colab": {
          "base_uri": "https://localhost:8080/",
          "height": 1000
        },
        "id": "cLp5Ner9dLzw",
        "outputId": "93da502d-a4ea-442a-db4f-5e9bcf575a49"
      },
      "execution_count": 59,
      "outputs": [
        {
          "output_type": "stream",
          "name": "stdout",
          "text": [
            " * sqlite:////content/chinook-database/ChinookDatabase/DataSources/Chinook_Sqlite.sqlite\n",
            "Done.\n"
          ]
        },
        {
          "output_type": "execute_result",
          "data": {
            "text/plain": [
              "[('Luís', 'Gonçalves', 'São José dos Campos', 'luisg@embraer.com.br', 1, 7),\n",
              " ('Leonie', 'Köhler', 'Stuttgart', 'leonekohler@surfeu.de', 2, 7),\n",
              " ('François', 'Tremblay', 'Montréal', 'ftremblay@gmail.com', 3, 7),\n",
              " ('Bjørn', 'Hansen', 'Oslo', 'bjorn.hansen@yahoo.no', 4, 7),\n",
              " ('František', 'Wichterlová', 'Prague', 'frantisekw@jetbrains.com', 5, 7),\n",
              " ('Helena', 'Holý', 'Prague', 'hholy@gmail.com', 6, 7),\n",
              " ('Astrid', 'Gruber', 'Vienne', 'astrid.gruber@apple.at', 7, 7),\n",
              " ('Daan', 'Peeters', 'Brussels', 'daan_peeters@apple.be', 8, 7),\n",
              " ('Kara', 'Nielsen', 'Copenhagen', 'kara.nielsen@jubii.dk', 9, 7),\n",
              " ('Eduardo', 'Martins', 'São Paulo', 'eduardo@woodstock.com.br', 10, 7),\n",
              " ('Alexandre', 'Rocha', 'São Paulo', 'alero@uol.com.br', 11, 7),\n",
              " ('Roberto', 'Almeida', 'Rio de Janeiro', 'roberto.almeida@riotur.gov.br', 12, 7),\n",
              " ('Fernanda', 'Ramos', 'Brasília', 'fernadaramos4@uol.com.br', 13, 7),\n",
              " ('Mark', 'Philips', 'Edmonton', 'mphilips12@shaw.ca', 14, 7),\n",
              " ('Jennifer', 'Peterson', 'Vancouver', 'jenniferp@rogers.ca', 15, 7),\n",
              " ('Frank', 'Harris', 'Mountain View', 'fharris@google.com', 16, 7),\n",
              " ('Jack', 'Smith', 'Redmond', 'jacksmith@microsoft.com', 17, 7),\n",
              " ('Michelle', 'Brooks', 'New York', 'michelleb@aol.com', 18, 7),\n",
              " ('Tim', 'Goyer', 'Cupertino', 'tgoyer@apple.com', 19, 7),\n",
              " ('Dan', 'Miller', 'Mountain View', 'dmiller@comcast.com', 20, 7),\n",
              " ('Kathy', 'Chase', 'Reno', 'kachase@hotmail.com', 21, 7),\n",
              " ('Heather', 'Leacock', 'Orlando', 'hleacock@gmail.com', 22, 7),\n",
              " ('John', 'Gordon', 'Boston', 'johngordon22@yahoo.com', 23, 7),\n",
              " ('Frank', 'Ralston', 'Chicago', 'fralston@gmail.com', 24, 7),\n",
              " ('Victor', 'Stevens', 'Madison', 'vstevens@yahoo.com', 25, 7),\n",
              " ('Richard', 'Cunningham', 'Fort Worth', 'ricunningham@hotmail.com', 26, 7),\n",
              " ('Patrick', 'Gray', 'Tucson', 'patrick.gray@aol.com', 27, 7),\n",
              " ('Julia', 'Barnett', 'Salt Lake City', 'jubarnett@gmail.com', 28, 7),\n",
              " ('Robert', 'Brown', 'Toronto', 'robbrown@shaw.ca', 29, 7),\n",
              " ('Edward', 'Francis', 'Ottawa', 'edfrancis@yachoo.ca', 30, 7),\n",
              " ('Martha', 'Silk', 'Halifax', 'marthasilk@gmail.com', 31, 7),\n",
              " ('Aaron', 'Mitchell', 'Winnipeg', 'aaronmitchell@yahoo.ca', 32, 7),\n",
              " ('Ellie', 'Sullivan', 'Yellowknife', 'ellie.sullivan@shaw.ca', 33, 7),\n",
              " ('João', 'Fernandes', 'Lisbon', 'jfernandes@yahoo.pt', 34, 7),\n",
              " ('Madalena', 'Sampaio', 'Porto', 'masampaio@sapo.pt', 35, 7),\n",
              " ('Hannah', 'Schneider', 'Berlin', 'hannah.schneider@yahoo.de', 36, 7),\n",
              " ('Fynn', 'Zimmermann', 'Frankfurt', 'fzimmermann@yahoo.de', 37, 7),\n",
              " ('Niklas', 'Schröder', 'Berlin', 'nschroder@surfeu.de', 38, 7),\n",
              " ('Camille', 'Bernard', 'Paris', 'camille.bernard@yahoo.fr', 39, 7),\n",
              " ('Dominique', 'Lefebvre', 'Paris', 'dominiquelefebvre@gmail.com', 40, 7),\n",
              " ('Marc', 'Dubois', 'Lyon', 'marc.dubois@hotmail.com', 41, 7),\n",
              " ('Wyatt', 'Girard', 'Bordeaux', 'wyatt.girard@yahoo.fr', 42, 7),\n",
              " ('Isabelle', 'Mercier', 'Dijon', 'isabelle_mercier@apple.fr', 43, 7),\n",
              " ('Terhi', 'Hämäläinen', 'Helsinki', 'terhi.hamalainen@apple.fi', 44, 7),\n",
              " ('Ladislav', 'Kovács', 'Budapest', 'ladislav_kovacs@apple.hu', 45, 7),\n",
              " ('Hugh', \"O'Reilly\", 'Dublin', 'hughoreilly@apple.ie', 46, 7),\n",
              " ('Lucas', 'Mancini', 'Rome', 'lucas.mancini@yahoo.it', 47, 7),\n",
              " ('Johannes', 'Van der Berg', 'Amsterdam', 'johavanderberg@yahoo.nl', 48, 7),\n",
              " ('Stanisław', 'Wójcik', 'Warsaw', 'stanisław.wójcik@wp.pl', 49, 7),\n",
              " ('Enrique', 'Muñoz', 'Madrid', 'enrique_munoz@yahoo.es', 50, 7),\n",
              " ('Joakim', 'Johansson', 'Stockholm', 'joakim.johansson@yahoo.se', 51, 7),\n",
              " ('Emma', 'Jones', 'London', 'emma_jones@hotmail.com', 52, 7),\n",
              " ('Phil', 'Hughes', 'London', 'phil.hughes@gmail.com', 53, 7),\n",
              " ('Steve', 'Murray', 'Edinburgh ', 'steve.murray@yahoo.uk', 54, 7),\n",
              " ('Mark', 'Taylor', 'Sidney', 'mark.taylor@yahoo.au', 55, 7),\n",
              " ('Diego', 'Gutiérrez', 'Buenos Aires', 'diego.gutierrez@yahoo.ar', 56, 7),\n",
              " ('Luis', 'Rojas', 'Santiago', 'luisrojas@yahoo.cl', 57, 7),\n",
              " ('Manoj', 'Pareek', 'Delhi', 'manoj.pareek@rediff.com', 58, 7),\n",
              " ('Puja', 'Srivastava', 'Bangalore', 'puja_srivastava@yahoo.in', 59, 6)]"
            ],
            "text/html": [
              "<table>\n",
              "    <thead>\n",
              "        <tr>\n",
              "            <th>FirstName</th>\n",
              "            <th>LastName</th>\n",
              "            <th>City</th>\n",
              "            <th>Email</th>\n",
              "            <th>CustomerId</th>\n",
              "            <th>Total_Invoices</th>\n",
              "        </tr>\n",
              "    </thead>\n",
              "    <tbody>\n",
              "        <tr>\n",
              "            <td>Luís</td>\n",
              "            <td>Gonçalves</td>\n",
              "            <td>São José dos Campos</td>\n",
              "            <td>luisg@embraer.com.br</td>\n",
              "            <td>1</td>\n",
              "            <td>7</td>\n",
              "        </tr>\n",
              "        <tr>\n",
              "            <td>Leonie</td>\n",
              "            <td>Köhler</td>\n",
              "            <td>Stuttgart</td>\n",
              "            <td>leonekohler@surfeu.de</td>\n",
              "            <td>2</td>\n",
              "            <td>7</td>\n",
              "        </tr>\n",
              "        <tr>\n",
              "            <td>François</td>\n",
              "            <td>Tremblay</td>\n",
              "            <td>Montréal</td>\n",
              "            <td>ftremblay@gmail.com</td>\n",
              "            <td>3</td>\n",
              "            <td>7</td>\n",
              "        </tr>\n",
              "        <tr>\n",
              "            <td>Bjørn</td>\n",
              "            <td>Hansen</td>\n",
              "            <td>Oslo</td>\n",
              "            <td>bjorn.hansen@yahoo.no</td>\n",
              "            <td>4</td>\n",
              "            <td>7</td>\n",
              "        </tr>\n",
              "        <tr>\n",
              "            <td>František</td>\n",
              "            <td>Wichterlová</td>\n",
              "            <td>Prague</td>\n",
              "            <td>frantisekw@jetbrains.com</td>\n",
              "            <td>5</td>\n",
              "            <td>7</td>\n",
              "        </tr>\n",
              "        <tr>\n",
              "            <td>Helena</td>\n",
              "            <td>Holý</td>\n",
              "            <td>Prague</td>\n",
              "            <td>hholy@gmail.com</td>\n",
              "            <td>6</td>\n",
              "            <td>7</td>\n",
              "        </tr>\n",
              "        <tr>\n",
              "            <td>Astrid</td>\n",
              "            <td>Gruber</td>\n",
              "            <td>Vienne</td>\n",
              "            <td>astrid.gruber@apple.at</td>\n",
              "            <td>7</td>\n",
              "            <td>7</td>\n",
              "        </tr>\n",
              "        <tr>\n",
              "            <td>Daan</td>\n",
              "            <td>Peeters</td>\n",
              "            <td>Brussels</td>\n",
              "            <td>daan_peeters@apple.be</td>\n",
              "            <td>8</td>\n",
              "            <td>7</td>\n",
              "        </tr>\n",
              "        <tr>\n",
              "            <td>Kara</td>\n",
              "            <td>Nielsen</td>\n",
              "            <td>Copenhagen</td>\n",
              "            <td>kara.nielsen@jubii.dk</td>\n",
              "            <td>9</td>\n",
              "            <td>7</td>\n",
              "        </tr>\n",
              "        <tr>\n",
              "            <td>Eduardo</td>\n",
              "            <td>Martins</td>\n",
              "            <td>São Paulo</td>\n",
              "            <td>eduardo@woodstock.com.br</td>\n",
              "            <td>10</td>\n",
              "            <td>7</td>\n",
              "        </tr>\n",
              "        <tr>\n",
              "            <td>Alexandre</td>\n",
              "            <td>Rocha</td>\n",
              "            <td>São Paulo</td>\n",
              "            <td>alero@uol.com.br</td>\n",
              "            <td>11</td>\n",
              "            <td>7</td>\n",
              "        </tr>\n",
              "        <tr>\n",
              "            <td>Roberto</td>\n",
              "            <td>Almeida</td>\n",
              "            <td>Rio de Janeiro</td>\n",
              "            <td>roberto.almeida@riotur.gov.br</td>\n",
              "            <td>12</td>\n",
              "            <td>7</td>\n",
              "        </tr>\n",
              "        <tr>\n",
              "            <td>Fernanda</td>\n",
              "            <td>Ramos</td>\n",
              "            <td>Brasília</td>\n",
              "            <td>fernadaramos4@uol.com.br</td>\n",
              "            <td>13</td>\n",
              "            <td>7</td>\n",
              "        </tr>\n",
              "        <tr>\n",
              "            <td>Mark</td>\n",
              "            <td>Philips</td>\n",
              "            <td>Edmonton</td>\n",
              "            <td>mphilips12@shaw.ca</td>\n",
              "            <td>14</td>\n",
              "            <td>7</td>\n",
              "        </tr>\n",
              "        <tr>\n",
              "            <td>Jennifer</td>\n",
              "            <td>Peterson</td>\n",
              "            <td>Vancouver</td>\n",
              "            <td>jenniferp@rogers.ca</td>\n",
              "            <td>15</td>\n",
              "            <td>7</td>\n",
              "        </tr>\n",
              "        <tr>\n",
              "            <td>Frank</td>\n",
              "            <td>Harris</td>\n",
              "            <td>Mountain View</td>\n",
              "            <td>fharris@google.com</td>\n",
              "            <td>16</td>\n",
              "            <td>7</td>\n",
              "        </tr>\n",
              "        <tr>\n",
              "            <td>Jack</td>\n",
              "            <td>Smith</td>\n",
              "            <td>Redmond</td>\n",
              "            <td>jacksmith@microsoft.com</td>\n",
              "            <td>17</td>\n",
              "            <td>7</td>\n",
              "        </tr>\n",
              "        <tr>\n",
              "            <td>Michelle</td>\n",
              "            <td>Brooks</td>\n",
              "            <td>New York</td>\n",
              "            <td>michelleb@aol.com</td>\n",
              "            <td>18</td>\n",
              "            <td>7</td>\n",
              "        </tr>\n",
              "        <tr>\n",
              "            <td>Tim</td>\n",
              "            <td>Goyer</td>\n",
              "            <td>Cupertino</td>\n",
              "            <td>tgoyer@apple.com</td>\n",
              "            <td>19</td>\n",
              "            <td>7</td>\n",
              "        </tr>\n",
              "        <tr>\n",
              "            <td>Dan</td>\n",
              "            <td>Miller</td>\n",
              "            <td>Mountain View</td>\n",
              "            <td>dmiller@comcast.com</td>\n",
              "            <td>20</td>\n",
              "            <td>7</td>\n",
              "        </tr>\n",
              "        <tr>\n",
              "            <td>Kathy</td>\n",
              "            <td>Chase</td>\n",
              "            <td>Reno</td>\n",
              "            <td>kachase@hotmail.com</td>\n",
              "            <td>21</td>\n",
              "            <td>7</td>\n",
              "        </tr>\n",
              "        <tr>\n",
              "            <td>Heather</td>\n",
              "            <td>Leacock</td>\n",
              "            <td>Orlando</td>\n",
              "            <td>hleacock@gmail.com</td>\n",
              "            <td>22</td>\n",
              "            <td>7</td>\n",
              "        </tr>\n",
              "        <tr>\n",
              "            <td>John</td>\n",
              "            <td>Gordon</td>\n",
              "            <td>Boston</td>\n",
              "            <td>johngordon22@yahoo.com</td>\n",
              "            <td>23</td>\n",
              "            <td>7</td>\n",
              "        </tr>\n",
              "        <tr>\n",
              "            <td>Frank</td>\n",
              "            <td>Ralston</td>\n",
              "            <td>Chicago</td>\n",
              "            <td>fralston@gmail.com</td>\n",
              "            <td>24</td>\n",
              "            <td>7</td>\n",
              "        </tr>\n",
              "        <tr>\n",
              "            <td>Victor</td>\n",
              "            <td>Stevens</td>\n",
              "            <td>Madison</td>\n",
              "            <td>vstevens@yahoo.com</td>\n",
              "            <td>25</td>\n",
              "            <td>7</td>\n",
              "        </tr>\n",
              "        <tr>\n",
              "            <td>Richard</td>\n",
              "            <td>Cunningham</td>\n",
              "            <td>Fort Worth</td>\n",
              "            <td>ricunningham@hotmail.com</td>\n",
              "            <td>26</td>\n",
              "            <td>7</td>\n",
              "        </tr>\n",
              "        <tr>\n",
              "            <td>Patrick</td>\n",
              "            <td>Gray</td>\n",
              "            <td>Tucson</td>\n",
              "            <td>patrick.gray@aol.com</td>\n",
              "            <td>27</td>\n",
              "            <td>7</td>\n",
              "        </tr>\n",
              "        <tr>\n",
              "            <td>Julia</td>\n",
              "            <td>Barnett</td>\n",
              "            <td>Salt Lake City</td>\n",
              "            <td>jubarnett@gmail.com</td>\n",
              "            <td>28</td>\n",
              "            <td>7</td>\n",
              "        </tr>\n",
              "        <tr>\n",
              "            <td>Robert</td>\n",
              "            <td>Brown</td>\n",
              "            <td>Toronto</td>\n",
              "            <td>robbrown@shaw.ca</td>\n",
              "            <td>29</td>\n",
              "            <td>7</td>\n",
              "        </tr>\n",
              "        <tr>\n",
              "            <td>Edward</td>\n",
              "            <td>Francis</td>\n",
              "            <td>Ottawa</td>\n",
              "            <td>edfrancis@yachoo.ca</td>\n",
              "            <td>30</td>\n",
              "            <td>7</td>\n",
              "        </tr>\n",
              "        <tr>\n",
              "            <td>Martha</td>\n",
              "            <td>Silk</td>\n",
              "            <td>Halifax</td>\n",
              "            <td>marthasilk@gmail.com</td>\n",
              "            <td>31</td>\n",
              "            <td>7</td>\n",
              "        </tr>\n",
              "        <tr>\n",
              "            <td>Aaron</td>\n",
              "            <td>Mitchell</td>\n",
              "            <td>Winnipeg</td>\n",
              "            <td>aaronmitchell@yahoo.ca</td>\n",
              "            <td>32</td>\n",
              "            <td>7</td>\n",
              "        </tr>\n",
              "        <tr>\n",
              "            <td>Ellie</td>\n",
              "            <td>Sullivan</td>\n",
              "            <td>Yellowknife</td>\n",
              "            <td>ellie.sullivan@shaw.ca</td>\n",
              "            <td>33</td>\n",
              "            <td>7</td>\n",
              "        </tr>\n",
              "        <tr>\n",
              "            <td>João</td>\n",
              "            <td>Fernandes</td>\n",
              "            <td>Lisbon</td>\n",
              "            <td>jfernandes@yahoo.pt</td>\n",
              "            <td>34</td>\n",
              "            <td>7</td>\n",
              "        </tr>\n",
              "        <tr>\n",
              "            <td>Madalena</td>\n",
              "            <td>Sampaio</td>\n",
              "            <td>Porto</td>\n",
              "            <td>masampaio@sapo.pt</td>\n",
              "            <td>35</td>\n",
              "            <td>7</td>\n",
              "        </tr>\n",
              "        <tr>\n",
              "            <td>Hannah</td>\n",
              "            <td>Schneider</td>\n",
              "            <td>Berlin</td>\n",
              "            <td>hannah.schneider@yahoo.de</td>\n",
              "            <td>36</td>\n",
              "            <td>7</td>\n",
              "        </tr>\n",
              "        <tr>\n",
              "            <td>Fynn</td>\n",
              "            <td>Zimmermann</td>\n",
              "            <td>Frankfurt</td>\n",
              "            <td>fzimmermann@yahoo.de</td>\n",
              "            <td>37</td>\n",
              "            <td>7</td>\n",
              "        </tr>\n",
              "        <tr>\n",
              "            <td>Niklas</td>\n",
              "            <td>Schröder</td>\n",
              "            <td>Berlin</td>\n",
              "            <td>nschroder@surfeu.de</td>\n",
              "            <td>38</td>\n",
              "            <td>7</td>\n",
              "        </tr>\n",
              "        <tr>\n",
              "            <td>Camille</td>\n",
              "            <td>Bernard</td>\n",
              "            <td>Paris</td>\n",
              "            <td>camille.bernard@yahoo.fr</td>\n",
              "            <td>39</td>\n",
              "            <td>7</td>\n",
              "        </tr>\n",
              "        <tr>\n",
              "            <td>Dominique</td>\n",
              "            <td>Lefebvre</td>\n",
              "            <td>Paris</td>\n",
              "            <td>dominiquelefebvre@gmail.com</td>\n",
              "            <td>40</td>\n",
              "            <td>7</td>\n",
              "        </tr>\n",
              "        <tr>\n",
              "            <td>Marc</td>\n",
              "            <td>Dubois</td>\n",
              "            <td>Lyon</td>\n",
              "            <td>marc.dubois@hotmail.com</td>\n",
              "            <td>41</td>\n",
              "            <td>7</td>\n",
              "        </tr>\n",
              "        <tr>\n",
              "            <td>Wyatt</td>\n",
              "            <td>Girard</td>\n",
              "            <td>Bordeaux</td>\n",
              "            <td>wyatt.girard@yahoo.fr</td>\n",
              "            <td>42</td>\n",
              "            <td>7</td>\n",
              "        </tr>\n",
              "        <tr>\n",
              "            <td>Isabelle</td>\n",
              "            <td>Mercier</td>\n",
              "            <td>Dijon</td>\n",
              "            <td>isabelle_mercier@apple.fr</td>\n",
              "            <td>43</td>\n",
              "            <td>7</td>\n",
              "        </tr>\n",
              "        <tr>\n",
              "            <td>Terhi</td>\n",
              "            <td>Hämäläinen</td>\n",
              "            <td>Helsinki</td>\n",
              "            <td>terhi.hamalainen@apple.fi</td>\n",
              "            <td>44</td>\n",
              "            <td>7</td>\n",
              "        </tr>\n",
              "        <tr>\n",
              "            <td>Ladislav</td>\n",
              "            <td>Kovács</td>\n",
              "            <td>Budapest</td>\n",
              "            <td>ladislav_kovacs@apple.hu</td>\n",
              "            <td>45</td>\n",
              "            <td>7</td>\n",
              "        </tr>\n",
              "        <tr>\n",
              "            <td>Hugh</td>\n",
              "            <td>O&#x27;Reilly</td>\n",
              "            <td>Dublin</td>\n",
              "            <td>hughoreilly@apple.ie</td>\n",
              "            <td>46</td>\n",
              "            <td>7</td>\n",
              "        </tr>\n",
              "        <tr>\n",
              "            <td>Lucas</td>\n",
              "            <td>Mancini</td>\n",
              "            <td>Rome</td>\n",
              "            <td>lucas.mancini@yahoo.it</td>\n",
              "            <td>47</td>\n",
              "            <td>7</td>\n",
              "        </tr>\n",
              "        <tr>\n",
              "            <td>Johannes</td>\n",
              "            <td>Van der Berg</td>\n",
              "            <td>Amsterdam</td>\n",
              "            <td>johavanderberg@yahoo.nl</td>\n",
              "            <td>48</td>\n",
              "            <td>7</td>\n",
              "        </tr>\n",
              "        <tr>\n",
              "            <td>Stanisław</td>\n",
              "            <td>Wójcik</td>\n",
              "            <td>Warsaw</td>\n",
              "            <td>stanisław.wójcik@wp.pl</td>\n",
              "            <td>49</td>\n",
              "            <td>7</td>\n",
              "        </tr>\n",
              "        <tr>\n",
              "            <td>Enrique</td>\n",
              "            <td>Muñoz</td>\n",
              "            <td>Madrid</td>\n",
              "            <td>enrique_munoz@yahoo.es</td>\n",
              "            <td>50</td>\n",
              "            <td>7</td>\n",
              "        </tr>\n",
              "        <tr>\n",
              "            <td>Joakim</td>\n",
              "            <td>Johansson</td>\n",
              "            <td>Stockholm</td>\n",
              "            <td>joakim.johansson@yahoo.se</td>\n",
              "            <td>51</td>\n",
              "            <td>7</td>\n",
              "        </tr>\n",
              "        <tr>\n",
              "            <td>Emma</td>\n",
              "            <td>Jones</td>\n",
              "            <td>London</td>\n",
              "            <td>emma_jones@hotmail.com</td>\n",
              "            <td>52</td>\n",
              "            <td>7</td>\n",
              "        </tr>\n",
              "        <tr>\n",
              "            <td>Phil</td>\n",
              "            <td>Hughes</td>\n",
              "            <td>London</td>\n",
              "            <td>phil.hughes@gmail.com</td>\n",
              "            <td>53</td>\n",
              "            <td>7</td>\n",
              "        </tr>\n",
              "        <tr>\n",
              "            <td>Steve</td>\n",
              "            <td>Murray</td>\n",
              "            <td>Edinburgh </td>\n",
              "            <td>steve.murray@yahoo.uk</td>\n",
              "            <td>54</td>\n",
              "            <td>7</td>\n",
              "        </tr>\n",
              "        <tr>\n",
              "            <td>Mark</td>\n",
              "            <td>Taylor</td>\n",
              "            <td>Sidney</td>\n",
              "            <td>mark.taylor@yahoo.au</td>\n",
              "            <td>55</td>\n",
              "            <td>7</td>\n",
              "        </tr>\n",
              "        <tr>\n",
              "            <td>Diego</td>\n",
              "            <td>Gutiérrez</td>\n",
              "            <td>Buenos Aires</td>\n",
              "            <td>diego.gutierrez@yahoo.ar</td>\n",
              "            <td>56</td>\n",
              "            <td>7</td>\n",
              "        </tr>\n",
              "        <tr>\n",
              "            <td>Luis</td>\n",
              "            <td>Rojas</td>\n",
              "            <td>Santiago</td>\n",
              "            <td>luisrojas@yahoo.cl</td>\n",
              "            <td>57</td>\n",
              "            <td>7</td>\n",
              "        </tr>\n",
              "        <tr>\n",
              "            <td>Manoj</td>\n",
              "            <td>Pareek</td>\n",
              "            <td>Delhi</td>\n",
              "            <td>manoj.pareek@rediff.com</td>\n",
              "            <td>58</td>\n",
              "            <td>7</td>\n",
              "        </tr>\n",
              "        <tr>\n",
              "            <td>Puja</td>\n",
              "            <td>Srivastava</td>\n",
              "            <td>Bangalore</td>\n",
              "            <td>puja_srivastava@yahoo.in</td>\n",
              "            <td>59</td>\n",
              "            <td>6</td>\n",
              "        </tr>\n",
              "    </tbody>\n",
              "</table>"
            ]
          },
          "metadata": {},
          "execution_count": 59
        }
      ]
    },
    {
      "cell_type": "code",
      "source": [
        "%%sql \n",
        "PRAGMA table_info([Track]);"
      ],
      "metadata": {
        "colab": {
          "base_uri": "https://localhost:8080/",
          "height": 268
        },
        "id": "xDL8j261eQt8",
        "outputId": "4d674e2f-9756-4a6f-9533-acfce0173578"
      },
      "execution_count": 103,
      "outputs": [
        {
          "output_type": "stream",
          "name": "stdout",
          "text": [
            " * sqlite:////content/chinook-database/ChinookDatabase/DataSources/Chinook_Sqlite.sqlite\n",
            "Done.\n"
          ]
        },
        {
          "output_type": "execute_result",
          "data": {
            "text/plain": [
              "[(0, 'TrackId', 'INTEGER', 1, None, 1),\n",
              " (1, 'Name', 'NVARCHAR(200)', 1, None, 0),\n",
              " (2, 'AlbumId', 'INTEGER', 0, None, 0),\n",
              " (3, 'MediaTypeId', 'INTEGER', 1, None, 0),\n",
              " (4, 'GenreId', 'INTEGER', 0, None, 0),\n",
              " (5, 'Composer', 'NVARCHAR(220)', 0, None, 0),\n",
              " (6, 'Milliseconds', 'INTEGER', 1, None, 0),\n",
              " (7, 'Bytes', 'INTEGER', 0, None, 0),\n",
              " (8, 'UnitPrice', 'NUMERIC(10,2)', 1, None, 0)]"
            ],
            "text/html": [
              "<table>\n",
              "    <thead>\n",
              "        <tr>\n",
              "            <th>cid</th>\n",
              "            <th>name</th>\n",
              "            <th>type</th>\n",
              "            <th>notnull</th>\n",
              "            <th>dflt_value</th>\n",
              "            <th>pk</th>\n",
              "        </tr>\n",
              "    </thead>\n",
              "    <tbody>\n",
              "        <tr>\n",
              "            <td>0</td>\n",
              "            <td>TrackId</td>\n",
              "            <td>INTEGER</td>\n",
              "            <td>1</td>\n",
              "            <td>None</td>\n",
              "            <td>1</td>\n",
              "        </tr>\n",
              "        <tr>\n",
              "            <td>1</td>\n",
              "            <td>Name</td>\n",
              "            <td>NVARCHAR(200)</td>\n",
              "            <td>1</td>\n",
              "            <td>None</td>\n",
              "            <td>0</td>\n",
              "        </tr>\n",
              "        <tr>\n",
              "            <td>2</td>\n",
              "            <td>AlbumId</td>\n",
              "            <td>INTEGER</td>\n",
              "            <td>0</td>\n",
              "            <td>None</td>\n",
              "            <td>0</td>\n",
              "        </tr>\n",
              "        <tr>\n",
              "            <td>3</td>\n",
              "            <td>MediaTypeId</td>\n",
              "            <td>INTEGER</td>\n",
              "            <td>1</td>\n",
              "            <td>None</td>\n",
              "            <td>0</td>\n",
              "        </tr>\n",
              "        <tr>\n",
              "            <td>4</td>\n",
              "            <td>GenreId</td>\n",
              "            <td>INTEGER</td>\n",
              "            <td>0</td>\n",
              "            <td>None</td>\n",
              "            <td>0</td>\n",
              "        </tr>\n",
              "        <tr>\n",
              "            <td>5</td>\n",
              "            <td>Composer</td>\n",
              "            <td>NVARCHAR(220)</td>\n",
              "            <td>0</td>\n",
              "            <td>None</td>\n",
              "            <td>0</td>\n",
              "        </tr>\n",
              "        <tr>\n",
              "            <td>6</td>\n",
              "            <td>Milliseconds</td>\n",
              "            <td>INTEGER</td>\n",
              "            <td>1</td>\n",
              "            <td>None</td>\n",
              "            <td>0</td>\n",
              "        </tr>\n",
              "        <tr>\n",
              "            <td>7</td>\n",
              "            <td>Bytes</td>\n",
              "            <td>INTEGER</td>\n",
              "            <td>0</td>\n",
              "            <td>None</td>\n",
              "            <td>0</td>\n",
              "        </tr>\n",
              "        <tr>\n",
              "            <td>8</td>\n",
              "            <td>UnitPrice</td>\n",
              "            <td>NUMERIC(10,2)</td>\n",
              "            <td>1</td>\n",
              "            <td>None</td>\n",
              "            <td>0</td>\n",
              "        </tr>\n",
              "    </tbody>\n",
              "</table>"
            ]
          },
          "metadata": {},
          "execution_count": 103
        }
      ]
    }
  ]
}