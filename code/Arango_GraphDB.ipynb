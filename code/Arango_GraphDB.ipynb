{
  "nbformat": 4,
  "nbformat_minor": 0,
  "metadata": {
    "colab": {
      "provenance": [],
      "include_colab_link": true
    },
    "kernelspec": {
      "name": "python3",
      "display_name": "Python 3"
    },
    "language_info": {
      "name": "python"
    }
  },
  "cells": [
    {
      "cell_type": "markdown",
      "metadata": {
        "id": "view-in-github",
        "colab_type": "text"
      },
      "source": [
        "<a href=\"https://colab.research.google.com/github/adigenova/uohdb/blob/main/code/Arango_GraphDB.ipynb\" target=\"_parent\"><img src=\"https://colab.research.google.com/assets/colab-badge.svg\" alt=\"Open In Colab\"/></a>"
      ]
    },
    {
      "cell_type": "markdown",
      "metadata": {
        "id": "XIHPS095d50h"
      },
      "source": [
        "# ArangoDB Trabajando con grafos"
      ]
    },
    {
      "cell_type": "markdown",
      "metadata": {
        "id": "Brl97lYwd50i"
      },
      "source": [
        "ArangoDB es una base de datos multimodelo  con modelos de datos flexibles para documentos, grafos y clave/valor. Posee el lenguaje AQL que es similar al SQL para realizar consultas."
      ]
    },
    {
      "cell_type": "markdown",
      "metadata": {
        "id": "cTIT0ffjd50i"
      },
      "source": [
        "# Configuración"
      ]
    },
    {
      "cell_type": "markdown",
      "metadata": {
        "id": "Pmp2AMIhd50j"
      },
      "source": [
        "Antes de comenzar con ArangoDB, debemos preparar nuestro entorno y crear una base de datos temporal en el Servicio Oasis."
      ]
    },
    {
      "cell_type": "code",
      "execution_count": 1,
      "metadata": {
        "id": "r2KGTMwUlvFn"
      },
      "outputs": [],
      "source": [
        "%%capture\n",
        "!git clone https://github.com/joerg84/ArangoDBUniversity.git\n",
        "!rsync -av ArangoDBUniversity/ ./ --exclude=.git\n",
        "!pip3 install pyarango\n",
        "!pip3 install \"python-arango>=5.0\""
      ]
    },
    {
      "cell_type": "code",
      "execution_count": 2,
      "metadata": {
        "id": "hdHIAso1lvFo"
      },
      "outputs": [],
      "source": [
        "import json\n",
        "import requests\n",
        "import sys\n",
        "import oasis\n",
        "import time\n",
        "from IPython.display import JSON\n",
        "\n",
        "from arango import ArangoClient"
      ]
    },
    {
      "cell_type": "markdown",
      "metadata": {
        "id": "fuQ6phTMd50m"
      },
      "source": [
        "Creamos una base de datos temporal"
      ]
    },
    {
      "cell_type": "code",
      "execution_count": 3,
      "metadata": {
        "id": "wag0VrQDlvFp",
        "colab": {
          "base_uri": "https://localhost:8080/"
        },
        "outputId": "d34e9727-34ac-41d9-ff06-854939dfa99f"
      },
      "outputs": [
        {
          "output_type": "stream",
          "name": "stdout",
          "text": [
            "Requesting new temp credentials.\n",
            "Temp database ready to use.\n"
          ]
        }
      ],
      "source": [
        "# Retrieve tmp credentials from ArangoDB Tutorial Service\n",
        "login = oasis.getTempCredentials(tutorialName=\"Pregel\", credentialProvider='https://tutorials.arangodb.cloud:8529/_db/_system/tutorialDB/tutorialDB')\n",
        "\n",
        "# Connect to the temp database\n",
        "db = oasis.connect_python_arango(login)"
      ]
    },
    {
      "cell_type": "code",
      "execution_count": 4,
      "metadata": {
        "id": "pxnn2UBSlvFq",
        "colab": {
          "base_uri": "https://localhost:8080/"
        },
        "outputId": "69ed3652-92a4-4401-bf9a-ff3068857dd0"
      },
      "outputs": [
        {
          "output_type": "stream",
          "name": "stdout",
          "text": [
            "https://tutorials.arangodb.cloud:8529\n",
            "Username: TUThggru76jgk0t133fibhv5\n",
            "Password: TUTchbwtq7n2b6j5yr3wmuvxp\n",
            "Database: TUTqp19jvaazh7txkel4fr1u\n"
          ]
        }
      ],
      "source": [
        "print(\"https://{}:{}\".format(login[\"hostname\"], login[\"port\"]))\n",
        "print(\"Username: \" + login[\"username\"])\n",
        "print(\"Password: \" + login[\"password\"])\n",
        "print(\"Database: \" + login[\"dbName\"])"
      ]
    },
    {
      "cell_type": "markdown",
      "metadata": {
        "id": "7Q0YpfHvd50n"
      },
      "source": [
        "Podemos usar la URL anterior para revisar nuestra base de datos arango temporal.\n",
        "\n"
      ]
    },
    {
      "cell_type": "markdown",
      "source": [
        "# Cargando datos en arangoDB"
      ],
      "metadata": {
        "id": "VVdqQnsApX-e"
      }
    },
    {
      "cell_type": "code",
      "source": [
        "! wget https://github.com/adigenova/uohpmd/blob/main/data/nosql/aeropuertos.csv.gz\\?raw=true -O aeropuertos.csv.gz\n",
        "! wget https://github.com/adigenova/uohpmd/blob/main/data/nosql/vuelos.csv.gz\\?raw=true -O vuelos.csv.gz\n",
        "! zcat /content/aeropuertos.csv.gz | wc -l\n",
        "! zcat /content/vuelos.csv.gz | wc -l\n",
        "! zcat /content/aeropuertos.csv.gz > /content/aeropuertos.csv\n",
        "! zcat /content/vuelos.csv.gz > /content/vuelos.csv\n",
        "! echo \":::AEROPUERTOS:::\"\n",
        "! head /content/aeropuertos.csv\n",
        "! echo \":::VUELOS:::\"\n",
        "! head /content/vuelos.csv"
      ],
      "metadata": {
        "id": "cOJT7vyApfB3"
      },
      "execution_count": null,
      "outputs": []
    },
    {
      "cell_type": "code",
      "execution_count": null,
      "metadata": {
        "id": "2CEzdVMJkCrd"
      },
      "outputs": [],
      "source": [
        "# cargamos los aeropuertos A LA db\n",
        "! ./tools/arangoimport  -c none --server.endpoint http+ssl://{login[\"hostname\"]}:{login[\"port\"]} --server.username {login[\"username\"]} --server.database {login[\"dbName\"]} --server.password {login[\"password\"]} --file /content/aeropuertos.csv --collection airports --create-collection true --type csv"
      ]
    },
    {
      "cell_type": "code",
      "source": [
        "# CARGAMOS los vuelos a la DB\n",
        "! ./tools/arangoimport  -c none --server.endpoint http+ssl://{login[\"hostname\"]}:{login[\"port\"]} --server.username {login[\"username\"]} --server.database {login[\"dbName\"]} --server.password {login[\"password\"]} --file /content/vuelos.csv --collection flights --create-collection true --type csv --create-collection-type edge"
      ],
      "metadata": {
        "id": "3mg6ec5xo3oC"
      },
      "execution_count": null,
      "outputs": []
    },
    {
      "cell_type": "code",
      "source": [
        "aql = db.aql"
      ],
      "metadata": {
        "id": "2tGHFK0HiadV"
      },
      "execution_count": 12,
      "outputs": []
    },
    {
      "cell_type": "code",
      "source": [
        "#Determine los nombres de todos los aeropuertos a los que se puede llegar directamente (1 paso)\n",
        "# desde LAX.\n",
        "query = \"\"\"\n",
        "WITH airports\n",
        "FOR a IN 1..1 OUTBOUND 'airports/LAX' flights\n",
        "RETURN DISTINCT [a._key,a.name,a.city]\n",
        "\"\"\"\n",
        "query_result = aql.execute(query)\n",
        "for doc in  query_result:\n",
        " print(doc)"
      ],
      "metadata": {
        "id": "KM65tI5khu7c"
      },
      "execution_count": null,
      "outputs": []
    },
    {
      "cell_type": "code",
      "source": [
        "# Listar todos l\n",
        "query = \"\"\"\n",
        "WITH airports\n",
        "FOR airport, flight IN ANY 'airports/LAX' flights\n",
        "FILTER flight.Month == 1 AND flight.Day >= 5 AND flight.Day <= 7\n",
        "RETURN { city: airport.city, time: flight.ArrTimeUTC }\n",
        "\"\"\"\n",
        "query_result = aql.execute(query)\n",
        "for doc in  query_result:\n",
        " print(doc)"
      ],
      "metadata": {
        "id": "R09Xoz08jqAM"
      },
      "execution_count": null,
      "outputs": []
    },
    {
      "cell_type": "code",
      "source": [
        "# Listar todos los vuelos del avion N238JB\n",
        "query = \"\"\"\n",
        "FOR flight IN flights\n",
        "FILTER flight.TailNum == \"N238JB\"\n",
        "RETURN flight\n",
        "\"\"\"\n",
        "query_result = aql.execute(query)\n",
        "for doc in  query_result:\n",
        " print(doc)\n",
        ""
      ],
      "metadata": {
        "id": "vzOITyrVkNVY"
      },
      "execution_count": null,
      "outputs": []
    },
    {
      "cell_type": "code",
      "source": [
        "# Determinar todos los aeropuertos directamente accesibles desde LAX\n",
        "query = \"\"\"\n",
        "WITH airports\n",
        "FOR airport IN OUTBOUND 'airports/LAX' flights\n",
        " OPTIONS { bfs: true, uniqueVertices: 'global' }\n",
        "  RETURN airport\n",
        "\"\"\"\n",
        "query_result = aql.execute(query)\n",
        "for doc in  query_result:\n",
        " print(doc)\n"
      ],
      "metadata": {
        "id": "N0PINBy4kzKn"
      },
      "execution_count": null,
      "outputs": []
    },
    {
      "cell_type": "code",
      "source": [
        "# Encuentre la ruta más corta entre el aeropuerto BIS y el aeropuerto JFK y\n",
        "# devuelva los nombres de los aeropuertos en la ruta.\n",
        "\n",
        "query = \"\"\"\n",
        "WITH airports\n",
        "FOR v IN OUTBOUND SHORTEST_PATH 'airports/BIS' TO 'airports/JFK' flights RETURN v.name\n",
        "\"\"\"\n",
        "query_result = aql.execute(query)\n",
        "for doc in  query_result:\n",
        " print(doc)\n"
      ],
      "metadata": {
        "id": "ABhTKcKglfwk"
      },
      "execution_count": null,
      "outputs": []
    }
  ]
}