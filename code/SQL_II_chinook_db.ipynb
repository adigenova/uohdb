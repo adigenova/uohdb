{
  "nbformat": 4,
  "nbformat_minor": 0,
  "metadata": {
    "colab": {
      "name": "SQL_II_chinook_db.ipynb",
      "provenance": [],
      "collapsed_sections": [],
      "authorship_tag": "ABX9TyO1E/+acJobyjdpv0UdI4cE",
      "include_colab_link": true
    },
    "kernelspec": {
      "name": "python3",
      "display_name": "Python 3"
    },
    "language_info": {
      "name": "python"
    }
  },
  "cells": [
    {
      "cell_type": "markdown",
      "metadata": {
        "id": "view-in-github",
        "colab_type": "text"
      },
      "source": [
        "<a href=\"https://colab.research.google.com/github/adigenova/uohdb/blob/main/code/SQL_II_chinook_db.ipynb\" target=\"_parent\"><img src=\"https://colab.research.google.com/assets/colab-badge.svg\" alt=\"Open In Colab\"/></a>"
      ]
    },
    {
      "cell_type": "markdown",
      "source": [
        "# Working with the Chinook database\n",
        "\n",
        "## downloading the database from github"
      ],
      "metadata": {
        "id": "ptktIQpcEka9"
      }
    },
    {
      "cell_type": "code",
      "execution_count": 1,
      "metadata": {
        "colab": {
          "base_uri": "https://localhost:8080/"
        },
        "id": "4BcjS8dwEWS-",
        "outputId": "0159b702-52ec-4cd7-957c-9a3fa3ffe450"
      },
      "outputs": [
        {
          "output_type": "stream",
          "name": "stdout",
          "text": [
            "Cloning into 'chinook-database'...\n",
            "remote: Enumerating objects: 1960, done.\u001b[K\n",
            "remote: Counting objects: 100% (75/75), done.\u001b[K\n",
            "remote: Compressing objects: 100% (54/54), done.\u001b[K\n",
            "remote: Total 1960 (delta 33), reused 50 (delta 21), pack-reused 1885\u001b[K\n",
            "Receiving objects: 100% (1960/1960), 19.57 MiB | 8.94 MiB/s, done.\n",
            "Resolving deltas: 100% (1277/1277), done.\n"
          ]
        }
      ],
      "source": [
        "#download the Chinook database\n",
        "!git clone https://github.com/lerocha/chinook-database.git"
      ]
    },
    {
      "cell_type": "code",
      "source": [
        "# load the SQL magic extension\n",
        "# https://github.com/catherinedevlin/ipython-sql\n",
        "# this extension allows us to connect to DBs and issue SQL command\n",
        "%load_ext sql\n",
        "# now we can use the magic extension to connect to our SQLite DB\n",
        "# use %sql to write an inline SQL command\n",
        "# use %%sql to write SQL commands in a cell\n",
        "%sql sqlite:////content/chinook-database/ChinookDatabase/DataSources/Chinook_Sqlite.sqlite"
      ],
      "metadata": {
        "colab": {
          "base_uri": "https://localhost:8080/",
          "height": 35
        },
        "id": "i3VBK1_EEzlS",
        "outputId": "decb91b2-426a-4573-db02-d1bd5aa353df"
      },
      "execution_count": 2,
      "outputs": [
        {
          "output_type": "execute_result",
          "data": {
            "text/plain": [
              "'Connected: @/content/chinook-database/ChinookDatabase/DataSources/Chinook_Sqlite.sqlite'"
            ],
            "application/vnd.google.colaboratory.intrinsic+json": {
              "type": "string"
            }
          },
          "metadata": {},
          "execution_count": 2
        }
      ]
    },
    {
      "cell_type": "markdown",
      "source": [
        "\n",
        "### Display tables of the Chinook database\n"
      ],
      "metadata": {
        "id": "qAIQdCKNFnfz"
      }
    },
    {
      "cell_type": "code",
      "source": [
        "%%sql\n",
        "SELECT name FROM sqlite_master WHERE type='table' AND name NOT LIKE 'sqlite_%';"
      ],
      "metadata": {
        "colab": {
          "base_uri": "https://localhost:8080/",
          "height": 311
        },
        "id": "ILTPAZ7aGr3o",
        "outputId": "cc366a07-6faf-42c2-ae52-7cf9e842781c"
      },
      "execution_count": 3,
      "outputs": [
        {
          "output_type": "stream",
          "name": "stdout",
          "text": [
            " * sqlite:////content/chinook-database/ChinookDatabase/DataSources/Chinook_Sqlite.sqlite\n",
            "Done.\n"
          ]
        },
        {
          "output_type": "execute_result",
          "data": {
            "text/plain": [
              "[('Album',),\n",
              " ('Artist',),\n",
              " ('Customer',),\n",
              " ('Employee',),\n",
              " ('Genre',),\n",
              " ('Invoice',),\n",
              " ('InvoiceLine',),\n",
              " ('MediaType',),\n",
              " ('Playlist',),\n",
              " ('PlaylistTrack',),\n",
              " ('Track',)]"
            ],
            "text/html": [
              "<table>\n",
              "    <thead>\n",
              "        <tr>\n",
              "            <th>name</th>\n",
              "        </tr>\n",
              "    </thead>\n",
              "    <tbody>\n",
              "        <tr>\n",
              "            <td>Album</td>\n",
              "        </tr>\n",
              "        <tr>\n",
              "            <td>Artist</td>\n",
              "        </tr>\n",
              "        <tr>\n",
              "            <td>Customer</td>\n",
              "        </tr>\n",
              "        <tr>\n",
              "            <td>Employee</td>\n",
              "        </tr>\n",
              "        <tr>\n",
              "            <td>Genre</td>\n",
              "        </tr>\n",
              "        <tr>\n",
              "            <td>Invoice</td>\n",
              "        </tr>\n",
              "        <tr>\n",
              "            <td>InvoiceLine</td>\n",
              "        </tr>\n",
              "        <tr>\n",
              "            <td>MediaType</td>\n",
              "        </tr>\n",
              "        <tr>\n",
              "            <td>Playlist</td>\n",
              "        </tr>\n",
              "        <tr>\n",
              "            <td>PlaylistTrack</td>\n",
              "        </tr>\n",
              "        <tr>\n",
              "            <td>Track</td>\n",
              "        </tr>\n",
              "    </tbody>\n",
              "</table>"
            ]
          },
          "metadata": {},
          "execution_count": 3
        }
      ]
    },
    {
      "cell_type": "markdown",
      "source": [
        "getting information about a particular table\n"
      ],
      "metadata": {
        "id": "mUpUSWNlJgvM"
      }
    },
    {
      "cell_type": "code",
      "source": [
        "%%sql \n",
        "PRAGMA table_info([Artist]);"
      ],
      "metadata": {
        "colab": {
          "base_uri": "https://localhost:8080/",
          "height": 119
        },
        "id": "cUK2Md-oJnv0",
        "outputId": "ca55e5d4-98bf-4e01-fceb-2eea475de54f"
      },
      "execution_count": 4,
      "outputs": [
        {
          "output_type": "stream",
          "name": "stdout",
          "text": [
            " * sqlite:////content/chinook-database/ChinookDatabase/DataSources/Chinook_Sqlite.sqlite\n",
            "Done.\n"
          ]
        },
        {
          "output_type": "execute_result",
          "data": {
            "text/plain": [
              "[(0, 'ArtistId', 'INTEGER', 1, None, 1),\n",
              " (1, 'Name', 'NVARCHAR(120)', 0, None, 0)]"
            ],
            "text/html": [
              "<table>\n",
              "    <thead>\n",
              "        <tr>\n",
              "            <th>cid</th>\n",
              "            <th>name</th>\n",
              "            <th>type</th>\n",
              "            <th>notnull</th>\n",
              "            <th>dflt_value</th>\n",
              "            <th>pk</th>\n",
              "        </tr>\n",
              "    </thead>\n",
              "    <tbody>\n",
              "        <tr>\n",
              "            <td>0</td>\n",
              "            <td>ArtistId</td>\n",
              "            <td>INTEGER</td>\n",
              "            <td>1</td>\n",
              "            <td>None</td>\n",
              "            <td>1</td>\n",
              "        </tr>\n",
              "        <tr>\n",
              "            <td>1</td>\n",
              "            <td>Name</td>\n",
              "            <td>NVARCHAR(120)</td>\n",
              "            <td>0</td>\n",
              "            <td>None</td>\n",
              "            <td>0</td>\n",
              "        </tr>\n",
              "    </tbody>\n",
              "</table>"
            ]
          },
          "metadata": {},
          "execution_count": 4
        }
      ]
    },
    {
      "cell_type": "markdown",
      "source": [
        "getting the SQL code that generate a table\n",
        "\n",
        "\n",
        "## Create automatic documentation with [schemaspy](https://schemaspy.org/)\n",
        "\n",
        "<img src=\"https://schemaspy.org/sample/diagrams/summary/relationships.real.large.png\" alt=\"ER Diagram\" width=\"836\" height=\"605\" />\n",
        "\n",
        "\n",
        "In the above ER diagram, the tiny vertical key icon indicates a column is a primary key. A primary key is a column (or set of columns) whose values uniquely identify every row in a table. For example, `Employeeud` is the primary key in the `Employee` table.\n",
        "\n",
        "The relationship icon indicates a foreign key constraint and a one-to-many relationship. \n",
        "\n",
        "\n"
      ],
      "metadata": {
        "id": "wA1MJwgRL7UL"
      }
    },
    {
      "cell_type": "markdown",
      "source": [
        "# SQL con Chinook\n",
        "\n"
      ],
      "metadata": {
        "id": "EVxhvaEtNAMt"
      }
    },
    {
      "cell_type": "code",
      "source": [
        "#contamos el numero de canciones en la base de datos\n",
        "%%sql \n",
        "select COUNT(TrackID) as cnt from Track;"
      ],
      "metadata": {
        "colab": {
          "base_uri": "https://localhost:8080/",
          "height": 97
        },
        "id": "bw_Bp7J3NFlR",
        "outputId": "f257e3e4-868e-4068-e886-ea067fa896cc"
      },
      "execution_count": 5,
      "outputs": [
        {
          "output_type": "stream",
          "name": "stdout",
          "text": [
            " * sqlite:////content/chinook-database/ChinookDatabase/DataSources/Chinook_Sqlite.sqlite\n",
            "Done.\n"
          ]
        },
        {
          "output_type": "execute_result",
          "data": {
            "text/plain": [
              "[(3503,)]"
            ],
            "text/html": [
              "<table>\n",
              "    <thead>\n",
              "        <tr>\n",
              "            <th>cnt</th>\n",
              "        </tr>\n",
              "    </thead>\n",
              "    <tbody>\n",
              "        <tr>\n",
              "            <td>3503</td>\n",
              "        </tr>\n",
              "    </tbody>\n",
              "</table>"
            ]
          },
          "metadata": {},
          "execution_count": 5
        }
      ]
    },
    {
      "cell_type": "code",
      "source": [
        "# contamos el numero de canciones promedio por lista\n",
        "%%sql\n",
        "select COUNT(DISTINCT PlaylistId) as cnt from PlaylistTrack;"
      ],
      "metadata": {
        "colab": {
          "base_uri": "https://localhost:8080/",
          "height": 97
        },
        "id": "6hCfIRUrZRpb",
        "outputId": "41d14cbe-5190-4a6c-fea1-c7bf16d9b094"
      },
      "execution_count": 19,
      "outputs": [
        {
          "output_type": "stream",
          "name": "stdout",
          "text": [
            " * sqlite:////content/chinook-database/ChinookDatabase/DataSources/Chinook_Sqlite.sqlite\n",
            "Done.\n"
          ]
        },
        {
          "output_type": "execute_result",
          "data": {
            "text/plain": [
              "[(14,)]"
            ],
            "text/html": [
              "<table>\n",
              "    <thead>\n",
              "        <tr>\n",
              "            <th>cnt</th>\n",
              "        </tr>\n",
              "    </thead>\n",
              "    <tbody>\n",
              "        <tr>\n",
              "            <td>14</td>\n",
              "        </tr>\n",
              "    </tbody>\n",
              "</table>"
            ]
          },
          "metadata": {},
          "execution_count": 19
        }
      ]
    },
    {
      "cell_type": "code",
      "source": [
        "%%sql\n",
        "select PlaylistId,COUNT(TrackId) as cnt from  PlaylistTrack GROUP BY PlaylistId; "
      ],
      "metadata": {
        "colab": {
          "base_uri": "https://localhost:8080/",
          "height": 375
        },
        "id": "PCHykDT7boPg",
        "outputId": "bcb89d41-0275-4bcb-dc24-cb78d612b16e"
      },
      "execution_count": 28,
      "outputs": [
        {
          "output_type": "stream",
          "name": "stdout",
          "text": [
            " * sqlite:////content/chinook-database/ChinookDatabase/DataSources/Chinook_Sqlite.sqlite\n",
            "Done.\n"
          ]
        },
        {
          "output_type": "execute_result",
          "data": {
            "text/plain": [
              "[(1, 3290),\n",
              " (3, 213),\n",
              " (5, 1477),\n",
              " (8, 3290),\n",
              " (9, 1),\n",
              " (10, 213),\n",
              " (11, 39),\n",
              " (12, 75),\n",
              " (13, 25),\n",
              " (14, 25),\n",
              " (15, 25),\n",
              " (16, 15),\n",
              " (17, 26),\n",
              " (18, 1)]"
            ],
            "text/html": [
              "<table>\n",
              "    <thead>\n",
              "        <tr>\n",
              "            <th>PlaylistId</th>\n",
              "            <th>cnt</th>\n",
              "        </tr>\n",
              "    </thead>\n",
              "    <tbody>\n",
              "        <tr>\n",
              "            <td>1</td>\n",
              "            <td>3290</td>\n",
              "        </tr>\n",
              "        <tr>\n",
              "            <td>3</td>\n",
              "            <td>213</td>\n",
              "        </tr>\n",
              "        <tr>\n",
              "            <td>5</td>\n",
              "            <td>1477</td>\n",
              "        </tr>\n",
              "        <tr>\n",
              "            <td>8</td>\n",
              "            <td>3290</td>\n",
              "        </tr>\n",
              "        <tr>\n",
              "            <td>9</td>\n",
              "            <td>1</td>\n",
              "        </tr>\n",
              "        <tr>\n",
              "            <td>10</td>\n",
              "            <td>213</td>\n",
              "        </tr>\n",
              "        <tr>\n",
              "            <td>11</td>\n",
              "            <td>39</td>\n",
              "        </tr>\n",
              "        <tr>\n",
              "            <td>12</td>\n",
              "            <td>75</td>\n",
              "        </tr>\n",
              "        <tr>\n",
              "            <td>13</td>\n",
              "            <td>25</td>\n",
              "        </tr>\n",
              "        <tr>\n",
              "            <td>14</td>\n",
              "            <td>25</td>\n",
              "        </tr>\n",
              "        <tr>\n",
              "            <td>15</td>\n",
              "            <td>25</td>\n",
              "        </tr>\n",
              "        <tr>\n",
              "            <td>16</td>\n",
              "            <td>15</td>\n",
              "        </tr>\n",
              "        <tr>\n",
              "            <td>17</td>\n",
              "            <td>26</td>\n",
              "        </tr>\n",
              "        <tr>\n",
              "            <td>18</td>\n",
              "            <td>1</td>\n",
              "        </tr>\n",
              "    </tbody>\n",
              "</table>"
            ]
          },
          "metadata": {},
          "execution_count": 28
        }
      ]
    },
    {
      "cell_type": "code",
      "source": [
        "%%sql\n",
        "select PlaylistId,COUNT(TrackId) as cnt \n",
        "from  PlaylistTrack\n",
        "GROUP BY PlaylistId \n",
        "HAVING cnt > 100; "
      ],
      "metadata": {
        "colab": {
          "base_uri": "https://localhost:8080/",
          "height": 183
        },
        "id": "7bHfOddDf7Bv",
        "outputId": "dcf21e1f-1b6f-44c7-b66f-d53963ff4839"
      },
      "execution_count": 31,
      "outputs": [
        {
          "output_type": "stream",
          "name": "stdout",
          "text": [
            " * sqlite:////content/chinook-database/ChinookDatabase/DataSources/Chinook_Sqlite.sqlite\n",
            "Done.\n"
          ]
        },
        {
          "output_type": "execute_result",
          "data": {
            "text/plain": [
              "[(1, 3290), (3, 213), (5, 1477), (8, 3290), (10, 213)]"
            ],
            "text/html": [
              "<table>\n",
              "    <thead>\n",
              "        <tr>\n",
              "            <th>PlaylistId</th>\n",
              "            <th>cnt</th>\n",
              "        </tr>\n",
              "    </thead>\n",
              "    <tbody>\n",
              "        <tr>\n",
              "            <td>1</td>\n",
              "            <td>3290</td>\n",
              "        </tr>\n",
              "        <tr>\n",
              "            <td>3</td>\n",
              "            <td>213</td>\n",
              "        </tr>\n",
              "        <tr>\n",
              "            <td>5</td>\n",
              "            <td>1477</td>\n",
              "        </tr>\n",
              "        <tr>\n",
              "            <td>8</td>\n",
              "            <td>3290</td>\n",
              "        </tr>\n",
              "        <tr>\n",
              "            <td>10</td>\n",
              "            <td>213</td>\n",
              "        </tr>\n",
              "    </tbody>\n",
              "</table>"
            ]
          },
          "metadata": {},
          "execution_count": 31
        }
      ]
    },
    {
      "cell_type": "code",
      "source": [
        "%%sql\n",
        "select Name, Title as album_name \n",
        "from album as al, Artist as a \n",
        "where al.Artistid = a.Artistid limit 10;"
      ],
      "metadata": {
        "colab": {
          "base_uri": "https://localhost:8080/",
          "height": 290
        },
        "id": "nTUCn6JdkbmJ",
        "outputId": "2e0f0813-d848-44b3-fedd-39bd16337658"
      },
      "execution_count": 36,
      "outputs": [
        {
          "output_type": "stream",
          "name": "stdout",
          "text": [
            " * sqlite:////content/chinook-database/ChinookDatabase/DataSources/Chinook_Sqlite.sqlite\n",
            "Done.\n"
          ]
        },
        {
          "output_type": "execute_result",
          "data": {
            "text/plain": [
              "[('AC/DC', 'For Those About To Rock We Salute You'),\n",
              " ('Accept', 'Balls to the Wall'),\n",
              " ('Accept', 'Restless and Wild'),\n",
              " ('AC/DC', 'Let There Be Rock'),\n",
              " ('Aerosmith', 'Big Ones'),\n",
              " ('Alanis Morissette', 'Jagged Little Pill'),\n",
              " ('Alice In Chains', 'Facelift'),\n",
              " ('Antônio Carlos Jobim', 'Warner 25 Anos'),\n",
              " ('Apocalyptica', 'Plays Metallica By Four Cellos'),\n",
              " ('Audioslave', 'Audioslave')]"
            ],
            "text/html": [
              "<table>\n",
              "    <thead>\n",
              "        <tr>\n",
              "            <th>Name</th>\n",
              "            <th>album_name</th>\n",
              "        </tr>\n",
              "    </thead>\n",
              "    <tbody>\n",
              "        <tr>\n",
              "            <td>AC/DC</td>\n",
              "            <td>For Those About To Rock We Salute You</td>\n",
              "        </tr>\n",
              "        <tr>\n",
              "            <td>Accept</td>\n",
              "            <td>Balls to the Wall</td>\n",
              "        </tr>\n",
              "        <tr>\n",
              "            <td>Accept</td>\n",
              "            <td>Restless and Wild</td>\n",
              "        </tr>\n",
              "        <tr>\n",
              "            <td>AC/DC</td>\n",
              "            <td>Let There Be Rock</td>\n",
              "        </tr>\n",
              "        <tr>\n",
              "            <td>Aerosmith</td>\n",
              "            <td>Big Ones</td>\n",
              "        </tr>\n",
              "        <tr>\n",
              "            <td>Alanis Morissette</td>\n",
              "            <td>Jagged Little Pill</td>\n",
              "        </tr>\n",
              "        <tr>\n",
              "            <td>Alice In Chains</td>\n",
              "            <td>Facelift</td>\n",
              "        </tr>\n",
              "        <tr>\n",
              "            <td>Antônio Carlos Jobim</td>\n",
              "            <td>Warner 25 Anos</td>\n",
              "        </tr>\n",
              "        <tr>\n",
              "            <td>Apocalyptica</td>\n",
              "            <td>Plays Metallica By Four Cellos</td>\n",
              "        </tr>\n",
              "        <tr>\n",
              "            <td>Audioslave</td>\n",
              "            <td>Audioslave</td>\n",
              "        </tr>\n",
              "    </tbody>\n",
              "</table>"
            ]
          },
          "metadata": {},
          "execution_count": 36
        }
      ]
    },
    {
      "cell_type": "code",
      "source": [
        "%%sql\n",
        "select Name, Title as album_name \n",
        "from album as al, Artist as a \n",
        "where al.Artistid = a.Artistid and a.Name = \"AC/DC\";"
      ],
      "metadata": {
        "colab": {
          "base_uri": "https://localhost:8080/",
          "height": 119
        },
        "id": "_7WFxGGwmunP",
        "outputId": "cd6b3f18-10cf-4714-cce5-ec81f44faa90"
      },
      "execution_count": 37,
      "outputs": [
        {
          "output_type": "stream",
          "name": "stdout",
          "text": [
            " * sqlite:////content/chinook-database/ChinookDatabase/DataSources/Chinook_Sqlite.sqlite\n",
            "Done.\n"
          ]
        },
        {
          "output_type": "execute_result",
          "data": {
            "text/plain": [
              "[('AC/DC', 'For Those About To Rock We Salute You'),\n",
              " ('AC/DC', 'Let There Be Rock')]"
            ],
            "text/html": [
              "<table>\n",
              "    <thead>\n",
              "        <tr>\n",
              "            <th>Name</th>\n",
              "            <th>album_name</th>\n",
              "        </tr>\n",
              "    </thead>\n",
              "    <tbody>\n",
              "        <tr>\n",
              "            <td>AC/DC</td>\n",
              "            <td>For Those About To Rock We Salute You</td>\n",
              "        </tr>\n",
              "        <tr>\n",
              "            <td>AC/DC</td>\n",
              "            <td>Let There Be Rock</td>\n",
              "        </tr>\n",
              "    </tbody>\n",
              "</table>"
            ]
          },
          "metadata": {},
          "execution_count": 37
        }
      ]
    }
  ]
}