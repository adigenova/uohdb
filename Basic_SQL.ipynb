{
  "nbformat": 4,
  "nbformat_minor": 0,
  "metadata": {
    "colab": {
      "name": "Basic_SQL.ipynb",
      "provenance": [],
      "collapsed_sections": [],
      "authorship_tag": "ABX9TyOH9llwv4Hlc7Kz72peQX40",
      "include_colab_link": true
    },
    "kernelspec": {
      "name": "python3",
      "display_name": "Python 3"
    },
    "language_info": {
      "name": "python"
    }
  },
  "cells": [
    {
      "cell_type": "markdown",
      "metadata": {
        "id": "view-in-github",
        "colab_type": "text"
      },
      "source": [
        "<a href=\"https://colab.research.google.com/github/adigenova/uohdb/blob/main/Basic_SQL.ipynb\" target=\"_parent\"><img src=\"https://colab.research.google.com/assets/colab-badge.svg\" alt=\"Open In Colab\"/></a>"
      ]
    },
    {
      "cell_type": "markdown",
      "source": [
        "# Motor sqlite3\n",
        "Installing the required library for sqlite3"
      ],
      "metadata": {
        "id": "HNyDZ152jPgl"
      }
    },
    {
      "cell_type": "code",
      "execution_count": 1,
      "metadata": {
        "colab": {
          "base_uri": "https://localhost:8080/"
        },
        "id": "y8xx9Kpwi5Jp",
        "outputId": "d692e55f-2069-43b7-980b-530f5a43608d"
      },
      "outputs": [
        {
          "output_type": "stream",
          "name": "stdout",
          "text": [
            "Collecting db-sqlite3\n",
            "  Downloading db-sqlite3-0.0.1.tar.gz (1.4 kB)\n",
            "Collecting db\n",
            "  Downloading db-0.1.1.tar.gz (3.4 kB)\n",
            "Collecting antiorm\n",
            "  Downloading antiorm-1.2.1.tar.gz (171 kB)\n",
            "\u001b[K     |████████████████████████████████| 171 kB 14.0 MB/s \n",
            "\u001b[?25hBuilding wheels for collected packages: db-sqlite3, db, antiorm\n",
            "  Building wheel for db-sqlite3 (setup.py) ... \u001b[?25l\u001b[?25hdone\n",
            "  Created wheel for db-sqlite3: filename=db_sqlite3-0.0.1-py3-none-any.whl size=1794 sha256=88ab8d1ed2b68f2f2a468df176bade0eeaa76157a9ce9f1d4f432d140aa69198\n",
            "  Stored in directory: /root/.cache/pip/wheels/02/38/d5/2f54461050571bf5330fee2a37ab1c9b5e7540b0572f1acdab\n",
            "  Building wheel for db (setup.py) ... \u001b[?25l\u001b[?25hdone\n",
            "  Created wheel for db: filename=db-0.1.1-py3-none-any.whl size=3895 sha256=8cced2ec05ea81d437e6a898f42e437209629a3ddd8dc6c4ef3815b9e5d00560\n",
            "  Stored in directory: /root/.cache/pip/wheels/8e/97/82/741d2b360507411ec233d0280d7371faa94b03bde834e4a9be\n",
            "  Building wheel for antiorm (setup.py) ... \u001b[?25l\u001b[?25hdone\n",
            "  Created wheel for antiorm: filename=antiorm-1.2.1-py3-none-any.whl size=31679 sha256=e7390374d45caf0aa69005d09843a752dd8e6456caee562abd3b1586c3f53840\n",
            "  Stored in directory: /root/.cache/pip/wheels/c5/43/70/e9729370cfff40c49d3e3d05377d54b3ecd71f64e62341ea80\n",
            "Successfully built db-sqlite3 db antiorm\n",
            "Installing collected packages: antiorm, db, db-sqlite3\n",
            "Successfully installed antiorm-1.2.1 db-0.1.1 db-sqlite3-0.0.1\n"
          ]
        }
      ],
      "source": [
        "!pip install db-sqlite3"
      ]
    },
    {
      "cell_type": "markdown",
      "source": [
        "# my first database"
      ],
      "metadata": {
        "id": "gNbb0oePlRh1"
      }
    },
    {
      "cell_type": "code",
      "source": [
        "# CREATING THE DB and TABLE\n",
        "import sqlite3\n",
        "#opening a conection with the database\n",
        "db = sqlite3.connect('uoh-test.db')\n",
        "\n",
        "print(\"Opened database successfully\");\n",
        "#we prepare the SQL query\n",
        "db.execute('''\n",
        "CREATE TABLE IF NOT EXISTS alumno(name text, \n",
        "                      age number, \n",
        "                      phone integer, \n",
        "                      rut integer,\n",
        "                      email text);''')\n",
        "#we perform the SQL query\n",
        "db.commit()\n",
        "#we print that the databse have been created successfully\n",
        "print(\"Database and Table created successfully\");\n",
        "#we close the database connection\n",
        "db.close()\n"
      ],
      "metadata": {
        "colab": {
          "base_uri": "https://localhost:8080/"
        },
        "id": "yg12qxQlkEog",
        "outputId": "4d83cb7c-21be-4740-9f14-6db7b97fad88"
      },
      "execution_count": 4,
      "outputs": [
        {
          "output_type": "stream",
          "name": "stdout",
          "text": [
            "Opened database successfully\n",
            "Database and Table created successfully\n"
          ]
        }
      ]
    },
    {
      "cell_type": "markdown",
      "source": [
        "# Adding data to the database"
      ],
      "metadata": {
        "id": "ER9NU_5UnrfQ"
      }
    },
    {
      "cell_type": "code",
      "source": [
        "# we open a connection to our database\n",
        "db = sqlite3.connect('uoh-test.db')\n",
        "#we insert some data into the database\n",
        "# WE PREPARE INSERTING VALUES\n",
        "db.execute(\"INSERT INTO alumno VALUES('Roberto', 22, 977744557, 20456780,'roberto@gmail.com');\")\n",
        "db.execute(\"INSERT INTO alumno VALUES('Pascale', 21, 677744557, 20476780,'pascale@gmail.com');\")\n",
        "db.execute(\"INSERT INTO alumno VALUES('Dominga', 25, 677744557, 20486780,'dominga@gmail.com');\")\n",
        "db.execute(\"INSERT INTO alumno VALUES('Ricardo', 19, 877744557, 20456980,'ricardo@gmail.com');\")\n",
        "# we commit the data to the db\n",
        "db.commit()"
      ],
      "metadata": {
        "id": "FbUJAMdSnqjK"
      },
      "execution_count": 7,
      "outputs": []
    },
    {
      "cell_type": "markdown",
      "source": [
        "# Run a basic SQL query\n",
        "\n",
        "## fecth the email of all students\n"
      ],
      "metadata": {
        "id": "3HGl3aQmp3Mc"
      }
    },
    {
      "cell_type": "code",
      "source": [
        "#fetch the email of each student\n",
        "cursor = db.execute('''SELECT email FROM alumno''')\n",
        "#we print the results of the query\n",
        "for row in cursor:\n",
        "  print(row)\n",
        "\n",
        "#we close the connection to the database\n",
        "db.close()"
      ],
      "metadata": {
        "colab": {
          "base_uri": "https://localhost:8080/"
        },
        "id": "Bl5lsu4lqGNo",
        "outputId": "a8365ccb-026a-4b68-b4af-9af7364fc37f"
      },
      "execution_count": 9,
      "outputs": [
        {
          "output_type": "stream",
          "name": "stdout",
          "text": [
            "('roberto@gmail.com',)\n",
            "('pascale@gmail.com',)\n",
            "('dominga@gmail.com',)\n",
            "('ricardo@gmail.com',)\n"
          ]
        }
      ]
    },
    {
      "cell_type": "markdown",
      "source": [
        "## fecth the email and age of all students"
      ],
      "metadata": {
        "id": "yU-vEq9VrP9O"
      }
    },
    {
      "cell_type": "code",
      "source": [
        "db=sqlite3.connect('uoh-test.db')\n",
        "#fetch the email of each student\n",
        "cursor = db.execute('''SELECT email,age FROM alumno''')\n",
        "#we print the results of the query\n",
        "for row in cursor:\n",
        "  print(row)"
      ],
      "metadata": {
        "colab": {
          "base_uri": "https://localhost:8080/"
        },
        "id": "NQttGS5OrVLB",
        "outputId": "c9a44cb3-e6a1-40e9-9cc0-4afb22697895"
      },
      "execution_count": 11,
      "outputs": [
        {
          "output_type": "stream",
          "name": "stdout",
          "text": [
            "('roberto@gmail.com', 22)\n",
            "('pascale@gmail.com', 21)\n",
            "('dominga@gmail.com', 41)\n",
            "('ricardo@gmail.com', 42)\n"
          ]
        }
      ]
    },
    {
      "cell_type": "markdown",
      "source": [
        "## fecth all imformation available for students"
      ],
      "metadata": {
        "id": "2GrTdil8rvv4"
      }
    },
    {
      "cell_type": "code",
      "source": [
        "db=sqlite3.connect('uoh-test.db')\n",
        "#fetch the email of each student\n",
        "cursor = db.execute('''SELECT * FROM alumno''')\n",
        "#we print the results of the query\n",
        "for row in cursor:\n",
        "  print(row)"
      ],
      "metadata": {
        "colab": {
          "base_uri": "https://localhost:8080/"
        },
        "id": "U9kMs1eMr37F",
        "outputId": "2be6019a-3858-495d-b9e1-f3f01654a4c6"
      },
      "execution_count": 12,
      "outputs": [
        {
          "output_type": "stream",
          "name": "stdout",
          "text": [
            "('Roberto', 22, 977744557, 20456780, 'roberto@gmail.com')\n",
            "('Pascale', 21, 677744557, 20476780, 'pascale@gmail.com')\n",
            "('Dominga', 41, 677744557, 20486780, 'dominga@gmail.com')\n",
            "('Ricardo', 42, 877744557, 20456980, 'ricardo@gmail.com')\n"
          ]
        }
      ]
    },
    {
      "cell_type": "markdown",
      "source": [
        "## fetch the name of all students older than 22"
      ],
      "metadata": {
        "id": "JJEfbAhvsDki"
      }
    },
    {
      "cell_type": "code",
      "source": [
        "cursor = db.execute('''SELECT name FROM alumno WHERE age > 22''')\n",
        "#we print the results of the query\n",
        "for row in cursor:\n",
        "  print(row)"
      ],
      "metadata": {
        "colab": {
          "base_uri": "https://localhost:8080/"
        },
        "id": "L9EYtmSisRpD",
        "outputId": "ea3a96fd-b3eb-4cb9-b3c0-f52c7f1641d1"
      },
      "execution_count": 13,
      "outputs": [
        {
          "output_type": "stream",
          "name": "stdout",
          "text": [
            "('Dominga',)\n",
            "('Ricardo',)\n"
          ]
        }
      ]
    },
    {
      "cell_type": "markdown",
      "source": [
        "## order all students by age"
      ],
      "metadata": {
        "id": "HFwKe74Htx0j"
      }
    },
    {
      "cell_type": "code",
      "source": [
        "cursor = db.execute('''SELECT * FROM alumno ORDER BY age''')\n",
        "#we print the results of the query\n",
        "for row in cursor:\n",
        "  print(row)"
      ],
      "metadata": {
        "colab": {
          "base_uri": "https://localhost:8080/"
        },
        "id": "gG1OMLgyscNG",
        "outputId": "b67fabf6-e0f4-494a-9b93-8be6c3471bdf"
      },
      "execution_count": 14,
      "outputs": [
        {
          "output_type": "stream",
          "name": "stdout",
          "text": [
            "('Pascale', 21, 677744557, 20476780, 'pascale@gmail.com')\n",
            "('Roberto', 22, 977744557, 20456780, 'roberto@gmail.com')\n",
            "('Dominga', 41, 677744557, 20486780, 'dominga@gmail.com')\n",
            "('Ricardo', 42, 877744557, 20456980, 'ricardo@gmail.com')\n"
          ]
        }
      ]
    }
  ]
}