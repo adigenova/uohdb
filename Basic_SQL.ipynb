{
  "nbformat": 4,
  "nbformat_minor": 0,
  "metadata": {
    "colab": {
      "name": "Basic_SQL.ipynb",
      "provenance": [],
      "authorship_tag": "ABX9TyNUZmGZEY7WdE8bfEjgyvGN",
      "include_colab_link": true
    },
    "kernelspec": {
      "name": "python3",
      "display_name": "Python 3"
    },
    "language_info": {
      "name": "python"
    }
  },
  "cells": [
    {
      "cell_type": "markdown",
      "metadata": {
        "id": "view-in-github",
        "colab_type": "text"
      },
      "source": [
        "<a href=\"https://colab.research.google.com/github/adigenova/uohdb/blob/main/Basic_SQL.ipynb\" target=\"_parent\"><img src=\"https://colab.research.google.com/assets/colab-badge.svg\" alt=\"Open In Colab\"/></a>"
      ]
    },
    {
      "cell_type": "markdown",
      "source": [
        "# Motor sqlite3\n",
        "Installing the required library for sqlite3"
      ],
      "metadata": {
        "id": "HNyDZ152jPgl"
      }
    },
    {
      "cell_type": "code",
      "execution_count": 1,
      "metadata": {
        "colab": {
          "base_uri": "https://localhost:8080/"
        },
        "id": "y8xx9Kpwi5Jp",
        "outputId": "d692e55f-2069-43b7-980b-530f5a43608d"
      },
      "outputs": [
        {
          "output_type": "stream",
          "name": "stdout",
          "text": [
            "Collecting db-sqlite3\n",
            "  Downloading db-sqlite3-0.0.1.tar.gz (1.4 kB)\n",
            "Collecting db\n",
            "  Downloading db-0.1.1.tar.gz (3.4 kB)\n",
            "Collecting antiorm\n",
            "  Downloading antiorm-1.2.1.tar.gz (171 kB)\n",
            "\u001b[K     |████████████████████████████████| 171 kB 14.0 MB/s \n",
            "\u001b[?25hBuilding wheels for collected packages: db-sqlite3, db, antiorm\n",
            "  Building wheel for db-sqlite3 (setup.py) ... \u001b[?25l\u001b[?25hdone\n",
            "  Created wheel for db-sqlite3: filename=db_sqlite3-0.0.1-py3-none-any.whl size=1794 sha256=88ab8d1ed2b68f2f2a468df176bade0eeaa76157a9ce9f1d4f432d140aa69198\n",
            "  Stored in directory: /root/.cache/pip/wheels/02/38/d5/2f54461050571bf5330fee2a37ab1c9b5e7540b0572f1acdab\n",
            "  Building wheel for db (setup.py) ... \u001b[?25l\u001b[?25hdone\n",
            "  Created wheel for db: filename=db-0.1.1-py3-none-any.whl size=3895 sha256=8cced2ec05ea81d437e6a898f42e437209629a3ddd8dc6c4ef3815b9e5d00560\n",
            "  Stored in directory: /root/.cache/pip/wheels/8e/97/82/741d2b360507411ec233d0280d7371faa94b03bde834e4a9be\n",
            "  Building wheel for antiorm (setup.py) ... \u001b[?25l\u001b[?25hdone\n",
            "  Created wheel for antiorm: filename=antiorm-1.2.1-py3-none-any.whl size=31679 sha256=e7390374d45caf0aa69005d09843a752dd8e6456caee562abd3b1586c3f53840\n",
            "  Stored in directory: /root/.cache/pip/wheels/c5/43/70/e9729370cfff40c49d3e3d05377d54b3ecd71f64e62341ea80\n",
            "Successfully built db-sqlite3 db antiorm\n",
            "Installing collected packages: antiorm, db, db-sqlite3\n",
            "Successfully installed antiorm-1.2.1 db-0.1.1 db-sqlite3-0.0.1\n"
          ]
        }
      ],
      "source": [
        "!pip install db-sqlite3"
      ]
    },
    {
      "cell_type": "markdown",
      "source": [
        "# my first database"
      ],
      "metadata": {
        "id": "gNbb0oePlRh1"
      }
    },
    {
      "cell_type": "code",
      "source": [
        "# CREATING THE DB and TABLE\n",
        "import sqlite3\n",
        "\n",
        "conn = sqlite3.connect('uoh-test.db')\n",
        "\n",
        "print(\"Opened database successfully\");\n",
        "#we prepare the SQL query\n",
        "conn.execute('''\n",
        "CREATE TABLE IF NOT EXISTS alumno(name text, \n",
        "                      age number, \n",
        "                      phone integer, \n",
        "                      rut integer,\n",
        "                      email text);''')\n",
        "#we perform the SQL query\n",
        "conn.commit()\n",
        "#we print that the databse have been created successfully\n",
        "print(\"Database and Table created successfully\");\n",
        "conn.close()\n"
      ],
      "metadata": {
        "colab": {
          "base_uri": "https://localhost:8080/"
        },
        "id": "yg12qxQlkEog",
        "outputId": "4bda8488-eb08-4a43-9174-20c92e1770b9"
      },
      "execution_count": 2,
      "outputs": [
        {
          "output_type": "stream",
          "name": "stdout",
          "text": [
            "Opened database successfully\n",
            "Database and Table created successfully\n"
          ]
        }
      ]
    }
  ]
}